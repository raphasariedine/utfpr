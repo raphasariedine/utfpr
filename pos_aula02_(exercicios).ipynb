{
  "nbformat": 4,
  "nbformat_minor": 0,
  "metadata": {
    "colab": {
      "provenance": [],
      "authorship_tag": "ABX9TyNpBje6iBDBrbSiQHH5Sgbi",
      "include_colab_link": true
    },
    "kernelspec": {
      "name": "python3",
      "display_name": "Python 3"
    },
    "language_info": {
      "name": "python"
    }
  },
  "cells": [
    {
      "cell_type": "markdown",
      "metadata": {
        "id": "view-in-github",
        "colab_type": "text"
      },
      "source": [
        "<a href=\"https://colab.research.google.com/github/raphasariedine/utfpr/blob/main/pos_aula02_(exercicios).ipynb\" target=\"_parent\"><img src=\"https://colab.research.google.com/assets/colab-badge.svg\" alt=\"Open In Colab\"/></a>"
      ]
    },
    {
      "cell_type": "markdown",
      "source": [
        "Exercício 01:\n",
        "\n",
        "Complete o programa Python abaixo para que os itens da lista \"frutas\" sejam impressos no console, um item por linha.\n",
        "frutas = [\"Uva\", \"Banana\", \"Laranja\", \"Maçã\", \"Limão\"]\n",
        "'\n",
        "'# Dica, use o laço \"for\" para imprimir os itens no console\n",
        "...."
      ],
      "metadata": {
        "id": "g1cojiJLnRd0"
      }
    },
    {
      "cell_type": "code",
      "execution_count": 1,
      "metadata": {
        "colab": {
          "base_uri": "https://localhost:8080/"
        },
        "id": "vPz7o5dunNG-",
        "outputId": "c4cbde57-b9c6-4367-f5c6-4d8fbb9653d2"
      },
      "outputs": [
        {
          "output_type": "stream",
          "name": "stdout",
          "text": [
            "Uva\n",
            "Banana\n",
            "Laranja\n",
            "Maçã\n",
            "Limão\n"
          ]
        }
      ],
      "source": [
        "frutas=[\"Uva\", \"Banana\", \"Laranja\", \"Maçã\", \"Limão\"]\n",
        "for fruta in frutas:\n",
        "    print(fruta)"
      ]
    },
    {
      "cell_type": "markdown",
      "source": [
        "Exercício 02:\n",
        "\n",
        "O programa abaixo lê da entrada padrão 4 inteiros e armazena em uma lista.\n",
        "\n",
        "Complete o programa com instruções para somar os itens da lista e depois imprimir o valor da soma no console.\n",
        "\n",
        "numeros = []\n",
        "\n",
        "for i in range(4):\n",
        "    numero_lido = int(input())\n",
        "    numeros.append(numero_lido)\n",
        "\n",
        "soma = 0\n",
        "\n",
        "'# Adicione abaixo instruções para somar todos os números e imprimir no console."
      ],
      "metadata": {
        "id": "4AMisx3_oJEd"
      }
    },
    {
      "cell_type": "code",
      "source": [
        "numeros = []\n",
        "\n",
        "for i in range(4):\n",
        "  numero_lido = int(input())\n",
        "  numeros.append(numero_lido)\n",
        "\n",
        "soma = 0\n",
        "\n",
        "# Adicione abaixo instruções para somar todos os números e imprimir no console.\n",
        "\n",
        "for numero in numeros:\n",
        "  soma = soma + numero\n",
        "\n",
        "print(\"Soma =\",soma)\n",
        "#"
      ],
      "metadata": {
        "colab": {
          "base_uri": "https://localhost:8080/"
        },
        "id": "kRkzsoDfoQIF",
        "outputId": "ebf935d3-9d83-4baa-f48b-f878d9cf0a0e"
      },
      "execution_count": 2,
      "outputs": [
        {
          "output_type": "stream",
          "name": "stdout",
          "text": [
            "10\n",
            "20\n",
            "30\n",
            "40\n",
            "100\n"
          ]
        }
      ]
    },
    {
      "cell_type": "markdown",
      "source": [
        "Exercício 03:\n",
        "\n",
        "O programa abaixo lê da entrada padrão um valor inteiro N. Depois, lê N inteiros e armazena em uma lista.\n",
        "\n",
        "Complete o programa com instruções para imprimir no console o menor valor e maior valor da lista.\n",
        "\n",
        "'# Definição de lista vazia\n",
        "\n",
        "numeros = []\n",
        "\n",
        "'# Lendo da entrada padrão o número de elementos que serão adicionados na lista (inteiro N do enunciado)\n",
        "\n",
        "numero_de_elementos = int(input())\n",
        "\n",
        "'# Adicionando elementos na lista\n",
        "\n",
        "for i in range(numero_de_elementos):\n",
        "\n",
        "    numero_lido = int(input())\n",
        "    numeros.append(numero_lido)\n",
        "\n",
        "'# Adicione instruções para imprimir o menor e maior valor da lista."
      ],
      "metadata": {
        "id": "zrei_mG4o7X6"
      }
    },
    {
      "cell_type": "code",
      "source": [
        "# Definição de lista vazia\n",
        "numeros = []\n",
        "# Lendo da entrada padrão o número de elementos que serão adicionados na lista (inteiro N do enunciado)\n",
        "numero_de_elementos = int(input())\n",
        "# Adicionando elementos na lista\n",
        "for i in range(numero_de_elementos):\n",
        "    numero_lido = int(input())\n",
        "    numeros.append(numero_lido)\n",
        "\n",
        "# Adicione instruções para imprimir o menor e maior valor da lista.\n",
        "menor = numeros[0]\n",
        "maior = numeros[0]\n",
        "for numero in numeros:\n",
        "  if numero < menor:\n",
        "    menor = numero\n",
        "  if numero > maior:\n",
        "    maior = numero\n",
        "\n",
        "print(\"Menor:\",menor)\n",
        "print(\"Maior:\",maior)\n",
        "#"
      ],
      "metadata": {
        "colab": {
          "base_uri": "https://localhost:8080/"
        },
        "id": "gzWAT2N7pRHc",
        "outputId": "f19b30e1-7330-47ce-98c7-59490192c9c9"
      },
      "execution_count": 3,
      "outputs": [
        {
          "output_type": "stream",
          "name": "stdout",
          "text": [
            "4\n",
            "1\n",
            "2\n",
            "3\n",
            "4\n",
            "Menor: 1\n",
            "Maior: 4\n"
          ]
        }
      ]
    },
    {
      "cell_type": "markdown",
      "source": [
        "Exercício 04:\n",
        "\n",
        "Complete o programa abaixo com instruções para imprimir o primeiro e último elementos da tupla.\n",
        "\n",
        "elementos = 1, 2, 3, 4, 5\n",
        "\n",
        "1# Adicione instruções para imprimir o primeiro e último elemento da tupla"
      ],
      "metadata": {
        "id": "BKfdmY23pp2u"
      }
    },
    {
      "cell_type": "code",
      "source": [
        "elementos = 1, 2, 3, 4, 5\n",
        "\n",
        "# Adicione instruções para imprimir o primeiro e último elemento da tupla\n",
        "print(\"Primeiro:\", elementos[0])\n",
        "print(\"Último:\", elementos[-1])\n",
        "#"
      ],
      "metadata": {
        "colab": {
          "base_uri": "https://localhost:8080/"
        },
        "id": "kyyvJisEpw9g",
        "outputId": "ca30b9bc-7029-4712-9929-1d70a7caaeaf"
      },
      "execution_count": 5,
      "outputs": [
        {
          "output_type": "stream",
          "name": "stdout",
          "text": [
            "Primeiro: 1\n",
            "Último: 5\n"
          ]
        }
      ]
    },
    {
      "cell_type": "markdown",
      "source": [
        "Exercício 05:\n",
        "\n",
        "Complete o programa abaixo com instruções para imprimir o índice de um determinado elemento da tupla.\n",
        "\n",
        "elementos = (11, 42, 3, 64, -15)\n",
        "\n",
        "elemento_procurado = int(input())\n",
        "\n",
        "1# Adicione instruções para imprimir o índice do elemento procurado"
      ],
      "metadata": {
        "id": "CG2CcMGaqD3u"
      }
    },
    {
      "cell_type": "code",
      "source": [
        "elementos = (11, 42, 3, 64, -15)\n",
        "\n",
        "elemento_procurado = int(input())\n",
        "\n",
        "# Adicione instruções para imprimir o índice do elemento procurado\n",
        "for i in range(len(elementos)):\n",
        "  if elementos[i] == elemento_procurado:\n",
        "    print(\"Índice do elemento:\", i)"
      ],
      "metadata": {
        "colab": {
          "base_uri": "https://localhost:8080/"
        },
        "id": "zqEInaYtqIer",
        "outputId": "c1f19dcc-2e25-485c-dd78-12384b1e66ef"
      },
      "execution_count": 6,
      "outputs": [
        {
          "output_type": "stream",
          "name": "stdout",
          "text": [
            "11\n",
            "0\n"
          ]
        }
      ]
    },
    {
      "cell_type": "markdown",
      "source": [
        "Exercício 06:\n",
        "\n",
        "O programa abaixo define uma lista de idades de pessoas de uma cidade.\n",
        "\n",
        "Complete o programa abaixo com instruções para imprimir o número de idades menores de 18 anos e o número de idades maiores ou iguais de 18 anos.\n",
        "\n",
        "Dica: percora a lista e teste os valores usando comandos de decisão (if-else).\n",
        "\n",
        "idades = [11, 42, 3, 64, 9, 12, 33, 44]\n",
        "\n",
        "1# Adicione instruções para imprimir o que se pede na questão"
      ],
      "metadata": {
        "id": "pjuIkgifqcWI"
      }
    },
    {
      "cell_type": "code",
      "source": [
        "idades = [11, 42, 3, 64, 9, 12, 33, 44]\n",
        "\n",
        "# Adicione instruções para imprimir o que se pede na questão\n",
        "menores = 0\n",
        "maiores = 0\n",
        "for idade in idades:\n",
        "  if idade < 18:\n",
        "    menores += 1\n",
        "  else:\n",
        "    maiores += 1\n",
        "\n",
        "print(\"Maior ou igual 18:\", maiores)\n",
        "print(\"Menor de 18:\", menores)"
      ],
      "metadata": {
        "colab": {
          "base_uri": "https://localhost:8080/"
        },
        "id": "smE9faktqi1P",
        "outputId": "dd177e77-7cf3-4ff5-e877-ced283ab5941"
      },
      "execution_count": 7,
      "outputs": [
        {
          "output_type": "stream",
          "name": "stdout",
          "text": [
            "Maior ou igual 18: 4\n",
            "Menor de 18: 4\n"
          ]
        }
      ]
    },
    {
      "cell_type": "markdown",
      "source": [
        "Exercício 07:\n",
        "\n",
        "Implemente um programa em Python que lê da entrada padrão 5 caracteres e armazena em uma lista.\n",
        "\n",
        "Depois, o programa deve ler da entrada padrão um caractere que deve ser procurado na lista de caracteres lidos anteriormente.\n",
        "\n",
        "Por fim, imprima no console quantas vezes o caractere procurado foi encontrado na lista.\n",
        "\n",
        "Dica:\n",
        "\n",
        "Defina um for para ler os caracteres da entrada padrão.\n",
        "Depois leia o caractere a ser procurado.\n",
        "Defina um segundo for para percorrer a lista de caracteres e contar o número de ocorrências.\n",
        "Use print(f\"Caractere '{procurado}' foi encontrado {encontrado} vezes.\") para mostrar o resultado no console.\n",
        "Nos exemplos abaixo, perceba que o último caractere da lista Input é o caractere procurado.\n",
        "\n"
      ],
      "metadata": {
        "id": "9Vqtcylkq5nw"
      }
    },
    {
      "cell_type": "code",
      "source": [
        "caracteres = []\n",
        "for i in range(5):\n",
        "  caractere = input()\n",
        "  caracteres.append(caractere)\n",
        "\n",
        "procurado = input()\n",
        "\n",
        "encontrado = 0\n",
        "\n",
        "for caractere in caracteres:\n",
        "  if caractere == procurado:\n",
        "    encontrado += 1\n",
        "\n",
        "print(f\"Caractere '{procurado}' foi encontrado {encontrado} vezes.\")"
      ],
      "metadata": {
        "colab": {
          "base_uri": "https://localhost:8080/"
        },
        "id": "MJ1MwmxTq-3O",
        "outputId": "468c9ddf-68ed-4f80-d7b4-4d22ec599ed9"
      },
      "execution_count": 11,
      "outputs": [
        {
          "output_type": "stream",
          "name": "stdout",
          "text": [
            "a\n",
            "b\n",
            "c\n",
            "d\n",
            "e\n",
            "a\n",
            "Caractere 'a' foi encontrado 1 vezes.\n"
          ]
        }
      ]
    },
    {
      "cell_type": "markdown",
      "source": [
        "Exercício 08:\n",
        "\n",
        "Implemente um programa em Python para ler 5 valores inteiros da entrada padrão e armazene em uma lista.\n",
        "\n",
        "Depois, use a estrutura de dados conjunto para remover possíveis dados duplicados.\n",
        "\n",
        "Por fim, imprima na saída padrão os elementos, sem valores duplicados.\n",
        "\n",
        "\n"
      ],
      "metadata": {
        "id": "RxXBRZg4s5B1"
      }
    },
    {
      "cell_type": "code",
      "source": [
        "lista=[]\n",
        "for i in range(5):\n",
        "  valor=int(input())\n",
        "  lista.append(valor)\n",
        "\n",
        "conjunto=set(lista)\n",
        "\n",
        "string_formatada = ', '.join(str(elemento) for elemento in conjunto)\n",
        "\n",
        "# Adicionando as chaves\n",
        "resultado = f\"{{{string_formatada}}}\"\n",
        "\n",
        "print(resultado)  # Saída: {1, 2, 3, 7}"
      ],
      "metadata": {
        "colab": {
          "base_uri": "https://localhost:8080/"
        },
        "id": "YWzP6l2qw1Lb",
        "outputId": "2180f4a3-f2d2-41d8-f7a1-29eb89a07a96"
      },
      "execution_count": 16,
      "outputs": [
        {
          "output_type": "stream",
          "name": "stdout",
          "text": [
            "1\n",
            "1\n",
            "1\n",
            "0\n",
            "0\n",
            "{0, 1}\n"
          ]
        }
      ]
    },
    {
      "cell_type": "markdown",
      "source": [
        "Exercício 09:\n",
        "\n",
        "Implemente um programa em Python para imprimir os dados do dicionário abaixo.\n",
        "\n",
        "aluno = {\n",
        "    'matricula' : 123,\n",
        "    'nome' : 'José Silva',\n",
        "    'curso' : 'Especialização IA no Agro',\n",
        "    'disciplina' : \"Fundamentos de Programação para Aplicações na Agricultura\"\n",
        "}\n",
        "\n",
        "Lembre-se de formatar a saída conforme exemplo abaixo.\n",
        "\n",
        "aluno = {\n",
        "    'matricula' : 123,\n",
        "    'nome' : 'José Silva',\n",
        "    'curso' : 'Especialização IA no Agro',\n",
        "    'disciplina' : \"Fundamentos de Programação para Aplicações na Agricultura\"\n",
        "}\n",
        "\n",
        "Resultado:\n",
        "\n",
        "Dados do estudante:\n",
        "Nome: José Silva\n",
        "Matrícula: 123\n",
        "Curso: Especialização IA no Agro\n",
        "Disciplina: Fundamentos de Programação para Aplicações na Agricultura\n",
        "\n",
        "\n",
        "aluno = {\n",
        "    'matricula' : 123\n",
        "    'nome' : 'José Silva',\n",
        "    'curso' : 'Especialização IA no Agro',\n",
        "    'disciplina' : \"Fundamentos de Programação para Aplicações na Agricultura\"\n",
        "}\n",
        "\n",
        "1# adicione seu código abaixo."
      ],
      "metadata": {
        "id": "-Z7RHG9-yqsn"
      }
    },
    {
      "cell_type": "code",
      "source": [
        "aluno = {\n",
        "    'matricula' : 123,\n",
        "    'nome' : 'José Silva',\n",
        "    'curso' : 'Especialização IA no Agro',\n",
        "    'disciplina' : \"Fundamentos de Programação para Aplicações na Agricultura\"\n",
        "}\n",
        "\n",
        "# adicione seu código abaixo.\n",
        "print(\"Dados do estudante:\")\n",
        "print(\"Nome:\", aluno['nome'])\n",
        "print(\"Matrícula:\", aluno['matricula'])\n",
        "print(\"Curso:\", aluno['curso'])\n",
        "print(\"Disciplina:\", aluno['disciplina'])\n",
        "#"
      ],
      "metadata": {
        "colab": {
          "base_uri": "https://localhost:8080/"
        },
        "id": "bE6z_Glby6dy",
        "outputId": "53ac999a-b1d0-4d5f-ebf0-fdfe36a831d4"
      },
      "execution_count": 18,
      "outputs": [
        {
          "output_type": "stream",
          "name": "stdout",
          "text": [
            "Dados do estudante:\n",
            "Nome: José Silva\n",
            "Matrícula: 123\n",
            "Curso: Especialização IA no Agro\n",
            "Disciplina: Fundamentos de Programação para Aplicações na Agricultura\n"
          ]
        }
      ]
    },
    {
      "cell_type": "markdown",
      "source": [
        "Exercício 10:\n",
        "\n",
        "Implemente um programa em Python para ler da entrada padrão um dia da semana.\n",
        "\n",
        "Depois, o programa deve consultar o dicionário abaixo e imprimir a temperatura desse dia.\n",
        "\n",
        "Caso o usuário informe um dia que não existe no dicionário, imprima a mensagem: \"Erro: informe dia no formato seg, ter, qua, qui, sex, sab, dom\".\n",
        "\n",
        "temperaturas = {\n",
        "    'seg' : 32.5,\n",
        "    'ter' : 25,\n",
        "    'qua' : 26.5,\n",
        "    'qui' : 22,\n",
        "    'sex': 18,\n",
        "    'sab': 15,\n",
        "    'dom': 17\n",
        "}\n",
        "\n",
        "Lembre-se de formatar a saída conforme exemplo abaixo.\n",
        "\n",
        "Saída:\n",
        "\n",
        "seg: 32.5\n",
        "\n",
        "ter: 25\n",
        "\n",
        "Erro: informe dia no formato seg, ter, qua, qui, sex, sab, dom\n",
        "\n",
        "dom: 17"
      ],
      "metadata": {
        "id": "ahdX7Gg40P_s"
      }
    },
    {
      "cell_type": "code",
      "source": [
        "temperaturas = {\n",
        "    'seg' : 32.5,\n",
        "    'ter' : 25,\n",
        "    'qua' : 26.5,\n",
        "    'qui' : 22,\n",
        "    'sex': 18,\n",
        "    'sab': 15,\n",
        "    'dom': 17\n",
        "}\n",
        "\n",
        "# adicione seu código abaixo.\n",
        "\n",
        "dia = input()\n",
        "\n",
        "if dia in temperaturas:\n",
        "  print(f\"{dia}:\",temperaturas[dia])\n",
        "else:\n",
        "  print(\"Erro: informe dia no formato seg, ter, qua, qui, sex, sab, dom\")\n",
        "#"
      ],
      "metadata": {
        "colab": {
          "base_uri": "https://localhost:8080/"
        },
        "id": "sK4pQ-za0gq6",
        "outputId": "dbef96ca-2479-4f3a-d8cb-e3d3285f71cc"
      },
      "execution_count": 24,
      "outputs": [
        {
          "output_type": "stream",
          "name": "stdout",
          "text": [
            "dom\n",
            "dom: 17\n"
          ]
        }
      ]
    },
    {
      "cell_type": "markdown",
      "source": [
        "Exercício 11:\n",
        "\n",
        "Complete o programa em Python abaixo para imprimir a quantidade total de frutas do dicionário.\n",
        "\n",
        "'# Dicionário\n",
        "Entrada:\n",
        "\n",
        "frutas = {\"Maçã\": 10, \"Banana\": 15, \"Laranja\": 12, \"Uva\": 32}\n",
        "\n",
        "Resultado:\n",
        "\n",
        "Total de frutas: 69\n",
        "\n"
      ],
      "metadata": {
        "id": "sG2jbxhG1ol7"
      }
    },
    {
      "cell_type": "code",
      "source": [
        "# Dicionário\n",
        "frutas = {\"Maçã\": 10, \"Banana\": 15, \"Laranja\": 12, \"Uva\": 32}\n",
        "\n",
        "total_frutas = 0\n",
        "\n",
        "# Adicione aqui seu código para calcular o total de frutas\n",
        "for quantidade in frutas.values():\n",
        "  total_frutas += quantidade\n",
        "\n",
        "# Imprimir o total\n",
        "print(\"Total de frutas:\", total_frutas)\n"
      ],
      "metadata": {
        "colab": {
          "base_uri": "https://localhost:8080/"
        },
        "id": "7F7eXGkb11w4",
        "outputId": "6a100495-b02d-49d7-dd84-02f8f5ba3451"
      },
      "execution_count": 25,
      "outputs": [
        {
          "output_type": "stream",
          "name": "stdout",
          "text": [
            "Total de frutas: 69\n"
          ]
        }
      ]
    },
    {
      "cell_type": "markdown",
      "source": [
        "Exercício 12:\n",
        "\n",
        "Complete o programa em Python abaixo para imprimir a frase:\n",
        "\n",
        "\"A capital do paísX é cidadeY.\"\n",
        "\n",
        "para cada par de país e capital do dicionário capitais.\n",
        "\n",
        "Entrada:\n",
        "\n",
        "'# Dicionário\n",
        "\n",
        "capitais = {\"Brasil\": \"Brasília\", \"França\": \"Paris\", \"Japão\": \"Tóquio\"}\n",
        "\n",
        "Saída:\n",
        "\n",
        "A capital do Brasil é Brasília.\n",
        "\n",
        "A capital do França é Paris.\n",
        "\n",
        "A capital do Japão é Tóquio.\n",
        "\n",
        "\n",
        "'# Dicionário\n",
        "\n",
        "capitais = {\"Brasil\": \"Brasília\", \"França\": \"Paris\", \"Japão\": \"Tóquio\"}\n",
        "\n",
        "'# Adicione aqui seu código para iterar sobre o dicionário"
      ],
      "metadata": {
        "id": "K0-CbACB2FtR"
      }
    },
    {
      "cell_type": "code",
      "source": [
        "# Dicionário\n",
        "capitais = {\"Brasil\": \"Brasília\", \"França\": \"Paris\", \"Japão\": \"Tóquio\"}\n",
        "\n",
        "# Adicione aqui seu código para iterar sobre o dicionário\n",
        "\n",
        "for pais, capital in capitais.items():\n",
        "  print(f\"A capital do {pais} é {capital}.\")\n",
        "#\n"
      ],
      "metadata": {
        "colab": {
          "base_uri": "https://localhost:8080/"
        },
        "id": "XESD_DTd2VaB",
        "outputId": "8a7980e0-a5ef-4f78-c978-3f9d7111a8ca"
      },
      "execution_count": 26,
      "outputs": [
        {
          "output_type": "stream",
          "name": "stdout",
          "text": [
            "A capital do Brasil é Brasília.\n",
            "A capital do França é Paris.\n",
            "A capital do Japão é Tóquio.\n"
          ]
        }
      ]
    }
  ]
}