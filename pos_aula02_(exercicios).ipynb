{
  "nbformat": 4,
  "nbformat_minor": 0,
  "metadata": {
    "colab": {
      "provenance": [],
      "authorship_tag": "ABX9TyPLxHCbdE5kfQkz1mwKXtjU",
      "include_colab_link": true
    },
    "kernelspec": {
      "name": "python3",
      "display_name": "Python 3"
    },
    "language_info": {
      "name": "python"
    }
  },
  "cells": [
    {
      "cell_type": "markdown",
      "metadata": {
        "id": "view-in-github",
        "colab_type": "text"
      },
      "source": [
        "<a href=\"https://colab.research.google.com/github/raphasariedine/utfpr/blob/main/pos_aula02_(exercicios).ipynb\" target=\"_parent\"><img src=\"https://colab.research.google.com/assets/colab-badge.svg\" alt=\"Open In Colab\"/></a>"
      ]
    },
    {
      "cell_type": "markdown",
      "source": [
        "Exercício 01:\n",
        "\n",
        "Complete o programa Python abaixo para que os itens da lista \"frutas\" sejam impressos no console, um item por linha.\n",
        "frutas = [\"Uva\", \"Banana\", \"Laranja\", \"Maçã\", \"Limão\"]\n",
        "'\n",
        "'# Dica, use o laço \"for\" para imprimir os itens no console\n",
        "...."
      ],
      "metadata": {
        "id": "g1cojiJLnRd0"
      }
    },
    {
      "cell_type": "code",
      "execution_count": null,
      "metadata": {
        "colab": {
          "base_uri": "https://localhost:8080/"
        },
        "id": "vPz7o5dunNG-",
        "outputId": "c4cbde57-b9c6-4367-f5c6-4d8fbb9653d2"
      },
      "outputs": [
        {
          "output_type": "stream",
          "name": "stdout",
          "text": [
            "Uva\n",
            "Banana\n",
            "Laranja\n",
            "Maçã\n",
            "Limão\n"
          ]
        }
      ],
      "source": [
        "frutas=[\"Uva\", \"Banana\", \"Laranja\", \"Maçã\", \"Limão\"]\n",
        "for fruta in frutas:\n",
        "    print(fruta)"
      ]
    },
    {
      "cell_type": "markdown",
      "source": [
        "Aprendendo sobre operações com listas...\n",
        "\n",
        "Temos a definição da lista;\n",
        "\n",
        "Temos a substituição de um elemento da lista;\n",
        "\n",
        "Temos a adição de um elemento da lista;\n",
        "\n",
        "Temos a remoção de um elemento da lista;"
      ],
      "metadata": {
        "id": "nRZaaclw73jb"
      }
    },
    {
      "cell_type": "code",
      "source": [
        "# Exemplo de lista\n",
        "numeros = [1, 2, 3, 4, 5]\n",
        "# Acessando elementos de uma lista utilizando índices.\n",
        "print(numeros[1])\n",
        "# Atribuindo um novo valor a um índice específico.\n",
        "numeros[2] = 10\n",
        "print(numeros) # Saída: [1, 2 ,10, 4, 5]\n",
        "# Adicionar um elemento ao final da lista\n",
        "numeros.append(6)\n",
        "print(numeros) # Saída: [1, 2 ,10, 4, 5, 6]\n",
        "# Remover um elemento com base no seu conteúdo\n",
        "numeros.remove(4)\n",
        "print(numeros) # Saída: [1, 2 ,10, 5, 6]\n"
      ],
      "metadata": {
        "colab": {
          "base_uri": "https://localhost:8080/"
        },
        "id": "uIeIzZXT7zT1",
        "outputId": "44541da6-a936-4729-f39c-141bf6c3e8b8"
      },
      "execution_count": null,
      "outputs": [
        {
          "output_type": "stream",
          "name": "stdout",
          "text": [
            "2\n",
            "[1, 2, 10, 4, 5]\n",
            "[1, 2, 10, 4, 5, 6]\n",
            "[1, 2, 10, 5, 6]\n"
          ]
        }
      ]
    },
    {
      "cell_type": "markdown",
      "source": [
        "Aprendendo sobre tuplas:\n",
        "\n",
        "As tuplas são definidas utilizando parênteses () ou até mesmo sem eles, separando os elementos por vírgulas.\n",
        "\n"
      ],
      "metadata": {
        "id": "2Ayg_iea9FOV"
      }
    },
    {
      "cell_type": "code",
      "source": [
        "# Exemplo de tupla\n",
        "\n",
        "tupla1 = (1, 2, 3, 4, 5)\n",
        "tupla2 = 'a', 'b', 'c', 'd', 'e'\n",
        "\n",
        "# Acessando elementos de uma tupla utilizando índices.\n",
        "\n",
        "print(tupla1[1])   # Saída: 2\n",
        "print(tupla1[-1])  # Saída: 5 (acesso reverso, -1 é o último, -2 o penúltimo, ...)\n",
        "\n",
        "print(tupla2[1])   # Saída: b\n",
        "print(tupla2[-1])  # Saída: e (acesso reverso, -1 é o último, -2 o penúltimo, ...)\n",
        "\n",
        "# Principal uso de tuplas é armazenar dados que não devem ser modificados\n",
        "\n",
        "ponto = (3, 2)    #Esse é um exemplo de tupla; Este ponto de coordenadas não deverá ser modificado ao longo do programa;\n",
        "\n",
        "# Tuplas podem ser utilizadas para armazenar dados que não devem ser modificados, como coordenadas, informações constantes, valores de retorno de funções, entre outros."
      ],
      "metadata": {
        "colab": {
          "base_uri": "https://localhost:8080/"
        },
        "id": "WmnH_rC29L1x",
        "outputId": "7d6f2b8f-c324-464a-be67-142738ae1a97"
      },
      "execution_count": null,
      "outputs": [
        {
          "output_type": "stream",
          "name": "stdout",
          "text": [
            "2\n",
            "5\n",
            "b\n",
            "e\n"
          ]
        }
      ]
    },
    {
      "cell_type": "markdown",
      "source": [
        "Programando um pouco com listas:"
      ],
      "metadata": {
        "id": "U-Bo3QXk-yxX"
      }
    },
    {
      "cell_type": "code",
      "source": [
        "numeros = [4,3,2,6,2,10,55]\n",
        "\n",
        "print(numeros[0]) # Saída: 4\n",
        "print(numeros[-1]) # Saída: 55\n",
        "\n",
        "item = numeros[1]\n",
        "item = item*2\n",
        "numeros[1] = item\n",
        "numeros[2]= numeros[2]*30\n",
        "\n",
        "print(numeros) # Saída: [4, 6, 2, 6, 2, 10, 55"
      ],
      "metadata": {
        "colab": {
          "base_uri": "https://localhost:8080/"
        },
        "id": "iVF7mQC3-xkd",
        "outputId": "872a62a1-cad6-4aa2-c393-532858c47f5d"
      },
      "execution_count": null,
      "outputs": [
        {
          "output_type": "stream",
          "name": "stdout",
          "text": [
            "4\n",
            "55\n",
            "[4, 6, 60, 6, 2, 10, 55]\n"
          ]
        }
      ]
    },
    {
      "cell_type": "markdown",
      "source": [
        "Vamos aprender a adicionar elementos, inserir elementos em determinadas posições, excluir o último elemento e extender a lista;\n",
        "\n",
        "lista.append(X) ADICIONA UM ELEMENTO (X) AO FINAL DA LISTA\n",
        "\n",
        "lista.insert(Y,X) ADICIONA UM ELEMENTO (X) NA POSIÇÃO INDICADA (Y)\n",
        "\n",
        "lista.pop() EXCLUI O ÚLTIMO ELEMENTO DA LISTA\n",
        "\n",
        "lista.extend(outra_lista) ADICIONA A LISTA (outra_lista) AO FINAL DA LISTA"
      ],
      "metadata": {
        "id": "SIFqKHqnAST_"
      }
    },
    {
      "cell_type": "code",
      "source": [
        "lista = [2, 3, 4]\n",
        "print(lista) # [2, 3, 4]\n",
        "lista.append(5) # [2, 3, 4, 5]\n",
        "print(lista)\n",
        "lista.insert(0, 1) # [1, 2, 3, 4, 5]\n",
        "print(lista)\n",
        "ultimo = lista.pop() # [1, 2, 3, 4]\n",
        "print(ultimo) # 5\n",
        "lista_nova = [8, 9, 10]\n",
        "lista.extend(lista_nova)\n",
        "print(lista) # [1, 2, 3, 4, 8, 9, 10]\n",
        "\n",
        "lista.insert(0,lista_nova[0])\n",
        "print(lista)\n",
        "\n",
        "\n",
        "lista = [2,3,4]\n",
        "lista.append(55)\n",
        "print(lista)\n",
        "\n",
        "lista.insert(0,-10)\n",
        "print(lista)\n",
        "\n",
        "ultimo = lista.pop()\n",
        "ultimo = lista.pop()\n",
        "print(f\"O último elemento é {ultimo}\")\n",
        "print(lista)\n",
        "\n",
        "lista_nova = [33,34,35]\n",
        "lista.extend(lista_nova)\n",
        "print(lista)"
      ],
      "metadata": {
        "colab": {
          "base_uri": "https://localhost:8080/"
        },
        "id": "yCe6b_QgAehM",
        "outputId": "049efa11-3c09-445b-e8cc-76027854980f"
      },
      "execution_count": null,
      "outputs": [
        {
          "output_type": "stream",
          "name": "stdout",
          "text": [
            "[2, 3, 4]\n",
            "[2, 3, 4, 5]\n",
            "[1, 2, 3, 4, 5]\n",
            "5\n",
            "[1, 2, 3, 4, 8, 9, 10]\n",
            "[8, 1, 2, 3, 4, 8, 9, 10]\n",
            "[2, 3, 4, 55]\n",
            "[-10, 2, 3, 4, 55]\n",
            "O último elemento é 4\n",
            "[-10, 2, 3]\n",
            "[-10, 2, 3, 33, 34, 35]\n"
          ]
        }
      ]
    },
    {
      "cell_type": "markdown",
      "source": [
        "Concatenação de listas:"
      ],
      "metadata": {
        "id": "dy0EFrIdDAWO"
      }
    },
    {
      "cell_type": "code",
      "source": [
        "# Concatenação de Listas\n",
        "lista1 = [1, 2, 3]\n",
        "lista2 = [4, 5, 6]\n",
        "concatenada = lista1 + lista2\n",
        "print(concatenada) # [1, 2, 3, 4, 5, 6]"
      ],
      "metadata": {
        "colab": {
          "base_uri": "https://localhost:8080/"
        },
        "id": "K8CbVdRTDCZh",
        "outputId": "914069f9-c30f-4e5c-c384-f729dd8bbf0a"
      },
      "execution_count": null,
      "outputs": [
        {
          "output_type": "stream",
          "name": "stdout",
          "text": [
            "[1, 2, 3, 4, 5, 6]\n"
          ]
        }
      ]
    },
    {
      "cell_type": "markdown",
      "source": [
        "Replicação de listas:\n",
        "\n",
        "NÃO É UMA MULTIPLICAÇÃO ... É UMA REPLICAÇÃO!!"
      ],
      "metadata": {
        "id": "wZYhXwGCDUmJ"
      }
    },
    {
      "cell_type": "code",
      "source": [
        "# Replicação de Listas\n",
        "lista = [1, 2, 3]\n",
        "replicada = lista * 3\n",
        "print(replicada) # [1, 2, 3, 1, 2, 3, 1, 2, 3]"
      ],
      "metadata": {
        "colab": {
          "base_uri": "https://localhost:8080/"
        },
        "id": "MKF3ZgmIDWV5",
        "outputId": "a4685490-055a-4c25-cda1-6400ad11a63b"
      },
      "execution_count": null,
      "outputs": [
        {
          "output_type": "stream",
          "name": "stdout",
          "text": [
            "[1, 2, 3, 1, 2, 3, 1, 2, 3]\n"
          ]
        }
      ]
    },
    {
      "cell_type": "markdown",
      "source": [
        "Operação de pertencimento:\n",
        "\n",
        "A operação se dá da seguinte forma:\n",
        "\n",
        "if x in lista:\n",
        "\n",
        "  print(...)\n",
        "\n",
        "else:\n",
        "\n",
        "  ..."
      ],
      "metadata": {
        "id": "hjYE73nwEFnu"
      }
    },
    {
      "cell_type": "code",
      "source": [
        "# Item pertence a lista?\n",
        "lista = [1, 2, 3]\n",
        "if 2 in lista:\n",
        "  print(\"Elemento está na lista.\")\n",
        "else:\n",
        "  print(\"Elemento não está na lista.\")"
      ],
      "metadata": {
        "colab": {
          "base_uri": "https://localhost:8080/"
        },
        "id": "qXqUyPoiEJIK",
        "outputId": "5c246f7e-82d6-4cec-d646-ef0c1cd12b50"
      },
      "execution_count": null,
      "outputs": [
        {
          "output_type": "stream",
          "name": "stdout",
          "text": [
            "Elemento está na lista.\n"
          ]
        }
      ]
    },
    {
      "cell_type": "markdown",
      "source": [
        "Busca e contagem de elementos:\n",
        "\n",
        "lista.index(x) -> retorna o índice da posição de onde está o elemento \"x\"\n",
        "\n",
        "lista.count(x) -> retorna quantas vezes o elemento \"x\" está presente na lista."
      ],
      "metadata": {
        "id": "fKoPNdAZEX8p"
      }
    },
    {
      "cell_type": "code",
      "source": [
        "# Busca por item\n",
        "lista = [1, 2, 3, 1, 5, 2]\n",
        "index = lista.index(2)\n",
        "print(\"Índice da primeira ocorrência de 2:\", index)\n",
        "# Contagem de ocorrências de um item\n",
        "count = lista.count(2)\n",
        "print(\"Quantidade de ocorrências de 2:\", count)"
      ],
      "metadata": {
        "colab": {
          "base_uri": "https://localhost:8080/"
        },
        "id": "Pb33qJWXEbFz",
        "outputId": "47d22602-0da0-4928-af8b-fec94cd472a9"
      },
      "execution_count": null,
      "outputs": [
        {
          "output_type": "stream",
          "name": "stdout",
          "text": [
            "Índice da primeira ocorrência de 2: 1\n",
            "Quantidade de ocorrências de 2: 2\n"
          ]
        }
      ]
    },
    {
      "cell_type": "markdown",
      "source": [
        "Iteração = percorrer\n",
        "\n",
        "Como ocorre?\n",
        "\n",
        "for nome in nomes:\n",
        "  \n",
        "  print (nome)\n",
        "\n",
        "\n",
        "\n",
        "ALém disso, temos como saber a posição de um elemento em específico, utilizando:\n",
        "\n",
        "lista.index(valor_elemento)\n",
        "\n",
        "\n",
        "Se existirem mais de uma posição desse elemento na lista, podemos utilizar o seguinte acréscimo na função:\n",
        "\n",
        "lista.index(valor_elemento, lista.index(2)+1)\n",
        "\n",
        "Também, conseguimos saber quantos elementos desse valor estão presentes nas lista, utilizando a seguinte função:\n",
        "\n",
        "lista.count(valor_elemento)"
      ],
      "metadata": {
        "id": "sG8sWX2oFUG_"
      }
    },
    {
      "cell_type": "code",
      "source": [
        "# A cada iteração do loop a variável nome recebe um valor da lista\n",
        "\n",
        "nomes = [\"João\", \"Maria\", \"Pedro\"]\n",
        "for nome in nomes:\n",
        "  print(nome)\n",
        "\n",
        "\n",
        "names = 'João', 'Maria', 'Pedro', 'Luiz', 'Edivaldo', 'Silva', 'Pereira'\n",
        "for name in names:\n",
        "    print(name, end=' - ')\n",
        "\n",
        "print(\"\\n\")\n",
        "\n",
        "lista = [1,2,3,4,2,2]\n",
        "print(lista.index(2,lista.index(2)+1))\n",
        "print(lista.count(2))\n",
        "\n",
        "lista = [1, 2, 3, 4, 2, 2]\n",
        "elemento_procurado = 2\n",
        "posicoes = []\n",
        "\n",
        "for i in range(len(lista)):\n",
        "    if lista[i] == elemento_procurado:\n",
        "        posicoes.append(i)  # Adiciona o índice diretamente\n",
        "\n",
        "if posicoes:\n",
        "    print(f\"Posições do {elemento_procurado} são: {', '.join(map(str, posicoes))}\")\n",
        "else:\n",
        "    print(f\"O elemento {elemento_procurado} não foi encontrado na lista.\")"
      ],
      "metadata": {
        "colab": {
          "base_uri": "https://localhost:8080/"
        },
        "id": "ds4lGx3oFrnR",
        "outputId": "c2172e78-a822-4e2a-c02a-2db00aba4523"
      },
      "execution_count": null,
      "outputs": [
        {
          "output_type": "stream",
          "name": "stdout",
          "text": [
            "João\n",
            "Maria\n",
            "Pedro\n",
            "João - Maria - Pedro - Luiz - Edivaldo - Silva - Pereira - \n",
            "\n",
            "4\n",
            "3\n",
            "Posições do 2 são: 1, 4, 5\n"
          ]
        }
      ]
    },
    {
      "cell_type": "markdown",
      "source": [
        "Usando a função enumerate:\n",
        "\n",
        "Enumerate sempre retorna pares de INDICES e OBJETOS."
      ],
      "metadata": {
        "id": "ruhW0amPehif"
      }
    },
    {
      "cell_type": "code",
      "source": [
        "# A função enumerate() retorna um objeto iterável contendo pares de índices e elementos\n",
        "nomes = [\"João\", \"Maria\", \"Pedro\"]\n",
        "for indice, nome, in enumerate(nomes):\n",
        "  print(indice, nome)"
      ],
      "metadata": {
        "colab": {
          "base_uri": "https://localhost:8080/"
        },
        "id": "KIW_3tdaelq0",
        "outputId": "15d0b92a-5ee2-419d-8f6e-4d8fd47e651d"
      },
      "execution_count": null,
      "outputs": [
        {
          "output_type": "stream",
          "name": "stdout",
          "text": [
            "0 João\n",
            "1 Maria\n",
            "2 Pedro\n"
          ]
        }
      ]
    },
    {
      "cell_type": "markdown",
      "source": [
        "Função ZIP\n",
        "\n",
        "ZIP combina múltiplas variáveis compostas em uma única estrutura iterável.\n",
        "\n",
        "EM RESUMO: ELa combina as posições da primeira lista com a segunda lista, OU, de tuplas com tuplas..."
      ],
      "metadata": {
        "id": "UUfgm1-2fpRa"
      }
    },
    {
      "cell_type": "code",
      "source": [
        "# A função zip() combina múltiplas variáveis compostas\n",
        "# (listas ou tuplas) em um única estrutura iterável\n",
        "nomes = [\"João\", \"Maria\", \"Pedro\"]\n",
        "idades = [25, 30, 35]\n",
        "for nome, idade in zip(nomes, idades):\n",
        "\n",
        " print(nome, idade)\n",
        "\n",
        "print(type(nomes))\n",
        "print(type(idades))\n",
        "\n",
        "nomes = \"João\", \"Maria\", \"Pedro\"\n",
        "idades = 25, 30, 35\n",
        "for nome, idade in zip(nomes, idades):\n",
        "  print(nome, idade)\n",
        "\n",
        "print(type(nomes))\n",
        "print(type(idades))\n",
        "\n",
        "nomes = \"João\", \"Maria\", \"Pedro\"\n",
        "idades = 25, 35\n",
        "for nome, idade in zip(nomes, idades):\n",
        "  print(nome, idade)\n",
        "\n",
        "print(type(nomes))\n",
        "print(type(idades))"
      ],
      "metadata": {
        "colab": {
          "base_uri": "https://localhost:8080/"
        },
        "id": "YH6XAIpSf9sW",
        "outputId": "851b3952-d115-475b-c86e-b061695a1346"
      },
      "execution_count": null,
      "outputs": [
        {
          "output_type": "stream",
          "name": "stdout",
          "text": [
            "João 25\n",
            "Maria 30\n",
            "Pedro 35\n",
            "<class 'list'>\n",
            "<class 'list'>\n",
            "João 25\n",
            "Maria 30\n",
            "Pedro 35\n",
            "<class 'tuple'>\n",
            "<class 'tuple'>\n",
            "João 25\n",
            "Maria 35\n",
            "<class 'tuple'>\n",
            "<class 'tuple'>\n"
          ]
        }
      ]
    },
    {
      "cell_type": "markdown",
      "source": [
        "Função RANGE\n",
        "\n",
        "range() gera uma sequencia de números.\n",
        "\n",
        "Geralmente usada para controlar a repetição de loops.\n",
        "\n",
        "LEMBRANDO: como começamos a contagem com 0, o último valor sempre será X-1.\n",
        "\n",
        "A função range() não inclui o valor final por uma combinação de fatores: convenção, facilidade de uso e flexibilidade. Ao excluir o valor final, o range() se torna uma ferramenta poderosa e versátil para criar sequências de números em Python.\n",
        "\n",
        "O range() não inclui o valor final por convenção e para facilitar o uso em diversas situações. Essa função permite criar sequências de números com grande flexibilidade, permitindo definir o valor inicial, final e o passo. Ao excluir o valor final, o range() se torna mais intuitivo e consistente com outras funcionalidades da linguagem.\n"
      ],
      "metadata": {
        "id": "9LFzKAIzgm1k"
      }
    },
    {
      "cell_type": "code",
      "source": [
        "for i in range(5):\n",
        "  print(i)\n",
        "\n",
        "# Criando uma sequência de 5 a 10 (excluindo o 10)\n",
        "for i in range(5, 10):\n",
        "    print(i, end='-')  # Saída: 5, 6, 7, 8, 9\n",
        "print(\"\\n\")\n",
        "# Criando uma sequência de 10 a 0, contando de 2 em 2\n",
        "for i in range(10, 0, -2):\n",
        "    print(i, end='-')  # Saída: 10, 8, 6, 4, 2\n",
        "print(\"\\n\")"
      ],
      "metadata": {
        "colab": {
          "base_uri": "https://localhost:8080/"
        },
        "id": "mBMyZM6_gwf8",
        "outputId": "2d378c4a-93ff-43cc-bec4-a431f3a0a0d6"
      },
      "execution_count": null,
      "outputs": [
        {
          "output_type": "stream",
          "name": "stdout",
          "text": [
            "0\n",
            "1\n",
            "2\n",
            "3\n",
            "4\n",
            "5-6-7-8-9-\n",
            "\n",
            "10-8-6-4-2-\n",
            "\n"
          ]
        }
      ]
    },
    {
      "cell_type": "markdown",
      "source": [
        "O slicing (ou \"fatiamento\") é uma técnica em Python que permite extrair partes de sequências, como listas, tuplas, strings.\n",
        "\n",
        "Lembrar que o início é inclusivo e o fim é exclusivo...\n",
        "\n",
        "Quando tem \"::\" quer dizer que terá uma iteração em passo de 2 elementos"
      ],
      "metadata": {
        "id": "-jauSKHjkMLK"
      }
    },
    {
      "cell_type": "code",
      "source": [
        "lista = [1, 2, 3, 4, 5, 6, 7, 8, 9]\n",
        "# Índices 1 (inclusivo) ao 5 (exclusivo)\n",
        "print(lista[1:5]) # [2, 3, 4, 5]\n",
        "# Do início até 5 (exclusivo, lembre-se lista[5] retorna o item 6)\n",
        "print(lista[:5]) # [1, 2, 3, 4, 5]\n",
        "# Do 5 (inclusivo) até o final\n",
        "print(lista[5:]) # [6, 7, 8, 9]\n",
        "# Iterando a cada 2 elementos\n",
        "print(lista[::2]) # [1, 3, 5, 7, 9]\n",
        "# Do 1 ao 7 (exclusivo), iterando a cada 2 elementos\n",
        "print(lista[1:7:2]) # [2, 4, 6]\n",
        "\n",
        "print(lista[::3]) # [1, 4, 7]"
      ],
      "metadata": {
        "colab": {
          "base_uri": "https://localhost:8080/"
        },
        "id": "Ei0NF7OgkRiM",
        "outputId": "96764947-454f-4e7b-8b73-760a25a42e32"
      },
      "execution_count": null,
      "outputs": [
        {
          "output_type": "stream",
          "name": "stdout",
          "text": [
            "[2, 3, 4, 5]\n",
            "[1, 2, 3, 4, 5]\n",
            "[6, 7, 8, 9]\n",
            "[1, 3, 5, 7, 9]\n",
            "[2, 4, 6]\n",
            "[1, 4, 7]\n"
          ]
        }
      ]
    },
    {
      "cell_type": "markdown",
      "source": [
        "Em SLICING, se utilizarmos números negativos, fazemos a iteração de trás para frente!\n",
        "\n",
        "É como se fosse uma iteração REGRESSIVA!\n",
        "\n",
        "iteração = percorrimento (percorrer)"
      ],
      "metadata": {
        "id": "MhsEPU5PlQVg"
      }
    },
    {
      "cell_type": "code",
      "source": [
        "lista = [1, 2, 3, 4, 5, 6, 7, 8, 9]\n",
        "# Retorna os três últimos elementos\n",
        "print(lista[-3:]) # [7, 8, 9]\n",
        "# Retorna todos os elementos, exceto, os 5 últimos\n",
        "print(lista[:-5]) # [1, 2, 3, 4]\n",
        "# Retorna os elementos em ordem inversa\n",
        "print(lista[::-1]) # [9, 8, 7, 6, 5, 4, 3, 2, 1]"
      ],
      "metadata": {
        "colab": {
          "base_uri": "https://localhost:8080/"
        },
        "id": "PSOjRfb_lXsD",
        "outputId": "d9056a93-d3e0-41b9-a3d1-2c651a4268ee"
      },
      "execution_count": null,
      "outputs": [
        {
          "output_type": "stream",
          "name": "stdout",
          "text": [
            "[7, 8, 9]\n",
            "[1, 2, 3, 4]\n",
            "[9, 8, 7, 6, 5, 4, 3, 2, 1]\n"
          ]
        }
      ]
    },
    {
      "cell_type": "markdown",
      "source": [
        "SLICING com STRINGS\n",
        "\n",
        "STRINGS é uma cadeia de CARACTERES, portanto, podemos percorre-la."
      ],
      "metadata": {
        "id": "I2psW37Kls3E"
      }
    },
    {
      "cell_type": "code",
      "source": [
        "frase = \"UTFPR\"\n",
        "print(frase[0]) # U\n",
        "print(frase[:3]) # UTF\n",
        "print(frase[3:]) # PR\n",
        "print(frase[::-1]) # RPFTU\n",
        "\n",
        "parte = frase[:3]\n",
        "print(\"Parte da frase:\", parte) # UTF"
      ],
      "metadata": {
        "colab": {
          "base_uri": "https://localhost:8080/"
        },
        "id": "WLGr4JoGlvKU",
        "outputId": "02d98fe7-637f-4d49-ab95-ce9c0fef91bb"
      },
      "execution_count": null,
      "outputs": [
        {
          "output_type": "stream",
          "name": "stdout",
          "text": [
            "U\n",
            "UTF\n",
            "PR\n",
            "RPFTU\n",
            "Parte da frase: UTF\n"
          ]
        }
      ]
    },
    {
      "cell_type": "markdown",
      "source": [
        "Principais funções built-in para processar Listas e Tuplas.\n",
        "\n",
        "BULT-IN = EMBUTIDAS"
      ],
      "metadata": {
        "id": "CRH5OKuSmhMK"
      }
    },
    {
      "cell_type": "code",
      "source": [
        "lista = [4, 3, 77, 2, 1]\n",
        "# Tamanho da lista\n",
        "print(len(lista)) # 5\n",
        "# Valor máximo e mínimo da lista\n",
        "print(max(lista)) # 77\n",
        "print(min(lista)) # 1\n",
        "# Soma dos elementos da lista\n",
        "print(sum(lista)) # 87\n",
        "# Elementos ordenados\n",
        "print(sorted(lista)) # [1, 2, 3, 4, 77]\n",
        "# Elementos em ordem reversa da lista\n",
        "print(list(reversed(lista))) # [1, 2, 77, 3, 4]"
      ],
      "metadata": {
        "colab": {
          "base_uri": "https://localhost:8080/"
        },
        "id": "wCoSuTxnmk-p",
        "outputId": "5f2aee77-dfa6-41eb-9060-932631ed54f0"
      },
      "execution_count": null,
      "outputs": [
        {
          "output_type": "stream",
          "name": "stdout",
          "text": [
            "5\n",
            "77\n",
            "1\n",
            "87\n",
            "[1, 2, 3, 4, 77]\n",
            "[1, 2, 77, 3, 4]\n"
          ]
        }
      ]
    },
    {
      "cell_type": "markdown",
      "source": [
        "**Lista - Dados heterogêneos**"
      ],
      "metadata": {
        "id": "WnzyXfT0p48d"
      }
    },
    {
      "cell_type": "code",
      "source": [
        "# A lista abaixo armazena o nome, idade, e-mail e situação do\n",
        "# pessoa/usuário (ativo)\n",
        "dados_pessoa = [\"João\", 25, \"joao@utfpr.edu.br\", True]\n",
        "print(\"Nome:\", dados_pessoa[0])\n",
        "print(\"Idade:\", dados_pessoa[1])\n",
        "print(\"E-mail:\", dados_pessoa[2])\n",
        "print(\"Ativo:\", dados_pessoa[3])\n",
        "dados_pessoa[3] = False\n",
        "print(\"Ativo:\", dados_pessoa[3])\n",
        "\n",
        "\n",
        "dados_pessoa = [\"João\", 25, \"joao@utfpr.edu.br\", True]\n",
        "dados_pessoa[0] = \"José da Silva\"\n",
        "print(dados_pessoa)\n",
        "print(f\"Nome do usuário: {dados_pessoa[0]}\")\n",
        "print(f\"Idade do usuário: {dados_pessoa[1]}\")\n",
        "print(f\"E-mail do usuário: {dados_pessoa[2]}\")\n",
        "print(f\"Usuário ativo? {dados_pessoa[3]}\")"
      ],
      "metadata": {
        "colab": {
          "base_uri": "https://localhost:8080/"
        },
        "id": "7i2_Yh2Yp7dm",
        "outputId": "b7b9da15-1c53-471d-ed42-e3a2f1e8d14c"
      },
      "execution_count": null,
      "outputs": [
        {
          "output_type": "stream",
          "name": "stdout",
          "text": [
            "Nome: João\n",
            "Idade: 25\n",
            "E-mail: joao@utfpr.edu.br\n",
            "Ativo: True\n",
            "Ativo: False\n",
            "['José da Silva', 25, 'joao@utfpr.edu.br', True]\n",
            "Nome do usuário: José da Silva\n",
            "Idade do usuário: 25\n",
            "E-mail do usuário: joao@utfpr.edu.br\n",
            "Usuário ativo? True\n"
          ]
        }
      ]
    },
    {
      "cell_type": "markdown",
      "source": [
        "**Lista - Dados heterogêneos**\n",
        "\n",
        "A lista abaixo armazena o nome, idade, e-mail e situação do pessoa/usuário (ativo)\n",
        "\n",
        "\n",
        "LISTA DE LISTA"
      ],
      "metadata": {
        "id": "af0WkZalrNlO"
      }
    },
    {
      "cell_type": "code",
      "source": [
        "# A lista abaixo armazena o nome, idade, e-mail e situação do pessoa/usuário (ativo)\n",
        "\n",
        "# Imagine que você carregou os dados das pessoas de um CSV (arquivo de planilha, banco de dados)\n",
        "\n",
        "pessoas = [\n",
        " [\"João\", 25, \"joao@utfpr.edu.br\", True],\n",
        " [\"Maria\", 32, \"maria@utfpr.edu.br\", True],\n",
        " [\"Pedro\", 18, \"pedro@utfpr.edu.br\", True],\n",
        " [\"Ana\", 45, \"ana@utfpr.edu.br\", False],\n",
        "]\n",
        "p = pessoas[3]\n",
        "print(f\"Nome: {p[0]}, Idade: {p[1]}, E-mail: {p[2]}, Ativo: {p[3]}\")\n",
        "\n",
        "print(\"Listando apenas as pessoas inativas:\")\n",
        "for pessoa in pessoas:\n",
        "  if pessoa[3] == False:\n",
        "    print(f\"Nome: {pessoa[0]}, Idade: {pessoa[1]}, E-mail: {pessoa[2]}, Ativo: {pessoa[3]}\")\n",
        "\n",
        "print(\"Listando apenas as pessoas ativas:\")\n",
        "for pessoa in pessoas:\n",
        "  if pessoa[3] == True:\n",
        "    print(f\"Nome: {pessoa[0]}, Idade: {pessoa[1]}, E-mail: {pessoa[2]}, Ativo: {pessoa[3]}\")"
      ],
      "metadata": {
        "colab": {
          "base_uri": "https://localhost:8080/"
        },
        "id": "O7d3RWz9rVSW",
        "outputId": "7858a22c-138f-407d-8240-eb9e939b1439"
      },
      "execution_count": null,
      "outputs": [
        {
          "output_type": "stream",
          "name": "stdout",
          "text": [
            "Nome: Ana, Idade: 45, E-mail: ana@utfpr.edu.br, Ativo: False\n",
            "Listando apenas as pessoas inativas:\n",
            "Nome: Ana, Idade: 45, E-mail: ana@utfpr.edu.br, Ativo: False\n",
            "Listando apenas as pessoas ativas:\n",
            "Nome: João, Idade: 25, E-mail: joao@utfpr.edu.br, Ativo: True\n",
            "Nome: Maria, Idade: 32, E-mail: maria@utfpr.edu.br, Ativo: True\n",
            "Nome: Pedro, Idade: 18, E-mail: pedro@utfpr.edu.br, Ativo: True\n"
          ]
        }
      ]
    },
    {
      "cell_type": "markdown",
      "source": [
        "Programando um pouco com **TUPLAS**:"
      ],
      "metadata": {
        "id": "ncdnISxD_NCb"
      }
    },
    {
      "cell_type": "code",
      "source": [
        "numeros= 1,2,3,4,5\n",
        "letras = 'a','b','c','d','e','f','g','h','i','j'\n",
        "\n",
        "print(numeros)\n",
        "print(letras)\n",
        "\n",
        "print(numeros[0])\n",
        "print(letras[1])\n",
        "print(letras[-1])\n"
      ],
      "metadata": {
        "colab": {
          "base_uri": "https://localhost:8080/"
        },
        "id": "A60gcs2__Onk",
        "outputId": "f5d1d769-a149-49e2-d1e3-d900f297986d"
      },
      "execution_count": null,
      "outputs": [
        {
          "output_type": "stream",
          "name": "stdout",
          "text": [
            "(1, 2, 3, 4, 5)\n",
            "('a', 'b', 'c', 'd', 'e', 'f', 'g', 'h', 'i', 'j')\n",
            "1\n",
            "b\n",
            "j\n"
          ]
        }
      ]
    },
    {
      "cell_type": "markdown",
      "source": [
        "Concatenação de Tuplas:"
      ],
      "metadata": {
        "id": "t5EA5cxGDHp3"
      }
    },
    {
      "cell_type": "code",
      "source": [
        "# Concatenação de Tuplas\n",
        "tupla1 = (1, 2, 3)\n",
        "tupla2 = (4, 5, 6)\n",
        "concatenada = tupla1 + tupla2\n",
        "print(concatenada) # [1, 2, 3, 4, 5, 6]"
      ],
      "metadata": {
        "colab": {
          "base_uri": "https://localhost:8080/"
        },
        "id": "bvOzUTm9DJ4B",
        "outputId": "76531871-d9b8-4448-99c4-faaf10e9c3ef"
      },
      "execution_count": null,
      "outputs": [
        {
          "output_type": "stream",
          "name": "stdout",
          "text": [
            "(1, 2, 3, 4, 5, 6)\n"
          ]
        }
      ]
    },
    {
      "cell_type": "markdown",
      "source": [
        "Replicação de TUPLAS:\n",
        "\n",
        "NÃO É MULTIPLICAÇÃO... É REPLICAÇÃO!!"
      ],
      "metadata": {
        "id": "fBPwtgnLDa-O"
      }
    },
    {
      "cell_type": "code",
      "source": [
        "# Replicação de Tuplas\n",
        "tupla = (4, 5, 6)\n",
        "replicada = tupla * 3\n",
        "print(replicada) # (4, 5, 6, 4, 5, 6, 4, 5, 6]"
      ],
      "metadata": {
        "colab": {
          "base_uri": "https://localhost:8080/"
        },
        "id": "qsc_i_TaDcja",
        "outputId": "dfb5f38c-d056-4605-8716-e5da7b89d317"
      },
      "execution_count": null,
      "outputs": [
        {
          "output_type": "stream",
          "name": "stdout",
          "text": [
            "(4, 5, 6, 4, 5, 6, 4, 5, 6)\n"
          ]
        }
      ]
    },
    {
      "cell_type": "markdown",
      "source": [
        "**Tupla - Dados heterogêneos**"
      ],
      "metadata": {
        "id": "m-akjxm8q_cW"
      }
    },
    {
      "cell_type": "code",
      "source": [
        "# A tupla abaixo armazena o nome, idade, e-mail e situação do\n",
        "# pessoa/usuário (ativo)\n",
        "dados_pessoa = (\"João\", 25, \"joao@utfpr.edu.br\", True)\n",
        "print(\"Nome:\", dados_pessoa[0])\n",
        "print(\"Idade:\", dados_pessoa[1])\n",
        "print(\"E-mail:\", dados_pessoa[2])\n",
        "print(\"Ativo:\", dados_pessoa[3])"
      ],
      "metadata": {
        "colab": {
          "base_uri": "https://localhost:8080/"
        },
        "id": "4OrI-ZCbq-78",
        "outputId": "f326045c-72a0-417c-c0b1-c60a74968258"
      },
      "execution_count": null,
      "outputs": [
        {
          "output_type": "stream",
          "name": "stdout",
          "text": [
            "Nome: João\n",
            "Idade: 25\n",
            "E-mail: joao@utfpr.edu.br\n",
            "Ativo: True\n"
          ]
        }
      ]
    },
    {
      "cell_type": "markdown",
      "source": [
        "Exercício 02:\n",
        "\n",
        "O programa abaixo lê da entrada padrão 4 inteiros e armazena em uma lista.\n",
        "\n",
        "Complete o programa com instruções para somar os itens da lista e depois imprimir o valor da soma no console.\n",
        "\n",
        "numeros = []\n",
        "\n",
        "for i in range(4):\n",
        "    numero_lido = int(input())\n",
        "    numeros.append(numero_lido)\n",
        "\n",
        "soma = 0\n",
        "\n",
        "'# Adicione abaixo instruções para somar todos os números e imprimir no console."
      ],
      "metadata": {
        "id": "4AMisx3_oJEd"
      }
    },
    {
      "cell_type": "code",
      "source": [
        "numeros = []\n",
        "\n",
        "for i in range(4):\n",
        "  numero_lido = int(input())\n",
        "  numeros.append(numero_lido)\n",
        "\n",
        "soma = 0\n",
        "\n",
        "# Adicione abaixo instruções para somar todos os números e imprimir no console.\n",
        "\n",
        "for numero in numeros:\n",
        "  soma = soma + numero\n",
        "\n",
        "print(\"Soma =\",soma)\n",
        "#"
      ],
      "metadata": {
        "colab": {
          "base_uri": "https://localhost:8080/"
        },
        "id": "kRkzsoDfoQIF",
        "outputId": "ebf935d3-9d83-4baa-f48b-f878d9cf0a0e"
      },
      "execution_count": null,
      "outputs": [
        {
          "output_type": "stream",
          "name": "stdout",
          "text": [
            "10\n",
            "20\n",
            "30\n",
            "40\n",
            "100\n"
          ]
        }
      ]
    },
    {
      "cell_type": "markdown",
      "source": [
        "Exercício 03:\n",
        "\n",
        "O programa abaixo lê da entrada padrão um valor inteiro N. Depois, lê N inteiros e armazena em uma lista.\n",
        "\n",
        "Complete o programa com instruções para imprimir no console o menor valor e maior valor da lista.\n",
        "\n",
        "'# Definição de lista vazia\n",
        "\n",
        "numeros = []\n",
        "\n",
        "'# Lendo da entrada padrão o número de elementos que serão adicionados na lista (inteiro N do enunciado)\n",
        "\n",
        "numero_de_elementos = int(input())\n",
        "\n",
        "'# Adicionando elementos na lista\n",
        "\n",
        "for i in range(numero_de_elementos):\n",
        "\n",
        "    numero_lido = int(input())\n",
        "    numeros.append(numero_lido)\n",
        "\n",
        "'# Adicione instruções para imprimir o menor e maior valor da lista."
      ],
      "metadata": {
        "id": "zrei_mG4o7X6"
      }
    },
    {
      "cell_type": "code",
      "source": [
        "# Definição de lista vazia\n",
        "numeros = []\n",
        "# Lendo da entrada padrão o número de elementos que serão adicionados na lista (inteiro N do enunciado)\n",
        "numero_de_elementos = int(input())\n",
        "# Adicionando elementos na lista\n",
        "for i in range(numero_de_elementos):\n",
        "    numero_lido = int(input())\n",
        "    numeros.append(numero_lido)\n",
        "\n",
        "# Adicione instruções para imprimir o menor e maior valor da lista.\n",
        "print(\"Menor:\", min(numeros))\n",
        "print(\"Maior:\", max(numeros))"
      ],
      "metadata": {
        "colab": {
          "base_uri": "https://localhost:8080/"
        },
        "id": "6MIfxZIwo9_3",
        "outputId": "17112cb7-4cbf-4170-f91d-f229229025fc"
      },
      "execution_count": null,
      "outputs": [
        {
          "output_type": "stream",
          "name": "stdout",
          "text": [
            "4\n",
            "1\n",
            "2\n",
            "3\n",
            "4\n",
            "Menor: 1\n",
            "Maior: 4\n"
          ]
        }
      ]
    },
    {
      "cell_type": "code",
      "source": [
        "numeros = []\n",
        "numero_de_elementos = int(input())\n",
        "for i in range(numero_de_elementos):\n",
        "  numero_lido = int(input())\n",
        "  numeros.append(numero_lido)\n",
        "\n",
        "# Tamanho da lista\n",
        "print(len(numeros))\n",
        "# Valor máximo e mínimo da lista\n",
        "print(\"Menor:\", min(numeros))\n",
        "print(\"Maior:\", max(numeros))\n",
        "# Soma dos elementos da lista\n",
        "print(sum(numeros))\n",
        "# Elementos ordenados\n",
        "print(sorted(numeros))\n",
        "# Elementos em ordem reversa da lista\n",
        "print(list(reversed(numeros)))"
      ],
      "metadata": {
        "colab": {
          "base_uri": "https://localhost:8080/"
        },
        "id": "5Ugf3e6MnAUV",
        "outputId": "11698ec0-61d6-4283-f882-fc30b9c098d1"
      },
      "execution_count": null,
      "outputs": [
        {
          "output_type": "stream",
          "name": "stdout",
          "text": [
            "3\n",
            "5\n",
            "0\n",
            "2\n",
            "3\n",
            "Menor: 0\n",
            "Maior: 5\n",
            "7\n",
            "[0, 2, 5]\n",
            "[2, 0, 5]\n"
          ]
        }
      ]
    },
    {
      "cell_type": "code",
      "source": [
        "# Definição de lista vazia\n",
        "numeros = []\n",
        "# Lendo da entrada padrão o número de elementos que serão adicionados na lista (inteiro N do enunciado)\n",
        "numero_de_elementos = int(input())\n",
        "# Adicionando elementos na lista\n",
        "for i in range(numero_de_elementos):\n",
        "    numero_lido = int(input())\n",
        "    numeros.append(numero_lido)\n",
        "\n",
        "# Adicione instruções para imprimir o menor e maior valor da lista.\n",
        "menor = numeros[0]\n",
        "maior = numeros[0]\n",
        "for numero in numeros:\n",
        "  if numero < menor:\n",
        "    menor = numero\n",
        "  if numero > maior:\n",
        "    maior = numero\n",
        "\n",
        "print(\"Menor:\",menor)\n",
        "print(\"Maior:\",maior)\n",
        "#"
      ],
      "metadata": {
        "colab": {
          "base_uri": "https://localhost:8080/"
        },
        "id": "gzWAT2N7pRHc",
        "outputId": "f19b30e1-7330-47ce-98c7-59490192c9c9"
      },
      "execution_count": null,
      "outputs": [
        {
          "output_type": "stream",
          "name": "stdout",
          "text": [
            "4\n",
            "1\n",
            "2\n",
            "3\n",
            "4\n",
            "Menor: 1\n",
            "Maior: 4\n"
          ]
        }
      ]
    },
    {
      "cell_type": "markdown",
      "source": [
        "Exercício 04:\n",
        "\n",
        "Complete o programa abaixo com instruções para imprimir o primeiro e último elementos da tupla.\n",
        "\n",
        "elementos = 1, 2, 3, 4, 5\n",
        "\n",
        "1# Adicione instruções para imprimir o primeiro e último elemento da tupla"
      ],
      "metadata": {
        "id": "BKfdmY23pp2u"
      }
    },
    {
      "cell_type": "code",
      "source": [
        "elementos = 1, 2, 3, 4, 5\n",
        "\n",
        "# Adicione instruções para imprimir o primeiro e último elemento da tupla\n",
        "print(\"Primeiro:\", elementos[0])\n",
        "print(\"Último:\", elementos[-1])\n",
        "#"
      ],
      "metadata": {
        "colab": {
          "base_uri": "https://localhost:8080/"
        },
        "id": "kyyvJisEpw9g",
        "outputId": "ca30b9bc-7029-4712-9929-1d70a7caaeaf"
      },
      "execution_count": null,
      "outputs": [
        {
          "output_type": "stream",
          "name": "stdout",
          "text": [
            "Primeiro: 1\n",
            "Último: 5\n"
          ]
        }
      ]
    },
    {
      "cell_type": "markdown",
      "source": [
        "Exercício 05:\n",
        "\n",
        "Complete o programa abaixo com instruções para imprimir o índice de um determinado elemento da tupla.\n",
        "\n",
        "elementos = (11, 42, 3, 64, -15)\n",
        "\n",
        "elemento_procurado = int(input())\n",
        "\n",
        "1# Adicione instruções para imprimir o índice do elemento procurado"
      ],
      "metadata": {
        "id": "CG2CcMGaqD3u"
      }
    },
    {
      "cell_type": "code",
      "source": [
        "elementos = (11, 42, 3, 64, -15)\n",
        "\n",
        "elemento_procurado = int(input())\n",
        "\n",
        "# Adicione instruções para imprimir o índice do elemento procurado\n",
        "for i in range(len(elementos)):\n",
        "  if elementos[i] == elemento_procurado:\n",
        "    print(\"Índice do elemento:\", i)"
      ],
      "metadata": {
        "colab": {
          "base_uri": "https://localhost:8080/"
        },
        "id": "zqEInaYtqIer",
        "outputId": "b36cfeab-c498-46e9-e032-081cfa9dfa5e"
      },
      "execution_count": null,
      "outputs": [
        {
          "output_type": "stream",
          "name": "stdout",
          "text": [
            "11\n",
            "Índice do elemento: 0\n"
          ]
        }
      ]
    },
    {
      "cell_type": "markdown",
      "source": [
        "Exercício 06:\n",
        "\n",
        "O programa abaixo define uma lista de idades de pessoas de uma cidade.\n",
        "\n",
        "Complete o programa abaixo com instruções para imprimir o número de idades menores de 18 anos e o número de idades maiores ou iguais de 18 anos.\n",
        "\n",
        "Dica: percora a lista e teste os valores usando comandos de decisão (if-else).\n",
        "\n",
        "idades = [11, 42, 3, 64, 9, 12, 33, 44]\n",
        "\n",
        "1# Adicione instruções para imprimir o que se pede na questão"
      ],
      "metadata": {
        "id": "pjuIkgifqcWI"
      }
    },
    {
      "cell_type": "code",
      "source": [
        "idades = [11, 42, 3, 64, 9, 12, 33, 44]\n",
        "\n",
        "# Adicione instruções para imprimir o que se pede na questão\n",
        "menores = 0\n",
        "maiores = 0\n",
        "for idade in idades:\n",
        "  if idade < 18:\n",
        "    menores += 1\n",
        "  else:\n",
        "    maiores += 1\n",
        "\n",
        "print(\"Maior ou igual 18:\", maiores)\n",
        "print(\"Menor de 18:\", menores)"
      ],
      "metadata": {
        "colab": {
          "base_uri": "https://localhost:8080/"
        },
        "id": "smE9faktqi1P",
        "outputId": "dd177e77-7cf3-4ff5-e877-ced283ab5941"
      },
      "execution_count": null,
      "outputs": [
        {
          "output_type": "stream",
          "name": "stdout",
          "text": [
            "Maior ou igual 18: 4\n",
            "Menor de 18: 4\n"
          ]
        }
      ]
    },
    {
      "cell_type": "markdown",
      "source": [
        "Exercício 07:\n",
        "\n",
        "Implemente um programa em Python que lê da entrada padrão 5 caracteres e armazena em uma lista.\n",
        "\n",
        "Depois, o programa deve ler da entrada padrão um caractere que deve ser procurado na lista de caracteres lidos anteriormente.\n",
        "\n",
        "Por fim, imprima no console quantas vezes o caractere procurado foi encontrado na lista.\n",
        "\n",
        "Dica:\n",
        "\n",
        "Defina um for para ler os caracteres da entrada padrão.\n",
        "Depois leia o caractere a ser procurado.\n",
        "Defina um segundo for para percorrer a lista de caracteres e contar o número de ocorrências.\n",
        "Use print(f\"Caractere '{procurado}' foi encontrado {encontrado} vezes.\") para mostrar o resultado no console.\n",
        "Nos exemplos abaixo, perceba que o último caractere da lista Input é o caractere procurado.\n",
        "\n"
      ],
      "metadata": {
        "id": "9Vqtcylkq5nw"
      }
    },
    {
      "cell_type": "code",
      "source": [
        "caracteres = []\n",
        "for i in range(5):\n",
        "  caractere = input()\n",
        "  caracteres.append(caractere)\n",
        "\n",
        "procurado = input()\n",
        "\n",
        "encontrado = 0\n",
        "\n",
        "for caractere in caracteres:\n",
        "  if caractere == procurado:\n",
        "    encontrado += 1\n",
        "\n",
        "print(f\"Caractere '{procurado}' foi encontrado {encontrado} vezes.\")"
      ],
      "metadata": {
        "colab": {
          "base_uri": "https://localhost:8080/"
        },
        "id": "MJ1MwmxTq-3O",
        "outputId": "468c9ddf-68ed-4f80-d7b4-4d22ec599ed9"
      },
      "execution_count": null,
      "outputs": [
        {
          "output_type": "stream",
          "name": "stdout",
          "text": [
            "a\n",
            "b\n",
            "c\n",
            "d\n",
            "e\n",
            "a\n",
            "Caractere 'a' foi encontrado 1 vezes.\n"
          ]
        }
      ]
    },
    {
      "cell_type": "markdown",
      "source": [
        "Exercício 08:\n",
        "\n",
        "Implemente um programa em Python para ler 5 valores inteiros da entrada padrão e armazene em uma lista.\n",
        "\n",
        "Depois, use a estrutura de dados conjunto para remover possíveis dados duplicados.\n",
        "\n",
        "Por fim, imprima na saída padrão os elementos, sem valores duplicados.\n",
        "\n",
        "\n"
      ],
      "metadata": {
        "id": "RxXBRZg4s5B1"
      }
    },
    {
      "cell_type": "code",
      "source": [
        "lista=[]\n",
        "for i in range(5):\n",
        "  valor=int(input())\n",
        "  lista.append(valor)\n",
        "\n",
        "# Lista: Uma lista é uma estrutura de dados ordenada que pode conter elementos duplicados.\n",
        "# Conjunto (Set): Um conjunto é uma coleção não ordenada de elementos únicos. Isso significa que um conjunto não permite elementos duplicados.\n",
        "\n",
        "conjunto=set(lista) # Essa linha de código em Python converte uma lista em um conjunto.\n",
        "\n",
        "# for elemento in conjunto: Essa parte itera sobre cada elemento do conjunto.\n",
        "# str(elemento): Converte cada elemento para uma string. Isso é necessário porque o método join() espera uma sequência de strings.\n",
        "# ', '.join(...):\n",
        "# join(): É um método de strings que concatena todos os elementos de uma sequência (neste caso, a sequência de strings gerada pela expressão anterior), usando o separador especificado entre eles.\n",
        "# ', ': O separador é uma vírgula seguida de um espaço, que será inserido entre cada elemento da string resultante.\n",
        "\n",
        "string_formatada = ', '.join(str(elemento) for elemento in conjunto)\n",
        "\n",
        "# Adicionando as chaves\n",
        "resultado = f\"{{{string_formatada}}}\" # Ao usar três chaves, você está, na verdade, incluindo uma única chave literal dentro de uma f-string.\n",
        "\n",
        "\n",
        "print(resultado)  # Saída: {1, 2, 3, 7}"
      ],
      "metadata": {
        "colab": {
          "base_uri": "https://localhost:8080/"
        },
        "id": "YWzP6l2qw1Lb",
        "outputId": "2180f4a3-f2d2-41d8-f7a1-29eb89a07a96"
      },
      "execution_count": null,
      "outputs": [
        {
          "output_type": "stream",
          "name": "stdout",
          "text": [
            "1\n",
            "1\n",
            "1\n",
            "0\n",
            "0\n",
            "{0, 1}\n"
          ]
        }
      ]
    },
    {
      "cell_type": "markdown",
      "source": [
        "Exercício 09:\n",
        "\n",
        "Implemente um programa em Python para imprimir os dados do dicionário abaixo.\n",
        "\n",
        "aluno = {\n",
        "    'matricula' : 123,\n",
        "    'nome' : 'José Silva',\n",
        "    'curso' : 'Especialização IA no Agro',\n",
        "    'disciplina' : \"Fundamentos de Programação para Aplicações na Agricultura\"\n",
        "}\n",
        "\n",
        "Lembre-se de formatar a saída conforme exemplo abaixo.\n",
        "\n",
        "aluno = {\n",
        "    'matricula' : 123,\n",
        "    'nome' : 'José Silva',\n",
        "    'curso' : 'Especialização IA no Agro',\n",
        "    'disciplina' : \"Fundamentos de Programação para Aplicações na Agricultura\"\n",
        "}\n",
        "\n",
        "Resultado:\n",
        "\n",
        "Dados do estudante:\n",
        "Nome: José Silva\n",
        "Matrícula: 123\n",
        "Curso: Especialização IA no Agro\n",
        "Disciplina: Fundamentos de Programação para Aplicações na Agricultura\n",
        "\n",
        "\n",
        "aluno = {\n",
        "    'matricula' : 123\n",
        "    'nome' : 'José Silva',\n",
        "    'curso' : 'Especialização IA no Agro',\n",
        "    'disciplina' : \"Fundamentos de Programação para Aplicações na Agricultura\"\n",
        "}\n",
        "\n",
        "1# adicione seu código abaixo."
      ],
      "metadata": {
        "id": "-Z7RHG9-yqsn"
      }
    },
    {
      "cell_type": "code",
      "source": [
        "aluno = {\n",
        "    'matricula' : 123,\n",
        "    'nome' : 'José Silva',\n",
        "    'curso' : 'Especialização IA no Agro',\n",
        "    'disciplina' : \"Fundamentos de Programação para Aplicações na Agricultura\"\n",
        "}\n",
        "\n",
        "# adicione seu código abaixo.\n",
        "print(\"Dados do estudante:\")\n",
        "print(\"Nome:\", aluno['nome'])\n",
        "print(\"Matrícula:\", aluno['matricula'])\n",
        "print(\"Curso:\", aluno['curso'])\n",
        "print(\"Disciplina:\", aluno['disciplina'])\n",
        "#"
      ],
      "metadata": {
        "colab": {
          "base_uri": "https://localhost:8080/"
        },
        "id": "bE6z_Glby6dy",
        "outputId": "53ac999a-b1d0-4d5f-ebf0-fdfe36a831d4"
      },
      "execution_count": null,
      "outputs": [
        {
          "output_type": "stream",
          "name": "stdout",
          "text": [
            "Dados do estudante:\n",
            "Nome: José Silva\n",
            "Matrícula: 123\n",
            "Curso: Especialização IA no Agro\n",
            "Disciplina: Fundamentos de Programação para Aplicações na Agricultura\n"
          ]
        }
      ]
    },
    {
      "cell_type": "markdown",
      "source": [
        "Dicionários são uma estrutura de dados chave-valor. Úteis para armazenar e recuperar informações (valor) por meio da chave.\n",
        "\n",
        "Quando eu abro e fecho uma chave o Python interpreta isso como um dicionário.\n",
        "Um dicionário tem uma chave, seguida de \":\" e por fim o valor seguido de uma \",\".\n",
        "\n",
        "\n",
        "Um item dentro de um dicionário é composto por uma chave e um valor.\n"
      ],
      "metadata": {
        "id": "zV8Y9crtZmY6"
      }
    },
    {
      "cell_type": "code",
      "source": [
        "# Declaração de dicionário\n",
        "aluno = {\n",
        " \"nome\": \"Joao\",\n",
        " \"idade\": 20,\n",
        " \"email\": \"joao@utfpr.edu.br\"\n",
        "}\n",
        "nome = aluno[\"nome\"]\n",
        "print(f\"Nome: {nome}\")\n"
      ],
      "metadata": {
        "colab": {
          "base_uri": "https://localhost:8080/"
        },
        "id": "5eacD-QTZr5B",
        "outputId": "80bd9fe3-dd1e-4518-f1ea-07554ecc731f"
      },
      "execution_count": null,
      "outputs": [
        {
          "output_type": "stream",
          "name": "stdout",
          "text": [
            "Nome: Joao\n"
          ]
        }
      ]
    },
    {
      "cell_type": "markdown",
      "source": [
        "Percorrendo um dicionário.\n",
        "\n",
        "Acessando Chaves e Valores em Dicionários Python: .values(), .keys() e .items()\n",
        "\n",
        ".values(): Retorna uma view (visão) dos valores do dicionário. Essa view é dinâmica, ou seja, se você modificar o dicionário, a view também será atualizada. É útil quando você precisa iterar apenas sobre os valores.\n",
        "\n",
        ".keys(): Retorna uma view das chaves do dicionário. Assim como .values(), é dinâmica. Útil quando você precisa iterar apenas sobre as chaves.\n",
        "\n",
        ".items(): Retorna uma view das tuplas (chave, valor) de cada item do dicionário. Também é dinâmica. É útil quando você precisa iterar tanto sobre as chaves quanto sobre os valores simultaneamente."
      ],
      "metadata": {
        "id": "xwyAnyJzaA0h"
      }
    },
    {
      "cell_type": "code",
      "source": [
        "aluno = {\"nome\": \"Joao\", \"idade\": 20, \"email\": \"joao@utfpr.edu.br\"}\n",
        "print(aluno)\n",
        "\n",
        "# Iterar sobre chaves\n",
        "for chave in aluno:\n",
        " print(chave)\n",
        "# Iterar sobre valores\n",
        "for valor in aluno.values():\n",
        " print(valor)\n",
        "# Imprime chave e valor\n",
        "for chave, valor in aluno.items():\n",
        " print(f\"{chave} : {valor}\")\n"
      ],
      "metadata": {
        "colab": {
          "base_uri": "https://localhost:8080/"
        },
        "id": "rltEjU1iaC1a",
        "outputId": "aab7443e-7d8c-47be-f378-57586fc6faab"
      },
      "execution_count": null,
      "outputs": [
        {
          "output_type": "stream",
          "name": "stdout",
          "text": [
            "{'nome': 'Joao', 'idade': 20, 'email': 'joao@utfpr.edu.br'}\n",
            "nome\n",
            "idade\n",
            "email\n",
            "Joao\n",
            "20\n",
            "joao@utfpr.edu.br\n",
            "nome : Joao\n",
            "idade : 20\n",
            "email : joao@utfpr.edu.br\n"
          ]
        }
      ]
    },
    {
      "cell_type": "markdown",
      "source": [
        "Alterando dados no dicionário:"
      ],
      "metadata": {
        "id": "N5JvVKcJeWMd"
      }
    },
    {
      "cell_type": "code",
      "source": [
        "aluno = {\"nome\": \"Joao\", \"idade\": 20, \"email\": \"joao@utfpr.edu.br\"}\n",
        "print(aluno)\n",
        "aluno[\"nome\"] = \"Maria\"\n",
        "print(aluno)\n",
        "\n",
        "for chave in aluno:    # como percorrer as chaves de um dicinário\n",
        "  print(chave)\n",
        "\n",
        "for valor in aluno.values():  # como percorrer os valores de um dicionário\n",
        "  print(valor)\n",
        "\n",
        "for chave, valor in aluno.items():  # como percorrer os itens de um dicionário\n",
        "  print(f\"{chave} : {valor}\")"
      ],
      "metadata": {
        "colab": {
          "base_uri": "https://localhost:8080/"
        },
        "id": "nmwfMAhOeZl-",
        "outputId": "a8f29da0-27b1-45ef-bcdf-8f213d43f5dd"
      },
      "execution_count": null,
      "outputs": [
        {
          "output_type": "stream",
          "name": "stdout",
          "text": [
            "{'nome': 'Joao', 'idade': 20, 'email': 'joao@utfpr.edu.br'}\n",
            "{'nome': 'Maria', 'idade': 20, 'email': 'joao@utfpr.edu.br'}\n",
            "nome\n",
            "idade\n",
            "email\n",
            "Maria\n",
            "20\n",
            "joao@utfpr.edu.br\n",
            "nome : Maria\n",
            "idade : 20\n",
            "email : joao@utfpr.edu.br\n"
          ]
        }
      ]
    },
    {
      "cell_type": "markdown",
      "source": [
        "Manipulando dicionários:"
      ],
      "metadata": {
        "id": "UQD6c2cEfQNo"
      }
    },
    {
      "cell_type": "code",
      "source": [
        "aluno = {\"nome\": \"Joao\", \"idade\": 20, \"email\": \"joao@utfpr.edu.br\"}\n",
        "\n",
        "# Verificando a existência de uma chave\n",
        "if 'nome' in aluno:\n",
        "  print('A chave \"nome\" está presente no dicionário.')\n",
        "\n",
        "\n",
        "# Adiciona uma nova chave\n",
        "aluno[\"genero\"] = 'M'\n",
        "aluno[\"cpf\"] = 123456789\n",
        "\n",
        "print(aluno)\n",
        "\n",
        "# Remove e retorna o valor associado à chave 'cidade’\n",
        "genero = aluno.pop('genero')\n",
        "\n",
        "print(aluno)\n",
        "print(genero)\n",
        "\n",
        "# Remove o último par adicionado\n",
        "ultimo_item = aluno.popitem()    #nesse caso vai remover o CPF\n",
        "\n",
        "print(aluno)\n",
        "print(ultimo_item)\n",
        "\n",
        "# Adiciona uma nova chave\n",
        "aluno[\"cpf\"] = 123456789\n",
        "\n",
        "# Remove um item específico\n",
        "del aluno['cpf']\n",
        "\n",
        "print(aluno)"
      ],
      "metadata": {
        "colab": {
          "base_uri": "https://localhost:8080/"
        },
        "id": "iW0OhlTOfU7M",
        "outputId": "cdcc8d06-926b-43cc-89e1-3c2e6103c79d"
      },
      "execution_count": null,
      "outputs": [
        {
          "output_type": "stream",
          "name": "stdout",
          "text": [
            "A chave \"nome\" está presente no dicionário.\n",
            "{'nome': 'Joao', 'idade': 20, 'email': 'joao@utfpr.edu.br', 'genero': 'M', 'cpf': 123456789}\n",
            "{'nome': 'Joao', 'idade': 20, 'email': 'joao@utfpr.edu.br', 'cpf': 123456789}\n",
            "M\n",
            "{'nome': 'Joao', 'idade': 20, 'email': 'joao@utfpr.edu.br'}\n",
            "('cpf', 123456789)\n",
            "{'nome': 'Joao', 'idade': 20, 'email': 'joao@utfpr.edu.br'}\n"
          ]
        }
      ]
    },
    {
      "cell_type": "markdown",
      "source": [
        "'# Lista:\n",
        "\n",
        "lista_de_nomes = [\"Alice\", \"Bob\", \"Charlie\"]\n",
        "\n",
        "'# Tupla:\n",
        "\n",
        "coordenadas = (3, 5)\n",
        "\n",
        "'# Dicionário:\n",
        "\n",
        "pessoa = {\"nome\": \"Alice\", \"idade\": 30, \"cidade\": \"São Paulo\"}\n",
        "\n"
      ],
      "metadata": {
        "id": "oFBpIOwi3TyU"
      }
    },
    {
      "cell_type": "code",
      "source": [
        "# Lista\n",
        "lista_de_nomes = [\"Alice\", \"Bob\", \"Charlie\"]\n",
        "\n",
        "# Tupla\n",
        "coordenadas = (3, 5)\n",
        "\n",
        "# Dicionário\n",
        "pessoa = {\"nome\": \"Alice\", \"idade\": 30, \"cidade\": \"São Paulo\"}"
      ],
      "metadata": {
        "id": "AbFCHUVJ310Z"
      },
      "execution_count": null,
      "outputs": []
    },
    {
      "cell_type": "markdown",
      "source": [
        "![image.png](data:image/png;base64,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)"
      ],
      "metadata": {
        "id": "yQvZsZnl322Q"
      }
    },
    {
      "cell_type": "markdown",
      "source": [
        "Mostrando como funcionam as funções do dicionário:"
      ],
      "metadata": {
        "id": "wf87NvmX5F19"
      }
    },
    {
      "cell_type": "code",
      "source": [
        "aluno = {'nome':\"Joao\", 'idade':20, 'email':\"joao@email.com.br\"}\n",
        "print(aluno)\n",
        "\n",
        "if 'nome' in aluno:\n",
        "  print(\"Tem a chave\", 'nome', aluno['nome'],\"no dicionário\")\n",
        "else:\n",
        "  print(\"Não tem nome no dicionário\")\n",
        "\n",
        "aluno['genero'] = 'M'\n",
        "aluno['cpf']= 123456789\n",
        "print(aluno)\n",
        "\n",
        "if 'genero' in aluno:\n",
        "  print(\"Tem\", aluno['genero'],\"no dicionário\")\n",
        "else:\n",
        "  print(\"Não tem genero no dicionário\")\n",
        "\n",
        "aluno.pop('genero')\n",
        "\n",
        "print(aluno)\n",
        "\n",
        "aluno.popitem()\n",
        "print(aluno)\n",
        "\n",
        "del aluno['nome']\n",
        "print(aluno)\n",
        "\n"
      ],
      "metadata": {
        "colab": {
          "base_uri": "https://localhost:8080/"
        },
        "id": "VvxXjCJ65FQf",
        "outputId": "d96aef84-3bc6-413c-8ffe-e48eaf2fa542"
      },
      "execution_count": null,
      "outputs": [
        {
          "output_type": "stream",
          "name": "stdout",
          "text": [
            "{'nome': 'Joao', 'idade': 20, 'email': 'joao@email.com.br'}\n",
            "Tem a chave nome Joao no dicionário\n",
            "{'nome': 'Joao', 'idade': 20, 'email': 'joao@email.com.br', 'genero': 'M', 'cpf': 123456789}\n",
            "Tem M no dicionário\n",
            "{'nome': 'Joao', 'idade': 20, 'email': 'joao@email.com.br', 'cpf': 123456789}\n",
            "{'nome': 'Joao', 'idade': 20, 'email': 'joao@email.com.br'}\n",
            "{'idade': 20, 'email': 'joao@email.com.br'}\n"
          ]
        }
      ]
    },
    {
      "cell_type": "markdown",
      "source": [
        "1. Usando o método pop()\n",
        "O método pop() remove um item específico do dicionário e retorna o valor associado à chave removida. Se a chave não for encontrada, você pode fornecer um valor padrão a ser retornado."
      ],
      "metadata": {
        "id": "CaqxidsV93V-"
      }
    },
    {
      "cell_type": "code",
      "source": [
        "meu_dicionario = {'nome': 'João', 'idade': 30, 'cidade': 'São Paulo'}\n",
        "\n",
        "valor_removido = meu_dicionario.pop('idade')\n",
        "print(valor_removido)  # Imprime: 30\n",
        "print(meu_dicionario)  # {'nome': 'João', 'cidade': 'São Paulo'}"
      ],
      "metadata": {
        "colab": {
          "base_uri": "https://localhost:8080/"
        },
        "id": "faRR0tCQ93Eo",
        "outputId": "6f68f581-8942-4640-9b18-20e1d22a9ee3"
      },
      "execution_count": null,
      "outputs": [
        {
          "output_type": "stream",
          "name": "stdout",
          "text": [
            "30\n",
            "{'nome': 'João', 'cidade': 'São Paulo'}\n"
          ]
        }
      ]
    },
    {
      "cell_type": "markdown",
      "source": [
        "2. Usando a palavra-chave del\n",
        "A palavra-chave del remove completamente um item do dicionário. Se a chave não existir, será gerado um erro KeyError."
      ],
      "metadata": {
        "id": "cv7aw48A-CIo"
      }
    },
    {
      "cell_type": "code",
      "source": [
        "meu_dicionario = {'nome': 'João', 'idade': 30, 'cidade': 'São Paulo'}\n",
        "\n",
        "del meu_dicionario['cidade']\n",
        "print(meu_dicionario)  # {'nome': 'João', 'idade': 30}"
      ],
      "metadata": {
        "colab": {
          "base_uri": "https://localhost:8080/"
        },
        "id": "aURJDzvy-Ekz",
        "outputId": "4e63e9cc-e8e4-44d6-8d78-509fc24c6aa4"
      },
      "execution_count": null,
      "outputs": [
        {
          "output_type": "stream",
          "name": "stdout",
          "text": [
            "{'nome': 'João', 'idade': 30}\n"
          ]
        }
      ]
    },
    {
      "cell_type": "markdown",
      "source": [
        "Escolhendo o Método Adequado\n",
        "\n",
        "pop(): É útil quando você precisa tanto remover a chave quanto obter o valor associado a ela. Além disso, permite fornecer um valor padrão caso a chave não exista.\n",
        "\n",
        "del: É mais simples quando você apenas precisa remover a chave e não se importa com o valor."
      ],
      "metadata": {
        "id": "qdhyI5uS-NNe"
      }
    },
    {
      "cell_type": "code",
      "source": [
        "meu_dicionario = {'nome': 'João', 'idade': 30, 'cidade': 'São Paulo', 'profissao': 'Programador'}\n",
        "\n",
        "# Remover a chave 'idade' e armazenar o valor em uma variável\n",
        "idade_removida = meu_dicionario.pop('idade')\n",
        "print(f\"A idade removida era: {idade_removida}\")\n",
        "\n",
        "# Remover a chave 'profissao' sem armazenar o valor\n",
        "del meu_dicionario['profissao']\n",
        "\n",
        "print(meu_dicionario)  # {'nome': 'João', 'cidade': 'São Paulo'}"
      ],
      "metadata": {
        "colab": {
          "base_uri": "https://localhost:8080/"
        },
        "id": "UXJm2wQ8-bGn",
        "outputId": "f8f3cd13-fa13-475b-ff3d-420dd11dcede"
      },
      "execution_count": null,
      "outputs": [
        {
          "output_type": "stream",
          "name": "stdout",
          "text": [
            "A idade removida era: 30\n",
            "{'nome': 'João', 'cidade': 'São Paulo'}\n"
          ]
        }
      ]
    },
    {
      "cell_type": "markdown",
      "source": [
        "**Cuidado com del**: Se você tentar remover uma chave que não existe, será gerado um erro. É recomendado verificar se a chave existe antes de usar del.\n",
        "\n",
        "**Impossibilidade de modificar chaves**: As chaves em um dicionário são imutáveis. Você não pode modificar uma chave existente, apenas removê-la e adicionar uma nova com um valor diferente."
      ],
      "metadata": {
        "id": "f20o2KD8-hYh"
      }
    },
    {
      "cell_type": "markdown",
      "source": [
        "Exercício 10:\n",
        "\n",
        "Implemente um programa em Python para ler da entrada padrão um dia da semana.\n",
        "\n",
        "Depois, o programa deve consultar o dicionário abaixo e imprimir a temperatura desse dia.\n",
        "\n",
        "Caso o usuário informe um dia que não existe no dicionário, imprima a mensagem: \"Erro: informe dia no formato seg, ter, qua, qui, sex, sab, dom\".\n",
        "\n",
        "temperaturas = {\n",
        "    'seg' : 32.5,\n",
        "    'ter' : 25,\n",
        "    'qua' : 26.5,\n",
        "    'qui' : 22,\n",
        "    'sex': 18,\n",
        "    'sab': 15,\n",
        "    'dom': 17\n",
        "}\n",
        "\n",
        "Lembre-se de formatar a saída conforme exemplo abaixo.\n",
        "\n",
        "Saída:\n",
        "\n",
        "seg: 32.5\n",
        "\n",
        "ter: 25\n",
        "\n",
        "Erro: informe dia no formato seg, ter, qua, qui, sex, sab, dom\n",
        "\n",
        "dom: 17"
      ],
      "metadata": {
        "id": "ahdX7Gg40P_s"
      }
    },
    {
      "cell_type": "code",
      "source": [
        "temperaturas = {\n",
        "    'seg' : 32.5,\n",
        "    'ter' : 25,\n",
        "    'qua' : 26.5,\n",
        "    'qui' : 22,\n",
        "    'sex': 18,\n",
        "    'sab': 15,\n",
        "    'dom': 17\n",
        "}\n",
        "\n",
        "# adicione seu código abaixo.\n",
        "\n",
        "dia = input()\n",
        "\n",
        "if dia in temperaturas:\n",
        "  print(f\"{dia}:\",temperaturas[dia])\n",
        "else:\n",
        "  print(\"Erro: informe dia no formato seg, ter, qua, qui, sex, sab, dom\")\n",
        "#"
      ],
      "metadata": {
        "colab": {
          "base_uri": "https://localhost:8080/"
        },
        "id": "sK4pQ-za0gq6",
        "outputId": "dbef96ca-2479-4f3a-d8cb-e3d3285f71cc"
      },
      "execution_count": null,
      "outputs": [
        {
          "output_type": "stream",
          "name": "stdout",
          "text": [
            "dom\n",
            "dom: 17\n"
          ]
        }
      ]
    },
    {
      "cell_type": "markdown",
      "source": [
        "Dicionários sâo estruturas de dados aninhadas.\n",
        "\n",
        "Você pode colocar chave-valor ou o valor pode ser um outro conjunto de chaves-valores.\n",
        "\n",
        "Segue o exemplo:"
      ],
      "metadata": {
        "id": "BuQTWS-rxZBO"
      }
    },
    {
      "cell_type": "code",
      "source": [
        "#Declaração de dicionário aluno_1 e aluno_2\n",
        "\n",
        "aluno_1 = {\"nome\":\"João\", \"idade\":20, \"email\":\"joao@utfpr.edu.br\"}\n",
        "aluno_2 = {\"nome\":\"Teresa\", \"idade\":24, \"email\":\"teresa@utfpr.edu.br\"}\n",
        "\n",
        "# Declaração do dicionário alunos\n",
        "\n",
        "alunos = {}\n",
        "\n",
        "# Dicionário do aluno é adicionado ao dicionário alunos (matrícula como chave)\n",
        "\n",
        "matricula = 1\n",
        "alunos[matricula] = aluno_1\n",
        "\n",
        "matricula = 2\n",
        "alunos[matricula] = aluno_2\n",
        "\n",
        "print(alunos)\n",
        "\n",
        "# Percorrendo o novo dicionário aninhado\n",
        "\n",
        "for matricula, aluno in alunos.items():\n",
        "  print(f\"Matrícula: {matricula}\")\n",
        "  print(f\"Nome: {aluno['nome']}\")\n",
        "  print(f\"Idade: {aluno['idade']}\")\n",
        "  print(f\"Email: {aluno['email']}\")\n",
        "  print()\n"
      ],
      "metadata": {
        "colab": {
          "base_uri": "https://localhost:8080/"
        },
        "id": "2RLbmajzxYWb",
        "outputId": "80c1028e-b976-4c0b-96d9-ad3fcd64555c"
      },
      "execution_count": null,
      "outputs": [
        {
          "output_type": "stream",
          "name": "stdout",
          "text": [
            "{1: {'nome': 'João', 'idade': 20, 'email': 'joao@utfpr.edu.br'}, 2: {'nome': 'Teresa', 'idade': 24, 'email': 'teresa@utfpr.edu.br'}}\n",
            "Matrícula: 1\n",
            "Nome: João\n",
            "Idade: 20\n",
            "Email: joao@utfpr.edu.br\n",
            "\n",
            "Matrícula: 2\n",
            "Nome: Teresa\n",
            "Idade: 24\n",
            "Email: teresa@utfpr.edu.br\n",
            "\n"
          ]
        }
      ]
    },
    {
      "cell_type": "markdown",
      "source": [
        "Modificando valores em dicionários aninhados:"
      ],
      "metadata": {
        "id": "TeFRe2-szpPl"
      }
    },
    {
      "cell_type": "code",
      "source": [
        "alunos[1][\"nome\"] = \"Arnaldo\"\n",
        "\n",
        "print(alunos[1])\n",
        "\n",
        "for matricula, aluno in alunos.items():\n",
        "  print(f\"Matrícula: {matricula}\")\n",
        "  print(f\"Nome: {aluno['nome']}\")\n",
        "  print(f\"Idade: {aluno['idade']}\")\n",
        "  print(f\"Email: {aluno['email']}\")\n",
        "  print()"
      ],
      "metadata": {
        "colab": {
          "base_uri": "https://localhost:8080/"
        },
        "id": "XwGVfI7MzsRA",
        "outputId": "f5368c5f-0f04-4267-c45c-783877effc3b"
      },
      "execution_count": null,
      "outputs": [
        {
          "output_type": "stream",
          "name": "stdout",
          "text": [
            "{'nome': 'Arnaldo', 'idade': 20, 'email': 'joao@utfpr.edu.br'}\n",
            "Matrícula: 1\n",
            "Nome: Arnaldo\n",
            "Idade: 20\n",
            "Email: joao@utfpr.edu.br\n",
            "\n",
            "Matrícula: 2\n",
            "Nome: Teresa\n",
            "Idade: 24\n",
            "Email: teresa@utfpr.edu.br\n",
            "\n"
          ]
        }
      ]
    },
    {
      "cell_type": "markdown",
      "source": [
        "## Dicionários Aninhados: Uma Explicação Detalhada\n",
        "\n",
        "**Dicionários aninhados** são estruturas de dados em Python onde um dicionário contém outros dicionários como valores. Isso permite criar hierarquias de dados complexas e organizadas, tornando-os uma ferramenta poderosa para representar informações que possuem múltiplos níveis de relacionamento.\n",
        "\n",
        "**Imagine um dicionário que representa um livro de receitas.** Cada receita pode ter vários ingredientes, cada ingrediente pode ter uma quantidade e uma unidade de medida. Para representar essa estrutura, você poderia aninhar dicionários da seguinte forma:\n",
        "\n",
        "```python\n",
        "livro_de_receitas = {\n",
        "    \"Bolo de Chocolate\": {\n",
        "        \"ingredientes\": {\n",
        "            \"farinha\": {\"quantidade\": 200, \"unidade\": \"gramas\"},\n",
        "            \"açúcar\": {\"quantidade\": 150, \"unidade\": \"gramas\"},\n",
        "            \"cacau\": {\"quantidade\": 50, \"unidade\": \"gramas\"}\n",
        "        }\n",
        "    },\n",
        "    \"Macarrão à Bolonhesa\": {\n",
        "        # ... outros ingredientes\n",
        "    }\n",
        "}\n",
        "```\n",
        "\n",
        "**Neste exemplo:**\n",
        "\n",
        "* `livro_de_receitas` é o dicionário principal.\n",
        "* Cada receita (e.g., \"Bolo de Chocolate\") é uma chave neste dicionário principal.\n",
        "* O valor associado a cada receita é outro dicionário que contém os ingredientes.\n",
        "* Os ingredientes são as chaves do dicionário interno, e seus valores são dicionários que especificam a quantidade e a unidade de medida.\n",
        "\n",
        "**Por que usar dicionários aninhados?**\n",
        "\n",
        "* **Organização:** Permitem organizar dados complexos de forma hierárquica e intuitiva.\n",
        "* **Flexibilidade:** Podem representar estruturas de dados arbitrariamente complexas.\n",
        "* **Eficiência:** Em muitos casos, são mais eficientes do que listas de listas para representar dados multidimensionais.\n",
        "\n",
        "**Acesso aos dados:**\n",
        "\n",
        "Para acessar um valor específico em um dicionário aninhado, você utiliza múltiplas chaves, separadas por colchetes:\n",
        "\n",
        "```python\n",
        "quantidade_de_farinha = livro_de_receitas[\"Bolo de Chocolate\"][\"ingredientes\"][\"farinha\"][\"quantidade\"]\n",
        "print(quantidade_de_farinha)  # Saída: 200\n",
        "```\n",
        "\n",
        "**Aplicações comuns:**\n",
        "\n",
        "* **Representação de dados JSON:** JSON (JavaScript Object Notation) é um formato de troca de dados popular que se baseia em objetos e arrays, que são equivalentes a dicionários e listas em Python.\n",
        "* **Configurações de programas:** Armazenar configurações complexas, como as configurações de um jogo ou aplicativo.\n",
        "* **Análise de dados:** Organizar dados hierárquicos, como dados de pesquisas ou resultados de experimentos.\n",
        "* **E muito mais!**\n",
        "\n",
        "**Em resumo,** dicionários aninhados são uma ferramenta poderosa e versátil em Python. Ao entender como eles funcionam e quando utilizá-los, você poderá criar programas mais organizados, eficientes e expressivos.\n"
      ],
      "metadata": {
        "id": "63EOUrBP2NoN"
      }
    },
    {
      "cell_type": "code",
      "source": [
        "livro_de_receitas = {\n",
        "    \"Bolo de Chocolate\": {\n",
        "        \"ingredientes\": {\n",
        "            \"farinha\": {\"quantidade\": 200, \"unidade\": \"gramas\"},\n",
        "            \"açúcar\": {\"quantidade\": 150, \"unidade\": \"gramas\"},\n",
        "            \"cacau\": {\"quantidade\": 50, \"unidade\": \"gramas\"}\n",
        "        }\n",
        "    },\n",
        "    \"Macarrão à Bolonhesa\": {\n",
        "        \"ingredientes\": {\n",
        "            \"farinha\": {\"quantidade\": 200, \"unidade\": \"gramas\"},\n",
        "            \"açúcar\": {\"quantidade\": 150, \"unidade\": \"gramas\"},\n",
        "            \"cacau\": {\"quantidade\": 50, \"unidade\": \"gramas\"}\n",
        "        }\n",
        "    }\n",
        "}\n",
        "\n",
        "print(livro_de_receitas)\n",
        "\n",
        "for receita, ingredientes in livro_de_receitas.items():\n",
        "  print(f\"Receita: {receita}\")\n",
        "  print(\"Ingredientes:\")\n",
        "  for ingrediente, detalhes in ingredientes[\"ingredientes\"].items():\n",
        "    print(f\"  {ingrediente}: {detalhes['quantidade']} {detalhes['unidade']}\")\n",
        "  print()"
      ],
      "metadata": {
        "colab": {
          "base_uri": "https://localhost:8080/"
        },
        "id": "9oDnQayd2X8J",
        "outputId": "f03c7bb4-f411-4ced-ee0a-85470fbaf6d3"
      },
      "execution_count": null,
      "outputs": [
        {
          "output_type": "stream",
          "name": "stdout",
          "text": [
            "{'Bolo de Chocolate': {'ingredientes': {'farinha': {'quantidade': 200, 'unidade': 'gramas'}, 'açúcar': {'quantidade': 150, 'unidade': 'gramas'}, 'cacau': {'quantidade': 50, 'unidade': 'gramas'}}}, 'Macarrão à Bolonhesa': {'ingredientes': {'farinha': {'quantidade': 200, 'unidade': 'gramas'}, 'açúcar': {'quantidade': 150, 'unidade': 'gramas'}, 'cacau': {'quantidade': 50, 'unidade': 'gramas'}}}}\n",
            "Receita: Bolo de Chocolate\n",
            "Ingredientes:\n",
            "  farinha: 200 gramas\n",
            "  açúcar: 150 gramas\n",
            "  cacau: 50 gramas\n",
            "\n",
            "Receita: Macarrão à Bolonhesa\n",
            "Ingredientes:\n",
            "  farinha: 200 gramas\n",
            "  açúcar: 150 gramas\n",
            "  cacau: 50 gramas\n",
            "\n"
          ]
        }
      ]
    },
    {
      "cell_type": "markdown",
      "source": [
        "## Um Exemplo Prático de IA com Dicionários Aninhados em Python: Um Chatbot Simples\n",
        "\n",
        "**Entendendo o Problema:**\n",
        "\n",
        "Vamos criar um chatbot simples que possa responder a perguntas básicas sobre um produto fictício, como um smartphone. Para isso, utilizaremos um dicionário aninhado para armazenar as informações sobre o produto e as possíveis perguntas e respostas.\n",
        "\n",
        "**Estrutura do Dicionário:**\n",
        "\n",
        "```python\n",
        "produto = {\n",
        "    \"nome\": \"Smartphone X\",\n",
        "    \"características\": {\n",
        "        \"tela\": \"6.5 polegadas AMOLED\",\n",
        "        \"processador\": \"Snapdragon 8 Gen 2\",\n",
        "        \"câmera\": \"108MP principal\",\n",
        "        \"bateria\": \"5000mAh\"\n",
        "    },\n",
        "    \"perguntas_frequentes\": {\n",
        "        \"qual_e_o_tamanho_da_tela\": \"O tamanho da tela é de 6.5 polegadas.\",\n",
        "        \"qual_e_o_processador\": \"O processador é um Snapdragon 8 Gen 2.\",\n",
        "        # ... outras perguntas e respostas\n",
        "    }\n",
        "}\n",
        "```\n",
        "\n",
        "**O Código do Chatbot:**\n",
        "\n",
        "```python\n",
        "def chatbot(pergunta):\n",
        "    \"\"\"\n",
        "    Função que simula um chatbot respondendo a perguntas sobre um produto.\n",
        "\n",
        "    Args:\n",
        "        pergunta (str): A pergunta do usuário.\n",
        "\n",
        "    Returns:\n",
        "        str: A resposta do chatbot.\n",
        "    \"\"\"\n",
        "\n",
        "    resposta = \"Não entendi sua pergunta.\"\n",
        "    for chave, valor in produto[\"perguntas_frequentes\"].items():\n",
        "        if chave in pergunta.lower():\n",
        "            resposta = valor\n",
        "            break\n",
        "    return resposta\n",
        "\n",
        "# Exemplo de uso:\n",
        "while True:\n",
        "    pergunta = input(\"Você: \")\n",
        "    if pergunta.lower() == \"sair\":\n",
        "        break\n",
        "    resposta = chatbot(pergunta)\n",
        "    print(\"Chatbot:\", resposta)\n",
        "```\n",
        "\n",
        "**Explicação:**\n",
        "\n",
        "1. **Dicionário Aninhado:** O dicionário `produto` armazena informações sobre o produto, incluindo um dicionário `perguntas_frequentes` que mapeia perguntas a suas respectivas respostas.\n",
        "2. **Função `chatbot`:**\n",
        "   * Recebe a pergunta do usuário como entrada.\n",
        "   * Itera sobre as chaves (perguntas) do dicionário `perguntas_frequentes`.\n",
        "   * Se a chave (pergunta) estiver presente na pergunta do usuário (em letras minúsculas para facilitar a comparação), a função retorna a resposta correspondente.\n",
        "3. **Loop Principal:** Permite que o usuário faça várias perguntas até digitar \"sair\".\n",
        "\n",
        "**Como o Chatbot Funciona:**\n",
        "\n",
        "O chatbot compara a pergunta do usuário com as chaves do dicionário `perguntas_frequentes`. Se encontrar uma correspondência, retorna a resposta armazenada no valor associado àquela chave. Essa é uma abordagem simples, mas demonstra como os dicionários aninhados podem ser usados para criar um sistema de perguntas e respostas básico.\n",
        "\n",
        "**Expansões e Melhorias:**\n",
        "\n",
        "* **Reconhecimento de Entidades:** Utilizar técnicas de processamento de linguagem natural para identificar palavras-chave e entender o contexto da pergunta.\n",
        "* **Gerenciamento de Diálogos:** Manter um histórico do diálogo para fornecer respostas mais personalizadas e relevantes.\n",
        "* **Aprendizado de Máquina:** Utilizar algoritmos de aprendizado de máquina para treinar o chatbot a aprender com novas perguntas e respostas.\n",
        "* **Integração com APIs:** Acessar informações externas, como bases de dados ou serviços web, para fornecer respostas mais completas.\n",
        "\n",
        "**Este é apenas um exemplo básico.** Dicionários aninhados podem ser usados para criar sistemas de IA mais complexos, como agentes virtuais, sistemas de recomendação e muito mais. A chave está em como você organiza e estrutura seus dados dentro desses dicionários."
      ],
      "metadata": {
        "id": "OXZxVmwF3-kt"
      }
    },
    {
      "cell_type": "markdown",
      "source": [
        "Exercício 11:\n",
        "\n",
        "Complete o programa em Python abaixo para imprimir a quantidade total de frutas do dicionário.\n",
        "\n",
        "'# Dicionário\n",
        "Entrada:\n",
        "\n",
        "frutas = {\"Maçã\": 10, \"Banana\": 15, \"Laranja\": 12, \"Uva\": 32}\n",
        "\n",
        "Resultado:\n",
        "\n",
        "Total de frutas: 69\n",
        "\n"
      ],
      "metadata": {
        "id": "sG2jbxhG1ol7"
      }
    },
    {
      "cell_type": "code",
      "source": [
        "produto = {\n",
        "    \"nome\": \"Smartphone X\",\n",
        "    \"características\": {\n",
        "        \"tela\": \"6.5 polegadas AMOLED\",\n",
        "        \"processador\": \"Snapdragon 8 Gen 2\",\n",
        "        \"câmera\": \"108MP principal\",\n",
        "        \"bateria\": \"5000mAh\"\n",
        "    },\n",
        "    \"perguntas_frequentes\": {\n",
        "        \"qual_e_o_tamanho_da_tela\": \"O tamanho da tela é de 6.5 polegadas.\",\n",
        "        \"qual_e_o_processador\": \"O processador é um Snapdragon 8 Gen 2.\",\n",
        "        # ... outras perguntas e respostas\n",
        "    }\n",
        "}\n",
        "\n",
        "# **O Código do Chatbot:**\n",
        "\n",
        "    #Função que simula um chatbot respondendo a perguntas sobre um produto.\n",
        "    #Args:\n",
        "    #    pergunta (str): A pergunta do usuário.\n",
        "    #Returns:\n",
        "    #    str: A resposta do chatbot.\n",
        "\n",
        "def chatbot(pergunta):\n",
        "    resposta = \"Não entendi sua pergunta.\"\n",
        "    for chave, valor in produto[\"perguntas_frequentes\"].items():\n",
        "        if chave in pergunta.lower():\n",
        "            resposta = valor\n",
        "            break\n",
        "    return resposta\n",
        "\n",
        "# Exemplo de uso:\n",
        "while True:\n",
        "    pergunta = input(\"Você: \")\n",
        "    if pergunta.lower() == \"sair\":\n",
        "        break\n",
        "    resposta = chatbot(pergunta)\n",
        "    print(\"Chatbot:\", resposta)"
      ],
      "metadata": {
        "colab": {
          "base_uri": "https://localhost:8080/"
        },
        "id": "4haH_FVp4GpT",
        "outputId": "7bf0ab21-bcb8-465d-95d5-225a32b33396"
      },
      "execution_count": null,
      "outputs": [
        {
          "name": "stdout",
          "output_type": "stream",
          "text": [
            "Você: qual_e_o_tamanho_da_tela\n",
            "Chatbot: O tamanho da tela é de 6.5 polegadas.\n",
            "Você: qual_e_o_processador\n",
            "Chatbot: O processador é um Snapdragon 8 Gen 2.\n",
            "Você: tela\n",
            "Chatbot: Não entendi sua pergunta.\n",
            "Você: sair\n"
          ]
        }
      ]
    },
    {
      "cell_type": "code",
      "source": [
        "# Dicionário\n",
        "frutas = {\"Maçã\": 10, \"Banana\": 15, \"Laranja\": 12, \"Uva\": 32}\n",
        "\n",
        "total_frutas = 0\n",
        "\n",
        "# Adicione aqui seu código para calcular o total de frutas\n",
        "for quantidade in frutas.values():\n",
        "  total_frutas += quantidade\n",
        "\n",
        "# Imprimir o total\n",
        "print(\"Total de frutas:\", total_frutas)\n"
      ],
      "metadata": {
        "colab": {
          "base_uri": "https://localhost:8080/"
        },
        "id": "7F7eXGkb11w4",
        "outputId": "6a100495-b02d-49d7-dd84-02f8f5ba3451"
      },
      "execution_count": null,
      "outputs": [
        {
          "output_type": "stream",
          "name": "stdout",
          "text": [
            "Total de frutas: 69\n"
          ]
        }
      ]
    },
    {
      "cell_type": "markdown",
      "source": [
        "Exercício 12:\n",
        "\n",
        "Complete o programa em Python abaixo para imprimir a frase:\n",
        "\n",
        "\"A capital do paísX é cidadeY.\"\n",
        "\n",
        "para cada par de país e capital do dicionário capitais.\n",
        "\n",
        "Entrada:\n",
        "\n",
        "'# Dicionário\n",
        "\n",
        "capitais = {\"Brasil\": \"Brasília\", \"França\": \"Paris\", \"Japão\": \"Tóquio\"}\n",
        "\n",
        "Saída:\n",
        "\n",
        "A capital do Brasil é Brasília.\n",
        "\n",
        "A capital do França é Paris.\n",
        "\n",
        "A capital do Japão é Tóquio.\n",
        "\n",
        "\n",
        "'# Dicionário\n",
        "\n",
        "capitais = {\"Brasil\": \"Brasília\", \"França\": \"Paris\", \"Japão\": \"Tóquio\"}\n",
        "\n",
        "'# Adicione aqui seu código para iterar sobre o dicionário"
      ],
      "metadata": {
        "id": "K0-CbACB2FtR"
      }
    },
    {
      "cell_type": "code",
      "source": [
        "# Dicionário\n",
        "capitais = {\"Brasil\": \"Brasília\", \"França\": \"Paris\", \"Japão\": \"Tóquio\"}\n",
        "\n",
        "# Adicione aqui seu código para iterar sobre o dicionário\n",
        "\n",
        "for pais, capital in capitais.items():\n",
        "  print(f\"A capital do {pais} é {capital}.\")\n",
        "#\n"
      ],
      "metadata": {
        "colab": {
          "base_uri": "https://localhost:8080/"
        },
        "id": "XESD_DTd2VaB",
        "outputId": "8a7980e0-a5ef-4f78-c978-3f9d7111a8ca"
      },
      "execution_count": null,
      "outputs": [
        {
          "output_type": "stream",
          "name": "stdout",
          "text": [
            "A capital do Brasil é Brasília.\n",
            "A capital do França é Paris.\n",
            "A capital do Japão é Tóquio.\n"
          ]
        }
      ]
    },
    {
      "cell_type": "markdown",
      "source": [
        "Os conjuntos são uma estrutura de dados que permitem armazenar elementos únicos (sem repetição)\n",
        "\n",
        "São úteis quando a ordem não importa, mas a exclusiviade é fundamental."
      ],
      "metadata": {
        "id": "CQZByZk-1W2T"
      }
    },
    {
      "cell_type": "code",
      "source": [
        "# Declaração de conjunto\n",
        "\n",
        "frutas = {\"maçã\", \"banana\", \"laranja\", \"uva\"}\n",
        "\n",
        "print(frutas)\n",
        "\n"
      ],
      "metadata": {
        "colab": {
          "base_uri": "https://localhost:8080/"
        },
        "id": "MFmUMnFE1m1X",
        "outputId": "cd84c302-b44f-4e84-8c5e-7b3b7a02e446"
      },
      "execution_count": null,
      "outputs": [
        {
          "output_type": "stream",
          "name": "stdout",
          "text": [
            "{'uva', 'maçã', 'laranja', 'banana'}\n"
          ]
        }
      ]
    },
    {
      "cell_type": "markdown",
      "source": [
        "## Conjuntos vs. Listas em Python: Qual a diferença?\n",
        "\n",
        "Em Python, tanto conjuntos (sets) quanto listas são estruturas de dados utilizadas para armazenar coleções de elementos. No entanto, possuem características e aplicações distintas.\n",
        "\n",
        "### Listas\n",
        "* **Ordenadas:** Os elementos em uma lista mantêm a ordem em que foram adicionados.\n",
        "* **Mutáveis:** Você pode adicionar, remover ou modificar elementos de uma lista após sua criação.\n",
        "* **Permitem duplicados:** Uma lista pode conter elementos duplicados.\n",
        "* **Índices:** Cada elemento em uma lista tem um índice numérico, começando em 0, que pode ser usado para acessar elementos individualmente.\n",
        "\n",
        "**Exemplo:**\n",
        "\n",
        "```python\n",
        "minha_lista = [1, 2, 3, 2, \"olá\"]  # Lista com números e uma string\n",
        "print(minha_lista[0])  # Imprime 1\n",
        "```\n",
        "\n",
        "### Conjuntos\n",
        "* **Não ordenados:** A ordem dos elementos em um conjunto não é garantida.\n",
        "* **Mutáveis:** Você pode adicionar ou remover elementos de um conjunto, mas não pode modificar elementos existentes.\n",
        "* **Não permitem duplicados:** Um conjunto só pode conter elementos únicos.\n",
        "* **Não possuem índices:** Como os conjuntos não são ordenados, não é possível acessar elementos por um índice numérico.\n",
        "\n",
        "**Exemplo:**\n",
        "\n",
        "```python\n",
        "meu_conjunto = {1, 2, 3, 2, \"olá\"}  # Note que o 2 só aparece uma vez\n",
        "print(meu_conjunto)  # Imprime {1, 2, 3, 'olá'}\n",
        "```\n",
        "\n",
        "### Quando usar listas e conjuntos?\n",
        "\n",
        "* **Listas:**\n",
        "  * Quando a ordem dos elementos é importante.\n",
        "  * Quando você precisa acessar elementos por índice.\n",
        "  * Quando você precisa de uma estrutura que permita duplicados.\n",
        "* **Conjuntos:**\n",
        "  * Quando a ordem dos elementos não importa.\n",
        "  * Quando você precisa garantir que todos os elementos sejam únicos.\n",
        "  * Para realizar operações matemáticas como união, interseção e diferença entre conjuntos.\n",
        "\n",
        "### Operações comuns\n",
        "\n",
        "| Operação | Lista | Conjunto |\n",
        "|---|---|---|\n",
        "| Adicionar elemento | `lista.append(item)` | `conjunto.add(item)` |\n",
        "| Remover elemento | `lista.remove(item)` | `conjunto.remove(item)` |\n",
        "| Verificar se um elemento está presente | `item in lista` | `item in conjunto` |\n",
        "| União de dois conjuntos | Não aplicável | `conjunto1.union(conjunto2)` |\n",
        "| Interseção de dois conjuntos | Não aplicável | `conjunto1.intersection(conjunto2)` |\n",
        "| Diferença entre dois conjuntos | Não aplicável | `conjunto1.difference(conjunto2)` |\n",
        "\n",
        "**Em resumo:**\n",
        "\n",
        "* **Listas** são como caixas organizadas com rótulos numerados, onde você pode colocar qualquer coisa e repetir itens.\n",
        "* **Conjuntos** são como sacos de compras onde você só coloca itens únicos.\n",
        "\n",
        "**Qual escolher?** A escolha entre lista e conjunto depende da sua necessidade específica e das operações que você precisa realizar.\n",
        "\n",
        "**Exemplo prático:**\n",
        "\n",
        "Imagine que você quer armazenar os números que foram sorteados em uma loteria. Um conjunto seria ideal, pois você só se importa com os números únicos sorteados e a ordem não é relevante.\n",
        "\n",
        "```python\n",
        "numeros_sorteados = {10, 25, 3, 42}\n",
        "```"
      ],
      "metadata": {
        "id": "-MqUogbn5ved"
      }
    },
    {
      "cell_type": "markdown",
      "source": [
        "UNIAO\n",
        "\n",
        "INTERSEÇÃO\n",
        "\n",
        "E\n",
        "\n",
        "DIFERENÇA"
      ],
      "metadata": {
        "id": "yAca0_SQ69br"
      }
    },
    {
      "cell_type": "code",
      "source": [
        "# Declaração de conjunto\n",
        "\n",
        "conjunto_1 = {1, 2, 3, 4, 5}\n",
        "conjunto_2 = {4, 5, 6, 7, 8}\n",
        "\n",
        "# União de conjuntos\n",
        "\n",
        "uniao = conjunto_1.union(conjunto_2)\n",
        "print(\"Uniao:\", uniao)\n",
        "\n",
        "\n",
        "# Interseção de conjuntos\n",
        "\n",
        "intersecao = conjunto_1.intersection(conjunto_2)\n",
        "print(\"Intersecao:\", intersecao)\n",
        "\n",
        "# Diferença entre conjuntos\n",
        "\n",
        "diferenca = conjunto_1.difference(conjunto_2)\n",
        "print(\"Diferenca:\", diferenca)\n",
        "\n"
      ],
      "metadata": {
        "colab": {
          "base_uri": "https://localhost:8080/"
        },
        "id": "2StTVpo25yJ9",
        "outputId": "7998f440-92ba-49b8-a432-38607efe7d63"
      },
      "execution_count": null,
      "outputs": [
        {
          "output_type": "stream",
          "name": "stdout",
          "text": [
            "Uniao: {1, 2, 3, 4, 5, 6, 7, 8}\n",
            "Intersecao: {4, 5}\n",
            "Diferenca: {1, 2, 3}\n"
          ]
        }
      ]
    },
    {
      "cell_type": "markdown",
      "source": [
        "Quais são as aplicações práticas de conjuntos??\n",
        "\n",
        "1. Remoção de duplicatas em uma lista de itens;\n",
        "2. Verificação de elementos em comum entre duas listas;\n",
        "3. Filtro de dados para obter apenas elementos únicos;\n"
      ],
      "metadata": {
        "id": "cscuoTmJ7RzW"
      }
    },
    {
      "cell_type": "code",
      "source": [
        "lista = [1, 2, 5, 6, 7, 3, 2, 6, 7, 3, 9, 29, 3941, 23, 29]\n",
        "\n",
        "print(lista, len(lista))\n",
        "\n",
        "print(\"removendo os numeros duplicados:\")\n",
        "\n",
        "# Cria conjunto com base na lista\n",
        "\n",
        "\n",
        "\n",
        "conjunto = set(lista)\n",
        "\n",
        "print(conjunto)\n",
        "\n",
        "# Adiciona um elemento\n",
        "conjunto.add(919)\n",
        "print(conjunto)\n",
        "\n",
        "conjunto.add(9)\n",
        "print(conjunto)\n",
        "\n",
        "# Remove um elemento\n",
        "conjunto.remove(919)\n",
        "print(conjunto)\n",
        "\n",
        "# Cria lista com base no conjunto\n",
        "\n",
        "lista_sem_duplicatas = list(conjunto)\n",
        "\n",
        "print(lista_sem_duplicatas, len(lista_sem_duplicatas))\n",
        "#"
      ],
      "metadata": {
        "colab": {
          "base_uri": "https://localhost:8080/"
        },
        "id": "4Jcx6mHj7jyE",
        "outputId": "abf94ca9-1b40-4a80-8e94-f8607a08b673"
      },
      "execution_count": null,
      "outputs": [
        {
          "output_type": "stream",
          "name": "stdout",
          "text": [
            "[1, 2, 5, 6, 7, 3, 2, 6, 7, 3, 9, 29, 3941, 23, 29] 15\n",
            "removendo os numeros duplicados:\n",
            "{1, 2, 3, 5, 6, 7, 3941, 9, 23, 29}\n",
            "{1, 2, 3, 5, 6, 7, 3941, 9, 919, 23, 29}\n",
            "{1, 2, 3, 5, 6, 7, 3941, 9, 919, 23, 29}\n",
            "{1, 2, 3, 5, 6, 7, 3941, 9, 23, 29}\n",
            "[1, 2, 3, 5, 6, 7, 3941, 9, 23, 29] 10\n"
          ]
        }
      ]
    },
    {
      "cell_type": "markdown",
      "source": [
        "conjuntos - nao aceita duplicados\n",
        "\n",
        "listas - aceita duplicados\n",
        "\n",
        "tuplas - aceita duplicados\n",
        "\n",
        "dicionario - nao aceita chaves duplicadas"
      ],
      "metadata": {
        "id": "AtoQapeI-hLs"
      }
    },
    {
      "cell_type": "markdown",
      "source": [
        "## Um Exemplo Avançado de IA em Python Usando Conjuntos: Recomendação de Filmes\n",
        "\n",
        "**O Problema:**\n",
        "Criar um sistema de recomendação de filmes personalizado, onde as sugestões são baseadas no histórico de filmes assistidos pelo usuário.\n",
        "\n",
        "**Solução:**\n",
        "Utilizaremos conjuntos para representar os gêneros de filmes que o usuário gosta e os gêneros dos filmes em nossa base de dados. A interseção entre esses conjuntos nos dará uma boa indicação de quais filmes o usuário provavelmente gostará.\n",
        "\n",
        "**Código:**\n",
        "\n",
        "```python\n",
        "import random\n",
        "\n",
        "# Base de dados simples de filmes (simulando uma base de dados maior)\n",
        "filmes = {\n",
        "    \"Filme A\": {\"gêneros\": {\"ação\", \"aventura\", \"ficção_cientifica\"}},\n",
        "    \"Filme B\": {\"gêneros\": {\"comédia\", \"romance\"}},\n",
        "    \"Filme C\": {\"gêneros\": {\"drama\", \"histórico\"}},\n",
        "    \"Filme D\": {\"gêneros\": {\"ação\", \"aventura\", \"fantasia\"}},\n",
        "    # ... outros filmes\n",
        "}\n",
        "\n",
        "# Gêneros preferidos do usuário (obtidos de um sistema de recomendação mais complexo)\n",
        "generos_usuario = {\"ação\", \"aventura\"}\n",
        "\n",
        "def recomendar_filmes(generos_usuario, filmes):\n",
        "    \"\"\"Recomenda filmes com base nos gêneros preferidos do usuário.\n",
        "\n",
        "    Args:\n",
        "        generos_usuario (set): Conjunto dos gêneros preferidos do usuário.\n",
        "        filmes (dict): Dicionário com informações sobre os filmes.\n",
        "\n",
        "    Returns:\n",
        "        list: Lista de filmes recomendados.\n",
        "    \"\"\"\n",
        "\n",
        "    recomendacoes = []\n",
        "    for filme, dados in filmes.items():\n",
        "        if generos_usuario.intersection(dados[\"gêneros\"]):\n",
        "            recomendacoes.append(filme)\n",
        "    return recomendacoes\n",
        "\n",
        "# Obter as recomendações\n",
        "recomendados = recomendar_filmes(generos_usuario, filmes)\n",
        "print(\"Filmes recomendados:\", recomendados)\n",
        "```\n",
        "\n",
        "**Explicação:**\n",
        "\n",
        "1. **Base de dados de filmes:** Cada filme é representado por um dicionário, com um conjunto de gêneros associados.\n",
        "2. **Gêneros do usuário:** Um conjunto armazena os gêneros que o usuário gosta.\n",
        "3. **Função `recomendar_filmes`:**\n",
        "    * Itera sobre todos os filmes na base de dados.\n",
        "    * Calcula a interseção entre os gêneros do usuário e os gêneros do filme.\n",
        "    * Se a interseção não for vazia, o filme é adicionado à lista de recomendações.\n",
        "4. **Recomendações:** A função retorna uma lista com os filmes recomendados.\n",
        "\n",
        "**Por que usar conjuntos?**\n",
        "\n",
        "* **Eficiência:** As operações em conjuntos são muito eficientes, especialmente para verificar se um elemento está presente ou encontrar a interseção entre dois conjuntos.\n",
        "* **Clareza:** A representação de gêneros como conjuntos torna o código mais conciso e fácil de entender.\n",
        "* **Flexibilidade:** Podemos facilmente adicionar novos gêneros, filmes ou usuários ao sistema.\n",
        "\n",
        "**Melhorias e Extensões:**\n",
        "\n",
        "* **Ponderação de gêneros:** Atribuir pesos diferentes aos gêneros para refletir as preferências do usuário.\n",
        "* **Filtragem colaborativa:** Recomendar filmes com base nas preferências de outros usuários com gostos semelhantes.\n",
        "* **Aprendizado de máquina:** Utilizar algoritmos de aprendizado de máquina para construir modelos mais sofisticados de recomendação.\n",
        "\n",
        "**Este é um exemplo simplificado.** Em um sistema de recomendação real, você teria uma base de dados muito maior de filmes, utilizaria algoritmos mais complexos para calcular as similaridades entre usuários e filmes, e consideraria outros fatores como a nota que o usuário deu para filmes anteriores.\n",
        "\n",
        "**Conjuntos são uma ferramenta poderosa em Python para lidar com dados não ordenados e sem duplicações.** Ao entender como utilizá-los, você pode construir sistemas de recomendação mais eficientes e precisos.\n"
      ],
      "metadata": {
        "id": "_o3WXm4F8bLy"
      }
    },
    {
      "cell_type": "code",
      "source": [
        "import random\n",
        "\n",
        "# Base de dados simples de filmes (simulando uma base de dados maior)\n",
        "filmes = {\n",
        "    \"Filme A\": {\"gêneros\": {\"ação\", \"aventura\", \"ficção_cientifica\"}},\n",
        "    \"Filme B\": {\"gêneros\": {\"comédia\", \"romance\"}},\n",
        "    \"Filme C\": {\"gêneros\": {\"drama\", \"histórico\"}},\n",
        "    \"Filme D\": {\"gêneros\": {\"ação\", \"aventura\", \"fantasia\"}},\n",
        "    \"Filme E\": {\"gêneros\": {\"ação\", \"aventura\", \"fantasia\"}},\n",
        "    \"Filme F\": {\"gêneros\": {\"ação\", \"aventura\", \"fantasia\"}},\n",
        "    \"Filme G\": {\"gêneros\": {\"ação\", \"aventura\", \"fantasia\"}},\n",
        "    # ... outros filmes\n",
        "}\n",
        "\n",
        "# Gêneros preferidos do usuário (obtidos de um sistema de recomendação mais complexo)\n",
        "generos_usuario = {\"ação\", \"aventura\"}\n",
        "\n",
        "def recomendar_filmes(generos_usuario, filmes):\n",
        "    #\"\"\"Recomenda filmes com base nos gêneros preferidos do usuário.\n",
        "    #Args:\n",
        "    #    generos_usuario (set): Conjunto dos gêneros preferidos do usuário.\n",
        "    #    filmes (dict): Dicionário com informações sobre os filmes.\n",
        "    #\n",
        "    #Returns:\n",
        "    #    list: Lista de filmes recomendados.\n",
        "    #\"\"\"\n",
        "\n",
        "    recomendacoes = []\n",
        "    for filme, dados in filmes.items():\n",
        "        if generos_usuario.intersection(dados[\"gêneros\"]):\n",
        "            recomendacoes.append(filme)\n",
        "    return recomendacoes\n",
        "\n",
        "# Obter as recomendações\n",
        "recomendados = recomendar_filmes(generos_usuario, filmes)\n",
        "print(\"Filmes recomendados:\", recomendados)"
      ],
      "metadata": {
        "colab": {
          "base_uri": "https://localhost:8080/"
        },
        "id": "D2OYjrZV8i0z",
        "outputId": "9c5517f2-58a3-480c-9d6b-91ba5ca3dfaf"
      },
      "execution_count": null,
      "outputs": [
        {
          "output_type": "stream",
          "name": "stdout",
          "text": [
            "Filmes recomendados: ['Filme A', 'Filme D', 'Filme E', 'Filme F', 'Filme G']\n"
          ]
        }
      ]
    },
    {
      "cell_type": "markdown",
      "source": [
        "Vetores e Matrizes\n",
        "\n",
        "\n",
        "No Python não há conceito de vetores e matrizes de forma nativa na linguagem.\n",
        "\n",
        "As listas são usadas para suprirem essas necessidades (ou outras bibliotecas podem ser usadas)\n",
        "\n"
      ],
      "metadata": {
        "id": "DuAvf9RZ-6Fi"
      }
    },
    {
      "cell_type": "code",
      "source": [
        "# Vetor com 9 elementos:\n",
        "\n",
        "vetor = [1, 2, 3, 4, 5, 6, 7, 8, 9]\n",
        "print(vetor)\n",
        "\n",
        "# Matriz 3 x 3, ou seja, 9 elementos:\n",
        "\n",
        "matriz = [[1, 2, 3], [4, 5, 6], [7, 8, 9]]\n",
        "print(matriz)\n",
        "\n",
        "print(matriz[0][2]) # numero 3\n",
        "\n",
        "# Fazendo um 'for' aninhado para poder percorrer a Matriz 3 x 3\n",
        "\n",
        "for linha in matriz:\n",
        "  for elemento in linha:\n",
        "    print(elemento, end=' ')\n",
        "  print()\n",
        "\n",
        "\n",
        "# Encontrando o maior elemento dentro da matriz:\n",
        "\n",
        "maior_elemento = matriz[0][0]\n",
        "\n",
        "for linha in matriz:\n",
        "  for elemento in linha:\n",
        "    if elemento > maior_elemento:\n",
        "      maior_elemento = elemento\n",
        "\n",
        "print(\"O maior elemento da matriz é:\", maior_elemento)\n",
        "\n",
        "\n",
        "# Multiplicando a matriz por 5:\n",
        "\n",
        "for i in range(len(matriz)):\n",
        "  for j in range(len(matriz[0])):\n",
        "    matriz[i][j] *= 5\n",
        "\n",
        "print(\"Matriz multiplicada por 5:\")\n",
        "for linha in matriz:\n",
        "  print(linha)\n",
        "#"
      ],
      "metadata": {
        "id": "J1sN7dY7-78S",
        "colab": {
          "base_uri": "https://localhost:8080/"
        },
        "outputId": "20e5ff63-b04d-49f3-bc64-615c19519aac"
      },
      "execution_count": null,
      "outputs": [
        {
          "output_type": "stream",
          "name": "stdout",
          "text": [
            "[1, 2, 3, 4, 5, 6, 7, 8, 9]\n",
            "[[1, 2, 3], [4, 5, 6], [7, 8, 9]]\n",
            "3\n",
            "1 2 3 \n",
            "4 5 6 \n",
            "7 8 9 \n",
            "O maior elemento da matriz é: 9\n",
            "Matriz multiplicada por 5:\n",
            "[5, 10, 15]\n",
            "[20, 25, 30]\n",
            "[35, 40, 45]\n"
          ]
        }
      ]
    },
    {
      "cell_type": "markdown",
      "source": [
        "Exercício 01 da semana 03:\n",
        "\n",
        "Complete o programa em Python abaixo para imprimir a mátricula, nome e média do aluno, com base nos dados do dicionário de 'alunos'.\n",
        "\n",
        "Use apenas uma casa decimal para apresentar a média do aluno.\n",
        "\n",
        "Observe o exemplo de saída."
      ],
      "metadata": {
        "id": "A3HsmcFB1ub9"
      }
    },
    {
      "cell_type": "code",
      "source": [
        "# Declaração de dicionário: um dicionário representando um aluno\n",
        "aluno1 = {\"nome\" : \"Ivo\", \"disciplina\" : \"Python\", \"notas\": [5.5, 4.2]}\n",
        "aluno2 = {\"nome\" : \"Ana\", \"disciplina\" : \"Python\", \"notas\": [8.5, 9.2]}\n",
        "aluno3 = {\"nome\" : \"Rui\", \"disciplina\" : \"Python\", \"notas\": [9.5, 6.0]}\n",
        "aluno4 = {\"nome\" : \"Lia\", \"disciplina\" : \"Python\", \"notas\": [4.5, 3.0, 7.5]}\n",
        "\n",
        "# Declaração de dicionário: alunos de uma turma.\n",
        "# A chave representa a matrícula do aluno, por exemplo 'a123' é a matrícula do Ivo\n",
        "alunos = {}\n",
        "alunos[\"a123\"] = aluno1\n",
        "alunos[\"a445\"] = aluno2\n",
        "alunos[\"a666\"] = aluno3\n",
        "alunos[\"a801\"] = aluno4\n",
        "\n",
        "# Adicione seu código abaixo (imprimir a mátricula, nome e média do aluno):\n",
        "\n",
        "print(\"Média de todos os alunos:\")\n",
        "for chave, valor in alunos.items():\n",
        "    print(f\"Matrícula: {chave}\", end=', ')\n",
        "    print(f\"Nome: {valor['nome']}\", end=', ')\n",
        "    media = sum(valor['notas']) / len(valor['notas'])\n",
        "    print(f\"Média: {media:.1f}\")\n",
        ""
      ],
      "metadata": {
        "colab": {
          "base_uri": "https://localhost:8080/"
        },
        "id": "wm2r9XUG13kN",
        "outputId": "a4f668f5-3c09-4ae3-c811-36f5b25d3426"
      },
      "execution_count": 20,
      "outputs": [
        {
          "output_type": "stream",
          "name": "stdout",
          "text": [
            "Média de todos os alunos:\n",
            "Matrícula: a123, Nome: Ivo, Média: 4.8\n",
            "Matrícula: a445, Nome: Ana, Média: 8.8\n",
            "Matrícula: a666, Nome: Rui, Média: 7.8\n",
            "Matrícula: a801, Nome: Lia, Média: 5.0\n"
          ]
        }
      ]
    },
    {
      "cell_type": "markdown",
      "source": [
        "Exercício 02 da semana 03:\n",
        "\n",
        "Complete o programa em Python abaixo para imprimir a mátricula, nome e média do aluno solicitado, com base nos dados do dicionário de 'alunos'.\n",
        "\n",
        "Leia da entrada padrão a matrícula do aluno.\n",
        "\n",
        "Percorra o dicionário e imprima apenas as informações do aluno solicitado.\n",
        "\n",
        "Use apenas uma casa decimal para apresentar a média do aluno.\n",
        "\n",
        "Observe o exemplo de saída."
      ],
      "metadata": {
        "id": "qcjY5awRfeyM"
      }
    },
    {
      "cell_type": "code",
      "source": [
        "# Declaração de dicionário: um dicionário representando um aluno\n",
        "aluno1 = {\"nome\" : \"Ivo\", \"disciplina\" : \"Python\", \"notas\": [5.5, 4.2]}\n",
        "aluno2 = {\"nome\" : \"Ana\", \"disciplina\" : \"Python\", \"notas\": [8.5, 9.2]}\n",
        "aluno3 = {\"nome\" : \"Rui\", \"disciplina\" : \"Python\", \"notas\": [9.5, 6.0]}\n",
        "aluno4 = {\"nome\" : \"Lia\", \"disciplina\" : \"Python\", \"notas\": [4.5, 3.0, 7.5]}\n",
        "\n",
        "# Declaração de dicionário: alunos de uma turma.\n",
        "# A chave representa a matrícula do aluno, por exemplo 'a123' é a matrícula do Ivo\n",
        "alunos = {}\n",
        "alunos[\"a123\"] = aluno1\n",
        "alunos[\"a445\"] = aluno2\n",
        "alunos[\"a666\"] = aluno3\n",
        "alunos[\"a801\"] = aluno4\n",
        "\n",
        "# Adicione seu código abaixo (imprimir a mátricula, nome e média do aluno):\n",
        "\n",
        "solicitado = input()\n",
        "print(f\"Média apenas do aluno {solicitado}:\")\n",
        "\n",
        "if solicitado in alunos:\n",
        "    print(f\"Matrícula: {solicitado}\", end=', ')\n",
        "    print(f\"Nome: {alunos[solicitado]['nome']}\", end=', ')\n",
        "    media = sum(alunos[solicitado]['notas']) / len(alunos[solicitado]['notas'])\n",
        "    print(f\"Média: {media:.1f}\")\n",
        "else:\n",
        "    pass"
      ],
      "metadata": {
        "colab": {
          "base_uri": "https://localhost:8080/"
        },
        "id": "LPaYWaldfd8X",
        "outputId": "aaf6def8-d6c1-49cc-9e2e-e518915b54f0"
      },
      "execution_count": 25,
      "outputs": [
        {
          "output_type": "stream",
          "name": "stdout",
          "text": [
            "a2412\n",
            "Média apenas do aluno a2412:\n"
          ]
        }
      ]
    },
    {
      "cell_type": "markdown",
      "source": [
        "Exercício 03 da semana 03:\n",
        "\n",
        "Complete o programa em Python abaixo para imprimir a mátricula, nome e média apenas dos alunos aprovados (Média >=7), com base nos dados do dicionário de 'alunos'.\n",
        "\n",
        "Use apenas uma casa decimal para apresentar a média do aluno.\n",
        "\n",
        "Observe o exemplo de saída.\n",
        "\n",
        "For example:"
      ],
      "metadata": {
        "id": "TojDqxB1gm8m"
      }
    },
    {
      "cell_type": "code",
      "source": [
        "# Declaração de dicionário: um dicionário representando um aluno\n",
        "aluno1 = {\"nome\" : \"Ivo\", \"disciplina\" : \"Python\", \"notas\": [5.5, 4.2]}\n",
        "aluno2 = {\"nome\" : \"Ana\", \"disciplina\" : \"Python\", \"notas\": [8.5, 9.2]}\n",
        "aluno3 = {\"nome\" : \"Rui\", \"disciplina\" : \"Python\", \"notas\": [9.5, 6.0]}\n",
        "aluno4 = {\"nome\" : \"Lia\", \"disciplina\" : \"Python\", \"notas\": [4.5, 3.0, 7.5]}\n",
        "\n",
        "# Declaração de dicionário: alunos de uma turma.\n",
        "# A chave representa a matrícula do aluno, por exemplo 'a123' é a matrícula do Ivo\n",
        "alunos = {}\n",
        "alunos[\"a123\"] = aluno1\n",
        "alunos[\"a445\"] = aluno2\n",
        "alunos[\"a666\"] = aluno3\n",
        "alunos[\"a801\"] = aluno4\n",
        "\n",
        "# Adicione seu código abaixo (imprimir a mátricula, nome e média do aluno):\n",
        "\n",
        "print(\"Média dos alunos aprovados (média >=7):\")\n",
        "for chave, valor in alunos.items():\n",
        "    media = sum(valor['notas']) / len(valor['notas'])\n",
        "    if media >= 7:\n",
        "      print(f\"Matrícula: {chave}\", end=', ')\n",
        "      print(f\"Nome: {valor['nome']}\", end=', ')\n",
        "      print(f\"Média: {media:.1f}\")\n",
        "    else:\n",
        "      pass\n",
        ""
      ],
      "metadata": {
        "colab": {
          "base_uri": "https://localhost:8080/"
        },
        "id": "TFHtgpGKgyxk",
        "outputId": "b01d7c8f-b3b0-4c3e-c271-1d53bf446b86"
      },
      "execution_count": 26,
      "outputs": [
        {
          "output_type": "stream",
          "name": "stdout",
          "text": [
            "Média dos alunos aprovados (média >=7):\n",
            "Matrícula: a445, Nome: Ana, Média: 8.8\n",
            "Matrícula: a666, Nome: Rui, Média: 7.8\n"
          ]
        }
      ]
    }
  ]
}