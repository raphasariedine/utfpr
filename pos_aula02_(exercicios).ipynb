{
  "nbformat": 4,
  "nbformat_minor": 0,
  "metadata": {
    "colab": {
      "provenance": [],
      "authorship_tag": "ABX9TyMOOdNFRWZp0MVj/PSPed/E",
      "include_colab_link": true
    },
    "kernelspec": {
      "name": "python3",
      "display_name": "Python 3"
    },
    "language_info": {
      "name": "python"
    }
  },
  "cells": [
    {
      "cell_type": "markdown",
      "metadata": {
        "id": "view-in-github",
        "colab_type": "text"
      },
      "source": [
        "<a href=\"https://colab.research.google.com/github/raphasariedine/utfpr/blob/main/pos_aula02_(exercicios).ipynb\" target=\"_parent\"><img src=\"https://colab.research.google.com/assets/colab-badge.svg\" alt=\"Open In Colab\"/></a>"
      ]
    },
    {
      "cell_type": "markdown",
      "source": [
        "Exercício 01:\n",
        "\n",
        "Complete o programa Python abaixo para que os itens da lista \"frutas\" sejam impressos no console, um item por linha.\n",
        "frutas = [\"Uva\", \"Banana\", \"Laranja\", \"Maçã\", \"Limão\"]\n",
        "'\n",
        "'# Dica, use o laço \"for\" para imprimir os itens no console\n",
        "...."
      ],
      "metadata": {
        "id": "g1cojiJLnRd0"
      }
    },
    {
      "cell_type": "code",
      "execution_count": 1,
      "metadata": {
        "colab": {
          "base_uri": "https://localhost:8080/"
        },
        "id": "vPz7o5dunNG-",
        "outputId": "c4cbde57-b9c6-4367-f5c6-4d8fbb9653d2"
      },
      "outputs": [
        {
          "output_type": "stream",
          "name": "stdout",
          "text": [
            "Uva\n",
            "Banana\n",
            "Laranja\n",
            "Maçã\n",
            "Limão\n"
          ]
        }
      ],
      "source": [
        "frutas=[\"Uva\", \"Banana\", \"Laranja\", \"Maçã\", \"Limão\"]\n",
        "for fruta in frutas:\n",
        "    print(fruta)"
      ]
    },
    {
      "cell_type": "markdown",
      "source": [
        "Aprendendo sobre operações com listas...\n",
        "\n",
        "Temos a definição da lista;\n",
        "\n",
        "Temos a substituição de um elemento da lista;\n",
        "\n",
        "Temos a adição de um elemento da lista;\n",
        "\n",
        "Temos a remoção de um elemento da lista;"
      ],
      "metadata": {
        "id": "nRZaaclw73jb"
      }
    },
    {
      "cell_type": "code",
      "source": [
        "# Exemplo de lista\n",
        "numeros = [1, 2, 3, 4, 5]\n",
        "# Acessando elementos de uma lista utilizando índices.\n",
        "print(numeros[1])\n",
        "# Atribuindo um novo valor a um índice específico.\n",
        "numeros[2] = 10\n",
        "print(numeros) # Saída: [1, 2 ,10, 4, 5]\n",
        "# Adicionar um elemento ao final da lista\n",
        "numeros.append(6)\n",
        "print(numeros) # Saída: [1, 2 ,10, 4, 5, 6]\n",
        "# Remover um elemento com base no seu conteúdo\n",
        "numeros.remove(4)\n",
        "print(numeros) # Saída: [1, 2 ,10, 5, 6]\n"
      ],
      "metadata": {
        "colab": {
          "base_uri": "https://localhost:8080/"
        },
        "id": "uIeIzZXT7zT1",
        "outputId": "44541da6-a936-4729-f39c-141bf6c3e8b8"
      },
      "execution_count": 27,
      "outputs": [
        {
          "output_type": "stream",
          "name": "stdout",
          "text": [
            "2\n",
            "[1, 2, 10, 4, 5]\n",
            "[1, 2, 10, 4, 5, 6]\n",
            "[1, 2, 10, 5, 6]\n"
          ]
        }
      ]
    },
    {
      "cell_type": "markdown",
      "source": [
        "Aprendendo sobre tuplas:\n",
        "\n",
        "As tuplas são definidas utilizando parênteses () ou até mesmo sem eles, separando os elementos por vírgulas.\n",
        "\n"
      ],
      "metadata": {
        "id": "2Ayg_iea9FOV"
      }
    },
    {
      "cell_type": "code",
      "source": [
        "# Exemplo de tupla\n",
        "\n",
        "tupla1 = (1, 2, 3, 4, 5)\n",
        "tupla2 = 'a', 'b', 'c', 'd', 'e'\n",
        "\n",
        "# Acessando elementos de uma tupla utilizando índices.\n",
        "\n",
        "print(tupla1[1])   # Saída: 2\n",
        "print(tupla1[-1])  # Saída: 5 (acesso reverso, -1 é o último, -2 o penúltimo, ...)\n",
        "\n",
        "print(tupla2[1])   # Saída: b\n",
        "print(tupla2[-1])  # Saída: e (acesso reverso, -1 é o último, -2 o penúltimo, ...)\n",
        "\n",
        "# Principal uso de tuplas é armazenar dados que não devem ser modificados\n",
        "\n",
        "ponto = (3, 2)    #Esse é um exemplo de tupla; Este ponto de coordenadas não deverá ser modificado ao longo do programa;\n",
        "\n",
        "# Tuplas podem ser utilizadas para armazenar dados que não devem ser modificados, como coordenadas, informações constantes, valores de retorno de funções, entre outros."
      ],
      "metadata": {
        "colab": {
          "base_uri": "https://localhost:8080/"
        },
        "id": "WmnH_rC29L1x",
        "outputId": "7d6f2b8f-c324-464a-be67-142738ae1a97"
      },
      "execution_count": 34,
      "outputs": [
        {
          "output_type": "stream",
          "name": "stdout",
          "text": [
            "2\n",
            "5\n",
            "b\n",
            "e\n"
          ]
        }
      ]
    },
    {
      "cell_type": "markdown",
      "source": [
        "Programando um pouco com listas:"
      ],
      "metadata": {
        "id": "U-Bo3QXk-yxX"
      }
    },
    {
      "cell_type": "code",
      "source": [
        "numeros = [4,3,2,6,2,10,55]\n",
        "\n",
        "print(numeros[0]) # Saída: 4\n",
        "print(numeros[-1]) # Saída: 55\n",
        "\n",
        "item = numeros[1]\n",
        "item = item*2\n",
        "numeros[1] = item\n",
        "numeros[2]= numeros[2]*30\n",
        "\n",
        "print(numeros) # Saída: [4, 6, 2, 6, 2, 10, 55"
      ],
      "metadata": {
        "colab": {
          "base_uri": "https://localhost:8080/"
        },
        "id": "iVF7mQC3-xkd",
        "outputId": "872a62a1-cad6-4aa2-c393-532858c47f5d"
      },
      "execution_count": 35,
      "outputs": [
        {
          "output_type": "stream",
          "name": "stdout",
          "text": [
            "4\n",
            "55\n",
            "[4, 6, 60, 6, 2, 10, 55]\n"
          ]
        }
      ]
    },
    {
      "cell_type": "markdown",
      "source": [
        "Vamos aprender a adicionar elementos, inserir elementos em determinadas posições, excluir o último elemento e extender a lista;\n",
        "\n",
        "lista.append(X) ADICIONA UM ELEMENTO (X) AO FINAL DA LISTA\n",
        "\n",
        "lista.insert(Y,X) ADICIONA UM ELEMENTO (X) NA POSIÇÃO INDICADA (Y)\n",
        "\n",
        "lista.pop() EXCLUI O ÚLTIMO ELEMENTO DA LISTA\n",
        "\n",
        "lista.extend(outra_lista) ADICIONA A LISTA (outra_lista) AO FINAL DA LISTA"
      ],
      "metadata": {
        "id": "SIFqKHqnAST_"
      }
    },
    {
      "cell_type": "code",
      "source": [
        "lista = [2, 3, 4]\n",
        "print(lista) # [2, 3, 4]\n",
        "lista.append(5) # [2, 3, 4, 5]\n",
        "print(lista)\n",
        "lista.insert(0, 1) # [1, 2, 3, 4, 5]\n",
        "print(lista)\n",
        "ultimo = lista.pop() # [1, 2, 3, 4]\n",
        "print(ultimo) # 5\n",
        "lista_nova = [8, 9, 10]\n",
        "lista.extend(lista_nova)\n",
        "print(lista) # [1, 2, 3, 4, 8, 9, 10]\n",
        "\n",
        "lista.insert(0,lista_nova[0])\n",
        "print(lista)\n",
        "\n",
        "\n",
        "lista = [2,3,4]\n",
        "lista.append(55)\n",
        "print(lista)\n",
        "\n",
        "lista.insert(0,-10)\n",
        "print(lista)\n",
        "\n",
        "ultimo = lista.pop()\n",
        "ultimo = lista.pop()\n",
        "print(f\"O último elemento é {ultimo}\")\n",
        "print(lista)\n",
        "\n",
        "lista_nova = [33,34,35]\n",
        "lista.extend(lista_nova)\n",
        "print(lista)"
      ],
      "metadata": {
        "colab": {
          "base_uri": "https://localhost:8080/"
        },
        "id": "yCe6b_QgAehM",
        "outputId": "049efa11-3c09-445b-e8cc-76027854980f"
      },
      "execution_count": 48,
      "outputs": [
        {
          "output_type": "stream",
          "name": "stdout",
          "text": [
            "[2, 3, 4]\n",
            "[2, 3, 4, 5]\n",
            "[1, 2, 3, 4, 5]\n",
            "5\n",
            "[1, 2, 3, 4, 8, 9, 10]\n",
            "[8, 1, 2, 3, 4, 8, 9, 10]\n",
            "[2, 3, 4, 55]\n",
            "[-10, 2, 3, 4, 55]\n",
            "O último elemento é 4\n",
            "[-10, 2, 3]\n",
            "[-10, 2, 3, 33, 34, 35]\n"
          ]
        }
      ]
    },
    {
      "cell_type": "markdown",
      "source": [
        "Concatenação de listas:"
      ],
      "metadata": {
        "id": "dy0EFrIdDAWO"
      }
    },
    {
      "cell_type": "code",
      "source": [
        "# Concatenação de Listas\n",
        "lista1 = [1, 2, 3]\n",
        "lista2 = [4, 5, 6]\n",
        "concatenada = lista1 + lista2\n",
        "print(concatenada) # [1, 2, 3, 4, 5, 6]"
      ],
      "metadata": {
        "colab": {
          "base_uri": "https://localhost:8080/"
        },
        "id": "K8CbVdRTDCZh",
        "outputId": "914069f9-c30f-4e5c-c384-f729dd8bbf0a"
      },
      "execution_count": 54,
      "outputs": [
        {
          "output_type": "stream",
          "name": "stdout",
          "text": [
            "[1, 2, 3, 4, 5, 6]\n"
          ]
        }
      ]
    },
    {
      "cell_type": "markdown",
      "source": [
        "Replicação de listas:\n",
        "\n",
        "NÃO É UMA MULTIPLICAÇÃO ... É UMA REPLICAÇÃO!!"
      ],
      "metadata": {
        "id": "wZYhXwGCDUmJ"
      }
    },
    {
      "cell_type": "code",
      "source": [
        "# Replicação de Listas\n",
        "lista = [1, 2, 3]\n",
        "replicada = lista * 3\n",
        "print(replicada) # [1, 2, 3, 1, 2, 3, 1, 2, 3]"
      ],
      "metadata": {
        "colab": {
          "base_uri": "https://localhost:8080/"
        },
        "id": "MKF3ZgmIDWV5",
        "outputId": "a4685490-055a-4c25-cda1-6400ad11a63b"
      },
      "execution_count": 51,
      "outputs": [
        {
          "output_type": "stream",
          "name": "stdout",
          "text": [
            "[1, 2, 3, 1, 2, 3, 1, 2, 3]\n"
          ]
        }
      ]
    },
    {
      "cell_type": "markdown",
      "source": [
        "Operação de pertencimento:\n",
        "\n",
        "A operação se dá da seguinte forma:\n",
        "\n",
        "if x in lista:\n",
        "\n",
        "  print(...)\n",
        "\n",
        "else:\n",
        "\n",
        "  ..."
      ],
      "metadata": {
        "id": "hjYE73nwEFnu"
      }
    },
    {
      "cell_type": "code",
      "source": [
        "# Item pertence a lista?\n",
        "lista = [1, 2, 3]\n",
        "if 2 in lista:\n",
        "  print(\"Elemento está na lista.\")\n",
        "else:\n",
        "  print(\"Elemento não está na lista.\")"
      ],
      "metadata": {
        "colab": {
          "base_uri": "https://localhost:8080/"
        },
        "id": "qXqUyPoiEJIK",
        "outputId": "5c246f7e-82d6-4cec-d646-ef0c1cd12b50"
      },
      "execution_count": 57,
      "outputs": [
        {
          "output_type": "stream",
          "name": "stdout",
          "text": [
            "Elemento está na lista.\n"
          ]
        }
      ]
    },
    {
      "cell_type": "markdown",
      "source": [
        "Busca e contagem de elementos:\n",
        "\n",
        "lista.index(x) -> retorna o índice da posição de onde está o elemento \"x\"\n",
        "\n",
        "lista.count(x) -> retorna quantas vezes o elemento \"x\" está presente na lista."
      ],
      "metadata": {
        "id": "fKoPNdAZEX8p"
      }
    },
    {
      "cell_type": "code",
      "source": [
        "# Busca por item\n",
        "lista = [1, 2, 3, 1, 5, 2]\n",
        "index = lista.index(2)\n",
        "print(\"Índice da primeira ocorrência de 2:\", index)\n",
        "# Contagem de ocorrências de um item\n",
        "count = lista.count(2)\n",
        "print(\"Quantidade de ocorrências de 2:\", count)"
      ],
      "metadata": {
        "colab": {
          "base_uri": "https://localhost:8080/"
        },
        "id": "Pb33qJWXEbFz",
        "outputId": "47d22602-0da0-4928-af8b-fec94cd472a9"
      },
      "execution_count": 58,
      "outputs": [
        {
          "output_type": "stream",
          "name": "stdout",
          "text": [
            "Índice da primeira ocorrência de 2: 1\n",
            "Quantidade de ocorrências de 2: 2\n"
          ]
        }
      ]
    },
    {
      "cell_type": "markdown",
      "source": [
        "Iteração = percorrer\n",
        "\n",
        "Como ocorre?\n",
        "\n",
        "for nome in nomes:\n",
        "  \n",
        "  print (nome)\n",
        "\n",
        "\n",
        "\n",
        "ALém disso, temos como saber a posição de um elemento em específico, utilizando:\n",
        "\n",
        "lista.index(valor_elemento)\n",
        "\n",
        "\n",
        "Se existirem mais de uma posição desse elemento na lista, podemos utilizar o seguinte acréscimo na função:\n",
        "\n",
        "lista.index(valor_elemento, lista.index(2)+1)\n",
        "\n",
        "Também, conseguimos saber quantos elementos desse valor estão presentes nas lista, utilizando a seguinte função:\n",
        "\n",
        "lista.count(valor_elemento)"
      ],
      "metadata": {
        "id": "sG8sWX2oFUG_"
      }
    },
    {
      "cell_type": "code",
      "source": [
        "# A cada iteração do loop a variável nome recebe um valor da lista\n",
        "\n",
        "nomes = [\"João\", \"Maria\", \"Pedro\"]\n",
        "for nome in nomes:\n",
        "  print(nome)\n",
        "\n",
        "\n",
        "names = 'João', 'Maria', 'Pedro', 'Luiz', 'Edivaldo', 'Silva', 'Pereira'\n",
        "for name in names:\n",
        "    print(name, end=' - ')\n",
        "\n",
        "print(\"\\n\")\n",
        "\n",
        "lista = [1,2,3,4,2,2]\n",
        "print(lista.index(2,lista.index(2)+1))\n",
        "print(lista.count(2))\n",
        "\n",
        "lista = [1, 2, 3, 4, 2, 2]\n",
        "elemento_procurado = 2\n",
        "posicoes = []\n",
        "\n",
        "for i in range(len(lista)):\n",
        "    if lista[i] == elemento_procurado:\n",
        "        posicoes.append(i)  # Adiciona o índice diretamente\n",
        "\n",
        "if posicoes:\n",
        "    print(f\"Posições do {elemento_procurado} são: {', '.join(map(str, posicoes))}\")\n",
        "else:\n",
        "    print(f\"O elemento {elemento_procurado} não foi encontrado na lista.\")"
      ],
      "metadata": {
        "colab": {
          "base_uri": "https://localhost:8080/"
        },
        "id": "ds4lGx3oFrnR",
        "outputId": "c2172e78-a822-4e2a-c02a-2db00aba4523"
      },
      "execution_count": 79,
      "outputs": [
        {
          "output_type": "stream",
          "name": "stdout",
          "text": [
            "João\n",
            "Maria\n",
            "Pedro\n",
            "João - Maria - Pedro - Luiz - Edivaldo - Silva - Pereira - \n",
            "\n",
            "4\n",
            "3\n",
            "Posições do 2 são: 1, 4, 5\n"
          ]
        }
      ]
    },
    {
      "cell_type": "markdown",
      "source": [
        "Usando a função enumerate:\n",
        "\n",
        "Enumerate sempre retorna pares de INDICES e OBJETOS."
      ],
      "metadata": {
        "id": "ruhW0amPehif"
      }
    },
    {
      "cell_type": "code",
      "source": [
        "# A função enumerate() retorna um objeto iterável contendo pares de índices e elementos\n",
        "nomes = [\"João\", \"Maria\", \"Pedro\"]\n",
        "for indice, nome, in enumerate(nomes):\n",
        "  print(indice, nome)"
      ],
      "metadata": {
        "colab": {
          "base_uri": "https://localhost:8080/"
        },
        "id": "KIW_3tdaelq0",
        "outputId": "15d0b92a-5ee2-419d-8f6e-4d8fd47e651d"
      },
      "execution_count": 77,
      "outputs": [
        {
          "output_type": "stream",
          "name": "stdout",
          "text": [
            "0 João\n",
            "1 Maria\n",
            "2 Pedro\n"
          ]
        }
      ]
    },
    {
      "cell_type": "markdown",
      "source": [
        "Função ZIP\n",
        "\n",
        "ZIP combina múltiplas variáveis compostas em uma única estrutura iterável.\n",
        "\n",
        "EM RESUMO: ELa combina as posições da primeira lista com a segunda lista, OU, de tuplas com tuplas..."
      ],
      "metadata": {
        "id": "UUfgm1-2fpRa"
      }
    },
    {
      "cell_type": "code",
      "source": [
        "# A função zip() combina múltiplas variáveis compostas\n",
        "# (listas ou tuplas) em um única estrutura iterável\n",
        "nomes = [\"João\", \"Maria\", \"Pedro\"]\n",
        "idades = [25, 30, 35]\n",
        "for nome, idade in zip(nomes, idades):\n",
        "\n",
        " print(nome, idade)\n",
        "\n",
        "print(type(nomes))\n",
        "print(type(idades))\n",
        "\n",
        "nomes = \"João\", \"Maria\", \"Pedro\"\n",
        "idades = 25, 30, 35\n",
        "for nome, idade in zip(nomes, idades):\n",
        "  print(nome, idade)\n",
        "\n",
        "print(type(nomes))\n",
        "print(type(idades))\n",
        "\n",
        "nomes = \"João\", \"Maria\", \"Pedro\"\n",
        "idades = 25, 35\n",
        "for nome, idade in zip(nomes, idades):\n",
        "  print(nome, idade)\n",
        "\n",
        "print(type(nomes))\n",
        "print(type(idades))"
      ],
      "metadata": {
        "colab": {
          "base_uri": "https://localhost:8080/"
        },
        "id": "YH6XAIpSf9sW",
        "outputId": "851b3952-d115-475b-c86e-b061695a1346"
      },
      "execution_count": 92,
      "outputs": [
        {
          "output_type": "stream",
          "name": "stdout",
          "text": [
            "João 25\n",
            "Maria 30\n",
            "Pedro 35\n",
            "<class 'list'>\n",
            "<class 'list'>\n",
            "João 25\n",
            "Maria 30\n",
            "Pedro 35\n",
            "<class 'tuple'>\n",
            "<class 'tuple'>\n",
            "João 25\n",
            "Maria 35\n",
            "<class 'tuple'>\n",
            "<class 'tuple'>\n"
          ]
        }
      ]
    },
    {
      "cell_type": "markdown",
      "source": [
        "Função RANGE\n",
        "\n",
        "range() gera uma sequencia de números.\n",
        "\n",
        "Geralmente usada para controlar a repetição de loops.\n",
        "\n",
        "LEMBRANDO: como começamos a contagem com 0, o último valor sempre será X-1.\n",
        "\n",
        "A função range() não inclui o valor final por uma combinação de fatores: convenção, facilidade de uso e flexibilidade. Ao excluir o valor final, o range() se torna uma ferramenta poderosa e versátil para criar sequências de números em Python.\n",
        "\n",
        "O range() não inclui o valor final por convenção e para facilitar o uso em diversas situações. Essa função permite criar sequências de números com grande flexibilidade, permitindo definir o valor inicial, final e o passo. Ao excluir o valor final, o range() se torna mais intuitivo e consistente com outras funcionalidades da linguagem.\n"
      ],
      "metadata": {
        "id": "9LFzKAIzgm1k"
      }
    },
    {
      "cell_type": "code",
      "source": [
        "for i in range(5):\n",
        "  print(i)\n",
        "\n",
        "# Criando uma sequência de 5 a 10 (excluindo o 10)\n",
        "for i in range(5, 10):\n",
        "    print(i, end='-')  # Saída: 5, 6, 7, 8, 9\n",
        "print(\"\\n\")\n",
        "# Criando uma sequência de 10 a 0, contando de 2 em 2\n",
        "for i in range(10, 0, -2):\n",
        "    print(i, end='-')  # Saída: 10, 8, 6, 4, 2\n",
        "print(\"\\n\")"
      ],
      "metadata": {
        "colab": {
          "base_uri": "https://localhost:8080/"
        },
        "id": "mBMyZM6_gwf8",
        "outputId": "2d378c4a-93ff-43cc-bec4-a431f3a0a0d6"
      },
      "execution_count": 89,
      "outputs": [
        {
          "output_type": "stream",
          "name": "stdout",
          "text": [
            "0\n",
            "1\n",
            "2\n",
            "3\n",
            "4\n",
            "5-6-7-8-9-\n",
            "\n",
            "10-8-6-4-2-\n",
            "\n"
          ]
        }
      ]
    },
    {
      "cell_type": "markdown",
      "source": [
        "O slicing (ou \"fatiamento\") é uma técnica em Python que permite extrair partes de sequências, como listas, tuplas, strings.\n",
        "\n",
        "Lembrar que o início é inclusivo e o fim é exclusivo...\n",
        "\n",
        "Quando tem \"::\" quer dizer que terá uma iteração em passo de 2 elementos"
      ],
      "metadata": {
        "id": "-jauSKHjkMLK"
      }
    },
    {
      "cell_type": "code",
      "source": [
        "lista = [1, 2, 3, 4, 5, 6, 7, 8, 9]\n",
        "# Índices 1 (inclusivo) ao 5 (exclusivo)\n",
        "print(lista[1:5]) # [2, 3, 4, 5]\n",
        "# Do início até 5 (exclusivo, lembre-se lista[5] retorna o item 6)\n",
        "print(lista[:5]) # [1, 2, 3, 4, 5]\n",
        "# Do 5 (inclusivo) até o final\n",
        "print(lista[5:]) # [6, 7, 8, 9]\n",
        "# Iterando a cada 2 elementos\n",
        "print(lista[::2]) # [1, 3, 5, 7, 9]\n",
        "# Do 1 ao 7 (exclusivo), iterando a cada 2 elementos\n",
        "print(lista[1:7:2]) # [2, 4, 6]\n",
        "\n",
        "print(lista[::3]) # [1, 4, 7]"
      ],
      "metadata": {
        "colab": {
          "base_uri": "https://localhost:8080/"
        },
        "id": "Ei0NF7OgkRiM",
        "outputId": "96764947-454f-4e7b-8b73-760a25a42e32"
      },
      "execution_count": 94,
      "outputs": [
        {
          "output_type": "stream",
          "name": "stdout",
          "text": [
            "[2, 3, 4, 5]\n",
            "[1, 2, 3, 4, 5]\n",
            "[6, 7, 8, 9]\n",
            "[1, 3, 5, 7, 9]\n",
            "[2, 4, 6]\n",
            "[1, 4, 7]\n"
          ]
        }
      ]
    },
    {
      "cell_type": "markdown",
      "source": [
        "Em SLICING, se utilizarmos números negativos, fazemos a iteração de trás para frente!\n",
        "\n",
        "É como se fosse uma iteração REGRESSIVA!\n",
        "\n",
        "iteração = percorrimento (percorrer)"
      ],
      "metadata": {
        "id": "MhsEPU5PlQVg"
      }
    },
    {
      "cell_type": "code",
      "source": [
        "lista = [1, 2, 3, 4, 5, 6, 7, 8, 9]\n",
        "# Retorna os três últimos elementos\n",
        "print(lista[-3:]) # [7, 8, 9]\n",
        "# Retorna todos os elementos, exceto, os 5 últimos\n",
        "print(lista[:-5]) # [1, 2, 3, 4]\n",
        "# Retorna os elementos em ordem inversa\n",
        "print(lista[::-1]) # [9, 8, 7, 6, 5, 4, 3, 2, 1]"
      ],
      "metadata": {
        "colab": {
          "base_uri": "https://localhost:8080/"
        },
        "id": "PSOjRfb_lXsD",
        "outputId": "d9056a93-d3e0-41b9-a3d1-2c651a4268ee"
      },
      "execution_count": 95,
      "outputs": [
        {
          "output_type": "stream",
          "name": "stdout",
          "text": [
            "[7, 8, 9]\n",
            "[1, 2, 3, 4]\n",
            "[9, 8, 7, 6, 5, 4, 3, 2, 1]\n"
          ]
        }
      ]
    },
    {
      "cell_type": "markdown",
      "source": [
        "SLICING com STRINGS\n",
        "\n",
        "STRINGS é uma cadeia de CARACTERES, portanto, podemos percorre-la."
      ],
      "metadata": {
        "id": "I2psW37Kls3E"
      }
    },
    {
      "cell_type": "code",
      "source": [
        "frase = \"UTFPR\"\n",
        "print(frase[0]) # U\n",
        "print(frase[:3]) # UTF\n",
        "print(frase[3:]) # PR\n",
        "print(frase[::-1]) # RPFTU\n",
        "\n",
        "parte = frase[:3]\n",
        "print(\"Parte da frase:\", parte) # UTF"
      ],
      "metadata": {
        "colab": {
          "base_uri": "https://localhost:8080/"
        },
        "id": "WLGr4JoGlvKU",
        "outputId": "02d98fe7-637f-4d49-ab95-ce9c0fef91bb"
      },
      "execution_count": 99,
      "outputs": [
        {
          "output_type": "stream",
          "name": "stdout",
          "text": [
            "U\n",
            "UTF\n",
            "PR\n",
            "RPFTU\n",
            "Parte da frase: UTF\n"
          ]
        }
      ]
    },
    {
      "cell_type": "markdown",
      "source": [
        "Principais funções built-in para processar Listas e Tuplas.\n",
        "\n",
        "BULT-IN = EMBUTIDAS"
      ],
      "metadata": {
        "id": "CRH5OKuSmhMK"
      }
    },
    {
      "cell_type": "code",
      "source": [
        "lista = [4, 3, 77, 2, 1]\n",
        "# Tamanho da lista\n",
        "print(len(lista)) # 5\n",
        "# Valor máximo e mínimo da lista\n",
        "print(max(lista)) # 77\n",
        "print(min(lista)) # 1\n",
        "# Soma dos elementos da lista\n",
        "print(sum(lista)) # 87\n",
        "# Elementos ordenados\n",
        "print(sorted(lista)) # [1, 2, 3, 4, 77]\n",
        "# Elementos em ordem reversa da lista\n",
        "print(list(reversed(lista))) # [1, 2, 77, 3, 4]"
      ],
      "metadata": {
        "colab": {
          "base_uri": "https://localhost:8080/"
        },
        "id": "wCoSuTxnmk-p",
        "outputId": "5f2aee77-dfa6-41eb-9060-932631ed54f0"
      },
      "execution_count": 100,
      "outputs": [
        {
          "output_type": "stream",
          "name": "stdout",
          "text": [
            "5\n",
            "77\n",
            "1\n",
            "87\n",
            "[1, 2, 3, 4, 77]\n",
            "[1, 2, 77, 3, 4]\n"
          ]
        }
      ]
    },
    {
      "cell_type": "markdown",
      "source": [
        "**Lista - Dados heterogêneos**"
      ],
      "metadata": {
        "id": "WnzyXfT0p48d"
      }
    },
    {
      "cell_type": "code",
      "source": [
        "# A lista abaixo armazena o nome, idade, e-mail e situação do\n",
        "# pessoa/usuário (ativo)\n",
        "dados_pessoa = [\"João\", 25, \"joao@utfpr.edu.br\", True]\n",
        "print(\"Nome:\", dados_pessoa[0])\n",
        "print(\"Idade:\", dados_pessoa[1])\n",
        "print(\"E-mail:\", dados_pessoa[2])\n",
        "print(\"Ativo:\", dados_pessoa[3])\n",
        "dados_pessoa[3] = False\n",
        "print(\"Ativo:\", dados_pessoa[3])\n",
        "\n",
        "\n",
        "dados_pessoa = [\"João\", 25, \"joao@utfpr.edu.br\", True]\n",
        "dados_pessoa[0] = \"José da Silva\"\n",
        "print(dados_pessoa)\n",
        "print(f\"Nome do usuário: {dados_pessoa[0]}\")\n",
        "print(f\"Idade do usuário: {dados_pessoa[1]}\")\n",
        "print(f\"E-mail do usuário: {dados_pessoa[2]}\")\n",
        "print(f\"Usuário ativo? {dados_pessoa[3]}\")"
      ],
      "metadata": {
        "colab": {
          "base_uri": "https://localhost:8080/"
        },
        "id": "7i2_Yh2Yp7dm",
        "outputId": "b7b9da15-1c53-471d-ed42-e3a2f1e8d14c"
      },
      "execution_count": 115,
      "outputs": [
        {
          "output_type": "stream",
          "name": "stdout",
          "text": [
            "Nome: João\n",
            "Idade: 25\n",
            "E-mail: joao@utfpr.edu.br\n",
            "Ativo: True\n",
            "Ativo: False\n",
            "['José da Silva', 25, 'joao@utfpr.edu.br', True]\n",
            "Nome do usuário: José da Silva\n",
            "Idade do usuário: 25\n",
            "E-mail do usuário: joao@utfpr.edu.br\n",
            "Usuário ativo? True\n"
          ]
        }
      ]
    },
    {
      "cell_type": "markdown",
      "source": [
        "**Lista - Dados heterogêneos**\n",
        "\n",
        "A lista abaixo armazena o nome, idade, e-mail e situação do pessoa/usuário (ativo)\n",
        "\n",
        "\n",
        "LISTA DE LISTA"
      ],
      "metadata": {
        "id": "af0WkZalrNlO"
      }
    },
    {
      "cell_type": "code",
      "source": [
        "# A lista abaixo armazena o nome, idade, e-mail e situação do pessoa/usuário (ativo)\n",
        "\n",
        "# Imagine que você carregou os dados das pessoas de um CSV (arquivo de planilha, banco de dados)\n",
        "\n",
        "pessoas = [\n",
        " [\"João\", 25, \"joao@utfpr.edu.br\", True],\n",
        " [\"Maria\", 32, \"maria@utfpr.edu.br\", True],\n",
        " [\"Pedro\", 18, \"pedro@utfpr.edu.br\", True],\n",
        " [\"Ana\", 45, \"ana@utfpr.edu.br\", False],\n",
        "]\n",
        "p = pessoas[3]\n",
        "print(f\"Nome: {p[0]}, Idade: {p[1]}, E-mail: {p[2]}, Ativo: {p[3]}\")\n",
        "\n",
        "print(\"Listando apenas as pessoas inativas:\")\n",
        "for pessoa in pessoas:\n",
        "  if pessoa[3] == False:\n",
        "    print(f\"Nome: {pessoa[0]}, Idade: {pessoa[1]}, E-mail: {pessoa[2]}, Ativo: {pessoa[3]}\")\n",
        "\n",
        "print(\"Listando apenas as pessoas ativas:\")\n",
        "for pessoa in pessoas:\n",
        "  if pessoa[3] == True:\n",
        "    print(f\"Nome: {pessoa[0]}, Idade: {pessoa[1]}, E-mail: {pessoa[2]}, Ativo: {pessoa[3]}\")"
      ],
      "metadata": {
        "colab": {
          "base_uri": "https://localhost:8080/"
        },
        "id": "O7d3RWz9rVSW",
        "outputId": "7858a22c-138f-407d-8240-eb9e939b1439"
      },
      "execution_count": 124,
      "outputs": [
        {
          "output_type": "stream",
          "name": "stdout",
          "text": [
            "Nome: Ana, Idade: 45, E-mail: ana@utfpr.edu.br, Ativo: False\n",
            "Listando apenas as pessoas inativas:\n",
            "Nome: Ana, Idade: 45, E-mail: ana@utfpr.edu.br, Ativo: False\n",
            "Listando apenas as pessoas ativas:\n",
            "Nome: João, Idade: 25, E-mail: joao@utfpr.edu.br, Ativo: True\n",
            "Nome: Maria, Idade: 32, E-mail: maria@utfpr.edu.br, Ativo: True\n",
            "Nome: Pedro, Idade: 18, E-mail: pedro@utfpr.edu.br, Ativo: True\n"
          ]
        }
      ]
    },
    {
      "cell_type": "markdown",
      "source": [
        "Programando um pouco com **TUPLAS**:"
      ],
      "metadata": {
        "id": "ncdnISxD_NCb"
      }
    },
    {
      "cell_type": "code",
      "source": [
        "numeros= 1,2,3,4,5\n",
        "letras = 'a','b','c','d','e','f','g','h','i','j'\n",
        "\n",
        "print(numeros)\n",
        "print(letras)\n",
        "\n",
        "print(numeros[0])\n",
        "print(letras[1])\n",
        "print(letras[-1])\n"
      ],
      "metadata": {
        "colab": {
          "base_uri": "https://localhost:8080/"
        },
        "id": "A60gcs2__Onk",
        "outputId": "f5d1d769-a149-49e2-d1e3-d900f297986d"
      },
      "execution_count": 39,
      "outputs": [
        {
          "output_type": "stream",
          "name": "stdout",
          "text": [
            "(1, 2, 3, 4, 5)\n",
            "('a', 'b', 'c', 'd', 'e', 'f', 'g', 'h', 'i', 'j')\n",
            "1\n",
            "b\n",
            "j\n"
          ]
        }
      ]
    },
    {
      "cell_type": "markdown",
      "source": [
        "Concatenação de Tuplas:"
      ],
      "metadata": {
        "id": "t5EA5cxGDHp3"
      }
    },
    {
      "cell_type": "code",
      "source": [
        "# Concatenação de Tuplas\n",
        "tupla1 = (1, 2, 3)\n",
        "tupla2 = (4, 5, 6)\n",
        "concatenada = tupla1 + tupla2\n",
        "print(concatenada) # [1, 2, 3, 4, 5, 6]"
      ],
      "metadata": {
        "colab": {
          "base_uri": "https://localhost:8080/"
        },
        "id": "bvOzUTm9DJ4B",
        "outputId": "76531871-d9b8-4448-99c4-faaf10e9c3ef"
      },
      "execution_count": 50,
      "outputs": [
        {
          "output_type": "stream",
          "name": "stdout",
          "text": [
            "(1, 2, 3, 4, 5, 6)\n"
          ]
        }
      ]
    },
    {
      "cell_type": "markdown",
      "source": [
        "Replicação de TUPLAS:\n",
        "\n",
        "NÃO É MULTIPLICAÇÃO... É REPLICAÇÃO!!"
      ],
      "metadata": {
        "id": "fBPwtgnLDa-O"
      }
    },
    {
      "cell_type": "code",
      "source": [
        "# Replicação de Tuplas\n",
        "tupla = (4, 5, 6)\n",
        "replicada = tupla * 3\n",
        "print(replicada) # (4, 5, 6, 4, 5, 6, 4, 5, 6]"
      ],
      "metadata": {
        "colab": {
          "base_uri": "https://localhost:8080/"
        },
        "id": "qsc_i_TaDcja",
        "outputId": "dfb5f38c-d056-4605-8716-e5da7b89d317"
      },
      "execution_count": 52,
      "outputs": [
        {
          "output_type": "stream",
          "name": "stdout",
          "text": [
            "(4, 5, 6, 4, 5, 6, 4, 5, 6)\n"
          ]
        }
      ]
    },
    {
      "cell_type": "markdown",
      "source": [
        "**Tupla - Dados heterogêneos**"
      ],
      "metadata": {
        "id": "m-akjxm8q_cW"
      }
    },
    {
      "cell_type": "code",
      "source": [
        "# A tupla abaixo armazena o nome, idade, e-mail e situação do\n",
        "# pessoa/usuário (ativo)\n",
        "dados_pessoa = (\"João\", 25, \"joao@utfpr.edu.br\", True)\n",
        "print(\"Nome:\", dados_pessoa[0])\n",
        "print(\"Idade:\", dados_pessoa[1])\n",
        "print(\"E-mail:\", dados_pessoa[2])\n",
        "print(\"Ativo:\", dados_pessoa[3])"
      ],
      "metadata": {
        "colab": {
          "base_uri": "https://localhost:8080/"
        },
        "id": "4OrI-ZCbq-78",
        "outputId": "f326045c-72a0-417c-c0b1-c60a74968258"
      },
      "execution_count": 119,
      "outputs": [
        {
          "output_type": "stream",
          "name": "stdout",
          "text": [
            "Nome: João\n",
            "Idade: 25\n",
            "E-mail: joao@utfpr.edu.br\n",
            "Ativo: True\n"
          ]
        }
      ]
    },
    {
      "cell_type": "markdown",
      "source": [
        "Exercício 02:\n",
        "\n",
        "O programa abaixo lê da entrada padrão 4 inteiros e armazena em uma lista.\n",
        "\n",
        "Complete o programa com instruções para somar os itens da lista e depois imprimir o valor da soma no console.\n",
        "\n",
        "numeros = []\n",
        "\n",
        "for i in range(4):\n",
        "    numero_lido = int(input())\n",
        "    numeros.append(numero_lido)\n",
        "\n",
        "soma = 0\n",
        "\n",
        "'# Adicione abaixo instruções para somar todos os números e imprimir no console."
      ],
      "metadata": {
        "id": "4AMisx3_oJEd"
      }
    },
    {
      "cell_type": "code",
      "source": [
        "numeros = []\n",
        "\n",
        "for i in range(4):\n",
        "  numero_lido = int(input())\n",
        "  numeros.append(numero_lido)\n",
        "\n",
        "soma = 0\n",
        "\n",
        "# Adicione abaixo instruções para somar todos os números e imprimir no console.\n",
        "\n",
        "for numero in numeros:\n",
        "  soma = soma + numero\n",
        "\n",
        "print(\"Soma =\",soma)\n",
        "#"
      ],
      "metadata": {
        "colab": {
          "base_uri": "https://localhost:8080/"
        },
        "id": "kRkzsoDfoQIF",
        "outputId": "ebf935d3-9d83-4baa-f48b-f878d9cf0a0e"
      },
      "execution_count": 2,
      "outputs": [
        {
          "output_type": "stream",
          "name": "stdout",
          "text": [
            "10\n",
            "20\n",
            "30\n",
            "40\n",
            "100\n"
          ]
        }
      ]
    },
    {
      "cell_type": "markdown",
      "source": [
        "Exercício 03:\n",
        "\n",
        "O programa abaixo lê da entrada padrão um valor inteiro N. Depois, lê N inteiros e armazena em uma lista.\n",
        "\n",
        "Complete o programa com instruções para imprimir no console o menor valor e maior valor da lista.\n",
        "\n",
        "'# Definição de lista vazia\n",
        "\n",
        "numeros = []\n",
        "\n",
        "'# Lendo da entrada padrão o número de elementos que serão adicionados na lista (inteiro N do enunciado)\n",
        "\n",
        "numero_de_elementos = int(input())\n",
        "\n",
        "'# Adicionando elementos na lista\n",
        "\n",
        "for i in range(numero_de_elementos):\n",
        "\n",
        "    numero_lido = int(input())\n",
        "    numeros.append(numero_lido)\n",
        "\n",
        "'# Adicione instruções para imprimir o menor e maior valor da lista."
      ],
      "metadata": {
        "id": "zrei_mG4o7X6"
      }
    },
    {
      "cell_type": "code",
      "source": [
        "# Definição de lista vazia\n",
        "numeros = []\n",
        "# Lendo da entrada padrão o número de elementos que serão adicionados na lista (inteiro N do enunciado)\n",
        "numero_de_elementos = int(input())\n",
        "# Adicionando elementos na lista\n",
        "for i in range(numero_de_elementos):\n",
        "    numero_lido = int(input())\n",
        "    numeros.append(numero_lido)\n",
        "\n",
        "# Adicione instruções para imprimir o menor e maior valor da lista.\n",
        "print(\"Menor:\", min(numeros))\n",
        "print(\"Maior:\", max(numeros))"
      ],
      "metadata": {
        "colab": {
          "base_uri": "https://localhost:8080/"
        },
        "id": "6MIfxZIwo9_3",
        "outputId": "17112cb7-4cbf-4170-f91d-f229229025fc"
      },
      "execution_count": 107,
      "outputs": [
        {
          "output_type": "stream",
          "name": "stdout",
          "text": [
            "4\n",
            "1\n",
            "2\n",
            "3\n",
            "4\n",
            "Menor: 1\n",
            "Maior: 4\n"
          ]
        }
      ]
    },
    {
      "cell_type": "code",
      "source": [
        "numeros = []\n",
        "numero_de_elementos = int(input())\n",
        "for i in range(numero_de_elementos):\n",
        "  numero_lido = int(input())\n",
        "  numeros.append(numero_lido)\n",
        "\n",
        "# Tamanho da lista\n",
        "print(len(numeros))\n",
        "# Valor máximo e mínimo da lista\n",
        "print(\"Menor:\", min(numeros))\n",
        "print(\"Maior:\", max(numeros))\n",
        "# Soma dos elementos da lista\n",
        "print(sum(numeros))\n",
        "# Elementos ordenados\n",
        "print(sorted(numeros))\n",
        "# Elementos em ordem reversa da lista\n",
        "print(list(reversed(numeros)))"
      ],
      "metadata": {
        "colab": {
          "base_uri": "https://localhost:8080/"
        },
        "id": "5Ugf3e6MnAUV",
        "outputId": "11698ec0-61d6-4283-f882-fc30b9c098d1"
      },
      "execution_count": 106,
      "outputs": [
        {
          "output_type": "stream",
          "name": "stdout",
          "text": [
            "3\n",
            "5\n",
            "0\n",
            "2\n",
            "3\n",
            "Menor: 0\n",
            "Maior: 5\n",
            "7\n",
            "[0, 2, 5]\n",
            "[2, 0, 5]\n"
          ]
        }
      ]
    },
    {
      "cell_type": "code",
      "source": [
        "# Definição de lista vazia\n",
        "numeros = []\n",
        "# Lendo da entrada padrão o número de elementos que serão adicionados na lista (inteiro N do enunciado)\n",
        "numero_de_elementos = int(input())\n",
        "# Adicionando elementos na lista\n",
        "for i in range(numero_de_elementos):\n",
        "    numero_lido = int(input())\n",
        "    numeros.append(numero_lido)\n",
        "\n",
        "# Adicione instruções para imprimir o menor e maior valor da lista.\n",
        "menor = numeros[0]\n",
        "maior = numeros[0]\n",
        "for numero in numeros:\n",
        "  if numero < menor:\n",
        "    menor = numero\n",
        "  if numero > maior:\n",
        "    maior = numero\n",
        "\n",
        "print(\"Menor:\",menor)\n",
        "print(\"Maior:\",maior)\n",
        "#"
      ],
      "metadata": {
        "colab": {
          "base_uri": "https://localhost:8080/"
        },
        "id": "gzWAT2N7pRHc",
        "outputId": "f19b30e1-7330-47ce-98c7-59490192c9c9"
      },
      "execution_count": 3,
      "outputs": [
        {
          "output_type": "stream",
          "name": "stdout",
          "text": [
            "4\n",
            "1\n",
            "2\n",
            "3\n",
            "4\n",
            "Menor: 1\n",
            "Maior: 4\n"
          ]
        }
      ]
    },
    {
      "cell_type": "markdown",
      "source": [
        "Exercício 04:\n",
        "\n",
        "Complete o programa abaixo com instruções para imprimir o primeiro e último elementos da tupla.\n",
        "\n",
        "elementos = 1, 2, 3, 4, 5\n",
        "\n",
        "1# Adicione instruções para imprimir o primeiro e último elemento da tupla"
      ],
      "metadata": {
        "id": "BKfdmY23pp2u"
      }
    },
    {
      "cell_type": "code",
      "source": [
        "elementos = 1, 2, 3, 4, 5\n",
        "\n",
        "# Adicione instruções para imprimir o primeiro e último elemento da tupla\n",
        "print(\"Primeiro:\", elementos[0])\n",
        "print(\"Último:\", elementos[-1])\n",
        "#"
      ],
      "metadata": {
        "colab": {
          "base_uri": "https://localhost:8080/"
        },
        "id": "kyyvJisEpw9g",
        "outputId": "ca30b9bc-7029-4712-9929-1d70a7caaeaf"
      },
      "execution_count": 5,
      "outputs": [
        {
          "output_type": "stream",
          "name": "stdout",
          "text": [
            "Primeiro: 1\n",
            "Último: 5\n"
          ]
        }
      ]
    },
    {
      "cell_type": "markdown",
      "source": [
        "Exercício 05:\n",
        "\n",
        "Complete o programa abaixo com instruções para imprimir o índice de um determinado elemento da tupla.\n",
        "\n",
        "elementos = (11, 42, 3, 64, -15)\n",
        "\n",
        "elemento_procurado = int(input())\n",
        "\n",
        "1# Adicione instruções para imprimir o índice do elemento procurado"
      ],
      "metadata": {
        "id": "CG2CcMGaqD3u"
      }
    },
    {
      "cell_type": "code",
      "source": [
        "elementos = (11, 42, 3, 64, -15)\n",
        "\n",
        "elemento_procurado = int(input())\n",
        "\n",
        "# Adicione instruções para imprimir o índice do elemento procurado\n",
        "for i in range(len(elementos)):\n",
        "  if elementos[i] == elemento_procurado:\n",
        "    print(\"Índice do elemento:\", i)"
      ],
      "metadata": {
        "colab": {
          "base_uri": "https://localhost:8080/"
        },
        "id": "zqEInaYtqIer",
        "outputId": "b36cfeab-c498-46e9-e032-081cfa9dfa5e"
      },
      "execution_count": 109,
      "outputs": [
        {
          "output_type": "stream",
          "name": "stdout",
          "text": [
            "11\n",
            "Índice do elemento: 0\n"
          ]
        }
      ]
    },
    {
      "cell_type": "markdown",
      "source": [
        "Exercício 06:\n",
        "\n",
        "O programa abaixo define uma lista de idades de pessoas de uma cidade.\n",
        "\n",
        "Complete o programa abaixo com instruções para imprimir o número de idades menores de 18 anos e o número de idades maiores ou iguais de 18 anos.\n",
        "\n",
        "Dica: percora a lista e teste os valores usando comandos de decisão (if-else).\n",
        "\n",
        "idades = [11, 42, 3, 64, 9, 12, 33, 44]\n",
        "\n",
        "1# Adicione instruções para imprimir o que se pede na questão"
      ],
      "metadata": {
        "id": "pjuIkgifqcWI"
      }
    },
    {
      "cell_type": "code",
      "source": [
        "idades = [11, 42, 3, 64, 9, 12, 33, 44]\n",
        "\n",
        "# Adicione instruções para imprimir o que se pede na questão\n",
        "menores = 0\n",
        "maiores = 0\n",
        "for idade in idades:\n",
        "  if idade < 18:\n",
        "    menores += 1\n",
        "  else:\n",
        "    maiores += 1\n",
        "\n",
        "print(\"Maior ou igual 18:\", maiores)\n",
        "print(\"Menor de 18:\", menores)"
      ],
      "metadata": {
        "colab": {
          "base_uri": "https://localhost:8080/"
        },
        "id": "smE9faktqi1P",
        "outputId": "dd177e77-7cf3-4ff5-e877-ced283ab5941"
      },
      "execution_count": 7,
      "outputs": [
        {
          "output_type": "stream",
          "name": "stdout",
          "text": [
            "Maior ou igual 18: 4\n",
            "Menor de 18: 4\n"
          ]
        }
      ]
    },
    {
      "cell_type": "markdown",
      "source": [
        "Exercício 07:\n",
        "\n",
        "Implemente um programa em Python que lê da entrada padrão 5 caracteres e armazena em uma lista.\n",
        "\n",
        "Depois, o programa deve ler da entrada padrão um caractere que deve ser procurado na lista de caracteres lidos anteriormente.\n",
        "\n",
        "Por fim, imprima no console quantas vezes o caractere procurado foi encontrado na lista.\n",
        "\n",
        "Dica:\n",
        "\n",
        "Defina um for para ler os caracteres da entrada padrão.\n",
        "Depois leia o caractere a ser procurado.\n",
        "Defina um segundo for para percorrer a lista de caracteres e contar o número de ocorrências.\n",
        "Use print(f\"Caractere '{procurado}' foi encontrado {encontrado} vezes.\") para mostrar o resultado no console.\n",
        "Nos exemplos abaixo, perceba que o último caractere da lista Input é o caractere procurado.\n",
        "\n"
      ],
      "metadata": {
        "id": "9Vqtcylkq5nw"
      }
    },
    {
      "cell_type": "code",
      "source": [
        "caracteres = []\n",
        "for i in range(5):\n",
        "  caractere = input()\n",
        "  caracteres.append(caractere)\n",
        "\n",
        "procurado = input()\n",
        "\n",
        "encontrado = 0\n",
        "\n",
        "for caractere in caracteres:\n",
        "  if caractere == procurado:\n",
        "    encontrado += 1\n",
        "\n",
        "print(f\"Caractere '{procurado}' foi encontrado {encontrado} vezes.\")"
      ],
      "metadata": {
        "colab": {
          "base_uri": "https://localhost:8080/"
        },
        "id": "MJ1MwmxTq-3O",
        "outputId": "468c9ddf-68ed-4f80-d7b4-4d22ec599ed9"
      },
      "execution_count": 11,
      "outputs": [
        {
          "output_type": "stream",
          "name": "stdout",
          "text": [
            "a\n",
            "b\n",
            "c\n",
            "d\n",
            "e\n",
            "a\n",
            "Caractere 'a' foi encontrado 1 vezes.\n"
          ]
        }
      ]
    },
    {
      "cell_type": "markdown",
      "source": [
        "Exercício 08:\n",
        "\n",
        "Implemente um programa em Python para ler 5 valores inteiros da entrada padrão e armazene em uma lista.\n",
        "\n",
        "Depois, use a estrutura de dados conjunto para remover possíveis dados duplicados.\n",
        "\n",
        "Por fim, imprima na saída padrão os elementos, sem valores duplicados.\n",
        "\n",
        "\n"
      ],
      "metadata": {
        "id": "RxXBRZg4s5B1"
      }
    },
    {
      "cell_type": "code",
      "source": [
        "lista=[]\n",
        "for i in range(5):\n",
        "  valor=int(input())\n",
        "  lista.append(valor)\n",
        "\n",
        "conjunto=set(lista)\n",
        "\n",
        "string_formatada = ', '.join(str(elemento) for elemento in conjunto)\n",
        "\n",
        "# Adicionando as chaves\n",
        "resultado = f\"{{{string_formatada}}}\"\n",
        "\n",
        "print(resultado)  # Saída: {1, 2, 3, 7}"
      ],
      "metadata": {
        "colab": {
          "base_uri": "https://localhost:8080/"
        },
        "id": "YWzP6l2qw1Lb",
        "outputId": "2180f4a3-f2d2-41d8-f7a1-29eb89a07a96"
      },
      "execution_count": 16,
      "outputs": [
        {
          "output_type": "stream",
          "name": "stdout",
          "text": [
            "1\n",
            "1\n",
            "1\n",
            "0\n",
            "0\n",
            "{0, 1}\n"
          ]
        }
      ]
    },
    {
      "cell_type": "markdown",
      "source": [
        "Exercício 09:\n",
        "\n",
        "Implemente um programa em Python para imprimir os dados do dicionário abaixo.\n",
        "\n",
        "aluno = {\n",
        "    'matricula' : 123,\n",
        "    'nome' : 'José Silva',\n",
        "    'curso' : 'Especialização IA no Agro',\n",
        "    'disciplina' : \"Fundamentos de Programação para Aplicações na Agricultura\"\n",
        "}\n",
        "\n",
        "Lembre-se de formatar a saída conforme exemplo abaixo.\n",
        "\n",
        "aluno = {\n",
        "    'matricula' : 123,\n",
        "    'nome' : 'José Silva',\n",
        "    'curso' : 'Especialização IA no Agro',\n",
        "    'disciplina' : \"Fundamentos de Programação para Aplicações na Agricultura\"\n",
        "}\n",
        "\n",
        "Resultado:\n",
        "\n",
        "Dados do estudante:\n",
        "Nome: José Silva\n",
        "Matrícula: 123\n",
        "Curso: Especialização IA no Agro\n",
        "Disciplina: Fundamentos de Programação para Aplicações na Agricultura\n",
        "\n",
        "\n",
        "aluno = {\n",
        "    'matricula' : 123\n",
        "    'nome' : 'José Silva',\n",
        "    'curso' : 'Especialização IA no Agro',\n",
        "    'disciplina' : \"Fundamentos de Programação para Aplicações na Agricultura\"\n",
        "}\n",
        "\n",
        "1# adicione seu código abaixo."
      ],
      "metadata": {
        "id": "-Z7RHG9-yqsn"
      }
    },
    {
      "cell_type": "code",
      "source": [
        "aluno = {\n",
        "    'matricula' : 123,\n",
        "    'nome' : 'José Silva',\n",
        "    'curso' : 'Especialização IA no Agro',\n",
        "    'disciplina' : \"Fundamentos de Programação para Aplicações na Agricultura\"\n",
        "}\n",
        "\n",
        "# adicione seu código abaixo.\n",
        "print(\"Dados do estudante:\")\n",
        "print(\"Nome:\", aluno['nome'])\n",
        "print(\"Matrícula:\", aluno['matricula'])\n",
        "print(\"Curso:\", aluno['curso'])\n",
        "print(\"Disciplina:\", aluno['disciplina'])\n",
        "#"
      ],
      "metadata": {
        "colab": {
          "base_uri": "https://localhost:8080/"
        },
        "id": "bE6z_Glby6dy",
        "outputId": "53ac999a-b1d0-4d5f-ebf0-fdfe36a831d4"
      },
      "execution_count": 18,
      "outputs": [
        {
          "output_type": "stream",
          "name": "stdout",
          "text": [
            "Dados do estudante:\n",
            "Nome: José Silva\n",
            "Matrícula: 123\n",
            "Curso: Especialização IA no Agro\n",
            "Disciplina: Fundamentos de Programação para Aplicações na Agricultura\n"
          ]
        }
      ]
    },
    {
      "cell_type": "markdown",
      "source": [
        "Exercício 10:\n",
        "\n",
        "Implemente um programa em Python para ler da entrada padrão um dia da semana.\n",
        "\n",
        "Depois, o programa deve consultar o dicionário abaixo e imprimir a temperatura desse dia.\n",
        "\n",
        "Caso o usuário informe um dia que não existe no dicionário, imprima a mensagem: \"Erro: informe dia no formato seg, ter, qua, qui, sex, sab, dom\".\n",
        "\n",
        "temperaturas = {\n",
        "    'seg' : 32.5,\n",
        "    'ter' : 25,\n",
        "    'qua' : 26.5,\n",
        "    'qui' : 22,\n",
        "    'sex': 18,\n",
        "    'sab': 15,\n",
        "    'dom': 17\n",
        "}\n",
        "\n",
        "Lembre-se de formatar a saída conforme exemplo abaixo.\n",
        "\n",
        "Saída:\n",
        "\n",
        "seg: 32.5\n",
        "\n",
        "ter: 25\n",
        "\n",
        "Erro: informe dia no formato seg, ter, qua, qui, sex, sab, dom\n",
        "\n",
        "dom: 17"
      ],
      "metadata": {
        "id": "ahdX7Gg40P_s"
      }
    },
    {
      "cell_type": "code",
      "source": [
        "temperaturas = {\n",
        "    'seg' : 32.5,\n",
        "    'ter' : 25,\n",
        "    'qua' : 26.5,\n",
        "    'qui' : 22,\n",
        "    'sex': 18,\n",
        "    'sab': 15,\n",
        "    'dom': 17\n",
        "}\n",
        "\n",
        "# adicione seu código abaixo.\n",
        "\n",
        "dia = input()\n",
        "\n",
        "if dia in temperaturas:\n",
        "  print(f\"{dia}:\",temperaturas[dia])\n",
        "else:\n",
        "  print(\"Erro: informe dia no formato seg, ter, qua, qui, sex, sab, dom\")\n",
        "#"
      ],
      "metadata": {
        "colab": {
          "base_uri": "https://localhost:8080/"
        },
        "id": "sK4pQ-za0gq6",
        "outputId": "dbef96ca-2479-4f3a-d8cb-e3d3285f71cc"
      },
      "execution_count": 24,
      "outputs": [
        {
          "output_type": "stream",
          "name": "stdout",
          "text": [
            "dom\n",
            "dom: 17\n"
          ]
        }
      ]
    },
    {
      "cell_type": "markdown",
      "source": [
        "Exercício 11:\n",
        "\n",
        "Complete o programa em Python abaixo para imprimir a quantidade total de frutas do dicionário.\n",
        "\n",
        "'# Dicionário\n",
        "Entrada:\n",
        "\n",
        "frutas = {\"Maçã\": 10, \"Banana\": 15, \"Laranja\": 12, \"Uva\": 32}\n",
        "\n",
        "Resultado:\n",
        "\n",
        "Total de frutas: 69\n",
        "\n"
      ],
      "metadata": {
        "id": "sG2jbxhG1ol7"
      }
    },
    {
      "cell_type": "code",
      "source": [
        "# Dicionário\n",
        "frutas = {\"Maçã\": 10, \"Banana\": 15, \"Laranja\": 12, \"Uva\": 32}\n",
        "\n",
        "total_frutas = 0\n",
        "\n",
        "# Adicione aqui seu código para calcular o total de frutas\n",
        "for quantidade in frutas.values():\n",
        "  total_frutas += quantidade\n",
        "\n",
        "# Imprimir o total\n",
        "print(\"Total de frutas:\", total_frutas)\n"
      ],
      "metadata": {
        "colab": {
          "base_uri": "https://localhost:8080/"
        },
        "id": "7F7eXGkb11w4",
        "outputId": "6a100495-b02d-49d7-dd84-02f8f5ba3451"
      },
      "execution_count": 25,
      "outputs": [
        {
          "output_type": "stream",
          "name": "stdout",
          "text": [
            "Total de frutas: 69\n"
          ]
        }
      ]
    },
    {
      "cell_type": "markdown",
      "source": [
        "Exercício 12:\n",
        "\n",
        "Complete o programa em Python abaixo para imprimir a frase:\n",
        "\n",
        "\"A capital do paísX é cidadeY.\"\n",
        "\n",
        "para cada par de país e capital do dicionário capitais.\n",
        "\n",
        "Entrada:\n",
        "\n",
        "'# Dicionário\n",
        "\n",
        "capitais = {\"Brasil\": \"Brasília\", \"França\": \"Paris\", \"Japão\": \"Tóquio\"}\n",
        "\n",
        "Saída:\n",
        "\n",
        "A capital do Brasil é Brasília.\n",
        "\n",
        "A capital do França é Paris.\n",
        "\n",
        "A capital do Japão é Tóquio.\n",
        "\n",
        "\n",
        "'# Dicionário\n",
        "\n",
        "capitais = {\"Brasil\": \"Brasília\", \"França\": \"Paris\", \"Japão\": \"Tóquio\"}\n",
        "\n",
        "'# Adicione aqui seu código para iterar sobre o dicionário"
      ],
      "metadata": {
        "id": "K0-CbACB2FtR"
      }
    },
    {
      "cell_type": "code",
      "source": [
        "# Dicionário\n",
        "capitais = {\"Brasil\": \"Brasília\", \"França\": \"Paris\", \"Japão\": \"Tóquio\"}\n",
        "\n",
        "# Adicione aqui seu código para iterar sobre o dicionário\n",
        "\n",
        "for pais, capital in capitais.items():\n",
        "  print(f\"A capital do {pais} é {capital}.\")\n",
        "#\n"
      ],
      "metadata": {
        "colab": {
          "base_uri": "https://localhost:8080/"
        },
        "id": "XESD_DTd2VaB",
        "outputId": "8a7980e0-a5ef-4f78-c978-3f9d7111a8ca"
      },
      "execution_count": 26,
      "outputs": [
        {
          "output_type": "stream",
          "name": "stdout",
          "text": [
            "A capital do Brasil é Brasília.\n",
            "A capital do França é Paris.\n",
            "A capital do Japão é Tóquio.\n"
          ]
        }
      ]
    }
  ]
}