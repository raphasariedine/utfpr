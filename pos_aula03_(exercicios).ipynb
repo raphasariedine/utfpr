{
  "nbformat": 4,
  "nbformat_minor": 0,
  "metadata": {
    "colab": {
      "provenance": [],
      "authorship_tag": "ABX9TyNOis/rN/b2br0ENISZf/af",
      "include_colab_link": true
    },
    "kernelspec": {
      "name": "python3",
      "display_name": "Python 3"
    },
    "language_info": {
      "name": "python"
    }
  },
  "cells": [
    {
      "cell_type": "markdown",
      "metadata": {
        "id": "view-in-github",
        "colab_type": "text"
      },
      "source": [
        "<a href=\"https://colab.research.google.com/github/raphasariedine/utfpr/blob/main/pos_aula03_(exercicios).ipynb\" target=\"_parent\"><img src=\"https://colab.research.google.com/assets/colab-badge.svg\" alt=\"Open In Colab\"/></a>"
      ]
    },
    {
      "cell_type": "markdown",
      "source": [
        "Strings"
      ],
      "metadata": {
        "id": "xoXb5fr63uhF"
      }
    },
    {
      "cell_type": "code",
      "execution_count": null,
      "metadata": {
        "colab": {
          "base_uri": "https://localhost:8080/"
        },
        "id": "uHyx3YOM3ETI",
        "outputId": "cc0bf931-99b0-40aa-eb5b-4ccbb6d1a7e4"
      },
      "outputs": [
        {
          "output_type": "stream",
          "name": "stdout",
          "text": [
            "6000.000\n"
          ]
        }
      ],
      "source": [
        "dados = \"Evandro|Financeiro|3000.0\"\n",
        "\n",
        "infos = dados.split('|')\n",
        "\n",
        "salario = float(infos[2])\n",
        "\n",
        "print(f\"{(salario*2):.3f}\")\n"
      ]
    },
    {
      "cell_type": "markdown",
      "source": [
        "Manipulando Strings..."
      ],
      "metadata": {
        "id": "sn8CphiDlfAL"
      }
    },
    {
      "cell_type": "code",
      "source": [
        "frase = \"Curso de Python\"\n",
        "print(frase.upper(), \": frase.upper() = Todas as letras maiúsculas\")\n",
        "print(frase.lower(), \": frase.lower() = Todas as letras minúsculas\")\n",
        "print(frase.title(), \": frase.title() = Primeira letra maiúscula\")\n",
        "print(frase.capitalize(), \": frase.capitalize() = Primeira letra maiúscula\")\n",
        "print(frase.swapcase(), \": frase.swapcase() = Troca maiúsculas e minúsculas\")\n",
        "print(frase.center(100), \": frase.center(100) = Centraliza a frase\")\n",
        "print(frase.ljust(100), \": frase.ljust(100) = Alinha a frase à esquerda\")\n",
        "print(frase.rjust(100), \": frase.rjust(100) = Alinha a frase à direita\")\n",
        "print(frase.zfill(100), \": frase.zfill(100) = Preenche com zeros à esquerda\")\n",
        "print(frase.replace('Python', 'Java'), \": frase.replace('Python', 'Java') = Substitui uma palavra por outra\")\n",
        "print(frase.count('o'), \": frase.count('o') = Conta a quantidade de vezes que uma letra aparece\")\n",
        "print(frase.find('Python'), \": frase.find('Python') = Mostra a posição da palavra\")\n",
        "print(frase.startswith('Curso'), \": frase.startswith('Curso') = Verifica se a frase começa com a palavra\")\n",
        "print(frase.endswith('Python'), \": frase.endswith('Python') = Verifica se a frase termina com a palavra\")\n",
        "print(frase.isalnum(), \": frase.isalnum() = Verifica se a frase é alfanumérica\")\n",
        "print(frase.isalpha(), \": frase.isalpha() = Verifica se a frase é alfabética\")\n",
        "print(frase.isnumeric(), \": frase.isnumeric() = Verifica se a frase é numérica\")\n",
        "print(frase.isdecimal(), \": frase.isdecimal() = Verifica se a frase é decimal\")\n",
        "print(frase.isdigit(), \": frase.isdigit() = Verifica se a frase é um dígito\")\n",
        "print(frase.isprintable(), \": frase.isprintable() = Verifica se a frase é imprimível\")\n",
        "print(frase.isspace(), \": frase.isspace() = Verifica se a frase é um espaço\")\n",
        "print(frase.istitle(), \": frase.istitle() = Verifica se a frase está capitalizada\")\n",
        "print(frase.isupper(), \": frase.isupper() = Verifica se a frase está em maiúsculas\")\n",
        "print(frase.islower(), \": frase.islower() = Verifica se a frase está em minúsculas\")\n",
        "print(frase.strip(), \": frase.strip() = Remove os espaços em branco no início e no final da frase\")\n",
        "print(frase.lstrip(), \": frase.lstrip() = Remove os espaços em branco no início da frase\")\n",
        "print(frase.rstrip(), \": frase.rstrip() = Remove os espaços em branco no final da frase\")\n",
        "print(frase.split(), \": frase.split() = Divide a frase em uma lista de palavras\")\n",
        "data = \"13-09-2024\"\n",
        "print(data.split('-'), \": data.split('-') = Divide a data em uma lista de datas\")\n",
        "print(frase.splitlines(), \": frase.splitlines() = Divide a frase em uma lista de linhas\")\n",
        "print(\".\".join(frase), \": '.'.join(frase) = Junta a frase com um separador\")\n",
        "\n",
        "print(\"Exemplos de slicing: fatiamentos da frase\")\n",
        "print(frase[0], \": frase[0] = Mostra a primeira letra da frase\")\n",
        "print(frase[1], \": frase[1] = Mostra a segunda letra da frase\")\n",
        "print(frase[-1], \": frase[-1] = Mostra a última letra da frase\")\n",
        "print(frase[9:], \": frase[9:] = Mostra a partir da nona letra da frase\")\n",
        "print(frase[:9], \": frase[:9] = Mostra até a nona letra da frase\")\n",
        "print(frase[-6:], \": frase[-6:] = Mostra os últimos seis caracteres da frase\")\n",
        "print(frase[::2], \": frase[::2] = Mostra os caracteres da frase de dois em dois\")\n",
        "print(frase[::-1], \": frase[::-1] = Mostra os caracteres da frase de trás para frente\")\n",
        "print(frase[1:10:2], \": frase[1:10:2] = Mostra os caracteres da frase de 1 a 10 de dois em dois\")\n",
        "print(frase[::], \": frase[::] = Mostra todos os caracteres da frase\")\n",
        "print(frase[0:5], \": frase[0:5] = Mostra os primeiros cinco caracteres da frase\")\n",
        "print(\".\".join(frase.split()), \": '.'.join(frase.split()) = Junta a frase com um separador\")\n",
        "print(frase.strip()[3:])\n",
        "print(\"Criando interpolação de strings\")\n",
        "print(f\"A frase é: {frase}\")\n",
        "curso = \"Python\"\n",
        "nova_frase = f\"O curso é: {curso}\"\n",
        "print(nova_frase)\n",
        "\n",
        "print(\"Também podemos trocar as palavras da frase\")\n",
        "novo_curso = \"O curso é de Java\"\n",
        "print(novo_curso)\n",
        "nova_frase_do_curso= novo_curso.replace(\"Java\", \"Python\")\n",
        "print(nova_frase_do_curso)\n",
        "\n",
        "print(nova_frase_do_curso.find(\"Space\"), \": nova_frase_do_curso.find('Space') = Mostra a posição da palavra Space\")\n",
        "print(\"Quando a função find não encontra a palavra, ela retorna -1\")"
      ],
      "metadata": {
        "colab": {
          "base_uri": "https://localhost:8080/"
        },
        "id": "4ZxbSBR6lhbj",
        "outputId": "e1b030ef-c056-4ca5-c29f-cee62d5a5bfa"
      },
      "execution_count": null,
      "outputs": [
        {
          "output_type": "stream",
          "name": "stdout",
          "text": [
            "CURSO DE PYTHON : frase.upper() = Todas as letras maiúsculas\n",
            "curso de python : frase.lower() = Todas as letras minúsculas\n",
            "Curso De Python : frase.title() = Primeira letra maiúscula\n",
            "Curso de python : frase.capitalize() = Primeira letra maiúscula\n",
            "cURSO DE pYTHON : frase.swapcase() = Troca maiúsculas e minúsculas\n",
            "                                          Curso de Python                                            : frase.center(100) = Centraliza a frase\n",
            "Curso de Python                                                                                      : frase.ljust(100) = Alinha a frase à esquerda\n",
            "                                                                                     Curso de Python : frase.rjust(100) = Alinha a frase à direita\n",
            "0000000000000000000000000000000000000000000000000000000000000000000000000000000000000Curso de Python : frase.zfill(100) = Preenche com zeros à esquerda\n",
            "Curso de Java : frase.replace('Python', 'Java') = Substitui uma palavra por outra\n",
            "2 : frase.count('o') = Conta a quantidade de vezes que uma letra aparece\n",
            "9 : frase.find('Python') = Mostra a posição da palavra\n",
            "True : frase.startswith('Curso') = Verifica se a frase começa com a palavra\n",
            "True : frase.endswith('Python') = Verifica se a frase termina com a palavra\n",
            "False : frase.isalnum() = Verifica se a frase é alfanumérica\n",
            "False : frase.isalpha() = Verifica se a frase é alfabética\n",
            "False : frase.isnumeric() = Verifica se a frase é numérica\n",
            "False : frase.isdecimal() = Verifica se a frase é decimal\n",
            "False : frase.isdigit() = Verifica se a frase é um dígito\n",
            "True : frase.isprintable() = Verifica se a frase é imprimível\n",
            "False : frase.isspace() = Verifica se a frase é um espaço\n",
            "False : frase.istitle() = Verifica se a frase está capitalizada\n",
            "False : frase.isupper() = Verifica se a frase está em maiúsculas\n",
            "False : frase.islower() = Verifica se a frase está em minúsculas\n",
            "Curso de Python : frase.strip() = Remove os espaços em branco no início e no final da frase\n",
            "Curso de Python : frase.lstrip() = Remove os espaços em branco no início da frase\n",
            "Curso de Python : frase.rstrip() = Remove os espaços em branco no final da frase\n",
            "['Curso', 'de', 'Python'] : frase.split() = Divide a frase em uma lista de palavras\n",
            "['13', '09', '2024'] : data.split('-') = Divide a data em uma lista de datas\n",
            "['Curso de Python'] : frase.splitlines() = Divide a frase em uma lista de linhas\n",
            "C.u.r.s.o. .d.e. .P.y.t.h.o.n : '.'.join(frase) = Junta a frase com um separador\n",
            "Exemplos de slicing: fatiamentos da frase\n",
            "C : frase[0] = Mostra a primeira letra da frase\n",
            "u : frase[1] = Mostra a segunda letra da frase\n",
            "n : frase[-1] = Mostra a última letra da frase\n",
            "Python : frase[9:] = Mostra a partir da nona letra da frase\n",
            "Curso de  : frase[:9] = Mostra até a nona letra da frase\n",
            "Python : frase[-6:] = Mostra os últimos seis caracteres da frase\n",
            "Crod yhn : frase[::2] = Mostra os caracteres da frase de dois em dois\n",
            "nohtyP ed osruC : frase[::-1] = Mostra os caracteres da frase de trás para frente\n",
            "us eP : frase[1:10:2] = Mostra os caracteres da frase de 1 a 10 de dois em dois\n",
            "Curso de Python : frase[::] = Mostra todos os caracteres da frase\n",
            "Curso : frase[0:5] = Mostra os primeiros cinco caracteres da frase\n",
            "Curso.de.Python : '.'.join(frase.split()) = Junta a frase com um separador\n",
            "so de Python\n",
            "Criando interpolação de strings\n",
            "A frase é: Curso de Python\n",
            "O curso é: Python\n",
            "Também podemos trocar as palavras da frase\n",
            "O curso é de Java\n",
            "O curso é de Python\n",
            "-1 : nova_frase_do_curso.find('Space') = Mostra a posição da palavra Space\n",
            "Quando a função find não encontra a palavra, ela retorna -1\n"
          ]
        }
      ]
    },
    {
      "cell_type": "markdown",
      "source": [
        "Funções\n",
        "\n",
        "Faz-se uma função quando você identifica que as linhas de códigos específicas irâo ser utilizado várias vezes."
      ],
      "metadata": {
        "id": "Wb_cfqn53xb1"
      }
    },
    {
      "cell_type": "code",
      "source": [
        "#funções\n",
        "\n",
        "def is_par(numero):\n",
        "    if numero%2==0:\n",
        "        print(f\"O numero {numero} é par\")\n",
        "    else:\n",
        "        print(f\"O numero {numero} é impar\")\n",
        "\n",
        "is_par(6)\n",
        "is_par(17)\n",
        "\n",
        "\n",
        "numero = 6\n",
        "\n",
        "\n",
        "if numero%2==0:\n",
        "    print(f\"O numero {numero} é par\")\n",
        "else:\n",
        "    print(f\"O numero {numero} é impar\")\n",
        "\n",
        "\n",
        "\n",
        "numero2=17\n",
        "\n",
        "if numero2%2==0:\n",
        "    print(f\"O numero {numero2} é par\")\n",
        "else:\n",
        "    print(f\"O numero {numero2} é impar\")\n",
        "\n",
        "\n",
        "\n"
      ],
      "metadata": {
        "colab": {
          "base_uri": "https://localhost:8080/"
        },
        "id": "BNWzgpDv3zNm",
        "outputId": "69a9788c-5a8e-4c94-81d2-16ec3dc6418a"
      },
      "execution_count": null,
      "outputs": [
        {
          "output_type": "stream",
          "name": "stdout",
          "text": [
            "O numero 6 é par\n",
            "O numero 17 é impar\n",
            "O numero 6 é par\n",
            "O numero 17 é impar\n"
          ]
        }
      ]
    },
    {
      "cell_type": "markdown",
      "source": [
        "As funções e as variáveis ficam gravadas na memória."
      ],
      "metadata": {
        "id": "qsM4438a6jRF"
      }
    },
    {
      "cell_type": "code",
      "source": [
        "numero = 9\n",
        "\n",
        "is_par(numero)\n",
        "\n",
        "is_par(100)\n",
        "\n",
        "print(salario)"
      ],
      "metadata": {
        "colab": {
          "base_uri": "https://localhost:8080/"
        },
        "id": "2OmdF8bc6WV6",
        "outputId": "9c289d08-7920-49b6-8b04-b4bf816b5d0e"
      },
      "execution_count": null,
      "outputs": [
        {
          "output_type": "stream",
          "name": "stdout",
          "text": [
            "O numero 9 é impar\n",
            "O numero 100 é par\n",
            "3000.0\n"
          ]
        }
      ]
    },
    {
      "cell_type": "code",
      "source": [
        "lista_valores = [1, 2, 3, 4, 5, 6]\n",
        "\n",
        "for num in lista_valores:\n",
        "    is_par(num)\n"
      ],
      "metadata": {
        "colab": {
          "base_uri": "https://localhost:8080/"
        },
        "id": "OGHHzUKr6qui",
        "outputId": "b5e22627-c1a0-4bfe-ff55-baf173d8f0d8"
      },
      "execution_count": null,
      "outputs": [
        {
          "output_type": "stream",
          "name": "stdout",
          "text": [
            "O numero 1 é impar\n",
            "O numero 2 é par\n",
            "O numero 3 é impar\n",
            "O numero 4 é par\n",
            "O numero 5 é impar\n",
            "O numero 6 é par\n"
          ]
        }
      ]
    },
    {
      "cell_type": "code",
      "source": [
        "def av_par(numero):\n",
        "    if numero%2==0:\n",
        "        return 0\n",
        "    else:\n",
        "        return 1\n",
        "\n",
        "\n",
        "resultado = av_par(10)\n",
        "\n",
        "print(resultado)\n",
        "\n",
        "if resultado == 0:\n",
        "  print(\"par\")\n",
        "else:\n",
        "  print(\"impar\")"
      ],
      "metadata": {
        "colab": {
          "base_uri": "https://localhost:8080/"
        },
        "id": "TQKt1Ae57zau",
        "outputId": "9292faae-313f-414b-82b7-1812c18e769a"
      },
      "execution_count": null,
      "outputs": [
        {
          "output_type": "stream",
          "name": "stdout",
          "text": [
            "0\n",
            "par\n"
          ]
        }
      ]
    },
    {
      "cell_type": "markdown",
      "source": [
        "Função para soma:"
      ],
      "metadata": {
        "id": "2XBqb1offY1n"
      }
    },
    {
      "cell_type": "code",
      "source": [
        "def soma(a, b):\n",
        "  print(\"Estou dentro da função...\")\n",
        "  temp = a + b\n",
        "  print(\"Fiz a soma\")\n",
        "  return temp\n",
        "\n",
        "# Aqui está meu programa principal numero1 = int (input (\"Informe número 1 \"))\n",
        "numero1 = int(input(\"Informe número 1: \"))\n",
        "numero2 = int(input(\"Informe número 2: \"))\n",
        "\n",
        "resultado = soma(numero1, numero2)\n",
        "print (f\"Soma = {resultado}\")\n"
      ],
      "metadata": {
        "colab": {
          "base_uri": "https://localhost:8080/"
        },
        "id": "IIahPGFbfN3Q",
        "outputId": "801494e2-20d6-4574-e3e0-220b4502d0e4"
      },
      "execution_count": 3,
      "outputs": [
        {
          "output_type": "stream",
          "name": "stdout",
          "text": [
            "Informe número 1: 1\n",
            "Informe número 2: 1\n",
            "Estou dentro da função...\n",
            "Fiz a soma\n",
            "Soma = 2\n",
            "30\n",
            "10+20=30\n",
            "50\n"
          ]
        }
      ]
    },
    {
      "cell_type": "code",
      "source": [
        "def soma(a,b):\n",
        "    return a+b\n",
        "\n",
        "print(soma(10,20))\n",
        "\n",
        "def print_soma(a,b):\n",
        "    print(f\"{a}+{b}={a+b}\")\n",
        "\n",
        "print_soma(10,20)\n"
      ],
      "metadata": {
        "colab": {
          "base_uri": "https://localhost:8080/"
        },
        "id": "idWoNqsCOCIz",
        "outputId": "977364ef-83c3-4e32-a4ad-125a9d25764a"
      },
      "execution_count": 5,
      "outputs": [
        {
          "output_type": "stream",
          "name": "stdout",
          "text": [
            "30\n",
            "10+20=30\n"
          ]
        }
      ]
    },
    {
      "cell_type": "markdown",
      "source": [
        "Fazendo uma função dicionário:"
      ],
      "metadata": {
        "id": "WLm9NHucNwgE"
      }
    },
    {
      "cell_type": "code",
      "source": [
        "def calculadora(a,b):\n",
        "  soma = a+b\n",
        "  subtracao = a-b\n",
        "  multiplicacao = a*b\n",
        "  divisao = a/b\n",
        "  return {\n",
        "    \"soma\" : soma,\n",
        "    \"subtracao\" : subtracao,\n",
        "    \"multiplicacao\" : multiplicacao,\n",
        "    \"divisao\" : divisao\n",
        "  }\n",
        "resultado = calculadora (10, 5)\n",
        "print(resultado)\n",
        "\n",
        "print(\"Resultado da multiplicação = \", resultado[\"multiplicacao\"]) # Output: 50\n"
      ],
      "metadata": {
        "colab": {
          "base_uri": "https://localhost:8080/"
        },
        "id": "-IqkTgHBNK_0",
        "outputId": "614e225e-04aa-4180-f25d-08ab515eed6b"
      },
      "execution_count": 4,
      "outputs": [
        {
          "output_type": "stream",
          "name": "stdout",
          "text": [
            "{'soma': 15, 'subtracao': 5, 'multiplicacao': 50, 'divisao': 2.0}\n",
            "Resultado da multiplicação =  50\n"
          ]
        }
      ]
    },
    {
      "cell_type": "markdown",
      "source": [
        "Parâmetros posicionais ou nomeados:\n",
        "\n",
        "É utilizado quando a função têm muitos parâmetros e fica difícil lembrar a ordem deles, por isso utiliza-se nomeados para não cometer erros."
      ],
      "metadata": {
        "id": "xO70Wyxfq4oB"
      }
    },
    {
      "cell_type": "code",
      "source": [
        "def soma(a,b):\n",
        "  return a+b\n",
        "\n",
        "resultado = soma(10,20)\n",
        "print(resultado)\n",
        "\n",
        "resultado = soma(a=10,b=20)\n",
        "print(resultado)\n",
        "\n",
        "resultado = soma(b=10,a=20)\n",
        "print(resultado)\n",
        "\n",
        "print(soma(a=2, b=3))\n"
      ],
      "metadata": {
        "colab": {
          "base_uri": "https://localhost:8080/"
        },
        "id": "EDhnQCrQq9xs",
        "outputId": "2483b391-7e04-4959-afdc-4e00ead5ee1a"
      },
      "execution_count": 6,
      "outputs": [
        {
          "output_type": "stream",
          "name": "stdout",
          "text": [
            "30\n",
            "30\n",
            "30\n",
            "5\n"
          ]
        }
      ]
    },
    {
      "cell_type": "markdown",
      "source": [
        "Função para verificar se o número é par:"
      ],
      "metadata": {
        "id": "9nVPIGmOsAl3"
      }
    },
    {
      "cell_type": "code",
      "source": [
        "def verificar_numero_par(numero):\n",
        "    if numero % 2 == 0:\n",
        "        return True\n",
        "    else:\n",
        "        return False"
      ],
      "metadata": {
        "id": "MSmeuqBhsED4"
      },
      "execution_count": null,
      "outputs": []
    },
    {
      "cell_type": "markdown",
      "source": [
        "Função para ler número:"
      ],
      "metadata": {
        "id": "n5auS5rFs_Bu"
      }
    },
    {
      "cell_type": "code",
      "source": [
        "def ler_numero():\n",
        "  numero = input(\"Informe um número: \")\n",
        "  if numero.isdigit():\n",
        "    return int(numero)\n",
        "  else:\n",
        "    print(\"Número inválido\")\n",
        "    return None\n",
        "\n",
        "\n",
        "ler_numero()"
      ],
      "metadata": {
        "colab": {
          "base_uri": "https://localhost:8080/"
        },
        "id": "dGx9g-2RtDm6",
        "outputId": "7155f328-e94a-4fe2-bbc3-8db70ae1dd53"
      },
      "execution_count": 9,
      "outputs": [
        {
          "name": "stdout",
          "output_type": "stream",
          "text": [
            "Informe um número: 4\n"
          ]
        },
        {
          "output_type": "execute_result",
          "data": {
            "text/plain": [
              "4"
            ]
          },
          "metadata": {},
          "execution_count": 9
        }
      ]
    },
    {
      "cell_type": "code",
      "source": [
        "def ler_numero():\n",
        "  while True:\n",
        "    numero = input(\"Informe um número: \")\n",
        "    if numero.isdigit():\n",
        "      return int(numero)\n",
        "\n",
        "resultado = ler_numero()\n",
        "print(resultado)"
      ],
      "metadata": {
        "colab": {
          "base_uri": "https://localhost:8080/"
        },
        "id": "wjtFv6fpt1Y5",
        "outputId": "14099110-90af-423d-de85-53afa1e4973f"
      },
      "execution_count": 10,
      "outputs": [
        {
          "output_type": "stream",
          "name": "stdout",
          "text": [
            "Informe um número: a\n",
            "Informe um número: g\n",
            "Informe um número: 221f\n",
            "Informe um número: 22\n",
            "22\n"
          ]
        }
      ]
    },
    {
      "cell_type": "markdown",
      "source": [
        "Escopo de variáveis:\n",
        "\n",
        "Variável global vs Variável local"
      ],
      "metadata": {
        "id": "_ydjWcQYub2s"
      }
    },
    {
      "cell_type": "code",
      "source": [
        "#Variável Global\n",
        "resultado = 0\n",
        "\n",
        "def soma(a,b):\n",
        "  global resultado # definição que 'resultado' tem escopo Global\n",
        "  resultado = a + b\n",
        "\n",
        "soma(6,1)\n",
        "\n",
        "print(resultado)\n",
        "\n",
        "\n",
        "# E se eu não usar o 'global' para declarar a variável? O que acontece? Vejamos:\n",
        "\n",
        "resultado = 0\n",
        "\n",
        "def soma(a,b):\n",
        "  resultado = a + b  # aqui a variável está apenas 'local'\n",
        "\n",
        "soma(6,1)\n",
        "\n",
        "print(resultado)"
      ],
      "metadata": {
        "colab": {
          "base_uri": "https://localhost:8080/"
        },
        "id": "0BpkqN0vuhuv",
        "outputId": "f3fab0f0-a70d-4a13-826e-bea97da144a0"
      },
      "execution_count": 14,
      "outputs": [
        {
          "output_type": "stream",
          "name": "stdout",
          "text": [
            "7\n",
            "0\n"
          ]
        }
      ]
    },
    {
      "cell_type": "markdown",
      "source": [
        "Implemente um programa em Python com:\n",
        "\n",
        "\n",
        "Uma função para ler N notas de alunos da turma de especialização.\n",
        "\n",
        "Uma função para calcular a média da turma.\n",
        "\n",
        "Uma função para imprimir apenas as notas maiores que a média da turma."
      ],
      "metadata": {
        "id": "f2Dux_dh8bIC"
      }
    },
    {
      "cell_type": "code",
      "source": [
        "def ler_notas(n):\n",
        "    \"\"\"Lê N notas de alunos e retorna uma lista com as notas.\"\"\"\n",
        "    notas = []\n",
        "    for i in range(n):\n",
        "        nota = float(input(f\"Digite a {i+1}ª nota: \"))\n",
        "        notas.append(nota)\n",
        "    return notas\n",
        "\n",
        "def calcular_media(notas):\n",
        "    \"\"\"Calcula a média de uma lista de notas.\"\"\"\n",
        "    soma = sum(notas)\n",
        "    media = soma / len(notas)\n",
        "    return media\n",
        "\n",
        "def imprimir_notas_acima_media(notas, media):\n",
        "    \"\"\"Imprime as notas maiores que a média.\"\"\"\n",
        "    print(\"Notas acima da média:\")\n",
        "    for nota in notas:\n",
        "        if nota > media:\n",
        "            print(nota)\n",
        "\n",
        "# Entrada do número de alunos\n",
        "n = int(input(\"Digite o número de alunos: \"))\n",
        "\n",
        "# Chamada das funções\n",
        "notas_turma = ler_notas(n)\n",
        "media_turma = calcular_media(notas_turma)\n",
        "imprimir_notas_acima_media(notas_turma, media_turma)"
      ],
      "metadata": {
        "colab": {
          "base_uri": "https://localhost:8080/"
        },
        "id": "locdvCai8aXF",
        "outputId": "9be39e7c-7b16-4f2b-ab7a-7bc0a9fca597"
      },
      "execution_count": 1,
      "outputs": [
        {
          "output_type": "stream",
          "name": "stdout",
          "text": [
            "Digite o número de alunos: 5\n",
            "Digite a 1ª nota: 10\n",
            "Digite a 2ª nota: 8\n",
            "Digite a 3ª nota: 7.5\n",
            "Digite a 4ª nota: 4.5\n",
            "Digite a 5ª nota: 9.9\n",
            "Notas acima da média:\n",
            "10.0\n",
            "8.0\n",
            "9.9\n"
          ]
        }
      ]
    },
    {
      "cell_type": "code",
      "source": [
        "def ler_notas(n):\n",
        "    notas = []\n",
        "    for i in range(n):\n",
        "        nota = float(input(f\"Digite a {i+1}ª nota: \"))\n",
        "        notas.append(nota)\n",
        "    return notas\n",
        "\n",
        "def calcular_media(media, notas):\n",
        "    soma = sum(notas)\n",
        "    media = soma / len(notas)\n",
        "    return media\n",
        "\n",
        "def print_notas_maiores(notas, media):\n",
        "    print(\"Notas acima da média:\")\n",
        "    for nota in notas:\n",
        "        if nota > media:\n",
        "            print(nota)\n",
        "\n",
        "media = 0\n",
        "\n",
        "notas = []\n",
        "numero_notas = int(input(\"Informe o número de notas: \"))\n",
        "notas = ler_notas(numero_notas)\n",
        "media = calcular_media(media, notas)\n",
        "print_notas_maiores(notas, media)"
      ],
      "metadata": {
        "colab": {
          "base_uri": "https://localhost:8080/"
        },
        "id": "3hreiABj9KUO",
        "outputId": "2303ae8a-1069-4be0-85b4-f5b554177f91"
      },
      "execution_count": 4,
      "outputs": [
        {
          "output_type": "stream",
          "name": "stdout",
          "text": [
            "Informe o número de notas: 3\n",
            "Digite a 1ª nota: 1\n",
            "Digite a 2ª nota: 2\n",
            "Digite a 3ª nota: 3\n",
            "Notas acima da média:\n",
            "3.0\n"
          ]
        }
      ]
    },
    {
      "cell_type": "code",
      "source": [
        "def ler_notas(numero_notas):\n",
        "  i = 0\n",
        "  notas_interna = []\n",
        "  while i < numero_notas:\n",
        "    nota = float(input(\"Informe a nota: \"))\n",
        "    notas_interna.append(nota)\n",
        "    i = i + 1\n",
        "  return notas_interna\n",
        "\n",
        "def calcular_media(notas, numero_notas):\n",
        "  media = 0\n",
        "  for nota in notas:\n",
        "    media = media + nota\n",
        "  media = media / numero_notas\n",
        "  return media\n",
        "\n",
        "def print_notas_maiores(notas, media):\n",
        "  print(f\"Lista de notas assima da média ({media:.1f}): \")\n",
        "  for nota in notas:\n",
        "    if nota >= media:\n",
        "      print(f\"Nota: {nota:.1f}\")\n",
        "\n",
        "notas = []\n",
        "numero_notas = int(input(\"Informe o número de notas: \"))\n",
        "notas = ler_notas(numero_notas)\n",
        "print(notas)\n",
        "media = calcular_media(notas, numero_notas)\n",
        "print(f\"{notas}, Media = {media:.1f}\")\n",
        "print_notas_maiores(notas, media)"
      ],
      "metadata": {
        "colab": {
          "base_uri": "https://localhost:8080/"
        },
        "id": "vV5yPy2LPowU",
        "outputId": "477a6e4b-3fe3-411c-d402-65c993bce4b5"
      },
      "execution_count": 13,
      "outputs": [
        {
          "output_type": "stream",
          "name": "stdout",
          "text": [
            "Informe o número de notas: 3\n",
            "Informe a nota: 10\n",
            "Informe a nota: 4\n",
            "Informe a nota: 5\n",
            "[10.0, 4.0, 5.0]\n",
            "[10.0, 4.0, 5.0], Media = 6.3\n",
            "Lista de notas assima da média (6.3): \n",
            "Nota: 10.0\n"
          ]
        }
      ]
    },
    {
      "cell_type": "markdown",
      "source": [
        "Módulos"
      ],
      "metadata": {
        "id": "iS16Ht719PkQ"
      }
    },
    {
      "cell_type": "markdown",
      "source": [
        "Módulos (BIBLIOTECA) são uma forma de organizar e reutilizar código:\n",
        "\n",
        "Eles são ARQUIVOS contendo definições de funções, classes e variáveis que podem ser importados para outros programas ou módulos.\n",
        "\n",
        "Útil para dividir o código em blocos lógicos!\n",
        "\n",
        "Para usar um módulo em um programa Python é necessário importá-lo.\n",
        "\n",
        "\n",
        "módulos ou bibliotecas são a mesma coisa!"
      ],
      "metadata": {
        "id": "r8AfsvdUTTUv"
      }
    },
    {
      "cell_type": "code",
      "source": [
        "\n",
        "import math    # importando o módulo de matemática\n",
        "\n",
        "raiz_quadrada = math.sqrt(9)\n",
        "\n",
        "print(raiz_quadrada)   # output: raiz de 9 é igual a 3\n",
        "\n"
      ],
      "metadata": {
        "colab": {
          "base_uri": "https://localhost:8080/"
        },
        "id": "Fwq_iX2v9NM4",
        "outputId": "2e024ae1-9b8e-462f-b651-7fda175959ed"
      },
      "execution_count": null,
      "outputs": [
        {
          "output_type": "stream",
          "name": "stdout",
          "text": [
            "3.0\n"
          ]
        }
      ]
    },
    {
      "cell_type": "code",
      "source": [
        "#Importando o módulo random\n",
        "\n",
        "import random\n",
        "\n",
        "numero_aleatorio = random.randint(1, 10)\n",
        "\n",
        "print(numero_aleatorio) # Output: número entre 1 e 10."
      ],
      "metadata": {
        "colab": {
          "base_uri": "https://localhost:8080/"
        },
        "id": "4uWPTSvTVOUH",
        "outputId": "1b20bbc7-5851-4a94-b5f6-bf39c0422a19"
      },
      "execution_count": 14,
      "outputs": [
        {
          "output_type": "stream",
          "name": "stdout",
          "text": [
            "10\n"
          ]
        }
      ]
    },
    {
      "cell_type": "code",
      "source": [
        "# importando o módulo datetime\n",
        "import datetime\n",
        "\n",
        "# obter data e horas atuais\n",
        "data_atual = datetime.datetime.now()\n",
        "\n",
        "print(\"Data e horas atuais: \", data_atual) # Output: data e hora atual.\n",
        "\n",
        "# obter uma data específica\n",
        "data_especifica = datetime.datetime(2024, 12, 29, 22, 44, 22)\n",
        "\n",
        "print(\"Data e horas específica: \", data_especifica)\n",
        "\n",
        "# converter uma string em um objeto datetime\n",
        "data_str = \"2024-12-29 22:44:12\"\n",
        "\n",
        "data_convertida = datetime.datetime.strptime(data_str, \"%Y-%m-%d %H:%M:%S\")\n",
        "print(\"Data convertida de string: \", data_convertida)\n"
      ],
      "metadata": {
        "colab": {
          "base_uri": "https://localhost:8080/"
        },
        "id": "O7qM-oPKV0h9",
        "outputId": "64b0463d-3889-49a1-c535-adfe261f65f4"
      },
      "execution_count": 18,
      "outputs": [
        {
          "output_type": "stream",
          "name": "stdout",
          "text": [
            "Data e horas atuais:  2024-10-08 23:00:04.904367\n",
            "Data e horas específica:  2024-12-29 22:44:22\n",
            "Data convertida de string:  2024-12-29 22:44:12\n"
          ]
        }
      ]
    },
    {
      "cell_type": "code",
      "source": [
        "import datetime\n",
        "\n",
        "agora = datetime.datetime.now()\n",
        "print(\"Data e hora atual: \", data_atual)\n",
        "\n",
        "data_formatada = agora.strftime(\"%d/%m/%Y %H:%M:%S\")\n",
        "print(\"Data formatada: \", data_formatada)\n",
        "\n",
        "data1 = datetime.datetime(2023, 2, 4)\n",
        "data2 = datetime.datetime(2024, 12, 29)\n",
        "\n",
        "diferenca = data2 - data1\n",
        "print(\"Diferença entre as datas: \", diferenca.days, \"dias\")\n"
      ],
      "metadata": {
        "colab": {
          "base_uri": "https://localhost:8080/"
        },
        "id": "m51310y3X_FC",
        "outputId": "5054f07e-9ec1-401f-817f-f13e4b39fea4"
      },
      "execution_count": 36,
      "outputs": [
        {
          "output_type": "stream",
          "name": "stdout",
          "text": [
            "Data e hora atual:  2024-10-08 23:06:33.915507\n",
            "Data formatada:  08/10/2024 23:10:25\n",
            "Diferença entre as datas:  694 dias\n"
          ]
        }
      ]
    },
    {
      "cell_type": "markdown",
      "source": [
        "Construindo seu próprio módulo:"
      ],
      "metadata": {
        "id": "jfZ9zf_k3Xtz"
      }
    },
    {
      "cell_type": "code",
      "source": [
        "# Arquivo meu_modulo.py\n",
        "\n",
        "# Função para reutilizar em outros arquivos do programa\n",
        "def imprimir_notas_acima_da_media(notas):\n",
        "  media = sum(notas)/ len(notas)\n",
        "  for nota in notas:\n",
        "    if nota >= media:\n",
        "      print(f\"Nota: {nota:.2f}\")\n",
        "\n",
        "# Definição da média padrão da universidade\n",
        "MEDIA_PADRAO = 7.0\n",
        "\n"
      ],
      "metadata": {
        "cellView": "code",
        "id": "U8u5XvpQ3asl"
      },
      "execution_count": null,
      "outputs": []
    },
    {
      "cell_type": "code",
      "source": [
        "# Arquivo principal\n",
        "\n",
        "# Importando código do 'meu_modulo'\n",
        "import meu_modulo\n",
        "\n",
        "notas = [10.0, 8, 6, 4.2, 5.5, 8, 6.2]\n",
        "\n",
        "print(\"Notas acima da média padrão\")\n",
        "for nota in notas:\n",
        "  if nota >= meu_modulo.MEDIA_PADRAO:  # Acessando variável/constante\n",
        "    print(f\"Nota: {nota:.2f}\")\n",
        "\n",
        "print(\"Notas acima da média da turma\")\n",
        "meu_modulo.imprimir_notas_acima_da_media(notas) # Chamando médoto"
      ],
      "metadata": {
        "colab": {
          "base_uri": "https://localhost:8080/"
        },
        "id": "fT1uIAq25UmT",
        "outputId": "fe38bc9d-ac1e-461a-9220-13809c070d71"
      },
      "execution_count": 3,
      "outputs": [
        {
          "output_type": "stream",
          "name": "stdout",
          "text": [
            "6000.000\n",
            "CURSO DE PYTHON : frase.upper() = Todas as letras maiúsculas\n",
            "curso de python : frase.lower() = Todas as letras minúsculas\n",
            "Curso De Python : frase.title() = Primeira letra maiúscula\n",
            "Curso de python : frase.capitalize() = Primeira letra maiúscula\n",
            "cURSO DE pYTHON : frase.swapcase() = Troca maiúsculas e minúsculas\n",
            "                                          Curso de Python                                            : frase.center(100) = Centraliza a frase\n",
            "Curso de Python                                                                                      : frase.ljust(100) = Alinha a frase à esquerda\n",
            "                                                                                     Curso de Python : frase.rjust(100) = Alinha a frase à direita\n",
            "0000000000000000000000000000000000000000000000000000000000000000000000000000000000000Curso de Python : frase.zfill(100) = Preenche com zeros à esquerda\n",
            "Curso de Java : frase.replace('Python', 'Java') = Substitui uma palavra por outra\n",
            "2 : frase.count('o') = Conta a quantidade de vezes que uma letra aparece\n",
            "9 : frase.find('Python') = Mostra a posição da palavra\n",
            "True : frase.startswith('Curso') = Verifica se a frase começa com a palavra\n",
            "True : frase.endswith('Python') = Verifica se a frase termina com a palavra\n",
            "False : frase.isalnum() = Verifica se a frase é alfanumérica\n",
            "False : frase.isalpha() = Verifica se a frase é alfabética\n",
            "False : frase.isnumeric() = Verifica se a frase é numérica\n",
            "False : frase.isdecimal() = Verifica se a frase é decimal\n",
            "False : frase.isdigit() = Verifica se a frase é um dígito\n",
            "True : frase.isprintable() = Verifica se a frase é imprimível\n",
            "False : frase.isspace() = Verifica se a frase é um espaço\n",
            "False : frase.istitle() = Verifica se a frase está capitalizada\n",
            "False : frase.isupper() = Verifica se a frase está em maiúsculas\n",
            "False : frase.islower() = Verifica se a frase está em minúsculas\n",
            "Curso de Python : frase.strip() = Remove os espaços em branco no início e no final da frase\n",
            "Curso de Python : frase.lstrip() = Remove os espaços em branco no início da frase\n",
            "Curso de Python : frase.rstrip() = Remove os espaços em branco no final da frase\n",
            "['Curso', 'de', 'Python'] : frase.split() = Divide a frase em uma lista de palavras\n",
            "['13', '09', '2024'] : data.split('-') = Divide a data em uma lista de datas\n",
            "['Curso de Python'] : frase.splitlines() = Divide a frase em uma lista de linhas\n",
            "C.u.r.s.o. .d.e. .P.y.t.h.o.n : '.'.join(frase) = Junta a frase com um separador\n",
            "Exemplos de slicing: fatiamentos da frase\n",
            "C : frase[0] = Mostra a primeira letra da frase\n",
            "u : frase[1] = Mostra a segunda letra da frase\n",
            "n : frase[-1] = Mostra a última letra da frase\n",
            "Python : frase[9:] = Mostra a partir da nona letra da frase\n",
            "Curso de  : frase[:9] = Mostra até a nona letra da frase\n",
            "Python : frase[-6:] = Mostra os últimos seis caracteres da frase\n",
            "Crod yhn : frase[::2] = Mostra os caracteres da frase de dois em dois\n",
            "nohtyP ed osruC : frase[::-1] = Mostra os caracteres da frase de trás para frente\n",
            "us eP : frase[1:10:2] = Mostra os caracteres da frase de 1 a 10 de dois em dois\n",
            "Curso de Python : frase[::] = Mostra todos os caracteres da frase\n",
            "Curso : frase[0:5] = Mostra os primeiros cinco caracteres da frase\n",
            "Curso.de.Python : '.'.join(frase.split()) = Junta a frase com um separador\n",
            "so de Python\n",
            "Criando interpolação de strings\n",
            "A frase é: Curso de Python\n",
            "O curso é: Python\n",
            "Também podemos trocar as palavras da frase\n",
            "O curso é de Java\n",
            "O curso é de Python\n",
            "-1 : nova_frase_do_curso.find('Space') = Mostra a posição da palavra Space\n",
            "Quando a função find não encontra a palavra, ela retorna -1\n",
            "O numero 6 é par\n",
            "O numero 17 é impar\n",
            "O numero 6 é par\n",
            "O numero 17 é impar\n",
            "O numero 9 é impar\n",
            "O numero 100 é par\n",
            "3000.0\n",
            "O numero 1 é impar\n",
            "O numero 2 é par\n",
            "O numero 3 é impar\n",
            "O numero 4 é par\n",
            "O numero 5 é impar\n",
            "O numero 6 é par\n",
            "0\n",
            "par\n",
            "Informe número 1: 1\n",
            "Informe número 2: 2\n",
            "Estou dentro da função...\n",
            "Fiz a soma\n",
            "Soma = 3\n",
            "30\n",
            "10+20=30\n",
            "{'soma': 15, 'subtracao': 5, 'multiplicacao': 50, 'divisao': 2.0}\n",
            "Resultado da multiplicação =  50\n",
            "30\n",
            "30\n",
            "30\n",
            "5\n",
            "Informe um número: 3\n",
            "Informe um número: 2\n",
            "2\n",
            "7\n",
            "0\n",
            "Digite o número de alunos: 3\n",
            "Digite a 1ª nota: 1\n",
            "Digite a 2ª nota: 2\n",
            "Digite a 3ª nota: 3\n",
            "Notas acima da média:\n",
            "3.0\n",
            "Informe o número de notas: 2\n",
            "Digite a 1ª nota: 1\n",
            "Digite a 2ª nota: 2\n",
            "Notas acima da média:\n",
            "2.0\n",
            "Informe o número de notas: 3\n",
            "Informe a nota: 1\n",
            "Informe a nota: 2\n",
            "Informe a nota: 3\n",
            "[1.0, 2.0, 3.0]\n",
            "[1.0, 2.0, 3.0], Media = 2.0\n",
            "Lista de notas assima da média (2.0): \n",
            "Nota: 2.0\n",
            "Nota: 3.0\n",
            "3.0\n",
            "8\n",
            "Data e horas atuais:  2024-10-09 20:21:17.263150\n",
            "Data e horas específica:  2024-12-29 22:44:22\n",
            "Data convertida de string:  2024-12-29 22:44:12\n",
            "Data e hora atual:  2024-10-09 20:21:17.263150\n",
            "Data formatada:  09/10/2024 20:21:17\n",
            "Diferença entre as datas:  694 dias\n",
            "Notas acima da média padrão\n",
            "Nota: 10.00\n",
            "Nota: 8.00\n",
            "Nota: 8.00\n",
            "Notas acima da média da turma\n",
            "Nota: 10.00\n",
            "Nota: 8.00\n",
            "Nota: 8.00\n",
            "1\n",
            "1\n",
            "1\n",
            "1\n",
            "1\n",
            "1\n",
            "A palavra 1 está na frase.\n",
            "1\n",
            "Senha válida\n",
            "Notas acima da média padrão\n",
            "Nota: 10.00\n",
            "Nota: 8.00\n",
            "Nota: 8.00\n",
            "Notas acima da média da turma\n",
            "Nota: 10.00\n",
            "Nota: 8.00\n",
            "Nota: 8.00\n"
          ]
        }
      ]
    },
    {
      "cell_type": "markdown",
      "source": [
        "Atividade prática 03:"
      ],
      "metadata": {
        "id": "yginfs4LecWi"
      }
    },
    {
      "cell_type": "markdown",
      "source": [
        "Questão 01:\n",
        "Implemente um programa em Python para ler da entrada padrão uma string e imprimir na saída padrão a string lida com todos os caracteres maiúsculos.\n",
        "\n"
      ],
      "metadata": {
        "id": "bqob_9VoefQT"
      }
    },
    {
      "cell_type": "code",
      "source": [
        "x=input()\n",
        "print(x.upper())"
      ],
      "metadata": {
        "id": "bblKlrWfeh2W"
      },
      "execution_count": null,
      "outputs": []
    },
    {
      "cell_type": "markdown",
      "source": [
        "Questão 02:\n",
        "Implemente uma função chamada imprimir_mensagem() que imprime no console a mensagem \"Olá aluno de Python!\"\n",
        "\n",
        "Atenção\n",
        "\n",
        "Neste exercício você precisa implementar apenas a função.\n",
        "\n",
        "O código que chama a função já está configurado na questão, em cada caso de teste."
      ],
      "metadata": {
        "id": "zSeer42Cekng"
      }
    },
    {
      "cell_type": "code",
      "source": [
        "def imprimir_mensagem():\n",
        "    print(\"Olá aluno de Python!\")\n"
      ],
      "metadata": {
        "id": "nA84K081eslF"
      },
      "execution_count": null,
      "outputs": []
    },
    {
      "cell_type": "markdown",
      "source": [
        "Questão 03:\n",
        "Implemente uma função chamada imprimir_mensagem(nome) que imprime no console a mensagem \"Olá 'Nome', bem vindo ao Python!\"\n",
        "\n",
        "Atenção\n",
        "\n",
        "Neste exercício você precisa implementar apenas a função.\n",
        "\n",
        "O código que chama a função já está configurado na questão, em cada caso de teste."
      ],
      "metadata": {
        "id": "gXP0OirZeu7W"
      }
    },
    {
      "cell_type": "code",
      "source": [
        "def imprimir_mensagem(nome):\n",
        "    print(f\"Olá {nome}, bem vindo ao Python!\")"
      ],
      "metadata": {
        "id": "e_QxuNmYey0O"
      },
      "execution_count": null,
      "outputs": []
    },
    {
      "cell_type": "markdown",
      "source": [
        "Questão 04:\n",
        "Implemente uma função chamada comp que recebe dois valores numéricos e retorna um inteiro 0 se os dois valores são iguais, o valor 1 se o primeiro é maior que o segundo e -1 caso contrário.\n",
        "\n",
        "Entrada\n",
        "\n",
        "A sua função deverá receber dois valores numéricos como parâmetro\n",
        "\n",
        "Saída\n",
        "\n",
        "A sua função deverá retornar 0, 1 ou -1.\n",
        "\n",
        "Atenção\n",
        "\n",
        "Neste exercício você precisa implementar apenas a função.\n",
        "O código que chama a função já está configurado na questão, em cada caso de teste."
      ],
      "metadata": {
        "id": "RhACAa8le1Tf"
      }
    },
    {
      "cell_type": "code",
      "source": [
        "def comp(a,b):\n",
        "    if (a==b):\n",
        "        return 0\n",
        "    elif (a>b):\n",
        "        return 1\n",
        "    else:\n",
        "        return -1"
      ],
      "metadata": {
        "id": "DPu43cDXe5rO"
      },
      "execution_count": null,
      "outputs": []
    },
    {
      "cell_type": "markdown",
      "source": [
        "Questão 05:\n",
        "Implemente uma função chamada analisar que recebe uma lista de números e imprime no console o maior e o menor valor encontrado.\n",
        "\n",
        "Entrada\n",
        "\n",
        "A sua função deverá receber a lista de números\n",
        "\n",
        "Saída\n",
        "\n",
        "Imprimir o maior e o menor valor da lista.\n",
        "\n",
        "Atenção\n",
        "\n",
        "Neste exercício você precisa implementar apenas a função.\n",
        "O código que chama a função já está configurado na questão, em cada caso de teste."
      ],
      "metadata": {
        "id": "_qQ5ObUxe8Er"
      }
    },
    {
      "cell_type": "code",
      "source": [
        "def analisar(lista):\n",
        "    print(\"Maior:\", max(lista))\n",
        "    print(\"Menor:\", min(lista))"
      ],
      "metadata": {
        "id": "PZ32xIupe_2B"
      },
      "execution_count": null,
      "outputs": []
    },
    {
      "cell_type": "markdown",
      "source": [
        "Questão 06:\n",
        "Implemente uma função chamada  ler_numeros(qtde) que recebe a quantidade de números que devem ser lidos da entrada padrão. Depois, retorna a lista contendo todos os números lidos.\n",
        "\n",
        "A lista retornada pela sua função será impressa no console. Você precisa se preocupar apenas em ler os dados e adicionar na lista.\n",
        "\n",
        "Atenção\n",
        "\n",
        "Neste exercício você precisa implementar apenas a função.\n",
        "O código que chama a função já está configurado na questão, em cada caso de teste."
      ],
      "metadata": {
        "id": "ngFX5EpifCUx"
      }
    },
    {
      "cell_type": "code",
      "source": [
        "def ler_numeros(qtde):\n",
        "    lista = []\n",
        "    for i in range(qtde):\n",
        "        lido = int(input())\n",
        "        lista.append(lido)\n",
        "\n",
        "    return lista"
      ],
      "metadata": {
        "id": "I46cS5_hfFsn"
      },
      "execution_count": null,
      "outputs": []
    },
    {
      "cell_type": "markdown",
      "source": [
        "Questão 07:\n",
        "Implemente uma função chamada  print_aluno(aluno) que recebe um dicionário 'aluno' e imprime no console os dados do aluno conforme formatação abaixo.\n",
        "\n",
        "Atenção\n",
        "\n",
        "Neste exercício você precisa implementar apenas a função.\n",
        "O código que chama a função já está configurado na questão, em cada caso de teste."
      ],
      "metadata": {
        "id": "b1Eh8B_MfHnn"
      }
    },
    {
      "cell_type": "code",
      "source": [
        "def print_aluno(aluno):\n",
        "    print(f\"Nome: {aluno['nome']}\")\n",
        "    print(f\"Matrícula: {aluno['matricula']}\")\n",
        "    print(f\"Disciplina: {aluno['disciplina']}\")\n",
        "    print(f\"Nota: {aluno['nota']}\")"
      ],
      "metadata": {
        "id": "4hpfc4NjfLH3"
      },
      "execution_count": null,
      "outputs": []
    },
    {
      "cell_type": "markdown",
      "source": [
        "Questão 08:\n",
        "Implemente um programa em Python para ler da entrada padrão uma string.\n",
        "\n",
        "Depois substitua todas as ocorrências de vogais pelo caractere '#'.\n",
        "\n",
        "Por fim, imprima a nova string.\n",
        "\n",
        "Dica: não é necessário considerar vogais acentuadas (á, ã, é, etc)."
      ],
      "metadata": {
        "id": "v2VaUhGwfNcS"
      }
    },
    {
      "cell_type": "code",
      "source": [
        "leitura = input()\n",
        "leitura = leitura.replace('a', '#')\n",
        "leitura = leitura.replace('e', '#')\n",
        "leitura = leitura.replace('i', '#')\n",
        "leitura = leitura.replace('o', '#')\n",
        "leitura = leitura.replace('u', '#')\n",
        "leitura = leitura.replace('A', '#')\n",
        "leitura = leitura.replace('E', '#')\n",
        "leitura = leitura.replace('I', '#')\n",
        "leitura = leitura.replace('O', '#')\n",
        "leitura = leitura.replace('U', '#')\n",
        "print(leitura)"
      ],
      "metadata": {
        "id": "pK-ZtjSifQri"
      },
      "execution_count": null,
      "outputs": []
    },
    {
      "cell_type": "markdown",
      "source": [
        "Questão 09:\n",
        "Implemente um programa em Python para ler da entrada padrão uma frase (string).\n",
        "\n",
        "Depois, leia da entrada padrão uma palavra (string).\n",
        "\n",
        "Por fim, imprima na saída padrão se a palavra está contida na frase."
      ],
      "metadata": {
        "id": "bokWBr1gfTat"
      }
    },
    {
      "cell_type": "code",
      "source": [
        "frase = input()\n",
        "palavra = input()\n",
        "procura = frase.find(palavra)\n",
        "if procura == -1:\n",
        "    print(f\"A palavra {palavra} não está na frase.\")\n",
        "else:\n",
        "    print(f\"A palavra {palavra} está na frase.\")"
      ],
      "metadata": {
        "id": "GETJVNzCfW5N"
      },
      "execution_count": null,
      "outputs": []
    },
    {
      "cell_type": "markdown",
      "source": [
        "Questão 10:\n",
        "Implemente um programa em Python para ler da entrada padrão uma senha.\n",
        "\n",
        "Verifique se essa senha contém apenas caracteres numéricos e informe ao usuário:\n",
        "\n",
        "\"Senha válida\"\n",
        "\n",
        "ou\n",
        "\n",
        "\"Senha inválida, informe valores numéricos\""
      ],
      "metadata": {
        "id": "ixRYQJwRfYpB"
      }
    },
    {
      "cell_type": "code",
      "source": [
        "senha = input()\n",
        "verifica = senha.isdigit()\n",
        "if verifica:\n",
        "    print(\"Senha válida\")\n",
        "else:\n",
        "    print(\"Senha inválida, informe valores numéricos\")"
      ],
      "metadata": {
        "id": "vvIbAQw_fbsy"
      },
      "execution_count": null,
      "outputs": []
    }
  ]
}