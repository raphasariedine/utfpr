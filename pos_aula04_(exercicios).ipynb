{
  "nbformat": 4,
  "nbformat_minor": 0,
  "metadata": {
    "colab": {
      "provenance": [],
      "authorship_tag": "ABX9TyN7VhzwCRh/F+VhMSvWOeCg",
      "include_colab_link": true
    },
    "kernelspec": {
      "name": "python3",
      "display_name": "Python 3"
    },
    "language_info": {
      "name": "python"
    }
  },
  "cells": [
    {
      "cell_type": "markdown",
      "metadata": {
        "id": "view-in-github",
        "colab_type": "text"
      },
      "source": [
        "<a href=\"https://colab.research.google.com/github/raphasariedine/utfpr/blob/main/pos_aula04_(exercicios).ipynb\" target=\"_parent\"><img src=\"https://colab.research.google.com/assets/colab-badge.svg\" alt=\"Open In Colab\"/></a>"
      ]
    },
    {
      "cell_type": "markdown",
      "source": [
        "O que é o Pandas?\n",
        "\n",
        "Pandas é uma biblioteca de software poderosa e versátil, escrita em Python, especialmente projetada para a manipulação e análise de dados. Ela oferece estruturas de dados eficientes e ferramentas flexíveis para lidar com grandes conjuntos de dados, tornando-a uma ferramenta essencial para cientistas de dados, analistas e qualquer pessoa que trabalhe com dados em Python.\n",
        "\n",
        "Principal uso é a manipulação de dados tabulares (datasets)\n",
        "\n",
        "Com o pandas é possível carregar, manipular, explorar e até visualizar conjuntos de dados.\n",
        "\n",
        "É uma das bibliotecas mais utilizadas em ciência de dados.\n",
        "\n",
        "Estrutura de dados principais:\n",
        "\n",
        "• Series\n",
        "\n",
        "• DataFrame\n",
        "\n",
        "Por que usar Pandas?\n",
        "\n",
        "Estruturas de dados intuitivas: O Pandas introduz duas estruturas de dados principais:\n",
        "\n",
        "Series: Uma matriz unidimensional rotulada, similar a uma coluna em uma planilha.\n",
        "\n",
        "DataFrame: Uma estrutura tabular bidimensional, semelhante a uma planilha inteira, com linhas e colunas rotuladas.\n",
        "\n",
        "Facilidade de uso: A sintaxe do Pandas é inspirada no Excel, tornando-o familiar para muitos usuários.\n",
        "\n",
        "Performance: O Pandas é otimizado para realizar operações em grandes conjuntos de dados de forma eficiente.\n",
        "\n",
        "Flexibilidade: Permite lidar com diversos tipos de dados, desde numéricos até textuais e datas.\n",
        "\n",
        "Integração com outras bibliotecas: Trabalha bem com outras bibliotecas populares de Python, como NumPy, Matplotlib e Scikit-learn.\n",
        "\n",
        "\n",
        "Para que serve o Pandas?\n",
        "\n",
        "Leitura e escrita de dados: Carregar dados de diversos formatos (CSV, Excel, bases de dados SQL, etc.) e salvar os resultados em diferentes formatos.\n",
        "\n",
        "Limpeza e preparação de dados: Manipular dados faltantes, remover duplicados, transformar tipos de dados, etc.\n",
        "\n",
        "Análise exploratória de dados: Calcular estatísticas descritivas, criar visualizações, identificar padrões e correlações.\n",
        "\n",
        "Modelagem de dados: Preparar dados para serem utilizados em modelos de machine learning.\n",
        "\n",
        "\n",
        "Um exemplo simples\n",
        "\n",
        "Python\n",
        "\n",
        "    import pandas as pd\n",
        "\n",
        "    `#Criando um DataFrame\n",
        "\n",
        "    data = {'Nome': ['Alice', 'Bob', 'Charlie'],\n",
        "\n",
        "          'Idade': [25, 30, 22],\n",
        "\n",
        "          'Cidade': ['São Paulo', 'Rio de Janeiro', 'Belo Horizonte']}\n",
        "\n",
        "    df = pd.DataFrame(data)\n",
        "\n",
        "    `# Visualizando o DataFrame\n",
        "\n",
        "    print(df)\n",
        "\n",
        "\n",
        "Em resumo, o Pandas é uma ferramenta indispensável para qualquer pessoa que trabalhe com dados em Python. Ele simplifica tarefas complexas e permite que você extraia insights valiosos de seus dados de forma eficiente.\n",
        "\n",
        "Gostaria de aprender mais sobre alguma funcionalidade específica do Pandas?\n",
        "\n",
        "Leitura e escrita de arquivos\n",
        "\n",
        "Manipulação de DataFrames\n",
        "\n",
        "Análise exploratória de dados\n",
        "\n",
        "Visualização de dados"
      ],
      "metadata": {
        "id": "Fy7wWbnQE8QM"
      }
    },
    {
      "cell_type": "code",
      "execution_count": null,
      "metadata": {
        "id": "Hdr3mkgY9kXI"
      },
      "outputs": [],
      "source": [
        "# Importando a biblioteca\n",
        "\n",
        "# import pandas #\n",
        "\n",
        "# Ou, você pode importar e dar uma apelido para ela\n",
        "\n",
        "import pandas as pd\n",
        "\n",
        "# Usando a opção acima, você pode referenciar a biblioteca por\n",
        "\n",
        "# meio de ‘pd’, ao invés de ‘pandas’"
      ]
    },
    {
      "cell_type": "markdown",
      "source": [
        "Módulo ou Biblioteca \"Pandas\"\n",
        "\n",
        "Estrutura de Dados:\n",
        "\n",
        "SÉRIES\n",
        "\n",
        "\n",
        "\n",
        "É uma estrutura de dados unidimensional.\n",
        "\n",
        "Pode ser entendida como uma coluna de dados."
      ],
      "metadata": {
        "id": "ryPPBesDGgqp"
      }
    },
    {
      "cell_type": "code",
      "source": [
        "import pandas as pd\n",
        "\n",
        "# Criando um objeto Series\n",
        "s = pd.Series([1, 8, 2, 3, 7, 4, 9, 5])\n",
        "print(s)\n",
        "\n",
        "# Acessando elemento por meio do índice\n",
        "print(s[0])\n",
        "\n",
        "# Seleção condicional de elementos\n",
        "print(s[s > 3]) # 8, 7, 4, 9, 5\n",
        "\n",
        "# Operações matemáticas\n",
        "s = s + 10 # 11, 18, 12, 13, 17, 14, 29, 15\n",
        "print(s)\n",
        "\n",
        "# Média\n",
        "print(s.mean()) # 14.875\n",
        "\n",
        "# Soma\n",
        "print(s.sum()) # 119\n",
        "\n",
        "# Máximo\n",
        "print(s.max()) # 19\n",
        "\n",
        "# Mínimo\n",
        "print(s.min()) # 11\n",
        "\n",
        "# Desvio padrão\n",
        "print(s.std()) # 3.87"
      ],
      "metadata": {
        "colab": {
          "base_uri": "https://localhost:8080/"
        },
        "id": "RZgH-mXdGv92",
        "outputId": "51702343-06a7-456a-ee5c-1c73ee383503"
      },
      "execution_count": null,
      "outputs": [
        {
          "output_type": "stream",
          "name": "stdout",
          "text": [
            "0    1\n",
            "1    8\n",
            "2    2\n",
            "3    3\n",
            "4    7\n",
            "5    4\n",
            "6    9\n",
            "7    5\n",
            "dtype: int64\n",
            "1\n",
            "1    8\n",
            "4    7\n",
            "5    4\n",
            "6    9\n",
            "7    5\n",
            "dtype: int64\n",
            "0    11\n",
            "1    18\n",
            "2    12\n",
            "3    13\n",
            "4    17\n",
            "5    14\n",
            "6    19\n",
            "7    15\n",
            "dtype: int64\n",
            "14.875\n",
            "119\n",
            "19\n",
            "11\n"
          ]
        }
      ]
    },
    {
      "cell_type": "markdown",
      "source": [
        "Módulo ou Biblioteca \"Pandas\"\n",
        "\n",
        "Estrutura de Dados:\n",
        "\n",
        "DATAFRAME\n",
        "\n",
        "Uma das estrutura de dados mais utilizadas no pandas.\n",
        "\n",
        "Um DataFrame é um objeto de duas dimensões com as seguintes características:\n",
        "\n",
        "• Pode armazenar dados de diferentes tipos em suas colunas.\n",
        "\n",
        "• É similar a uma planilha de dados ou uma tabela de banco de dados.\n",
        "\n",
        "• Os dados podem ser acessados através de rótulos ao invés de índices.\n",
        "\n",
        "• Fornece vários métodos para manipular e transformar os dados.\n",
        "\n",
        "• Pode ser criado por meio da leitura de vários tipos de arquivos\n",
        "\n",
        "(CSV, Planilha Excel, JSON, XML, Texto, etc)"
      ],
      "metadata": {
        "id": "-vThNBGXJHaR"
      }
    },
    {
      "cell_type": "markdown",
      "source": [
        "Criando um DataFrame de um dicionário:"
      ],
      "metadata": {
        "id": "WDpwksvGK3v1"
      }
    },
    {
      "cell_type": "code",
      "source": [
        "import pandas as pd\n",
        "\n",
        "nomes = ['José', 'Maria', 'João', 'Ana', 'Pedro']\n",
        "idades = [25, 30, 35, 40, 45]\n",
        "cidade = ['São Paulo', 'Rio de Janeiro', 'Belo Horizonte', 'Curitiba', 'Porto Alegre']\n",
        "\n",
        "dados = {'Nome': nomes, 'Idade': idades, 'Cidade': cidade}\n",
        "\n",
        "df = pd.DataFrame(data=dados) # Criando um DataFrame a partir de um dicionário\n",
        "\n",
        "print(df)\n"
      ],
      "metadata": {
        "colab": {
          "base_uri": "https://localhost:8080/"
        },
        "id": "7BXU0Y6zJYyh",
        "outputId": "ecdba632-8533-4fe9-b787-724e6b78517e"
      },
      "execution_count": null,
      "outputs": [
        {
          "output_type": "stream",
          "name": "stdout",
          "text": [
            "    Nome  Idade          Cidade\n",
            "0   José     25       São Paulo\n",
            "1  Maria     30  Rio de Janeiro\n",
            "2   João     35  Belo Horizonte\n",
            "3    Ana     40        Curitiba\n",
            "4  Pedro     45    Porto Alegre\n"
          ]
        }
      ]
    },
    {
      "cell_type": "markdown",
      "source": [
        "Criando um DataFrame de uma lista de tuplas:"
      ],
      "metadata": {
        "id": "L0AGR90OKhCQ"
      }
    },
    {
      "cell_type": "code",
      "source": [
        "import pandas as pd\n",
        "\n",
        "nomes = ['José', 'Maria', 'João', 'Ana', 'Pedro']\n",
        "idades = [25, 30, 35, 40, 45]\n",
        "cidade = ['São Paulo', 'Rio de Janeiro', 'Belo Horizonte', 'Curitiba', 'Porto Alegre']\n",
        "\n",
        "dados = list(zip(nomes,idades,cidade))\n",
        "\n",
        "print(dados)\n",
        "\n",
        "\n",
        "df = pd.DataFrame(data=dados) # Criando um DataFrame a partir de uma lista de tuplas\n",
        "\n",
        "print(df)"
      ],
      "metadata": {
        "colab": {
          "base_uri": "https://localhost:8080/"
        },
        "id": "WqerKqhkKCBx",
        "outputId": "b2ea0fa6-5ea5-4c62-cc42-39930006db63"
      },
      "execution_count": null,
      "outputs": [
        {
          "output_type": "stream",
          "name": "stdout",
          "text": [
            "[('José', 25, 'São Paulo'), ('Maria', 30, 'Rio de Janeiro'), ('João', 35, 'Belo Horizonte'), ('Ana', 40, 'Curitiba'), ('Pedro', 45, 'Porto Alegre')]\n",
            "       0   1               2\n",
            "0   José  25       São Paulo\n",
            "1  Maria  30  Rio de Janeiro\n",
            "2   João  35  Belo Horizonte\n",
            "3    Ana  40        Curitiba\n",
            "4  Pedro  45    Porto Alegre\n"
          ]
        }
      ]
    },
    {
      "cell_type": "markdown",
      "source": [
        "Definindo rótulos para linhas e colunas:"
      ],
      "metadata": {
        "id": "P3UPTcujLWFY"
      }
    },
    {
      "cell_type": "code",
      "source": [
        "import pandas as pd\n",
        "\n",
        "nomes = ['José', 'Maria', 'João', 'Ana', 'Pedro']\n",
        "idades = [25, 30, 35, 40, 45]\n",
        "cidade = ['São Paulo', 'Rio de Janeiro', 'Belo Horizonte', 'Curitiba', 'Porto Alegre']\n",
        "\n",
        "dados = {'Nome': nomes, 'Idade': idades, 'Cidade': cidade}\n",
        "\n",
        "df = pd.DataFrame(data=dados) # Criando um DataFrame a partir de um dicionário\n",
        "\n",
        "df.columns = ['NOMES', 'IDADES', 'CIDADES'] # Definindo rótulos para colunas\n",
        "df.index = ['A', 'B', 'C', 'D', 'E'] # Definindo rótulos para linhas\n",
        "\n",
        "print(df)"
      ],
      "metadata": {
        "colab": {
          "base_uri": "https://localhost:8080/"
        },
        "id": "m1ZMcYIXLW4f",
        "outputId": "7459bfe3-db1a-42ba-f8dd-9bbbed87ad5e"
      },
      "execution_count": null,
      "outputs": [
        {
          "output_type": "stream",
          "name": "stdout",
          "text": [
            "   NOMES  IDADES         CIDADES\n",
            "A   José      25       São Paulo\n",
            "B  Maria      30  Rio de Janeiro\n",
            "C   João      35  Belo Horizonte\n",
            "D    Ana      40        Curitiba\n",
            "E  Pedro      45    Porto Alegre\n"
          ]
        }
      ]
    },
    {
      "cell_type": "markdown",
      "source": [
        "Atributos de DataFrame:"
      ],
      "metadata": {
        "id": "YmI2OgPyLy88"
      }
    },
    {
      "cell_type": "code",
      "source": [
        "import pandas as pd\n",
        "\n",
        "nomes = ['José', 'Maria', 'João', 'Ana', 'Pedro']\n",
        "idades = [25, 30, 35, 40, 45]\n",
        "cidade = ['São Paulo', 'Rio de Janeiro', 'Belo Horizonte', 'Curitiba', 'Porto Alegre']\n",
        "\n",
        "dados = {'Nome': nomes, 'Idade': idades, 'Cidade': cidade}\n",
        "\n",
        "df = pd.DataFrame(data=dados) # Criando um DataFrame a partir de um dicionário\n",
        "\n",
        "df.columns = ['NOMES', 'IDADES', 'CIDADES'] # Definindo rótulos para colunas\n",
        "df.index = ['A', 'B', 'C', 'D', 'E'] # Definindo rótulos para linhas\n",
        "\n",
        "print(df)\n",
        "\n",
        "print(list(df.columns), \"\\nRetorna uma lista com os nomes das colunas do DataFrame\") # Retorna uma lista com os nomes das colunas do DataFrame\n",
        "print(list(df.index), \"\\nRetorna uma lista com os nomes dos índices do DataFrame\") # Retorna uma lista com os nomes dos índices do DataFrame\n",
        "print(df.ndim, \"\\nRetorna o número de dimensões do DataFrame\") # Retorna o número de dimensões do DataFrame\n",
        "print(df.shape, \"\\nRetorna uma tupla com o número de linhas e colunas do DataFrame\") # Retorna uma tupla com o número de linhas e colunas do DataFrame\n",
        "print(df.size, \"\\nRetorna o número total de elementos do DataFrame\") # Retorna o número total de elementos do DataFrame\n",
        "print(df.empty, \"\\nRetorna True se o DataFrame estiver vazio, False caso contrário\") # Retorna True se o DataFrame estiver vazio, False caso contrário\n",
        "\n",
        "print(df.columns, \"\\nRetorna uma lista com os nomes das colunas do DataFrame\") # Retorna uma lista com os nomes das colunas do DataFrame\n",
        "print(df.index, \"\\nRetorna uma lista com os nomes dos índices do DataFrame\") # Retorna uma lista com os nomes dos índices do DataFrame\n",
        "print(df.dtypes, \"\\nRetorna uma Series com os tipos de dados de cada coluna\") # Retorna uma Series com os tipos de dados de cada coluna\n",
        "print(df.head(), \"\\nRetorna as primeiras 5 linhas do DataFrame\") # Retorna as primeiras 5 linhas do DataFrame\n",
        "print(df.tail(), \"\\nRetorna as últimas 5 linhas do DataFrame\") # Retorna as últimas 5 linhas do DataFrame\n",
        "print(df.info(), \"\\nRetorna informações sobre o DataFrame\") # Retorna informações sobre o DataFrame\n",
        "print(df.describe(), \"\\nRetorna estatísticas descritivas do DataFrame\") # Retorna estatísticas descritivas do DataFrame"
      ],
      "metadata": {
        "colab": {
          "base_uri": "https://localhost:8080/"
        },
        "id": "MkA4NTApL01k",
        "outputId": "5d90d3ea-9fe2-41ce-feba-e5fc4489af13"
      },
      "execution_count": null,
      "outputs": [
        {
          "output_type": "stream",
          "name": "stdout",
          "text": [
            "   NOMES  IDADES         CIDADES\n",
            "A   José      25       São Paulo\n",
            "B  Maria      30  Rio de Janeiro\n",
            "C   João      35  Belo Horizonte\n",
            "D    Ana      40        Curitiba\n",
            "E  Pedro      45    Porto Alegre\n",
            "['NOMES', 'IDADES', 'CIDADES'] \n",
            "Retorna uma lista com os nomes das colunas do DataFrame\n",
            "['A', 'B', 'C', 'D', 'E'] \n",
            "Retorna uma lista com os nomes dos índices do DataFrame\n",
            "2 \n",
            "Retorna o número de dimensões do DataFrame\n",
            "(5, 3) \n",
            "Retorna uma tupla com o número de linhas e colunas do DataFrame\n",
            "15 \n",
            "Retorna o número total de elementos do DataFrame\n",
            "False \n",
            "Retorna True se o DataFrame estiver vazio, False caso contrário\n",
            "Index(['NOMES', 'IDADES', 'CIDADES'], dtype='object') \n",
            "Retorna uma lista com os nomes das colunas do DataFrame\n",
            "Index(['A', 'B', 'C', 'D', 'E'], dtype='object') \n",
            "Retorna uma lista com os nomes dos índices do DataFrame\n",
            "NOMES      object\n",
            "IDADES      int64\n",
            "CIDADES    object\n",
            "dtype: object \n",
            "Retorna uma Series com os tipos de dados de cada coluna\n",
            "   NOMES  IDADES         CIDADES\n",
            "A   José      25       São Paulo\n",
            "B  Maria      30  Rio de Janeiro\n",
            "C   João      35  Belo Horizonte\n",
            "D    Ana      40        Curitiba\n",
            "E  Pedro      45    Porto Alegre \n",
            "Retorna as primeiras 5 linhas do DataFrame\n",
            "   NOMES  IDADES         CIDADES\n",
            "A   José      25       São Paulo\n",
            "B  Maria      30  Rio de Janeiro\n",
            "C   João      35  Belo Horizonte\n",
            "D    Ana      40        Curitiba\n",
            "E  Pedro      45    Porto Alegre \n",
            "Retorna as últimas 5 linhas do DataFrame\n",
            "<class 'pandas.core.frame.DataFrame'>\n",
            "Index: 5 entries, A to E\n",
            "Data columns (total 3 columns):\n",
            " #   Column   Non-Null Count  Dtype \n",
            "---  ------   --------------  ----- \n",
            " 0   NOMES    5 non-null      object\n",
            " 1   IDADES   5 non-null      int64 \n",
            " 2   CIDADES  5 non-null      object\n",
            "dtypes: int64(1), object(2)\n",
            "memory usage: 160.0+ bytes\n",
            "None \n",
            "Retorna informações sobre o DataFrame\n",
            "          IDADES\n",
            "count   5.000000\n",
            "mean   35.000000\n",
            "std     7.905694\n",
            "min    25.000000\n",
            "25%    30.000000\n",
            "50%    35.000000\n",
            "75%    40.000000\n",
            "max    45.000000 \n",
            "Retorna estatísticas descritivas do DataFrame\n"
          ]
        }
      ]
    },
    {
      "cell_type": "markdown",
      "source": [
        "Acessando DADOS:\n",
        "\n",
        "Diferentemente das matrizes, a forma de acessar um dado de um DataFrame por meio de índices é a seguinte:\n",
        "\n",
        "Formato\n",
        "\n",
        "DataFrame[<``<``coluna>>][<``<``linha>>]"
      ],
      "metadata": {
        "id": "IqmVlPE2OM7E"
      }
    },
    {
      "cell_type": "markdown",
      "source": [
        "Exemplo usando as chaves do dicionário para acessar a coluna desejada:"
      ],
      "metadata": {
        "id": "-p268dm3Qhey"
      }
    },
    {
      "cell_type": "code",
      "source": [
        "import pandas as pd\n",
        "\n",
        "nomes = ['José', 'Maria', 'João', 'Ana', 'Pedro']\n",
        "idades = [25, 30, 35, 40, 45]\n",
        "cidade = ['São Paulo', 'Rio de Janeiro', 'Belo Horizonte', 'Curitiba', 'Porto Alegre']\n",
        "\n",
        "dados = {'Nome': nomes, 'Idade': idades, 'Cidade': cidade}\n",
        "\n",
        "df = pd.DataFrame(data=dados) # Criando um DataFrame a partir de um dicionário\n",
        "\n",
        "df.columns = ['NOMES', 'IDADES', 'CIDADES'] # Definindo rótulos para colunas\n",
        "df.index = ['A', 'B', 'C', 'D', 'E'] # Definindo rótulos para linhas\n",
        "\n",
        "print(df['CIDADES'][3], df['CIDADES'][0], df['CIDADES'][2], df['CIDADES'][1], df['CIDADES'][4]) # Acessando um dado de um DataFrame\n",
        "print(df['IDADES'][2], df['IDADES'][1], df['IDADES'][4], df['IDADES'][3], df['IDADES'][0]) # Acessando um dado de um DataFrame\n"
      ],
      "metadata": {
        "colab": {
          "base_uri": "https://localhost:8080/"
        },
        "id": "WmJisNHaOn5K",
        "outputId": "7f28e776-f27e-451c-863b-c10a198645f6"
      },
      "execution_count": null,
      "outputs": [
        {
          "output_type": "stream",
          "name": "stdout",
          "text": [
            "Curitiba São Paulo Belo Horizonte Rio de Janeiro Porto Alegre\n",
            "35 30 45 40 25\n",
            "NOMES                João\n",
            "IDADES                 35\n",
            "CIDADES    Belo Horizonte\n",
            "Name: C, dtype: object\n",
            "NOMES                João\n",
            "IDADES                 35\n",
            "CIDADES    Belo Horizonte\n",
            "Name: C, dtype: object\n"
          ]
        },
        {
          "output_type": "stream",
          "name": "stderr",
          "text": [
            "<ipython-input-29-e46626e9ba9a>:14: FutureWarning: Series.__getitem__ treating keys as positions is deprecated. In a future version, integer keys will always be treated as labels (consistent with DataFrame behavior). To access a value by position, use `ser.iloc[pos]`\n",
            "  print(df['CIDADES'][3], df['CIDADES'][0], df['CIDADES'][2], df['CIDADES'][1], df['CIDADES'][4]) # Acessando um dado de um DataFrame\n",
            "<ipython-input-29-e46626e9ba9a>:15: FutureWarning: Series.__getitem__ treating keys as positions is deprecated. In a future version, integer keys will always be treated as labels (consistent with DataFrame behavior). To access a value by position, use `ser.iloc[pos]`\n",
            "  print(df['IDADES'][2], df['IDADES'][1], df['IDADES'][4], df['IDADES'][3], df['IDADES'][0]) # Acessando um dado de um DataFrame\n"
          ]
        }
      ]
    },
    {
      "cell_type": "markdown",
      "source": [
        "Exemplo usando índices para acessar o dado desejado:"
      ],
      "metadata": {
        "id": "EuEi-2DiQlfp"
      }
    },
    {
      "cell_type": "code",
      "source": [
        "import pandas as pd\n",
        "\n",
        "nomes = ['José', 'Maria', 'João', 'Ana', 'Pedro']\n",
        "idades = [25, 30, 35, 40, 45]\n",
        "cidade = ['São Paulo', 'Rio de Janeiro', 'Belo Horizonte', 'Curitiba', 'Porto Alegre']\n",
        "\n",
        "dados = list(zip(nomes,idades,cidade))\n",
        "\n",
        "df = pd.DataFrame(data=dados) # Criando um DataFrame a partir de um dicionário\n",
        "\n",
        "print(df) # Não foram definidos rótulos, então os índices são numéricos\n",
        "\n",
        "print(df[1][3], df[1][0], df[1][2], df[1][1], df[1][4]) # Acessando um dado de um DataFrame\n",
        "print(df[2][2], df[2][1], df[2][4], df[2][3], df[2][0]) # Acessando um dado de um DataFrame\n"
      ],
      "metadata": {
        "colab": {
          "base_uri": "https://localhost:8080/"
        },
        "id": "JUBXL8X7QlAm",
        "outputId": "69eda125-4a77-4344-b655-c295fb9297e9"
      },
      "execution_count": null,
      "outputs": [
        {
          "output_type": "stream",
          "name": "stdout",
          "text": [
            "       0   1               2\n",
            "0   José  25       São Paulo\n",
            "1  Maria  30  Rio de Janeiro\n",
            "2   João  35  Belo Horizonte\n",
            "3    Ana  40        Curitiba\n",
            "4  Pedro  45    Porto Alegre\n",
            "40 25 35 30 45\n",
            "Belo Horizonte Rio de Janeiro Porto Alegre Curitiba São Paulo\n"
          ]
        }
      ]
    },
    {
      "cell_type": "markdown",
      "source": [
        "DATAFRAME:\n",
        "\n",
        "Indexadores\n",
        "\n",
        "Os DataFrames possuem indexadores para seleção de dados.\n",
        "\n",
        "Esses indexadores fornecem uma forma fácil e rápida de selecionar um conjunto de dados de um DataFrame.\n",
        "\n",
        "Alguns deles são:\n",
        "\n",
        "• T: usado para transpor linhas e colunas.\n",
        "\n",
        "• at: acessa um único elemento utilizando rótulos.\n",
        "\n",
        "• iat: acessa um único elemento utilizando índices.\n",
        "\n",
        "• loc: seleção de elementos utilizando rótulos.\n",
        "\n",
        "• iloc: seleção de elementos utilizando índices."
      ],
      "metadata": {
        "id": "yIJygQPpRaRH"
      }
    },
    {
      "cell_type": "markdown",
      "source": [
        "**INDEXADOR T**\n",
        "\n",
        "O indexador T retorna um DataFrame onde as linhas do Dataframe original são transformadas em colunas:\n",
        "\n",
        "O indexador T no Pandas, quando aplicado a um DataFrame, realiza a operação de transposição. Essa operação é análoga ao conceito de matriz transposta na álgebra linear.\n",
        "\n",
        "O que significa transposição?\n",
        "\n",
        "Em matrizes: A transposta de uma matriz é obtida trocando-se as linhas pelas colunas e vice-versa. Ou seja, a primeira linha se torna a primeira coluna, a segunda linha se torna a segunda coluna, e assim por diante.\n",
        "\n",
        "No Pandas: O indexador T faz exatamente isso com um DataFrame. Ele troca os índices (que rotulam as linhas) pelos nomes das colunas (que rotulam as colunas) e vice-versa."
      ],
      "metadata": {
        "id": "ccS3a9T1XWZM"
      }
    },
    {
      "cell_type": "code",
      "source": [
        "import pandas as pd\n",
        "\n",
        "nomes = ['José', 'Maria', 'João', 'Ana', 'Pedro']\n",
        "idades = [25, 30, 35, 40, 45]\n",
        "cidade = ['São Paulo', 'Rio de Janeiro', 'Belo Horizonte', 'Curitiba', 'Porto Alegre']\n",
        "\n",
        "dados = {'Nome': nomes, 'Idade': idades, 'Cidade': cidade}\n",
        "\n",
        "df = pd.DataFrame(data=dados) # Criando um DataFrame a partir de um dicionário\n",
        "\n",
        "df.columns = ['NOMES', 'IDADES', 'CIDADES'] # Definindo rótulos para colunas\n",
        "df.index = ['A', 'B', 'C', 'D', 'E'] # Definindo rótulos para linhas\n",
        "\n",
        "print(df)\n",
        "\n",
        "print(df.T) # Retorna um DataFrame onde as linhas do Dataframe original são transformadas em colunas"
      ],
      "metadata": {
        "colab": {
          "base_uri": "https://localhost:8080/"
        },
        "id": "v59eRq4RReQt",
        "outputId": "7e641b45-c3a5-4e2d-c88c-a8aeafb1d7a9"
      },
      "execution_count": null,
      "outputs": [
        {
          "output_type": "stream",
          "name": "stdout",
          "text": [
            "   NOMES  IDADES         CIDADES\n",
            "A   José      25       São Paulo\n",
            "B  Maria      30  Rio de Janeiro\n",
            "C   João      35  Belo Horizonte\n",
            "D    Ana      40        Curitiba\n",
            "E  Pedro      45    Porto Alegre\n",
            "                 A               B               C         D             E\n",
            "NOMES         José           Maria            João       Ana         Pedro\n",
            "IDADES          25              30              35        40            45\n",
            "CIDADES  São Paulo  Rio de Janeiro  Belo Horizonte  Curitiba  Porto Alegre\n"
          ]
        }
      ]
    },
    {
      "cell_type": "markdown",
      "source": [
        "**INDEXADOR AT**\n",
        "\n",
        "O indexador at opera apenas com os rótulos e não com os índices dos elementos.\n",
        "\n",
        "Caso os índices de um elemento sejam fornecidos, ao invés dos seus rótulos, um erro é gerado."
      ],
      "metadata": {
        "id": "UUWuxd3GYpvj"
      }
    },
    {
      "cell_type": "code",
      "source": [
        "import pandas as pd\n",
        "\n",
        "nomes = ['José', 'Maria', 'João', 'Ana', 'Pedro']\n",
        "idades = [25, 30, 35, 40, 45]\n",
        "cidade = ['São Paulo', 'Rio de Janeiro', 'Belo Horizonte', 'Curitiba', 'Porto Alegre']\n",
        "\n",
        "dados = {'Nome': nomes, 'Idade': idades, 'Cidade': cidade}\n",
        "\n",
        "df = pd.DataFrame(data=dados) # Criando um DataFrame a partir de um dicionário\n",
        "\n",
        "df.columns = ['NOMES', 'IDADES', 'CIDADES'] # Definindo rótulos para colunas\n",
        "df.index = ['A', 'B', 'C', 'D', 'E'] # Definindo rótulos para linhas\n",
        "\n",
        "print(df)\n",
        "\n",
        "print(df.at['B', 'NOMES']) # Maria"
      ],
      "metadata": {
        "colab": {
          "base_uri": "https://localhost:8080/"
        },
        "id": "lpzfeooWY3Ro",
        "outputId": "a027afbe-4b91-4353-dd2a-024573d8758d"
      },
      "execution_count": null,
      "outputs": [
        {
          "output_type": "stream",
          "name": "stdout",
          "text": [
            "   NOMES  IDADES         CIDADES\n",
            "A   José      25       São Paulo\n",
            "B  Maria      30  Rio de Janeiro\n",
            "C   João      35  Belo Horizonte\n",
            "D    Ana      40        Curitiba\n",
            "E  Pedro      45    Porto Alegre\n",
            "Maria\n"
          ]
        }
      ]
    },
    {
      "cell_type": "markdown",
      "source": [
        "**INDEXADOR IAT**\n",
        "\n",
        "O indexador iat acessa um único elemento do DataFrame utilizando os índices da linha e da coluna.\n",
        "\n",
        "O indexador iat opera apenas com os índices e não com os rótulos dos elementos."
      ],
      "metadata": {
        "id": "PIOyRND4apWN"
      }
    },
    {
      "cell_type": "code",
      "source": [
        "import pandas as pd\n",
        "\n",
        "nomes = ['José', 'Maria', 'João', 'Ana', 'Pedro']\n",
        "idades = [25, 30, 35, 40, 45]\n",
        "cidade = ['São Paulo', 'Rio de Janeiro', 'Belo Horizonte', 'Curitiba', 'Porto Alegre']\n",
        "\n",
        "dados = {'Nome': nomes, 'Idade': idades, 'Cidade': cidade}\n",
        "\n",
        "df = pd.DataFrame(data=dados) # Criando um DataFrame a partir de um dicionário\n",
        "\n",
        "df.columns = ['NOMES', 'IDADES', 'CIDADES'] # Definindo rótulos para colunas\n",
        "df.index = ['A', 'B', 'C', 'D', 'E'] # Definindo rótulos para linhas\n",
        "\n",
        "print(df)\n",
        "\n",
        "print(df.iat[2,1]) # 35"
      ],
      "metadata": {
        "colab": {
          "base_uri": "https://localhost:8080/"
        },
        "id": "Xs4aTL1IavI0",
        "outputId": "9c5113f5-5254-4265-e2d4-b0fd7f0b2f3b"
      },
      "execution_count": null,
      "outputs": [
        {
          "output_type": "stream",
          "name": "stdout",
          "text": [
            "   NOMES  IDADES         CIDADES\n",
            "A   José      25       São Paulo\n",
            "B  Maria      30  Rio de Janeiro\n",
            "C   João      35  Belo Horizonte\n",
            "D    Ana      40        Curitiba\n",
            "E  Pedro      45    Porto Alegre\n",
            "35\n"
          ]
        }
      ]
    },
    {
      "cell_type": "markdown",
      "source": [
        "**INDEXADOR LOC**\n",
        "\n",
        "O indexador loc seleciona um conjunto de linhas e de colunas através dos rótulos ou por uma lista de valores booleanos."
      ],
      "metadata": {
        "id": "T1ErGt3DbgPG"
      }
    },
    {
      "cell_type": "code",
      "source": [
        "import pandas as pd\n",
        "\n",
        "nomes = ['José', 'Maria', 'João', 'Ana', 'Pedro']\n",
        "idades = [25, 30, 35, 40, 45]\n",
        "cidade = ['São Paulo', 'Rio de Janeiro', 'Belo Horizonte', 'Curitiba', 'Porto Alegre']\n",
        "\n",
        "dados = {'Nome': nomes, 'Idade': idades, 'Cidade': cidade}\n",
        "\n",
        "df = pd.DataFrame(data=dados) # Criando um DataFrame a partir de um dicionário\n",
        "\n",
        "df.columns = ['NOMES', 'IDADES', 'CIDADES'] # Definindo rótulos para colunas\n",
        "df.index = ['A', 'B', 'C', 'D', 'E'] # Definindo rótulos para linhas\n",
        "\n",
        "print(df)\n",
        "\n",
        "print(df.loc[['B']])\n",
        "print(df.loc[['B', 'D']])\n",
        "print(df.loc[['B', 'D'], 'NOMES'])\n",
        "print(df.loc[['B', 'D'], ['NOMES', 'CIDADES']])\n"
      ],
      "metadata": {
        "colab": {
          "base_uri": "https://localhost:8080/"
        },
        "id": "7kA6k_3XbnSE",
        "outputId": "92d2d610-0040-4d96-c126-e320e7377b6e"
      },
      "execution_count": null,
      "outputs": [
        {
          "output_type": "stream",
          "name": "stdout",
          "text": [
            "   NOMES  IDADES         CIDADES\n",
            "A   José      25       São Paulo\n",
            "B  Maria      30  Rio de Janeiro\n",
            "C   João      35  Belo Horizonte\n",
            "D    Ana      40        Curitiba\n",
            "E  Pedro      45    Porto Alegre\n",
            "   NOMES  IDADES         CIDADES\n",
            "B  Maria      30  Rio de Janeiro\n",
            "   NOMES  IDADES         CIDADES\n",
            "B  Maria      30  Rio de Janeiro\n",
            "D    Ana      40        Curitiba\n",
            "B    Maria\n",
            "D      Ana\n",
            "Name: NOMES, dtype: object\n",
            "   NOMES         CIDADES\n",
            "B  Maria  Rio de Janeiro\n",
            "D    Ana        Curitiba\n"
          ]
        }
      ]
    },
    {
      "cell_type": "markdown",
      "source": [
        "**INDEXADOR ILOC**\n",
        "\n",
        "O indexador iloc seleciona um conjunto de linhas e de colunas baseado unicamente em índices."
      ],
      "metadata": {
        "id": "p6PDoxMEeEHA"
      }
    },
    {
      "cell_type": "code",
      "source": [
        "import pandas as pd\n",
        "\n",
        "nomes = ['José', 'Maria', 'João', 'Ana', 'Pedro']\n",
        "idades = [25, 30, 35, 40, 45]\n",
        "cidade = ['São Paulo', 'Rio de Janeiro', 'Belo Horizonte', 'Curitiba', 'Porto Alegre']\n",
        "\n",
        "dados = {'Nome': nomes, 'Idade': idades, 'Cidade': cidade}\n",
        "\n",
        "df = pd.DataFrame(data=dados) # Criando um DataFrame a partir de um dicionário\n",
        "\n",
        "df.columns = ['NOMES', 'IDADES', 'CIDADES'] # Definindo rótulos para colunas\n",
        "df.index = ['A', 'B', 'C', 'D', 'E'] # Definindo rótulos para linhas\n",
        "\n",
        "print(df)\n",
        "\n",
        "print(df.iloc[1])\n",
        "print(df.iloc[-1])\n",
        "print(df.iloc[0,2])\n",
        "print(df.iloc[1:3, 0])\n",
        "print(df.iloc[1:3, 0:2])"
      ],
      "metadata": {
        "colab": {
          "base_uri": "https://localhost:8080/"
        },
        "id": "4Y-jubY5eJmN",
        "outputId": "7f9c7636-c0c7-46d2-c324-f6d6c7917ea2"
      },
      "execution_count": null,
      "outputs": [
        {
          "output_type": "stream",
          "name": "stdout",
          "text": [
            "   NOMES  IDADES         CIDADES\n",
            "A   José      25       São Paulo\n",
            "B  Maria      30  Rio de Janeiro\n",
            "C   João      35  Belo Horizonte\n",
            "D    Ana      40        Curitiba\n",
            "E  Pedro      45    Porto Alegre\n",
            "NOMES               Maria\n",
            "IDADES                 30\n",
            "CIDADES    Rio de Janeiro\n",
            "Name: B, dtype: object\n",
            "NOMES             Pedro\n",
            "IDADES               45\n",
            "CIDADES    Porto Alegre\n",
            "Name: E, dtype: object\n",
            "São Paulo\n",
            "B    Maria\n",
            "C     João\n",
            "Name: NOMES, dtype: object\n",
            "   NOMES  IDADES\n",
            "B  Maria      30\n",
            "C   João      35\n"
          ]
        }
      ]
    },
    {
      "cell_type": "markdown",
      "source": [
        "DATAFRAME\n",
        "\n",
        "**Manipulando dados**\n",
        "\n"
      ],
      "metadata": {
        "id": "4DtFDWyOegs-"
      }
    },
    {
      "cell_type": "markdown",
      "source": [
        "Adicionar coluna:\n",
        "\n",
        "Para adicionar uma nova coluna ao DataFrame basta atribuir ao rótulo da coluna desejada um valor padrão ou uma lista com os valores desejados."
      ],
      "metadata": {
        "id": "4wUzteS0JvEx"
      }
    },
    {
      "cell_type": "code",
      "source": [
        "import pandas as pd\n",
        "\n",
        "nomes = ['José', 'Maria', 'João', 'Ana', 'Pedro']\n",
        "idades = [25, 30, 35, 40, 45]\n",
        "cidade = ['São Paulo', 'Rio de Janeiro', 'Belo Horizonte', 'Curitiba', 'Porto Alegre']\n",
        "\n",
        "dados = {'Nome': nomes, 'Idade': idades, 'Cidade': cidade}\n",
        "\n",
        "df = pd.DataFrame(data=dados) # Criando um DataFrame a partir de um dicionário\n",
        "\n",
        "df.columns = ['NOMES', 'IDADES', 'CIDADES'] # Definindo rótulos para colunas\n",
        "df.index = ['A', 'B', 'C', 'D', 'E'] # Definindo rótulos para linhas\n",
        "\n",
        "print(df)\n",
        "\n",
        "df['Sexo'] = 'F'\n",
        "\n",
        "print(df)\n",
        "\n",
        "df['Sexo'] = ['M', 'F', 'M', 'F', 'M'] # Adicionando uma nova coluna ao DataFrame\n",
        "\n",
        "print(df)"
      ],
      "metadata": {
        "colab": {
          "base_uri": "https://localhost:8080/"
        },
        "id": "3ChO3t8Hejqt",
        "outputId": "7f390848-740e-436a-81e0-5b4f96195ea7"
      },
      "execution_count": null,
      "outputs": [
        {
          "output_type": "stream",
          "name": "stdout",
          "text": [
            "   NOMES  IDADES         CIDADES\n",
            "A   José      25       São Paulo\n",
            "B  Maria      30  Rio de Janeiro\n",
            "C   João      35  Belo Horizonte\n",
            "D    Ana      40        Curitiba\n",
            "E  Pedro      45    Porto Alegre\n",
            "   NOMES  IDADES         CIDADES Sexo\n",
            "A   José      25       São Paulo    F\n",
            "B  Maria      30  Rio de Janeiro    F\n",
            "C   João      35  Belo Horizonte    F\n",
            "D    Ana      40        Curitiba    F\n",
            "E  Pedro      45    Porto Alegre    F\n",
            "   NOMES  IDADES         CIDADES Sexo\n",
            "A   José      25       São Paulo    M\n",
            "B  Maria      30  Rio de Janeiro    F\n",
            "C   João      35  Belo Horizonte    M\n",
            "D    Ana      40        Curitiba    F\n",
            "E  Pedro      45    Porto Alegre    M\n"
          ]
        }
      ]
    },
    {
      "cell_type": "markdown",
      "source": [
        "Adicionar linha:\n",
        "\n",
        "Para adicionar uma ou mais novas linhas ao DataFrame, é possível utilizar o método concat.\n",
        "\n",
        "• O método concat concatena um DataFrame ao final do outro.\n",
        "\n",
        "• Para isso, o método recebe como parâmetro dois ou mais DataFrames e produz um novo concatenado.\n",
        "\n",
        "• Caso os rótulos das linhas não sejam compatíveis, o parâmetro ignore_index deve ser atribuído como True para que os rótulos personalizados das linhas sejam ignorados.\n",
        "\n",
        "Concatenando dois DataFrames:"
      ],
      "metadata": {
        "id": "pcSkwM7JLiXg"
      }
    },
    {
      "cell_type": "code",
      "source": [
        "import pandas as pd\n",
        "\n",
        "nomes = ['José', 'Maria', 'João', 'Ana', 'Pedro']\n",
        "idades = [25, 30, 35, 40, 45]\n",
        "cidade = ['São Paulo', 'Rio de Janeiro', 'Belo Horizonte', 'Curitiba', 'Porto Alegre']\n",
        "\n",
        "dados = {'Nome': nomes, 'Idade': idades, 'Cidade': cidade}\n",
        "\n",
        "df = pd.DataFrame(data=dados) # Criando um DataFrame a partir de um dicionário\n",
        "\n",
        "df.columns = ['NOMES', 'IDADES', 'CIDADES'] # Definindo rótulos para colunas\n",
        "df.index = ['A', 'B', 'C', 'D', 'E'] # Definindo rótulos para linhas\n",
        "df['Sexo'] = ['M', 'F', 'M', 'F', 'M'] # Adicionando uma nova coluna ao DataFrame\n",
        "\n",
        "print(df)\n",
        "\n",
        "novo_dados = [{\n",
        "    'NOMES': 'Paulo',\n",
        "    'IDADES': 28,\n",
        "    'CIDADES': 'Florianópolis',\n",
        "    'Sexo': 'M'},\n",
        "     {'NOMES': 'Carla',\n",
        "    'IDADES': 32,\n",
        "    'CIDADES': 'Salvador',\n",
        "    'Sexo': 'F'}\n",
        "              ]\n",
        "\n",
        "df2 = pd.DataFrame(data = novo_dados)\n",
        "\n",
        "df = pd.concat([df, df2], ignore_index=True) # Note que o novo DataFrame ignorou os índices antigos (A, B, C) e atribuiu novos índices numéricos.\n",
        "\n",
        "print(df)\n"
      ],
      "metadata": {
        "colab": {
          "base_uri": "https://localhost:8080/"
        },
        "id": "Q0t7_Ra9Lr-j",
        "outputId": "0e139526-a140-4bb3-daa1-0a4d58f47a2b"
      },
      "execution_count": null,
      "outputs": [
        {
          "output_type": "stream",
          "name": "stdout",
          "text": [
            "   NOMES  IDADES         CIDADES Sexo\n",
            "A   José      25       São Paulo    M\n",
            "B  Maria      30  Rio de Janeiro    F\n",
            "C   João      35  Belo Horizonte    M\n",
            "D    Ana      40        Curitiba    F\n",
            "E  Pedro      45    Porto Alegre    M\n",
            "   NOMES  IDADES         CIDADES Sexo\n",
            "0   José      25       São Paulo    M\n",
            "1  Maria      30  Rio de Janeiro    F\n",
            "2   João      35  Belo Horizonte    M\n",
            "3    Ana      40        Curitiba    F\n",
            "4  Pedro      45    Porto Alegre    M\n",
            "5  Paulo      28   Florianópolis    M\n",
            "6  Carla      32        Salvador    F\n"
          ]
        }
      ]
    },
    {
      "cell_type": "markdown",
      "source": [
        "Editar linhas:\n",
        "\n",
        "Os indexadores loc e iloc também podem ser utilizados para modificar uma linha já existente.\n",
        "\n",
        "• Para isso, basta atribuir os novos valores desejados ou um valor padrão.\n",
        "\n",
        "• O indexador loc também pode ser utilizado para adicionar uma nova linha no final do DataFrame de forma similar.\n",
        "\n",
        "Usando loc para editar ou adicionar novas linhas:"
      ],
      "metadata": {
        "id": "A6PRESUwOdEa"
      }
    },
    {
      "cell_type": "code",
      "source": [
        "import pandas as pd\n",
        "\n",
        "nomes = ['José', 'Maria', 'João', 'Ana', 'Pedro']\n",
        "idades = [25, 30, 35, 40, 45]\n",
        "cidade = ['São Paulo', 'Rio de Janeiro', 'Belo Horizonte', 'Curitiba', 'Porto Alegre']\n",
        "\n",
        "dados = {'Nome': nomes, 'Idade': idades, 'Cidade': cidade}\n",
        "\n",
        "df = pd.DataFrame(data=dados) # Criando um DataFrame a partir de um dicionário\n",
        "\n",
        "df.columns = ['NOMES', 'IDADES', 'CIDADES'] # Definindo rótulos para colunas\n",
        "df.index = ['A', 'B', 'C', 'D', 'E'] # Definindo rótulos para linhas\n",
        "df['Sexo'] = ['M', 'F', 'M', 'F', 'M'] # Adicionando uma nova coluna ao DataFrame\n",
        "\n",
        "print(df)\n",
        "\n",
        "df.loc['A', 'NOMES'] = 'Paulo' # Alterando nome específico\n",
        "df.loc['A', 'IDADES'] = 28 # Alterando idade específica\n",
        "df.loc['A', 'CIDADES'] = 'Florianópolis' # Alterando cidade específica\n",
        "df.loc['A', 'Sexo'] = 'M' # Alterando sexo específico\n",
        "\n",
        "df.loc['B'] = ['Julieta', 1, 'Goiania', 'F'] # Alterando uma linha no DataFrame\n",
        "\n",
        "df.loc['F'] = ['Carla', 32, 'Salvador', 'F'] # Adicionando uma nova linha ao DataFrame, pois 'F' não existe\n",
        "# Com loc, se o rótulo não for encontrado, uma nova linha é adicionada ao DataFrame.\n",
        "\n",
        "\n",
        "\n",
        "print(df)"
      ],
      "metadata": {
        "colab": {
          "base_uri": "https://localhost:8080/"
        },
        "id": "Dbbo_WFZOjKC",
        "outputId": "7fca408d-a850-4b5b-e616-29d16eef5cda"
      },
      "execution_count": null,
      "outputs": [
        {
          "output_type": "stream",
          "name": "stdout",
          "text": [
            "   NOMES  IDADES         CIDADES Sexo\n",
            "A   José      25       São Paulo    M\n",
            "B  Maria      30  Rio de Janeiro    F\n",
            "C   João      35  Belo Horizonte    M\n",
            "D    Ana      40        Curitiba    F\n",
            "E  Pedro      45    Porto Alegre    M\n",
            "     NOMES  IDADES         CIDADES Sexo\n",
            "A    Paulo      28   Florianópolis    M\n",
            "B  Julieta       1         Goiania    F\n",
            "C     João      35  Belo Horizonte    M\n",
            "D      Ana      40        Curitiba    F\n",
            "E    Pedro      45    Porto Alegre    M\n",
            "F    Carla      32        Salvador    F\n"
          ]
        }
      ]
    },
    {
      "cell_type": "markdown",
      "source": [
        "Usando iloc para editar linhas:"
      ],
      "metadata": {
        "id": "pvj_HJenQX6t"
      }
    },
    {
      "cell_type": "code",
      "source": [
        "import pandas as pd\n",
        "\n",
        "nomes = ['José', 'Maria', 'João', 'Ana', 'Pedro']\n",
        "idades = [25, 30, 35, 40, 45]\n",
        "cidade = ['São Paulo', 'Rio de Janeiro', 'Belo Horizonte', 'Curitiba', 'Porto Alegre']\n",
        "\n",
        "dados = {'Nome': nomes, 'Idade': idades, 'Cidade': cidade}\n",
        "\n",
        "df = pd.DataFrame(data=dados) # Criando um DataFrame a partir de um dicionário\n",
        "\n",
        "df.columns = ['NOMES', 'IDADES', 'CIDADES'] # Definindo rótulos para colunas\n",
        "df.index = ['A', 'B', 'C', 'D', 'E'] # Definindo rótulos para linhas\n",
        "df['Sexo'] = ['M', 'F', 'M', 'F', 'M'] # Adicionando uma nova coluna ao DataFrame\n",
        "\n",
        "print(df)\n",
        "\n",
        "df.iloc[0, 0] = 'Paulo' # Alterando nome específico\n",
        "df.iloc[0, 1] = 28 # Alterando idade específica\n",
        "df.iloc[0, 2] = 'Florianópolis' # Alterando cidade específica\n",
        "df.iloc[0, 3] = 'M' # Alterando sexo específico\n",
        "\n",
        "print(df)\n",
        "\n",
        "df.iloc[1] = ['Julieta', 1, 'Goiania', 'F'] # Alterando uma linha no DataFrame\n",
        "\n",
        "print(df)\n",
        "\n",
        "# df.iloc[5] = ['Carla', 32, 'Salvador', 'F'] # Adicionando uma nova linha ao DataFrame\n",
        "# iloc gera um erro se o índice não existir!"
      ],
      "metadata": {
        "colab": {
          "base_uri": "https://localhost:8080/"
        },
        "id": "h1joJQ1SQYLW",
        "outputId": "09405fbb-d964-4a6b-ce68-4ba22ddb1079"
      },
      "execution_count": null,
      "outputs": [
        {
          "output_type": "stream",
          "name": "stdout",
          "text": [
            "   NOMES  IDADES         CIDADES Sexo\n",
            "A   José      25       São Paulo    M\n",
            "B  Maria      30  Rio de Janeiro    F\n",
            "C   João      35  Belo Horizonte    M\n",
            "D    Ana      40        Curitiba    F\n",
            "E  Pedro      45    Porto Alegre    M\n",
            "   NOMES  IDADES         CIDADES Sexo\n",
            "A  Paulo      28   Florianópolis    M\n",
            "B  Maria      30  Rio de Janeiro    F\n",
            "C   João      35  Belo Horizonte    M\n",
            "D    Ana      40        Curitiba    F\n",
            "E  Pedro      45    Porto Alegre    M\n",
            "     NOMES  IDADES         CIDADES Sexo\n",
            "A    Paulo      28   Florianópolis    M\n",
            "B  Julieta       1         Goiania    F\n",
            "C     João      35  Belo Horizonte    M\n",
            "D      Ana      40        Curitiba    F\n",
            "E    Pedro      45    Porto Alegre    M\n"
          ]
        }
      ]
    },
    {
      "cell_type": "markdown",
      "source": [
        "De forma semelhante, os indexadores at e iat também podem ser utilizados para modificar uma célula do DataFrame.\n",
        "\n",
        "• Para isso, basta atribuir um novo valor para a célula desejada.\n",
        "\n",
        "Usando at e iat para editar linhas do DataFrame:"
      ],
      "metadata": {
        "id": "O2hoHd4sSDux"
      }
    },
    {
      "cell_type": "code",
      "source": [
        "import pandas as pd\n",
        "\n",
        "nomes = ['José', 'Maria', 'João', 'Ana', 'Pedro']\n",
        "idades = [25, 30, 35, 40, 45]\n",
        "cidade = ['São Paulo', 'Rio de Janeiro', 'Belo Horizonte', 'Curitiba', 'Porto Alegre']\n",
        "\n",
        "dados = {'Nome': nomes, 'Idade': idades, 'Cidade': cidade}\n",
        "\n",
        "df = pd.DataFrame(data=dados) # Criando um DataFrame a partir de um dicionário\n",
        "\n",
        "df.columns = ['NOMES', 'IDADES', 'CIDADES'] # Definindo rótulos para colunas\n",
        "df.index = ['A', 'B', 'C', 'D', 'E'] # Definindo rótulos para linhas\n",
        "df['Sexo'] = ['M', 'F', 'M', 'F', 'M'] # Adicionando uma nova coluna ao DataFrame\n",
        "\n",
        "print(df)\n",
        "\n",
        "df.at['A', 'NOMES'] = 'Paulo' # Alterando nome específico\n",
        "df.at['A', 'IDADES'] = df.at['A', 'IDADES'] * 3 # Manipulando a idade\n",
        "\n",
        "print(df)\n",
        "\n",
        "df.iat[3, 2] = 'Florianópolis' # Alterando cidade específica\n",
        "df.iat[4, 3] = 'M' # Alterando sexo específico\n",
        "df.iat[0, 1] = df.iat[0, 1] / 5 # Manipulando a idade\n",
        "\n",
        "print(df)\n"
      ],
      "metadata": {
        "colab": {
          "base_uri": "https://localhost:8080/"
        },
        "id": "uLCiPhF6SGYl",
        "outputId": "c95ee5b7-c092-405c-fde5-e961808495d9"
      },
      "execution_count": null,
      "outputs": [
        {
          "output_type": "stream",
          "name": "stdout",
          "text": [
            "   NOMES  IDADES         CIDADES Sexo\n",
            "A   José      25       São Paulo    M\n",
            "B  Maria      30  Rio de Janeiro    F\n",
            "C   João      35  Belo Horizonte    M\n",
            "D    Ana      40        Curitiba    F\n",
            "E  Pedro      45    Porto Alegre    M\n",
            "   NOMES  IDADES         CIDADES Sexo\n",
            "A  Paulo      75       São Paulo    M\n",
            "B  Maria      30  Rio de Janeiro    F\n",
            "C   João      35  Belo Horizonte    M\n",
            "D    Ana      40        Curitiba    F\n",
            "E  Pedro      45    Porto Alegre    M\n",
            "   NOMES  IDADES         CIDADES Sexo\n",
            "A  Paulo      15       São Paulo    M\n",
            "B  Maria      30  Rio de Janeiro    F\n",
            "C   João      35  Belo Horizonte    M\n",
            "D    Ana      40   Florianópolis    F\n",
            "E  Pedro      45    Porto Alegre    M\n"
          ]
        }
      ]
    },
    {
      "cell_type": "markdown",
      "source": [
        "Removendo linhas e colunas:\n",
        "\n",
        "É possível remover linhas ou colunas de um DataFrame utilizando o método drop.\n",
        "\n",
        "• Alguns dos parâmetros do método drop são:\n",
        "\n",
        "• index: recebe um rótulo ou uma lista de rótulos das linhas que serão removidas.\n",
        "\n",
        "• columns: recebe um rótulo ou uma lista de rótulos das colunas que serão removidas.\n",
        "\n",
        "• inplace: determina se as mudanças devem ser aplicadas diretamente no DataFrame ou em uma cópia (valor padrão é False).\n",
        "\n",
        "Removendo linhas e colunas com método drop:"
      ],
      "metadata": {
        "id": "5uuFIOj4TqRL"
      }
    },
    {
      "cell_type": "code",
      "source": [
        "import pandas as pd\n",
        "\n",
        "nomes = ['José', 'Maria', 'João', 'Ana', 'Pedro']\n",
        "idades = [25, 30, 35, 40, 45]\n",
        "cidade = ['São Paulo', 'Rio de Janeiro', 'Belo Horizonte', 'Curitiba', 'Porto Alegre']\n",
        "\n",
        "dados = {'Nome': nomes, 'Idade': idades, 'Cidade': cidade}\n",
        "\n",
        "df = pd.DataFrame(data=dados, index = ['A', 'B', 'C', 'D', 'E']) # Criando um DataFrame a partir de um dicionário\n",
        "\n",
        "df['Sexo'] = ['M', 'F', 'M', 'F', 'M'] # Adicionando uma nova coluna ao DataFrame\n",
        "\n",
        "\n",
        "df.loc['F'] = ['Carla', 32, 'Salvador', 'F'] # Adicionando uma nova linha ao DataFrame, pois 'F' não existe\n",
        "df.loc['G'] = ['Carla', 32, 'Salvador', 'F'] # Adicionando uma nova linha ao DataFrame, pois 'G' não existe\n",
        "df.loc['H'] = ['Carla', 32, 'Salvador', 'F'] # Adicionando uma nova linha ao DataFrame, pois 'H' não existe\n",
        "\n",
        "print(df)\n",
        "\n",
        "df.drop(index = ['A', 'D'], columns = ['Sexo'], inplace = True) # Removendo linhas e colunas do DataFrame\n",
        "\n",
        "print(df)\n",
        "\n",
        "df.drop('B', inplace = True) # Remove elemento com rótulo 'B'\n",
        "\n",
        "print(df)\n",
        "\n",
        "df.reset_index(drop = True, inplace = True) # Resetando os índices do DataFrame\n",
        "\n",
        "print(df)\n",
        "\n",
        "df.drop(0, inplace = True) # Remove elemento com índice 0\n",
        "\n",
        "print(df)\n",
        "\n",
        "df.drop_duplicates(inplace = True) # Removendo linhas duplicadas do DataFrame\n",
        "\n",
        "print(df)"
      ],
      "metadata": {
        "colab": {
          "base_uri": "https://localhost:8080/"
        },
        "id": "8BXoNa-1TxT2",
        "outputId": "aa2a12ce-0c2a-4409-ee02-b670c2f6441d"
      },
      "execution_count": null,
      "outputs": [
        {
          "output_type": "stream",
          "name": "stdout",
          "text": [
            "    Nome  Idade          Cidade Sexo\n",
            "A   José     25       São Paulo    M\n",
            "B  Maria     30  Rio de Janeiro    F\n",
            "C   João     35  Belo Horizonte    M\n",
            "D    Ana     40        Curitiba    F\n",
            "E  Pedro     45    Porto Alegre    M\n",
            "F  Carla     32        Salvador    F\n",
            "G  Carla     32        Salvador    F\n",
            "H  Carla     32        Salvador    F\n",
            "    Nome  Idade          Cidade\n",
            "B  Maria     30  Rio de Janeiro\n",
            "C   João     35  Belo Horizonte\n",
            "E  Pedro     45    Porto Alegre\n",
            "F  Carla     32        Salvador\n",
            "G  Carla     32        Salvador\n",
            "H  Carla     32        Salvador\n",
            "    Nome  Idade          Cidade\n",
            "C   João     35  Belo Horizonte\n",
            "E  Pedro     45    Porto Alegre\n",
            "F  Carla     32        Salvador\n",
            "G  Carla     32        Salvador\n",
            "H  Carla     32        Salvador\n",
            "    Nome  Idade          Cidade\n",
            "0   João     35  Belo Horizonte\n",
            "1  Pedro     45    Porto Alegre\n",
            "2  Carla     32        Salvador\n",
            "3  Carla     32        Salvador\n",
            "4  Carla     32        Salvador\n",
            "    Nome  Idade        Cidade\n",
            "1  Pedro     45  Porto Alegre\n",
            "2  Carla     32      Salvador\n",
            "3  Carla     32      Salvador\n",
            "4  Carla     32      Salvador\n",
            "    Nome  Idade        Cidade\n",
            "1  Pedro     45  Porto Alegre\n",
            "2  Carla     32      Salvador\n"
          ]
        }
      ]
    }
  ]
}