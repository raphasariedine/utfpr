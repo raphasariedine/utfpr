{
  "nbformat": 4,
  "nbformat_minor": 0,
  "metadata": {
    "colab": {
      "provenance": [],
      "authorship_tag": "ABX9TyMH/v1I5ixYkA0WtbgqGW9c",
      "include_colab_link": true
    },
    "kernelspec": {
      "name": "python3",
      "display_name": "Python 3"
    },
    "language_info": {
      "name": "python"
    }
  },
  "cells": [
    {
      "cell_type": "markdown",
      "metadata": {
        "id": "view-in-github",
        "colab_type": "text"
      },
      "source": [
        "<a href=\"https://colab.research.google.com/github/raphasariedine/utfpr/blob/main/pos_aula01_(exercicios).ipynb\" target=\"_parent\"><img src=\"https://colab.research.google.com/assets/colab-badge.svg\" alt=\"Open In Colab\"/></a>"
      ]
    },
    {
      "cell_type": "markdown",
      "source": [
        "Exercício 02:\n",
        "\n",
        "Implemente um programa em Python que lê um nome da entrada padrão e imprime a mensagem:\n",
        "\n",
        "\"Olá, seja bem vindo ao mundo do Python FULANO\"\n",
        "\n",
        "Por exemplo, ao ler o nome \"José\", o programa deve imprimir:\n",
        "\n",
        "\"Olá, seja bem vindo ao mundo do Python José\"\n",
        "\n",
        "Seu programa será avaliado de acordo com os testes da tabela abaixo."
      ],
      "metadata": {
        "id": "oldlje6VLYAT"
      }
    },
    {
      "cell_type": "code",
      "execution_count": null,
      "metadata": {
        "colab": {
          "base_uri": "https://localhost:8080/"
        },
        "id": "0SBwI8zaLMKg",
        "outputId": "f96c5da5-0bd6-45ca-f141-1f291b4f4bf7"
      },
      "outputs": [
        {
          "output_type": "stream",
          "name": "stdout",
          "text": [
            "José\n",
            "Olá, seja bem vindo ao mundo do Python José\n"
          ]
        }
      ],
      "source": [
        "nome = input()\n",
        "print (\"Olá, seja bem vindo ao mundo do Python\",nome)"
      ]
    },
    {
      "cell_type": "markdown",
      "source": [
        "Exercício 03:\n",
        "Implemente um programa em Python que lê dois números inteiros, realiza a adição, e imprime no console o resultado.\n",
        "\n",
        "Dica: lembre-se de transformar a entrada (string) em número inteiro."
      ],
      "metadata": {
        "id": "HK-Xx0ZJML9U"
      }
    },
    {
      "cell_type": "code",
      "source": [
        "numero = input()\n",
        "numero2 = input()\n",
        "soma = int(numero) + int(numero2)\n",
        "print (\"Soma: \",soma)"
      ],
      "metadata": {
        "colab": {
          "base_uri": "https://localhost:8080/"
        },
        "id": "MZLMqnIVMQEr",
        "outputId": "857fa4c5-1af3-4889-d79e-36458f5a36a0"
      },
      "execution_count": null,
      "outputs": [
        {
          "output_type": "stream",
          "name": "stdout",
          "text": [
            "-10\n",
            "20\n",
            "10\n"
          ]
        }
      ]
    },
    {
      "cell_type": "markdown",
      "source": [
        "Exercício 04:\n",
        "Implemente um programa em Python que lê dois números inteiros.\n",
        "\n",
        "Depois, realiza a adição, subtração, divisão e multiplicação entre os números, e imprime no console o resultado."
      ],
      "metadata": {
        "id": "mjfva-jYMtwe"
      }
    },
    {
      "cell_type": "code",
      "source": [
        "numero = input()\n",
        "numero2 = input()\n",
        "soma = int(numero) + int(numero2)\n",
        "subtracao = int(numero) - int(numero2)\n",
        "divisao = int(numero) / int(numero2)\n",
        "multiplicacao = int(numero) * int(numero2)\n",
        "print (numero,\"+\",numero2,\"=\",soma)\n",
        "print (numero,\"-\",numero2,\"=\",subtracao)\n",
        "print (numero,\"/\",numero2,\"=\",divisao)\n",
        "print (numero,\"*\",numero2,\"=\",multiplicacao)"
      ],
      "metadata": {
        "colab": {
          "base_uri": "https://localhost:8080/"
        },
        "id": "E-Vl1am4Myju",
        "outputId": "0c10ed9c-9f52-4fd9-f087-dadfd2ed146f"
      },
      "execution_count": null,
      "outputs": [
        {
          "output_type": "stream",
          "name": "stdout",
          "text": [
            "1\n",
            "1\n",
            "1 + 1 = 2\n",
            "1 - 1 = 0\n",
            "1 / 1 = 1.0\n",
            "1 * 1 = 1\n"
          ]
        }
      ]
    },
    {
      "cell_type": "markdown",
      "source": [
        "Exercício 05:\n",
        "Implemente um programa em Python que lê dois números float (ponto flutuante) que representam duas notas de avaliações de um determinado aluno.\n",
        "\n",
        "Com base nessas duas notas, imprima no console osresultados das expressões lógicas abaixo:\n",
        "\n",
        "nota1 > nota2\n",
        "nota1 == nota 2\n",
        "nota1 < nota2\n",
        "nota1 != nota2"
      ],
      "metadata": {
        "id": "SGEKOii3N92Q"
      }
    },
    {
      "cell_type": "code",
      "source": [
        "nota1=float(input())\n",
        "nota2=float(input())\n",
        "print(nota1,\">\",nota2,\":\",nota1 > nota2)\n",
        "print(nota1,\"==\",nota2,\":\",nota1 == nota2)\n",
        "print(nota1,\"<\",nota2,\":\",nota1 < nota2)\n",
        "print(nota1,\"!=\",nota2,\":\",nota1 != nota2)"
      ],
      "metadata": {
        "colab": {
          "base_uri": "https://localhost:8080/"
        },
        "id": "NzrCWvzYODhH",
        "outputId": "f5aafcee-1150-433b-c657-f4213e61a1a0"
      },
      "execution_count": null,
      "outputs": [
        {
          "output_type": "stream",
          "name": "stdout",
          "text": [
            "10.0\n",
            "10.0\n",
            "10.0 > 10.0 : False\n",
            "10.0 == 10.0 : True\n",
            "10.0 < 10.0 : False\n",
            "10.0 != 10.0 : False\n"
          ]
        }
      ]
    },
    {
      "cell_type": "markdown",
      "source": [
        "Exercício 06:\n",
        "Implemente um programa em Python que leia o ano atual (por exemplo, 2024), o ano em que a pessoa nasceu e imprima a idade dessa pessoa.\n",
        "\n",
        "Depois, imprima se ela é maior ou menor de idade."
      ],
      "metadata": {
        "id": "sF5Yr2JjO4CM"
      }
    },
    {
      "cell_type": "code",
      "source": [
        "anoatual=input()\n",
        "anonascimento=input()\n",
        "idade=int(anoatual)-int(anonascimento)\n",
        "if idade > 18:\n",
        "    print(\"Você tem\",idade,\"anos.\")\n",
        "    print(\"Você é maior de idade\")\n",
        "else:\n",
        "    print(\"Você tem\",idade,\"anos.\")\n",
        "    print(\"Você é menor de idade\")"
      ],
      "metadata": {
        "colab": {
          "base_uri": "https://localhost:8080/"
        },
        "id": "4ce4T1a8O7tS",
        "outputId": "15d26fce-dbc1-460e-fc6e-366966f38411"
      },
      "execution_count": null,
      "outputs": [
        {
          "output_type": "stream",
          "name": "stdout",
          "text": [
            "2024\n",
            "1993\n",
            "Você tem 31 anos.\n",
            "Você é maior de idade\n"
          ]
        }
      ]
    },
    {
      "cell_type": "markdown",
      "source": [
        "Exercícios 07:\n",
        "Implemente um programa em Python que leia duas notas de um aluno do curso de especialização em Python.\n",
        "\n",
        "Depois calcule a média aritmética das notas e imprima no console a média final e, se o aluno está aprovado (>=6) ou não."
      ],
      "metadata": {
        "id": "aQEW0WpgQBi-"
      }
    },
    {
      "cell_type": "code",
      "source": [
        "nota1=float(input())\n",
        "nota2=float(input())\n",
        "media=(nota1+nota2)/2\n",
        "if(media>=6):\n",
        "    print(\"Média final:\",media)\n",
        "    print(\"Aluno aprovado.\")\n",
        "else:\n",
        "    print(\"Média final:\",media)\n",
        "    print(\"Aluno reprovado.\")"
      ],
      "metadata": {
        "colab": {
          "base_uri": "https://localhost:8080/"
        },
        "id": "1MGaA2WdQFKS",
        "outputId": "84dd583c-eff9-4d1b-c1bd-b861f5c76c87"
      },
      "execution_count": null,
      "outputs": [
        {
          "output_type": "stream",
          "name": "stdout",
          "text": [
            "10\n",
            "5\n",
            "Média final: 7.5\n",
            "Aprovado\n"
          ]
        }
      ]
    },
    {
      "cell_type": "markdown",
      "source": [
        "Exercício 08:\n",
        "Implemente um programa em Python que leia 4 valores inteiros A, B, C e D.\n",
        "\n",
        "A seguir, se\n",
        "    • B for maior do que C, e\n",
        "    • D for maior do que A, e\n",
        "    • a soma de C com D for maior que a soma de A e B, e\n",
        "    • C e D, ambos, forem positivos, e\n",
        "    • a variável A for par;\n",
        "\n",
        "então escrever a mensagem ”Valores aceitos”, senão escrever ”Valores nao aceitos”."
      ],
      "metadata": {
        "id": "fFmr3mqOQ_c_"
      }
    },
    {
      "cell_type": "code",
      "source": [
        "valor1=int(input())\n",
        "valor2=int(input())\n",
        "valor3=int(input())\n",
        "valor4=int(input())\n",
        "if(valor2>valor3 and valor4>valor1 and (valor3+valor4)>(valor1+valor2) and valor3>0 and valor4>0 and valor1%2==0):\n",
        "    print(\"Valores aceitos\")\n",
        "else:\n",
        "    print(\"Valores nao aceitos\")"
      ],
      "metadata": {
        "colab": {
          "base_uri": "https://localhost:8080/"
        },
        "id": "PwRaflXRRG_6",
        "outputId": "46ae42ed-7bcb-4ac6-8513-6bcd6facaa5b"
      },
      "execution_count": null,
      "outputs": [
        {
          "output_type": "stream",
          "name": "stdout",
          "text": [
            "2\n",
            "3\n",
            "2\n",
            "6\n",
            "Valores aceitos\n"
          ]
        }
      ]
    },
    {
      "cell_type": "markdown",
      "source": [
        "Exercício 09:\n",
        "Implemente um programa em Python que lê um inteiro N da entrada padrão e imprime N vezes a frase:\n",
        "\n",
        "\"Linguagem de programação Python\""
      ],
      "metadata": {
        "id": "rQt70g2bRgQJ"
      }
    },
    {
      "cell_type": "code",
      "source": [
        "numero=int(input())\n",
        "for i in range(numero):\n",
        "    print(\"Linguagem de programação Python\")\n"
      ],
      "metadata": {
        "colab": {
          "base_uri": "https://localhost:8080/"
        },
        "id": "srkXf9i1RkOv",
        "outputId": "e9d15ec9-cc78-4a4e-ce9d-7d424d2a3470"
      },
      "execution_count": null,
      "outputs": [
        {
          "output_type": "stream",
          "name": "stdout",
          "text": [
            "5\n",
            "Linguagem de programação Python\n",
            "Linguagem de programação Python\n",
            "Linguagem de programação Python\n",
            "Linguagem de programação Python\n",
            "Linguagem de programação Python\n"
          ]
        }
      ]
    },
    {
      "cell_type": "markdown",
      "source": [
        "Exercício 10:\n",
        "Implemente um programa em Python que lê um inteiro N, que representa o número de notas de um aluno. Depois leia da entrada padrão N notas. Por fim, imprima no console a média das notas do aluno."
      ],
      "metadata": {
        "id": "TDg1-GGsR9_0"
      }
    },
    {
      "cell_type": "code",
      "source": [
        "numero=int(input())\n",
        "soma=0\n",
        "for i in range(numero):\n",
        "    nota=float(input())\n",
        "    soma=soma+nota\n",
        "media=soma/numero\n",
        "print(\"Média final:\",media)"
      ],
      "metadata": {
        "colab": {
          "base_uri": "https://localhost:8080/"
        },
        "id": "BfjkJ3gESBB0",
        "outputId": "fc74b5c7-309a-4413-e728-7ec32e0c2f42"
      },
      "execution_count": null,
      "outputs": [
        {
          "output_type": "stream",
          "name": "stdout",
          "text": [
            "4\n",
            "5\n",
            "6\n",
            "7\n",
            "8\n",
            "Média final: 6.5\n"
          ]
        }
      ]
    },
    {
      "cell_type": "markdown",
      "source": [
        "Exercício 11:\n",
        "Implemente um programa em Python que lê uma string da entrada padrão. Depois conte quantas vogais há na string e imprima na saída padrão.\n",
        "\n",
        "Dica: conte vogais maiúsculas e minúsculas."
      ],
      "metadata": {
        "id": "u0LINDkOSk3Q"
      }
    },
    {
      "cell_type": "code",
      "source": [
        "frase=input()\n",
        "contador=0\n",
        "for i in range(len(frase)):\n",
        "    if(frase[i]==\"a\" or frase[i]==\"e\" or frase[i]==\"i\" or frase[i]==\"o\" or frase[i]==\"u\" or frase[i]==\"A\" or frase[i]==\"E\" or frase[i]==\"I\" or frase[i]==\"O\" or frase[i]==\"U\"):\n",
        "        contador+=1\n",
        "print(\"Número de vogais encontradas:\",contador)\n",
        "#"
      ],
      "metadata": {
        "colab": {
          "base_uri": "https://localhost:8080/"
        },
        "id": "t3nxpNN6SqtT",
        "outputId": "37f5561a-d136-4c74-e5e2-4744f8410ba5"
      },
      "execution_count": null,
      "outputs": [
        {
          "output_type": "stream",
          "name": "stdout",
          "text": [
            "Python para IA\n",
            "Número de vogais encontradas: 5\n"
          ]
        }
      ]
    },
    {
      "cell_type": "markdown",
      "source": [
        "Exercício 12:\n",
        "Implemente um programa em Python que lê números inteiros da entrada padrão. A leitura de números deve ser interrompida quando um número negativo for lido.\n",
        "\n",
        "O programa deve imprimir na saída padrão a soma de todos os número positivos lidos.\n",
        "\n",
        "Dica: use o comando while."
      ],
      "metadata": {
        "id": "yeerl70JTzqS"
      }
    },
    {
      "cell_type": "code",
      "source": [
        "soma=0\n",
        "while(True):\n",
        "    numero=int(input())\n",
        "    if(numero<0):\n",
        "        break\n",
        "    soma+=numero\n",
        "print(\"Soma de número positivos:\",soma)"
      ],
      "metadata": {
        "colab": {
          "base_uri": "https://localhost:8080/"
        },
        "id": "IlyxRWcrUMIL",
        "outputId": "d5bcfc4b-5ca4-426f-e8b0-b8a4065e5408"
      },
      "execution_count": null,
      "outputs": [
        {
          "output_type": "stream",
          "name": "stdout",
          "text": [
            "1\n",
            "2\n",
            "3\n",
            "4\n",
            "5\n",
            "-1\n",
            "Soma de números positivos: 15\n"
          ]
        }
      ]
    },
    {
      "cell_type": "markdown",
      "source": [
        "Exercício 13:\n",
        "Implemente um programa em Python que lê números inteiros da entrada padrão. A leitura de números deve ser interrompida quando um número negativo for lido.\n",
        "\n",
        "O programa deve imprimir na saída padrão:\n",
        "\n",
        "A soma de todos os números positivos.\n",
        "A média de todos os números positivos.\n",
        "O menor valor lido (desconsiderando o número negativo).\n",
        "O maior valor lido.\n",
        "Dica: use o comando while."
      ],
      "metadata": {
        "id": "30BfSxiVU0GQ"
      }
    },
    {
      "cell_type": "code",
      "source": [
        "soma=0\n",
        "media=0\n",
        "maior=0\n",
        "menor=0\n",
        "contador=0\n",
        "primeiro_numero = True\n",
        "\n",
        "while(True):\n",
        "    numero=int(input())\n",
        "    if(numero<0):\n",
        "        break\n",
        "    soma+=numero\n",
        "    contador+=1\n",
        "    if primeiro_numero:\n",
        "        maior = numero\n",
        "        menor = numero\n",
        "        primeiro_numero = False\n",
        "    if(numero>maior):\n",
        "        maior=numero\n",
        "    if(numero<menor):\n",
        "        menor=numero\n",
        "media=soma/contador\n",
        "print(\"Soma:\",soma)\n",
        "print(\"Média:\",media)\n",
        "print(\"Maior:\",maior)\n",
        "print(\"Menor:\",menor)\n",
        "#"
      ],
      "metadata": {
        "colab": {
          "base_uri": "https://localhost:8080/"
        },
        "id": "zDC-SdvGU3v5",
        "outputId": "43d9750b-c833-4b9e-fc9a-9dbf866400a1"
      },
      "execution_count": null,
      "outputs": [
        {
          "output_type": "stream",
          "name": "stdout",
          "text": [
            "1\n",
            "2\n",
            "3\n",
            "4\n",
            "5\n",
            "-1\n",
            "Soma: 15\n",
            "Média: 3.0\n",
            "Maior: 5\n",
            "Menor: 1\n"
          ]
        }
      ]
    },
    {
      "cell_type": "markdown",
      "source": [
        "Exercício 14:\n",
        "Leia dois números inteiros A e B, na sequência:\n",
        "\n",
        "a) Apresente todos os números inteiros existentes entre o número menor e o maior.\n",
        "Exemplo, se A for menor que B, apresente os números inteiros entre A e B, caso contrário, entre B e A;\n",
        "\n",
        "b) Calcule a soma de todos os inteiros existentes no intervalo, inclusive A e B.\n",
        "\n",
        "Imprima a lista de valores lado a lado, separado por um espaço."
      ],
      "metadata": {
        "id": "ouGrIV9SdwS_"
      }
    },
    {
      "cell_type": "code",
      "source": [
        "numeroA=int(input())\n",
        "numeroB=int(input())\n",
        "soma=0\n",
        "if(numeroA<numeroB):\n",
        "    for i in range(numeroA,numeroB+1):\n",
        "        print(i,end=\" \")\n",
        "        soma+=i\n",
        "else:\n",
        "    for i in range(numeroB,numeroA+1):\n",
        "        print(i,end=\" \")\n",
        "        soma+=i\n",
        "print(\"\\nSoma:\",soma)\n",
        "#\n"
      ],
      "metadata": {
        "colab": {
          "base_uri": "https://localhost:8080/"
        },
        "id": "A_flDP4Qd0I7",
        "outputId": "9b68e99e-9c5d-4688-edf6-a595ab22d772"
      },
      "execution_count": null,
      "outputs": [
        {
          "output_type": "stream",
          "name": "stdout",
          "text": [
            "10\n",
            "20\n",
            "10 11 12 13 14 15 16 17 18 19 20 \n",
            "Soma: 165\n"
          ]
        }
      ]
    },
    {
      "cell_type": "markdown",
      "source": [
        "Exercício 15:\n",
        "Implemente um programa em Python que lê o nome de uma cultura e, na sequência, leia a produção dessa cultura em toneladas de cada mês do ano.\n",
        "\n",
        "Depois imprima no console:\n",
        "\n",
        "O nome da cultura.\n",
        "A produção total anual.\n",
        "A média mensal de produção."
      ],
      "metadata": {
        "id": "R8PdLezte3i1"
      }
    },
    {
      "cell_type": "code",
      "source": [
        "cultura=input()\n",
        "soma=0\n",
        "for i in range(12):\n",
        "    producao=float(input())\n",
        "    soma+=producao\n",
        "media=soma/12\n",
        "print(\"Cultura:\",cultura)\n",
        "print(\"Produção total anual:\",\"{:.2f}\".format(soma),\"toneladas\")\n",
        "print(\"Média mensal de produção:\",\"{:.2f}\".format(media),\"toneladas\")\n",
        "#"
      ],
      "metadata": {
        "colab": {
          "base_uri": "https://localhost:8080/"
        },
        "id": "Vm1SVEGCe7YE",
        "outputId": "e924431b-3ac3-43f6-a698-10c8457764b4"
      },
      "execution_count": null,
      "outputs": [
        {
          "output_type": "stream",
          "name": "stdout",
          "text": [
            "Soja\n",
            "10\n",
            "15\n",
            "20\n",
            "25\n",
            "30\n",
            "35\n",
            "40\n",
            "45\n",
            "50\n",
            "55\n",
            "60\n",
            "65\n",
            "Cultura: Soja\n",
            "Produção total anual: 450.00 toneladas\n",
            "Média mensal de produção: 37.50 toneladas\n"
          ]
        }
      ]
    }
  ]
}