{
  "nbformat": 4,
  "nbformat_minor": 0,
  "metadata": {
    "colab": {
      "provenance": [],
      "authorship_tag": "ABX9TyP2eSmM0O7W1OfzAktCkSrW",
      "include_colab_link": true
    },
    "kernelspec": {
      "name": "python3",
      "display_name": "Python 3"
    },
    "language_info": {
      "name": "python"
    }
  },
  "cells": [
    {
      "cell_type": "markdown",
      "metadata": {
        "id": "view-in-github",
        "colab_type": "text"
      },
      "source": [
        "<a href=\"https://colab.research.google.com/github/raphasariedine/utfpr/blob/main/Sintaxe_basica_em_Python_(aula_1).ipynb\" target=\"_parent\"><img src=\"https://colab.research.google.com/assets/colab-badge.svg\" alt=\"Open In Colab\"/></a>"
      ]
    },
    {
      "cell_type": "markdown",
      "source": [
        "Texto gerado com IA. O comando foi simples."
      ],
      "metadata": {
        "id": "Zh-7W_WrNixn"
      }
    },
    {
      "cell_type": "code",
      "execution_count": null,
      "metadata": {
        "colab": {
          "base_uri": "https://localhost:8080/"
        },
        "id": "L7O3opmaAQx0",
        "outputId": "d9c9f9f8-aeba-4ddc-f64b-5a6227c43680"
      },
      "outputs": [
        {
          "output_type": "stream",
          "name": "stdout",
          "text": [
            "Digite seu nome: Raphael\n",
            "Bem vindo Raphael. Vamos programar em Python!\n"
          ]
        }
      ],
      "source": [
        "# prompt: gere um codigo em python com a seguinte saida escrita: Bem vindo (nome da pessoa). Vamos programar em Python!\n",
        "\n",
        "nome = input(\"Digite seu nome: \")\n",
        "print(f\"Bem vindo {nome}. Vamos programar em Python!\")\n"
      ]
    },
    {
      "cell_type": "code",
      "source": [
        "nome = \"Fulano da Silva\"\n",
        "print(\"Bem vindo \"+nome+\". Vamos programar em Python!\")"
      ],
      "metadata": {
        "colab": {
          "base_uri": "https://localhost:8080/"
        },
        "id": "DFicENRsBF0y",
        "outputId": "2eadb204-78e1-46bf-a611-3da8cc7bec4c"
      },
      "execution_count": null,
      "outputs": [
        {
          "output_type": "stream",
          "name": "stdout",
          "text": [
            "Bem vindo Fulano da Silva. Vamos programar em Python!\n"
          ]
        }
      ]
    },
    {
      "cell_type": "markdown",
      "source": [
        "Programa resultando o texto escrito de uma aula inicial."
      ],
      "metadata": {
        "id": "Z_vJ9DOMNnfx"
      }
    },
    {
      "cell_type": "code",
      "source": [
        "nome = input(\"Digite seu nome: \")\n",
        "print(\"Bem vindo \" + nome + \". Vamos programar em Python!\")"
      ],
      "metadata": {
        "colab": {
          "base_uri": "https://localhost:8080/"
        },
        "id": "9N2uhmKVMUlt",
        "outputId": "4f676c94-0659-432c-ef30-2a11a6b1d951"
      },
      "execution_count": null,
      "outputs": [
        {
          "output_type": "stream",
          "name": "stdout",
          "text": [
            "Digite seu nome: Raphael\n",
            "Bem vindo Raphael. Vamos programar em Python!\n"
          ]
        }
      ]
    },
    {
      "cell_type": "markdown",
      "source": [
        "Outras opcoes..."
      ],
      "metadata": {
        "id": "BXQ9s--7NzJl"
      }
    },
    {
      "cell_type": "code",
      "source": [
        "nome = input(\"Informe o seu nome: \")\n",
        "print(\"Ola\",nome,\".\")"
      ],
      "metadata": {
        "colab": {
          "base_uri": "https://localhost:8080/"
        },
        "id": "64jWpwJyM9ac",
        "outputId": "a8f47bf7-d27c-4a3b-b3a7-838aad9e8ef2"
      },
      "execution_count": null,
      "outputs": [
        {
          "output_type": "stream",
          "name": "stdout",
          "text": [
            "Informe o seu nome: Raphael\n",
            "Ola Raphael .\n"
          ]
        }
      ]
    },
    {
      "cell_type": "code",
      "source": [
        "qtde = float(input(\"Informe a qtde de soja colhida: \"))\n",
        "area = float(input(\"Informe a area plantada: \"))\n",
        "produtividade = qtde/area\n",
        "print(f\"A produtividade foi de {produtividade} soja por hectare\")"
      ],
      "metadata": {
        "colab": {
          "base_uri": "https://localhost:8080/"
        },
        "id": "D0nKUuZYOt7d",
        "outputId": "5f795d48-e307-4eb3-c49e-73f7ebdb2624"
      },
      "execution_count": null,
      "outputs": [
        {
          "output_type": "stream",
          "name": "stdout",
          "text": [
            "Informe a qtde de soja colhida: 100\n",
            "Informe a area plantada: 10\n",
            "A produtividade foi de 10.0 soja por hectare\n"
          ]
        }
      ]
    },
    {
      "cell_type": "markdown",
      "source": [
        "Programa que faz o calculo do teorema de pitagoras para triangulos de pitagoras, ou seja, triangulos que possuem um angulo de noventa graus."
      ],
      "metadata": {
        "id": "gKhhnG2QRQhG"
      }
    },
    {
      "cell_type": "code",
      "source": [
        "#Programa para dar o resultado de pitagoras de dois valores de entrada de um triangulo de pitagoras;\n",
        "a = float(input(\"Informe o valor de a: \"))\n",
        "b = float(input(\"Informe o valor de b: \"))\n",
        "pitagoras = (a**2 + b**2) ** (1/2)\n",
        "print(f\"O valor da hipotenusa é {pitagoras}\")"
      ],
      "metadata": {
        "colab": {
          "base_uri": "https://localhost:8080/"
        },
        "id": "fDNoWFBsQgfU",
        "outputId": "f0af555f-8ef8-4fb7-9c15-3e3dc9fa0cbf"
      },
      "execution_count": null,
      "outputs": [
        {
          "output_type": "stream",
          "name": "stdout",
          "text": [
            "Informe o valor de a: 7\n",
            "Informe o valor de b: 4\n",
            "O valor da hipotenusa é 8.06225774829855\n"
          ]
        }
      ]
    },
    {
      "cell_type": "markdown",
      "source": [
        "Programa para converter variaveis numericas em variaveis do tipo string;\n",
        "\n"
      ],
      "metadata": {
        "id": "iqgdADl8RkQR"
      }
    },
    {
      "cell_type": "code",
      "source": [
        "idade = input(\"Informe a sua idade: \")\n",
        "print(\"A idade é \" + idade)\n",
        "idade_str = str(idade)\n",
        "print(\"Tipo de Dado\", type(idade_str))"
      ],
      "metadata": {
        "colab": {
          "base_uri": "https://localhost:8080/"
        },
        "id": "rLopm7pBRqTh",
        "outputId": "2e51af01-9752-4dc1-acc6-7f3a692e1c93"
      },
      "execution_count": null,
      "outputs": [
        {
          "output_type": "stream",
          "name": "stdout",
          "text": [
            "Informe a sua idade: 18\n",
            "A idade é 18\n",
            "Tipo de Dado <class 'str'>\n"
          ]
        }
      ]
    },
    {
      "cell_type": "markdown",
      "source": [
        "Programa para converter variaveis strings em variaveis do tipo inteiro:;\n"
      ],
      "metadata": {
        "id": "LFoh6_jxStee"
      }
    },
    {
      "cell_type": "code",
      "source": [
        "numero_str = input(\"Informe um numero: \")\n",
        "numero_int = int(numero_str)\n",
        "print(\"O seu numero e: \" + numero_str)\n",
        "print(\"Tipo de Dado\", type(numero_int))"
      ],
      "metadata": {
        "colab": {
          "base_uri": "https://localhost:8080/"
        },
        "id": "2LUm6dH1S2vZ",
        "outputId": "adfc5303-126a-40af-880e-718370a58f65"
      },
      "execution_count": null,
      "outputs": [
        {
          "output_type": "stream",
          "name": "stdout",
          "text": [
            "Informe um numero: 5\n",
            "O seu numero e: 5\n",
            "Tipo de Dado <class 'int'>\n"
          ]
        }
      ]
    },
    {
      "cell_type": "markdown",
      "source": [
        "Programa para converter variaveis strings em variaveis do tipo float;\n",
        "E no final ainda faz uma multiplicacao basica por um numero float tambem.\n"
      ],
      "metadata": {
        "id": "rRrFBhUETea5"
      }
    },
    {
      "cell_type": "code",
      "source": [
        "numero_str = input(\"Informe um numero: \")\n",
        "print(\"Tipo de Dado\", type(numero_str))\n",
        "numero_float = float(numero_str)\n",
        "print(\"O seu numero e: \" + numero_str)\n",
        "print(\"Tipo de Dado\", type(numero_float))\n",
        "print(numero_float*1.5)"
      ],
      "metadata": {
        "colab": {
          "base_uri": "https://localhost:8080/"
        },
        "id": "JM8KXOICTii6",
        "outputId": "2f46ab39-7c39-4398-bf09-d99614abdcc9"
      },
      "execution_count": null,
      "outputs": [
        {
          "output_type": "stream",
          "name": "stdout",
          "text": [
            "Informe um numero: 9.5\n",
            "Tipo de Dado <class 'str'>\n",
            "O seu numero e: 9.5\n",
            "Tipo de Dado <class 'float'>\n",
            "14.25\n"
          ]
        }
      ]
    },
    {
      "cell_type": "markdown",
      "source": [
        "É um programa básico testando algumas funções do Phyton, como a de identificar caracteres em strings, a de imprimir parte da string ou de mostrar alguns caracteres presentes na string. Tambem temos a de soma de strings, que é também chamda de concatenação."
      ],
      "metadata": {
        "id": "xKUYa9jcrwlf"
      }
    },
    {
      "cell_type": "code",
      "source": [
        "nome='joaquim'\n",
        "print(\"tem a letra 'm' no nome?\",(\"m\" in nome))\n",
        "print(\"tem a letra 't' no nome?\",(\"t\" in nome))\n",
        "print(nome*3)\n",
        "print(nome[0:4])\n",
        "print(nome+nome)"
      ],
      "metadata": {
        "colab": {
          "base_uri": "https://localhost:8080/"
        },
        "id": "TF3gv8PRjSyF",
        "outputId": "b866bd23-058b-40b5-caa3-859cda34246a"
      },
      "execution_count": null,
      "outputs": [
        {
          "output_type": "stream",
          "name": "stdout",
          "text": [
            "tem a letra 'm' no nome? True\n",
            "tem a letra 't' no nome? False\n",
            "joaquimjoaquimjoaquim\n",
            "joaq\n",
            "joaquimjoaquim\n"
          ]
        }
      ]
    },
    {
      "cell_type": "markdown",
      "source": [
        "Aqui treinamento para fazer listas e printar suas posições..."
      ],
      "metadata": {
        "id": "iUxCZkzK7D4z"
      }
    },
    {
      "cell_type": "code",
      "source": [
        "lista=[1,2,3,\"credits\",3,\" \",\"combo\"]\n",
        "print(lista)\n",
        "[1,2,3,\"credits\",3,\" \",\"combo\"]\n",
        "print(lista[0])\n",
        "print(lista[1])\n",
        "print(lista[2])\n",
        "print(lista[3])\n",
        "print(lista[4])\n",
        "print(lista[5])\n",
        "print(lista[6])"
      ],
      "metadata": {
        "colab": {
          "base_uri": "https://localhost:8080/"
        },
        "id": "p8zApQdusUqw",
        "outputId": "bd788e6c-3655-458d-a08d-e6c6ac95dd47"
      },
      "execution_count": null,
      "outputs": [
        {
          "output_type": "stream",
          "name": "stdout",
          "text": [
            "[1, 2, 3, 'credits', 3, ' ', 'combo']\n",
            "1\n",
            "2\n",
            "3\n",
            "credits\n",
            "3\n",
            " \n",
            "combo\n"
          ]
        }
      ]
    },
    {
      "cell_type": "markdown",
      "source": [
        "Agora o treinamento para adicionar elementos nas listas;\n",
        "TAMBEM para identificar posições de elementos nas listas;\n",
        "E POR FIM PARA contar quantos elementos de certo valor existem naquela lista; POR FIM DO FIM também para remover elementos específicos da lista;"
      ],
      "metadata": {
        "id": "WYSQ9mPK76ib"
      }
    },
    {
      "cell_type": "code",
      "source": [
        "lista=[1,2,3,\"credits\",3,\" \",3,3,3,3,3,3,3,3,\"combo\"]\n",
        "print(lista)\n",
        "lista.append(4)\n",
        "print(lista)\n",
        "lista.append(\"outro\")\n",
        "print(lista)\n",
        "print(lista.index(\"outro\"))\n",
        "print(lista.index(3))\n",
        "print(lista.count(3))\n",
        "lista.remove(\"credits\")\n",
        "print(lista)\n",
        "lista.reverse()\n",
        "print(lista)\n",
        "lista2=[1,2,3,4,5]\n",
        "lista2.reverse()\n",
        "print(lista2)\n",
        "lista2.sort()\n",
        "print(lista2)\n",
        "lista2.sort(reverse=True)\n",
        "print(lista2)\n",
        "lista.pop()\n",
        "print(lista)\n",
        "lista.pop()\n",
        "print(lista)"
      ],
      "metadata": {
        "colab": {
          "base_uri": "https://localhost:8080/"
        },
        "id": "cpr3iOpk7Ji-",
        "outputId": "de8a2a61-11d0-4a11-c1e1-d982030a845e"
      },
      "execution_count": null,
      "outputs": [
        {
          "output_type": "stream",
          "name": "stdout",
          "text": [
            "[1, 2, 3, 'credits', 3, ' ', 3, 3, 3, 3, 3, 3, 3, 3, 'combo']\n",
            "[1, 2, 3, 'credits', 3, ' ', 3, 3, 3, 3, 3, 3, 3, 3, 'combo', 4]\n",
            "[1, 2, 3, 'credits', 3, ' ', 3, 3, 3, 3, 3, 3, 3, 3, 'combo', 4, 'outro']\n",
            "16\n",
            "2\n",
            "10\n",
            "[1, 2, 3, 3, ' ', 3, 3, 3, 3, 3, 3, 3, 3, 'combo', 4, 'outro']\n",
            "['outro', 4, 'combo', 3, 3, 3, 3, 3, 3, 3, 3, ' ', 3, 3, 2, 1]\n",
            "[5, 4, 3, 2, 1]\n",
            "[1, 2, 3, 4, 5]\n",
            "[5, 4, 3, 2, 1]\n",
            "['outro', 4, 'combo', 3, 3, 3, 3, 3, 3, 3, 3, ' ', 3, 3, 2]\n",
            "['outro', 4, 'combo', 3, 3, 3, 3, 3, 3, 3, 3, ' ', 3, 3]\n"
          ]
        }
      ]
    },
    {
      "cell_type": "markdown",
      "source": [
        "como trabalhar com dicionários no Phyton... aprender a inserir itens, considerando que os itens são o conjunto de chaves e valores... criar dicionários... excluir itens ... identificar chaves. .. identificar valores ... e identificar os próprios itens."
      ],
      "metadata": {
        "id": "v3VyVyCO9kNp"
      }
    },
    {
      "cell_type": "code",
      "source": [
        "#vamos supor que estamos buscando aqui adicionar numeros de telefones em uma lista de contatos de pessoas. Como se fosse adicionar numeros de telefones em uma agenda telefonica.\n",
        "agenda={\"mateus\":61996969696,\"rita\":62985848382,\"joao\":63974737271,\"cassio\":994234190,\"manuela\":995593419}\n",
        "print(agenda)\n",
        "print(agenda[\"mateus\"])\n",
        "print(agenda[\"rita\"])\n",
        "print(agenda[\"joao\"])\n",
        "print(agenda[\"cassio\"])\n",
        "print(agenda[\"manuela\"])\n",
        "agenda[\"mateus\"]=61999999999\n",
        "print(agenda)\n",
        "agenda[\"pablo\"]=984919329\n",
        "print(agenda)\n",
        "del agenda[\"rita\"]\n",
        "print(agenda)\n",
        "agenda.pop(\"joao\")\n",
        "print(agenda)\n",
        "print(agenda.keys())\n",
        "print(agenda.values())\n",
        "print(agenda.items())\n"
      ],
      "metadata": {
        "colab": {
          "base_uri": "https://localhost:8080/"
        },
        "id": "X_9cfFIK8BfI",
        "outputId": "9808326e-b192-43bc-8202-3de651ac956c"
      },
      "execution_count": null,
      "outputs": [
        {
          "output_type": "stream",
          "name": "stdout",
          "text": [
            "{'mateus': 61996969696, 'rita': 62985848382, 'joao': 63974737271, 'cassio': 994234190, 'manuela': 995593419}\n",
            "61996969696\n",
            "62985848382\n",
            "63974737271\n",
            "994234190\n",
            "995593419\n",
            "{'mateus': 61999999999, 'rita': 62985848382, 'joao': 63974737271, 'cassio': 994234190, 'manuela': 995593419}\n",
            "{'mateus': 61999999999, 'rita': 62985848382, 'joao': 63974737271, 'cassio': 994234190, 'manuela': 995593419, 'pablo': 984919329}\n",
            "{'mateus': 61999999999, 'joao': 63974737271, 'cassio': 994234190, 'manuela': 995593419, 'pablo': 984919329}\n",
            "{'mateus': 61999999999, 'cassio': 994234190, 'manuela': 995593419, 'pablo': 984919329}\n",
            "dict_keys(['mateus', 'cassio', 'manuela', 'pablo'])\n",
            "dict_values([61999999999, 994234190, 995593419, 984919329])\n",
            "dict_items([('mateus', 61999999999), ('cassio', 994234190), ('manuela', 995593419), ('pablo', 984919329)])\n"
          ]
        }
      ]
    },
    {
      "cell_type": "markdown",
      "source": [
        "Tipples... vamos aprender a fazer tuples ... tuples são listas que não podem ter seus itens excluidos ou adicionados. É uma lista fixa, não mutável. O ideal seria trabalhar para dados que não podem ser modificados."
      ],
      "metadata": {
        "id": "sPY_fqlZA_k7"
      }
    },
    {
      "cell_type": "code",
      "source": [
        "tuplas=(\"mateus\",\"rita\",\"joao\",\"cassio\",\"manuela\")\n",
        "print(tuplas)\n",
        "print(tuplas[0])\n",
        "print(tuplas[1])\n",
        "print(tuplas[2])\n",
        "print(tuplas[3])\n",
        "print(tuplas[4])\n",
        "print(tuplas.index(\"mateus\"))\n",
        "print(tuplas.index(\"rita\"))\n",
        "print(tuplas.index(\"joao\"))\n",
        "print(tuplas.index(\"cassio\"))\n",
        "print(tuplas.index(\"manuela\"))\n",
        "print(len(tuplas))\n",
        "print(tuplas+tuplas)\n",
        "print(tuplas*3)\n",
        "print(\"joao\" in tuplas)\n",
        "print(\"pablo\" in tuplas)\n",
        "lista=[\"delfin\",\"baleia\",\"tubarao\"]\n",
        "print(lista)\n",
        "print(tuple(lista))\n",
        "among=tuple(lista)\n",
        "print(among)\n"
      ],
      "metadata": {
        "colab": {
          "base_uri": "https://localhost:8080/"
        },
        "id": "LYXQVEbSBDXR",
        "outputId": "624de10e-4cfb-47de-e5c1-82312659c5c9"
      },
      "execution_count": null,
      "outputs": [
        {
          "output_type": "stream",
          "name": "stdout",
          "text": [
            "('mateus', 'rita', 'joao', 'cassio', 'manuela')\n",
            "mateus\n",
            "rita\n",
            "joao\n",
            "cassio\n",
            "manuela\n",
            "0\n",
            "1\n",
            "2\n",
            "3\n",
            "4\n",
            "5\n",
            "('mateus', 'rita', 'joao', 'cassio', 'manuela', 'mateus', 'rita', 'joao', 'cassio', 'manuela')\n",
            "('mateus', 'rita', 'joao', 'cassio', 'manuela', 'mateus', 'rita', 'joao', 'cassio', 'manuela', 'mateus', 'rita', 'joao', 'cassio', 'manuela')\n",
            "True\n",
            "False\n",
            "['delfin', 'baleia', 'tubarao']\n",
            "('delfin', 'baleia', 'tubarao')\n",
            "('delfin', 'baleia', 'tubarao')\n"
          ]
        }
      ]
    },
    {
      "cell_type": "markdown",
      "source": [
        "utilizando IF e ELSE ... ELIF"
      ],
      "metadata": {
        "id": "p-W6DRn7X4qo"
      }
    },
    {
      "cell_type": "code",
      "source": [
        "number=1\n",
        "if(number==1):\n",
        "  print(\"o numero e 1\")\n",
        "else:\n",
        "  print(\"o numero nao e 1\")\n",
        "  if(number==2):\n",
        "    print(\"o numero e 2\")\n",
        "  else:\n",
        "    print(\"o numero nao e 2\")\n",
        "    if(number==3):\n",
        "      print(\"o numero e 3\")\n",
        "nome=\"tiago\"\n",
        "if(\"t\" in nome):\n",
        "  print(\"o nome tem a letra t\")\n",
        "else:\n",
        "  print(\"o nome nao tem a letra t\")\n",
        "if(\"g\" not in nome):\n",
        "    print(\"o nome nao tem a letra g\")\n",
        "else:\n",
        "      pass\n",
        "if(\"i\" in nome):\n",
        "        print(\"o nome tem a letra i\")\n",
        "elif(\"i\" in nome):\n",
        "        print(\"o nome tem a letra i\")\n",
        "else:\n",
        "          pass"
      ],
      "metadata": {
        "colab": {
          "base_uri": "https://localhost:8080/"
        },
        "id": "ROxL_n_pYCX-",
        "outputId": "9e07bb8b-c6dd-4830-bd75-791b92e98cae"
      },
      "execution_count": null,
      "outputs": [
        {
          "output_type": "stream",
          "name": "stdout",
          "text": [
            "o numero e 1\n",
            "o nome tem a letra t\n",
            "o nome tem a letra i\n"
          ]
        }
      ]
    },
    {
      "cell_type": "markdown",
      "source": [
        "\"FOR\" LOOP"
      ],
      "metadata": {
        "id": "ldwkKhrHb6PC"
      }
    },
    {
      "cell_type": "code",
      "source": [
        "for x in range (0,5):\n",
        "  print(\"O valor de x é\", x)\n",
        "\n",
        "nome=\"tiago\"\n",
        "for letra in nome:\n",
        "  print(\"A letra é\", letra)\n",
        "lista=[\"tiago\", 19, \"programador\"]\n",
        "for item in lista:\n",
        "  print(\"O item é\", item)"
      ],
      "metadata": {
        "colab": {
          "base_uri": "https://localhost:8080/"
        },
        "id": "XpmUR45zcAZl",
        "outputId": "3007d422-0b82-4999-8ca2-c9611f4805d1"
      },
      "execution_count": null,
      "outputs": [
        {
          "output_type": "stream",
          "name": "stdout",
          "text": [
            "O valor de x é 0\n",
            "O valor de x é 1\n",
            "O valor de x é 2\n",
            "O valor de x é 3\n",
            "O valor de x é 4\n",
            "A letra é t\n",
            "A letra é i\n",
            "A letra é a\n",
            "A letra é g\n",
            "A letra é o\n",
            "O item é tiago\n",
            "O item é 19\n",
            "O item é programador\n"
          ]
        }
      ]
    },
    {
      "cell_type": "markdown",
      "source": [
        "\"WHILE\" LOOP"
      ],
      "metadata": {
        "id": "XKMCR8kicy-g"
      }
    },
    {
      "cell_type": "code",
      "source": [
        "numero=15\n",
        "while(numero>0):\n",
        "  print(\"O numero é\", numero)\n",
        "  numero=numero-1\n",
        "print(\"chegou ao fim\")\n",
        "jota=20\n",
        "while((jota>0)&(numero>-10)):\n",
        "  print(\"O numero é\", jota)\n",
        "  jota=jota-1\n",
        "  numero=numero-1\n",
        "print(\"chegou ao fim\")"
      ],
      "metadata": {
        "colab": {
          "base_uri": "https://localhost:8080/"
        },
        "id": "f9zKGppEc03d",
        "outputId": "b403da82-bbd1-4b3a-e1e7-d396e646b041"
      },
      "execution_count": null,
      "outputs": [
        {
          "output_type": "stream",
          "name": "stdout",
          "text": [
            "O numero é 15\n",
            "O numero é 14\n",
            "O numero é 13\n",
            "O numero é 12\n",
            "O numero é 11\n",
            "O numero é 10\n",
            "O numero é 9\n",
            "O numero é 8\n",
            "O numero é 7\n",
            "O numero é 6\n",
            "O numero é 5\n",
            "O numero é 4\n",
            "O numero é 3\n",
            "O numero é 2\n",
            "O numero é 1\n",
            "chegou ao fim\n",
            "O numero é 20\n",
            "O numero é 19\n",
            "O numero é 18\n",
            "O numero é 17\n",
            "O numero é 16\n",
            "O numero é 15\n",
            "O numero é 14\n",
            "O numero é 13\n",
            "O numero é 12\n",
            "O numero é 11\n",
            "chegou ao fim\n"
          ]
        }
      ]
    },
    {
      "cell_type": "markdown",
      "source": [
        "PASS, BREAK e CONTINUE...\n",
        "O BREAK é utilizado tanto em IF ou WHILE, quando queremos sair de ciclos.\n"
      ],
      "metadata": {
        "id": "HI5Uv0ZyeoKD"
      }
    },
    {
      "cell_type": "code",
      "source": [
        "numero=20\n",
        "while True:\n",
        "  print(\"O numero é\", numero)\n",
        "  numero=numero-1\n",
        "  if(numero==2):\n",
        "    break\n",
        "print(\"chegou ao fim\")\n",
        "\n",
        "x=10\n",
        "while True:\n",
        "  x=x-1\n",
        "  if(x==5):\n",
        "    continue\n",
        "  print(\"O valor de x é\", x)\n",
        "  if(x==0):\n",
        "    break\n",
        "print(\"chegou ao fim\")\n",
        "y=10\n",
        "while True:\n",
        "  print(\"O valor de y é\", y)\n",
        "  y=y-1\n",
        "  if(y==7):\n",
        "    while((y>=2)&(y<=7)):\n",
        "      y=y-1\n",
        "  if(y==0):\n",
        "    break\n",
        "print(\"chegou ao fim\")\n",
        "for y in range (0,10):\n",
        "  continue\n",
        "  print(\"O valor de y é\", y)\n",
        "for x in range (0,5):\n",
        "  pass\n",
        "  print(\"O valor de x é\", x)"
      ],
      "metadata": {
        "colab": {
          "base_uri": "https://localhost:8080/"
        },
        "id": "CIXnGlK8e0Ma",
        "outputId": "43172bfd-68b3-45d8-8c19-18a6f2f34e20"
      },
      "execution_count": null,
      "outputs": [
        {
          "output_type": "stream",
          "name": "stdout",
          "text": [
            "O numero é 20\n",
            "O numero é 19\n",
            "O numero é 18\n",
            "O numero é 17\n",
            "O numero é 16\n",
            "O numero é 15\n",
            "O numero é 14\n",
            "O numero é 13\n",
            "O numero é 12\n",
            "O numero é 11\n",
            "O numero é 10\n",
            "O numero é 9\n",
            "O numero é 8\n",
            "O numero é 7\n",
            "O numero é 6\n",
            "O numero é 5\n",
            "O numero é 4\n",
            "O numero é 3\n",
            "chegou ao fim\n",
            "O valor de x é 9\n",
            "O valor de x é 8\n",
            "O valor de x é 7\n",
            "O valor de x é 6\n",
            "O valor de x é 4\n",
            "O valor de x é 3\n",
            "O valor de x é 2\n",
            "O valor de x é 1\n",
            "O valor de x é 0\n",
            "chegou ao fim\n",
            "O valor de y é 10\n",
            "O valor de y é 9\n",
            "O valor de y é 8\n",
            "O valor de y é 1\n",
            "chegou ao fim\n",
            "O valor de x é 0\n",
            "O valor de x é 1\n",
            "O valor de x é 2\n",
            "O valor de x é 3\n",
            "O valor de x é 4\n"
          ]
        }
      ]
    },
    {
      "cell_type": "markdown",
      "source": [
        "Expressões lógicas: nos permite fazer comparações e combinações."
      ],
      "metadata": {
        "id": "rlvJZHV7nzY8"
      }
    },
    {
      "cell_type": "code",
      "source": [
        "a=5\n",
        "b=3\n",
        "c=7\n",
        "resultado=(a>b)\n",
        "print(\"Resultado da expressão:(a>b):\", resultado)\n",
        "print(type(resultado))\n",
        "\n",
        "resultado=(a>b)and(a<c)\n",
        "print(\"Resultado da expressão:(a>b)and(a<c):\", resultado)\n",
        "\n",
        "resultado=(a>b)or(a>c)\n",
        "print(\"Resultado da expressão:(a>b)or(a>c)\", resultado)\n",
        "\n",
        "resultado=not(a>b)\n",
        "print(\"Resultado da expressão:not(a>b)\", resultado)\n",
        "\n",
        "resultado=(a>b)|(a<c)\n",
        "print(\"Resultado da expressão:(a>b)|(a<c)\", resultado)\n",
        "\n",
        "resultado=(a>b)&(a<c)\n",
        "print(\"Resultado da expressão:(a>b)&(a<c)\", resultado)\n",
        "\n",
        "resultado=not(a==b)\n",
        "print(\"Resultado da expressão:not(a==b)\", resultado)\n",
        "\n",
        "resultado=((a>b)and(b<c))or(a==c)\n",
        "print(\"Resultado da expressão:((a>b)and(b<c))or(a==c)\", resultado)\n",
        "\n",
        "resultado=not((a>b)or(b<c))\n",
        "print(\"Resultado da expressão:not((a>b)or(b<c))\", resultado)"
      ],
      "metadata": {
        "colab": {
          "base_uri": "https://localhost:8080/"
        },
        "id": "Qb9lkE4pn18E",
        "outputId": "457bf71e-0589-4e05-b2d2-682d0b242114"
      },
      "execution_count": 10,
      "outputs": [
        {
          "output_type": "stream",
          "name": "stdout",
          "text": [
            "Resultado da expressão:(a>b): True\n",
            "<class 'bool'>\n",
            "Resultado da expressão:(a>b)and(a<c): True\n",
            "Resultado da expressão:(a>b)or(a>c) True\n",
            "Resultado da expressão:not(a>b) False\n",
            "Resultado da expressão:(a>b)|(a<c) True\n",
            "Resultado da expressão:(a>b)&(a<c) True\n",
            "Resultado da expressão:not(a==b) True\n",
            "Resultado da expressão:((a>b)and(b<c))or(a==c) True\n",
            "Resultado da expressão:not((a>b)or(b<c)) False\n"
          ]
        }
      ]
    },
    {
      "cell_type": "markdown",
      "source": [
        "Comandos de decisão: nos permite montar um programa baseado em definições, decisões.\n",
        "COMANDOS DE DECISÃO (IF-ELSE)\n",
        "o INPUT retorna uma variável em modelo \"STRING\".\n",
        "Para transformar a variável em modelo INTEIRO, devemos adicionar o \"int\" antes do input."
      ],
      "metadata": {
        "id": "5IJns7x-plFA"
      }
    },
    {
      "cell_type": "code",
      "source": [
        "idade=int(input(\"Informe a sua idade: \"))\n",
        "if(idade>=18):\n",
        "  print(\"Você é maior de idade\")\n",
        "else:\n",
        "  print(\"Você é menor de idade\")\n",
        "print(\"Fim do programa\")\n",
        "\n",
        "numero_str=input(\"Informe um numero: \")\n",
        "numero_int=int(numero_str)\n",
        "if(numero_int%2==0):\n",
        "  print(\"O numero é par\")\n",
        "else:\n",
        "  print(\"O numero é impar\")"
      ],
      "metadata": {
        "colab": {
          "base_uri": "https://localhost:8080/"
        },
        "id": "Vnv_YJ0Xp89I",
        "outputId": "ede32c44-785c-45dd-c5f1-68c44280b0e7"
      },
      "execution_count": 16,
      "outputs": [
        {
          "output_type": "stream",
          "name": "stdout",
          "text": [
            "Informe a sua idade: 44\n",
            "Você é maior de idade\n",
            "Fim do programa\n",
            "Informe um numero: 19\n",
            "O numero é impar\n"
          ]
        }
      ]
    },
    {
      "cell_type": "markdown",
      "source": [
        "Usando o ELIF"
      ],
      "metadata": {
        "id": "fMD1np7crMw4"
      }
    },
    {
      "cell_type": "code",
      "source": [
        "nota=float(input(\"Digite a nota do aluno: \"))\n",
        "if((nota>10)or(nota<0)):\n",
        "  print(\"Nota inválida\")\n",
        "elif(nota>=9):\n",
        "  print(\"Conceito A - Excelente\")\n",
        "elif(nota>=8):\n",
        "  print(\"Conceito B - Muito bom\")\n",
        "elif(nota>=7):\n",
        "  print(\"Conceito C - Bom\")\n",
        "elif(nota>=6):\n",
        "  print(\"Conceito D 0 Regular\")\n",
        "else:\n",
        "  print(\"Conceito E - Ruim\")\n",
        "print(\"Fim do programa\")\n",
        "\n",
        "\n",
        "idade=int(input(\"Digite sua idade: \"))\n",
        "if(idade<18):\n",
        "  print(\"Menor de idade\")\n",
        "elif(idade>=18)and(idade<60):\n",
        "  print(\"Maior de idade\")\n",
        "else:\n",
        "  print(\"Você é um idoso\")\n",
        "print(\"Ponto final\")"
      ],
      "metadata": {
        "colab": {
          "base_uri": "https://localhost:8080/"
        },
        "id": "KL0xq5SirPEH",
        "outputId": "3588eb55-39be-439d-a2d0-32b4d480cef2"
      },
      "execution_count": 27,
      "outputs": [
        {
          "output_type": "stream",
          "name": "stdout",
          "text": [
            "Digite a nota do aluno: 1\n",
            "Conceito E - Ruim\n",
            "Fim do programa\n",
            "Digite sua idade: 88\n",
            "Você é um idoso\n",
            "Ponto final\n"
          ]
        }
      ]
    },
    {
      "cell_type": "markdown",
      "source": [
        "Comandos de repetição: FOR e WHILE\n",
        "o Comando FOR é utilizado para quando já sabemos quantas vezes queremos utilizar a repetição ou quando temos uma sequência definida de elementos a serem processados."
      ],
      "metadata": {
        "id": "Iz0kn3nksstI"
      }
    },
    {
      "cell_type": "code",
      "source": [
        "numeros=[1,2,3,4,5,6,7,8,9,10]\n",
        "x=0\n",
        "for numero in numeros:\n",
        "  x=(str(x)+str(numero))\n",
        "print(x)\n",
        "print(type(x))\n",
        "\n",
        "numerow=[11,12,13,14,15]\n",
        "for i in numerow:\n",
        "  print(i*2, end = ' - ')\n",
        "  print(i)\n",
        "\n",
        "numeros=[1,2,3,4,5,6,7,8,9,10]\n",
        "for numero in numeros:\n",
        "  print(numero, end = '')\n",
        "print('\\n',type(numero))\n",
        "\n",
        "frase=\"Ola, mundo!\"\n",
        "for letra in frase:\n",
        "  print(letra, end = '')\n",
        "\n"
      ],
      "metadata": {
        "colab": {
          "base_uri": "https://localhost:8080/"
        },
        "id": "mVIfc50osw_E",
        "outputId": "ffba6e3e-4a5f-44fa-f4ff-e6eaa81a94d1"
      },
      "execution_count": 49,
      "outputs": [
        {
          "output_type": "stream",
          "name": "stdout",
          "text": [
            "012345678910\n",
            "<class 'str'>\n",
            "22 - 11\n",
            "24 - 12\n",
            "26 - 13\n",
            "28 - 14\n",
            "30 - 15\n",
            "12345678910\n",
            " <class 'int'>\n",
            "Ola, mundo!"
          ]
        }
      ]
    },
    {
      "cell_type": "markdown",
      "source": [
        "Vamos utilizar o fatorial:\n",
        "\n",
        "No Phyton, a função 'range' no 'for' sempre percorre até o último valor menos um."
      ],
      "metadata": {
        "id": "JSqfISNexOhs"
      }
    },
    {
      "cell_type": "code",
      "source": [
        "numero=5\n",
        "fatorial=1\n",
        "for i in range(1,numero+1):\n",
        "  fatorial=fatorial*i\n",
        "print(\"O fatorial de\", numero, \"é:\", fatorial)"
      ],
      "metadata": {
        "colab": {
          "base_uri": "https://localhost:8080/"
        },
        "id": "y52JyiDVxUPo",
        "outputId": "2003a09e-b8f4-40f6-c508-456baaa9e244"
      },
      "execution_count": 51,
      "outputs": [
        {
          "output_type": "stream",
          "name": "stdout",
          "text": [
            "O fatorial de 5 é: 120\n"
          ]
        }
      ]
    },
    {
      "cell_type": "markdown",
      "source": [
        "Vamos utilizar o WHILE:\n",
        "\n",
        "duas formas de fazer um regressão numérica:\n",
        "1: numero=numero-1\n",
        "2: numero-=1\n",
        "\n",
        "Essas duas formas executam exatamente a mesma regressão."
      ],
      "metadata": {
        "id": "UbEzAJCpyeNr"
      }
    },
    {
      "cell_type": "code",
      "source": [
        "numero=int(input(\"Digite o numero: \"))\n",
        "while numero>0:\n",
        "  print(numero)\n",
        "  numero=numero-1\n",
        "print(\"Fim do programa\")\n",
        "\n",
        "numero=int(input(\"Digite o numero: \"))\n",
        "while numero>0:\n",
        "  print(numero)\n",
        "  numero-=1\n",
        "print(\"Fim do programa\")\n"
      ],
      "metadata": {
        "colab": {
          "base_uri": "https://localhost:8080/"
        },
        "id": "jtglotMmygc7",
        "outputId": "08fdf0f7-06da-4c43-d54c-6b9746d21ca2"
      },
      "execution_count": 59,
      "outputs": [
        {
          "output_type": "stream",
          "name": "stdout",
          "text": [
            "Digite o numero: 5\n",
            "5\n",
            "4\n",
            "3\n",
            "2\n",
            "1\n",
            "Fim do programa\n",
            "Digite o numero: 5\n",
            "5\n",
            "4\n",
            "3\n",
            "2\n",
            "1\n",
            "Fim do programa\n"
          ]
        }
      ]
    },
    {
      "cell_type": "markdown",
      "source": [
        "Usando uma biblioteca pronta do Phyton.\n",
        "A bliblioteca em questão é a \"random\".\n",
        "Uma das funções dela é trazer um número variável..."
      ],
      "metadata": {
        "id": "-muhwmcRFMHh"
      }
    },
    {
      "cell_type": "code",
      "source": [
        "import random\n",
        "\n",
        "numero_secreto= random.randint(1,100)\n",
        "print(numero_secreto)\n",
        "\n",
        "palpite=int(input(\"Digite seu palpite: \"))\n",
        "\n",
        "while(palpite!=numero_secreto):\n",
        "  if(palpite>numero_secreto):\n",
        "    print(\"O numero secreto é menor\")\n",
        "  else:\n",
        "    print(\"O numero secreto é maior\")\n",
        "  palpite=int(input(\"Digite seu palpite: \"))\n",
        "print(\"Parabens, voce acertou!\")"
      ],
      "metadata": {
        "colab": {
          "base_uri": "https://localhost:8080/"
        },
        "id": "1buyURwPFCHw",
        "outputId": "48d8de3e-0a7e-42d2-c877-ca0b8cd3785e"
      },
      "execution_count": 63,
      "outputs": [
        {
          "output_type": "stream",
          "name": "stdout",
          "text": [
            "96\n",
            "Digite seu palpite: 90\n",
            "O numero secreto é maior\n",
            "Digite seu palpite: 95\n",
            "O numero secreto é maior\n",
            "Digite seu palpite: 96\n",
            "Parabens, voce acertou!\n"
          ]
        }
      ]
    },
    {
      "cell_type": "markdown",
      "source": [
        "Procurando um número randômico:"
      ],
      "metadata": {
        "id": "mhXXotSLHLa9"
      }
    },
    {
      "cell_type": "code",
      "source": [
        "import random\n",
        "\n",
        "numero_secreto= random.randint(1,100)\n",
        "adivinhou=False\n",
        "\n",
        "while not adivinhou:\n",
        "  palpite=int(input(\"Digite seu palpite: \"))\n",
        "  if(palpite==numero_secreto):\n",
        "    print(\"Parabéns! Você acertou o número\")\n",
        "    adivinhou=True\n",
        "  elif palpite>numero_secreto:\n",
        "    print(\"O número secreto é menor\")\n",
        "  else:\n",
        "    print(\"O número secreto é maior\")"
      ],
      "metadata": {
        "colab": {
          "base_uri": "https://localhost:8080/"
        },
        "id": "o0t6ocBVGVgU",
        "outputId": "1cb33635-8b21-439d-d2ce-11683615648e"
      },
      "execution_count": 65,
      "outputs": [
        {
          "output_type": "stream",
          "name": "stdout",
          "text": [
            "Digite seu palpite: 50\n",
            "O número secreto é menor\n",
            "Digite seu palpite: 25\n",
            "O número secreto é maior\n",
            "Digite seu palpite: 37\n",
            "O número secreto é menor\n",
            "Digite seu palpite: 31\n",
            "O número secreto é menor\n",
            "Digite seu palpite: 28\n",
            "O número secreto é menor\n",
            "Digite seu palpite: 26\n",
            "Parabéns! Você acertou o número\n"
          ]
        }
      ]
    },
    {
      "cell_type": "markdown",
      "source": [
        "O BREAK é utilizado para interromper a execução de um loop imediatamente, independente da condição que está sendo testada!"
      ],
      "metadata": {
        "id": "tHMj4Ar5HPbW"
      }
    },
    {
      "cell_type": "code",
      "source": [
        "numeros=[1,2,3,4,5,6,7,8,9,10]\n",
        "\n",
        "valor_procurado=7\n",
        "\n",
        "for numero in numeros:\n",
        "  print(numero)\n",
        "  if(numero==valor_procurado):\n",
        "    print(\"O valor\", valor_procurado, \"foi encontrado\")\n",
        "    break\n",
        "else:\n",
        "  print(\"O valor\", valor_procurado, \"não foi encontrado\")\n",
        "print(\"Fim do programa\")"
      ],
      "metadata": {
        "colab": {
          "base_uri": "https://localhost:8080/"
        },
        "id": "HRJPu8s1HO-N",
        "outputId": "6d841f7e-8bef-4002-f31b-c78c48564f75"
      },
      "execution_count": 67,
      "outputs": [
        {
          "output_type": "stream",
          "name": "stdout",
          "text": [
            "1\n",
            "2\n",
            "3\n",
            "4\n",
            "5\n",
            "6\n",
            "7\n",
            "O valor 7 foi encontrado\n",
            "Fim do programa\n"
          ]
        }
      ]
    },
    {
      "cell_type": "markdown",
      "source": [
        "Comandos ANINHADOS\n",
        "\n",
        "Exemplo da TABUADA!"
      ],
      "metadata": {
        "id": "Dx4B3nsbIDkh"
      }
    },
    {
      "cell_type": "code",
      "source": [
        "for i in range (1,11):\n",
        "  print(\"Tabuada do\", i)\n",
        "  for j in range (1,11):\n",
        "    resultado=i*j\n",
        "    print(i, \"x\", j, \"=\", resultado)\n",
        "  print()\n"
      ],
      "metadata": {
        "colab": {
          "base_uri": "https://localhost:8080/"
        },
        "id": "ech8fy8xIFVo",
        "outputId": "efd64f83-df95-4674-f358-baa64e5abafd"
      },
      "execution_count": 68,
      "outputs": [
        {
          "output_type": "stream",
          "name": "stdout",
          "text": [
            "Tabuada do 1\n",
            "1 x 1 = 1\n",
            "1 x 2 = 2\n",
            "1 x 3 = 3\n",
            "1 x 4 = 4\n",
            "1 x 5 = 5\n",
            "1 x 6 = 6\n",
            "1 x 7 = 7\n",
            "1 x 8 = 8\n",
            "1 x 9 = 9\n",
            "1 x 10 = 10\n",
            "\n",
            "Tabuada do 2\n",
            "2 x 1 = 2\n",
            "2 x 2 = 4\n",
            "2 x 3 = 6\n",
            "2 x 4 = 8\n",
            "2 x 5 = 10\n",
            "2 x 6 = 12\n",
            "2 x 7 = 14\n",
            "2 x 8 = 16\n",
            "2 x 9 = 18\n",
            "2 x 10 = 20\n",
            "\n",
            "Tabuada do 3\n",
            "3 x 1 = 3\n",
            "3 x 2 = 6\n",
            "3 x 3 = 9\n",
            "3 x 4 = 12\n",
            "3 x 5 = 15\n",
            "3 x 6 = 18\n",
            "3 x 7 = 21\n",
            "3 x 8 = 24\n",
            "3 x 9 = 27\n",
            "3 x 10 = 30\n",
            "\n",
            "Tabuada do 4\n",
            "4 x 1 = 4\n",
            "4 x 2 = 8\n",
            "4 x 3 = 12\n",
            "4 x 4 = 16\n",
            "4 x 5 = 20\n",
            "4 x 6 = 24\n",
            "4 x 7 = 28\n",
            "4 x 8 = 32\n",
            "4 x 9 = 36\n",
            "4 x 10 = 40\n",
            "\n",
            "Tabuada do 5\n",
            "5 x 1 = 5\n",
            "5 x 2 = 10\n",
            "5 x 3 = 15\n",
            "5 x 4 = 20\n",
            "5 x 5 = 25\n",
            "5 x 6 = 30\n",
            "5 x 7 = 35\n",
            "5 x 8 = 40\n",
            "5 x 9 = 45\n",
            "5 x 10 = 50\n",
            "\n",
            "Tabuada do 6\n",
            "6 x 1 = 6\n",
            "6 x 2 = 12\n",
            "6 x 3 = 18\n",
            "6 x 4 = 24\n",
            "6 x 5 = 30\n",
            "6 x 6 = 36\n",
            "6 x 7 = 42\n",
            "6 x 8 = 48\n",
            "6 x 9 = 54\n",
            "6 x 10 = 60\n",
            "\n",
            "Tabuada do 7\n",
            "7 x 1 = 7\n",
            "7 x 2 = 14\n",
            "7 x 3 = 21\n",
            "7 x 4 = 28\n",
            "7 x 5 = 35\n",
            "7 x 6 = 42\n",
            "7 x 7 = 49\n",
            "7 x 8 = 56\n",
            "7 x 9 = 63\n",
            "7 x 10 = 70\n",
            "\n",
            "Tabuada do 8\n",
            "8 x 1 = 8\n",
            "8 x 2 = 16\n",
            "8 x 3 = 24\n",
            "8 x 4 = 32\n",
            "8 x 5 = 40\n",
            "8 x 6 = 48\n",
            "8 x 7 = 56\n",
            "8 x 8 = 64\n",
            "8 x 9 = 72\n",
            "8 x 10 = 80\n",
            "\n",
            "Tabuada do 9\n",
            "9 x 1 = 9\n",
            "9 x 2 = 18\n",
            "9 x 3 = 27\n",
            "9 x 4 = 36\n",
            "9 x 5 = 45\n",
            "9 x 6 = 54\n",
            "9 x 7 = 63\n",
            "9 x 8 = 72\n",
            "9 x 9 = 81\n",
            "9 x 10 = 90\n",
            "\n",
            "Tabuada do 10\n",
            "10 x 1 = 10\n",
            "10 x 2 = 20\n",
            "10 x 3 = 30\n",
            "10 x 4 = 40\n",
            "10 x 5 = 50\n",
            "10 x 6 = 60\n",
            "10 x 7 = 70\n",
            "10 x 8 = 80\n",
            "10 x 9 = 90\n",
            "10 x 10 = 100\n",
            "\n"
          ]
        }
      ]
    }
  ]
}