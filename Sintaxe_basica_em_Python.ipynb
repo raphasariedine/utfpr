{
  "nbformat": 4,
  "nbformat_minor": 0,
  "metadata": {
    "colab": {
      "provenance": [],
      "authorship_tag": "ABX9TyP2bWUgqUvZg1/9ZlOYcbTX",
      "include_colab_link": true
    },
    "kernelspec": {
      "name": "python3",
      "display_name": "Python 3"
    },
    "language_info": {
      "name": "python"
    }
  },
  "cells": [
    {
      "cell_type": "markdown",
      "metadata": {
        "id": "view-in-github",
        "colab_type": "text"
      },
      "source": [
        "<a href=\"https://colab.research.google.com/github/raphasariedine/utfpr/blob/main/Sintaxe_basica_em_Python.ipynb\" target=\"_parent\"><img src=\"https://colab.research.google.com/assets/colab-badge.svg\" alt=\"Open In Colab\"/></a>"
      ]
    },
    {
      "cell_type": "code",
      "execution_count": 1,
      "metadata": {
        "colab": {
          "base_uri": "https://localhost:8080/"
        },
        "id": "L7O3opmaAQx0",
        "outputId": "d9c9f9f8-aeba-4ddc-f64b-5a6227c43680"
      },
      "outputs": [
        {
          "output_type": "stream",
          "name": "stdout",
          "text": [
            "Digite seu nome: Raphael\n",
            "Bem vindo Raphael. Vamos programar em Python!\n"
          ]
        }
      ],
      "source": [
        "# prompt: gere um codigo em python com a seguinte saida escrita: Bem vindo (nome da pessoa). Vamos programar em Python!\n",
        "\n",
        "nome = input(\"Digite seu nome: \")\n",
        "print(f\"Bem vindo {nome}. Vamos programar em Python!\")\n"
      ]
    },
    {
      "cell_type": "code",
      "source": [
        "nome = \"Fulano da Silva\"\n",
        "print(\"Bem vindo \"+nome+\". Vamos programar em Python!\")"
      ],
      "metadata": {
        "colab": {
          "base_uri": "https://localhost:8080/"
        },
        "id": "DFicENRsBF0y",
        "outputId": "2eadb204-78e1-46bf-a611-3da8cc7bec4c"
      },
      "execution_count": 3,
      "outputs": [
        {
          "output_type": "stream",
          "name": "stdout",
          "text": [
            "Bem vindo Fulano da Silva. Vamos programar em Python!\n"
          ]
        }
      ]
    }
  ]
}