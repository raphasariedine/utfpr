{
  "nbformat": 4,
  "nbformat_minor": 0,
  "metadata": {
    "colab": {
      "provenance": [],
      "authorship_tag": "ABX9TyNB56fe5iBR9Me3Z3TgxkUq",
      "include_colab_link": true
    },
    "kernelspec": {
      "name": "python3",
      "display_name": "Python 3"
    },
    "language_info": {
      "name": "python"
    }
  },
  "cells": [
    {
      "cell_type": "markdown",
      "metadata": {
        "id": "view-in-github",
        "colab_type": "text"
      },
      "source": [
        "<a href=\"https://colab.research.google.com/github/raphasariedine/utfpr/blob/main/Sintaxe_basica_em_Python.ipynb\" target=\"_parent\"><img src=\"https://colab.research.google.com/assets/colab-badge.svg\" alt=\"Open In Colab\"/></a>"
      ]
    },
    {
      "cell_type": "markdown",
      "source": [
        "Texto gerado com IA. O comando foi simples."
      ],
      "metadata": {
        "id": "Zh-7W_WrNixn"
      }
    },
    {
      "cell_type": "code",
      "execution_count": 1,
      "metadata": {
        "colab": {
          "base_uri": "https://localhost:8080/"
        },
        "id": "L7O3opmaAQx0",
        "outputId": "d9c9f9f8-aeba-4ddc-f64b-5a6227c43680"
      },
      "outputs": [
        {
          "output_type": "stream",
          "name": "stdout",
          "text": [
            "Digite seu nome: Raphael\n",
            "Bem vindo Raphael. Vamos programar em Python!\n"
          ]
        }
      ],
      "source": [
        "# prompt: gere um codigo em python com a seguinte saida escrita: Bem vindo (nome da pessoa). Vamos programar em Python!\n",
        "\n",
        "nome = input(\"Digite seu nome: \")\n",
        "print(f\"Bem vindo {nome}. Vamos programar em Python!\")\n"
      ]
    },
    {
      "cell_type": "code",
      "source": [
        "nome = \"Fulano da Silva\"\n",
        "print(\"Bem vindo \"+nome+\". Vamos programar em Python!\")"
      ],
      "metadata": {
        "colab": {
          "base_uri": "https://localhost:8080/"
        },
        "id": "DFicENRsBF0y",
        "outputId": "2eadb204-78e1-46bf-a611-3da8cc7bec4c"
      },
      "execution_count": 3,
      "outputs": [
        {
          "output_type": "stream",
          "name": "stdout",
          "text": [
            "Bem vindo Fulano da Silva. Vamos programar em Python!\n"
          ]
        }
      ]
    },
    {
      "cell_type": "markdown",
      "source": [
        "Programa resultando o texto escrito de uma aula inicial."
      ],
      "metadata": {
        "id": "Z_vJ9DOMNnfx"
      }
    },
    {
      "cell_type": "code",
      "source": [
        "nome = input(\"Digite seu nome: \")\n",
        "print(\"Bem vindo \" + nome + \". Vamos programar em Python!\")"
      ],
      "metadata": {
        "colab": {
          "base_uri": "https://localhost:8080/"
        },
        "id": "9N2uhmKVMUlt",
        "outputId": "4f676c94-0659-432c-ef30-2a11a6b1d951"
      },
      "execution_count": 6,
      "outputs": [
        {
          "output_type": "stream",
          "name": "stdout",
          "text": [
            "Digite seu nome: Raphael\n",
            "Bem vindo Raphael. Vamos programar em Python!\n"
          ]
        }
      ]
    },
    {
      "cell_type": "markdown",
      "source": [
        "Outras opcoes..."
      ],
      "metadata": {
        "id": "BXQ9s--7NzJl"
      }
    },
    {
      "cell_type": "code",
      "source": [
        "nome = input(\"Informe o seu nome: \")\n",
        "print(\"Ola\",nome,\".\")"
      ],
      "metadata": {
        "colab": {
          "base_uri": "https://localhost:8080/"
        },
        "id": "64jWpwJyM9ac",
        "outputId": "a8f47bf7-d27c-4a3b-b3a7-838aad9e8ef2"
      },
      "execution_count": 10,
      "outputs": [
        {
          "output_type": "stream",
          "name": "stdout",
          "text": [
            "Informe o seu nome: Raphael\n",
            "Ola Raphael .\n"
          ]
        }
      ]
    },
    {
      "cell_type": "code",
      "source": [
        "qtde = float(input(\"Informe a qtde de soja colhida: \"))\n",
        "area = float(input(\"Informe a area plantada: \"))\n",
        "produtividade = qtde/area\n",
        "print(f\"A produtividade foi de {produtividade} soja por hectare\")"
      ],
      "metadata": {
        "colab": {
          "base_uri": "https://localhost:8080/"
        },
        "id": "D0nKUuZYOt7d",
        "outputId": "5f795d48-e307-4eb3-c49e-73f7ebdb2624"
      },
      "execution_count": 11,
      "outputs": [
        {
          "output_type": "stream",
          "name": "stdout",
          "text": [
            "Informe a qtde de soja colhida: 100\n",
            "Informe a area plantada: 10\n",
            "A produtividade foi de 10.0 soja por hectare\n"
          ]
        }
      ]
    },
    {
      "cell_type": "markdown",
      "source": [
        "Programa que faz o calculo do teorema de pitagoras para triangulos de pitagoras, ou seja, triangulos que possuem um angulo de noventa graus."
      ],
      "metadata": {
        "id": "gKhhnG2QRQhG"
      }
    },
    {
      "cell_type": "code",
      "source": [
        "#Programa para dar o resultado de pitagoras de dois valores de entrada de um triangulo de pitagoras;\n",
        "a = float(input(\"Informe o valor de a: \"))\n",
        "b = float(input(\"Informe o valor de b: \"))\n",
        "pitagoras = (a**2 + b**2) ** (1/2)\n",
        "print(f\"O valor da hipotenusa é {pitagoras}\")"
      ],
      "metadata": {
        "colab": {
          "base_uri": "https://localhost:8080/"
        },
        "id": "fDNoWFBsQgfU",
        "outputId": "f0af555f-8ef8-4fb7-9c15-3e3dc9fa0cbf"
      },
      "execution_count": 12,
      "outputs": [
        {
          "output_type": "stream",
          "name": "stdout",
          "text": [
            "Informe o valor de a: 7\n",
            "Informe o valor de b: 4\n",
            "O valor da hipotenusa é 8.06225774829855\n"
          ]
        }
      ]
    },
    {
      "cell_type": "markdown",
      "source": [
        "Programa para converter variaveis numericas em variaveis do tipo string;\n",
        "\n"
      ],
      "metadata": {
        "id": "iqgdADl8RkQR"
      }
    },
    {
      "cell_type": "code",
      "source": [
        "idade = input(\"Informe a sua idade: \")\n",
        "print(\"A idade é \" + idade)\n",
        "idade_str = str(idade)\n",
        "print(\"Tipo de Dado\", type(idade_str))"
      ],
      "metadata": {
        "colab": {
          "base_uri": "https://localhost:8080/"
        },
        "id": "rLopm7pBRqTh",
        "outputId": "2e51af01-9752-4dc1-acc6-7f3a692e1c93"
      },
      "execution_count": 17,
      "outputs": [
        {
          "output_type": "stream",
          "name": "stdout",
          "text": [
            "Informe a sua idade: 18\n",
            "A idade é 18\n",
            "Tipo de Dado <class 'str'>\n"
          ]
        }
      ]
    },
    {
      "cell_type": "markdown",
      "source": [
        "Programa para converter variaveis strings em variaveis do tipo inteiro:;\n"
      ],
      "metadata": {
        "id": "LFoh6_jxStee"
      }
    },
    {
      "cell_type": "code",
      "source": [
        "numero_str = input(\"Informe um numero: \")\n",
        "numero_int = int(numero_str)\n",
        "print(\"O seu numero e: \" + numero_str)\n",
        "print(\"Tipo de Dado\", type(numero_int))"
      ],
      "metadata": {
        "colab": {
          "base_uri": "https://localhost:8080/"
        },
        "id": "2LUm6dH1S2vZ",
        "outputId": "adfc5303-126a-40af-880e-718370a58f65"
      },
      "execution_count": 19,
      "outputs": [
        {
          "output_type": "stream",
          "name": "stdout",
          "text": [
            "Informe um numero: 5\n",
            "O seu numero e: 5\n",
            "Tipo de Dado <class 'int'>\n"
          ]
        }
      ]
    },
    {
      "cell_type": "markdown",
      "source": [
        "Programa para converter variaveis strings em variaveis do tipo float;\n",
        "E no final ainda faz uma multiplicacao basica por um numero float tambem.\n"
      ],
      "metadata": {
        "id": "rRrFBhUETea5"
      }
    },
    {
      "cell_type": "code",
      "source": [
        "numero_str = input(\"Informe um numero: \")\n",
        "print(\"Tipo de Dado\", type(numero_str))\n",
        "numero_float = float(numero_str)\n",
        "print(\"O seu numero e: \" + numero_str)\n",
        "print(\"Tipo de Dado\", type(numero_float))\n",
        "print(numero_float*1.5)"
      ],
      "metadata": {
        "colab": {
          "base_uri": "https://localhost:8080/"
        },
        "id": "JM8KXOICTii6",
        "outputId": "2f46ab39-7c39-4398-bf09-d99614abdcc9"
      },
      "execution_count": 24,
      "outputs": [
        {
          "output_type": "stream",
          "name": "stdout",
          "text": [
            "Informe um numero: 9.5\n",
            "Tipo de Dado <class 'str'>\n",
            "O seu numero e: 9.5\n",
            "Tipo de Dado <class 'float'>\n",
            "14.25\n"
          ]
        }
      ]
    }
  ]
}