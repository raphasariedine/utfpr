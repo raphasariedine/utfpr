{
  "nbformat": 4,
  "nbformat_minor": 0,
  "metadata": {
    "colab": {
      "provenance": [],
      "authorship_tag": "ABX9TyM9QS7MEHuOuWExj2vnS/Hh",
      "include_colab_link": true
    },
    "kernelspec": {
      "name": "python3",
      "display_name": "Python 3"
    },
    "language_info": {
      "name": "python"
    }
  },
  "cells": [
    {
      "cell_type": "markdown",
      "metadata": {
        "id": "view-in-github",
        "colab_type": "text"
      },
      "source": [
        "<a href=\"https://colab.research.google.com/github/raphasariedine/utfpr/blob/main/Sintaxe_basica_em_Python.ipynb\" target=\"_parent\"><img src=\"https://colab.research.google.com/assets/colab-badge.svg\" alt=\"Open In Colab\"/></a>"
      ]
    },
    {
      "cell_type": "markdown",
      "source": [
        "Texto gerado com IA. O comando foi simples."
      ],
      "metadata": {
        "id": "Zh-7W_WrNixn"
      }
    },
    {
      "cell_type": "code",
      "execution_count": null,
      "metadata": {
        "colab": {
          "base_uri": "https://localhost:8080/"
        },
        "id": "L7O3opmaAQx0",
        "outputId": "d9c9f9f8-aeba-4ddc-f64b-5a6227c43680"
      },
      "outputs": [
        {
          "output_type": "stream",
          "name": "stdout",
          "text": [
            "Digite seu nome: Raphael\n",
            "Bem vindo Raphael. Vamos programar em Python!\n"
          ]
        }
      ],
      "source": [
        "# prompt: gere um codigo em python com a seguinte saida escrita: Bem vindo (nome da pessoa). Vamos programar em Python!\n",
        "\n",
        "nome = input(\"Digite seu nome: \")\n",
        "print(f\"Bem vindo {nome}. Vamos programar em Python!\")\n"
      ]
    },
    {
      "cell_type": "code",
      "source": [
        "nome = \"Fulano da Silva\"\n",
        "print(\"Bem vindo \"+nome+\". Vamos programar em Python!\")"
      ],
      "metadata": {
        "colab": {
          "base_uri": "https://localhost:8080/"
        },
        "id": "DFicENRsBF0y",
        "outputId": "2eadb204-78e1-46bf-a611-3da8cc7bec4c"
      },
      "execution_count": null,
      "outputs": [
        {
          "output_type": "stream",
          "name": "stdout",
          "text": [
            "Bem vindo Fulano da Silva. Vamos programar em Python!\n"
          ]
        }
      ]
    },
    {
      "cell_type": "markdown",
      "source": [
        "Programa resultando o texto escrito de uma aula inicial."
      ],
      "metadata": {
        "id": "Z_vJ9DOMNnfx"
      }
    },
    {
      "cell_type": "code",
      "source": [
        "nome = input(\"Digite seu nome: \")\n",
        "print(\"Bem vindo \" + nome + \". Vamos programar em Python!\")"
      ],
      "metadata": {
        "colab": {
          "base_uri": "https://localhost:8080/"
        },
        "id": "9N2uhmKVMUlt",
        "outputId": "4f676c94-0659-432c-ef30-2a11a6b1d951"
      },
      "execution_count": null,
      "outputs": [
        {
          "output_type": "stream",
          "name": "stdout",
          "text": [
            "Digite seu nome: Raphael\n",
            "Bem vindo Raphael. Vamos programar em Python!\n"
          ]
        }
      ]
    },
    {
      "cell_type": "markdown",
      "source": [
        "Outras opcoes..."
      ],
      "metadata": {
        "id": "BXQ9s--7NzJl"
      }
    },
    {
      "cell_type": "code",
      "source": [
        "nome = input(\"Informe o seu nome: \")\n",
        "print(\"Ola\",nome,\".\")"
      ],
      "metadata": {
        "colab": {
          "base_uri": "https://localhost:8080/"
        },
        "id": "64jWpwJyM9ac",
        "outputId": "a8f47bf7-d27c-4a3b-b3a7-838aad9e8ef2"
      },
      "execution_count": null,
      "outputs": [
        {
          "output_type": "stream",
          "name": "stdout",
          "text": [
            "Informe o seu nome: Raphael\n",
            "Ola Raphael .\n"
          ]
        }
      ]
    },
    {
      "cell_type": "code",
      "source": [
        "qtde = float(input(\"Informe a qtde de soja colhida: \"))\n",
        "area = float(input(\"Informe a area plantada: \"))\n",
        "produtividade = qtde/area\n",
        "print(f\"A produtividade foi de {produtividade} soja por hectare\")"
      ],
      "metadata": {
        "colab": {
          "base_uri": "https://localhost:8080/"
        },
        "id": "D0nKUuZYOt7d",
        "outputId": "5f795d48-e307-4eb3-c49e-73f7ebdb2624"
      },
      "execution_count": null,
      "outputs": [
        {
          "output_type": "stream",
          "name": "stdout",
          "text": [
            "Informe a qtde de soja colhida: 100\n",
            "Informe a area plantada: 10\n",
            "A produtividade foi de 10.0 soja por hectare\n"
          ]
        }
      ]
    },
    {
      "cell_type": "markdown",
      "source": [
        "Programa que faz o calculo do teorema de pitagoras para triangulos de pitagoras, ou seja, triangulos que possuem um angulo de noventa graus."
      ],
      "metadata": {
        "id": "gKhhnG2QRQhG"
      }
    },
    {
      "cell_type": "code",
      "source": [
        "#Programa para dar o resultado de pitagoras de dois valores de entrada de um triangulo de pitagoras;\n",
        "a = float(input(\"Informe o valor de a: \"))\n",
        "b = float(input(\"Informe o valor de b: \"))\n",
        "pitagoras = (a**2 + b**2) ** (1/2)\n",
        "print(f\"O valor da hipotenusa é {pitagoras}\")"
      ],
      "metadata": {
        "colab": {
          "base_uri": "https://localhost:8080/"
        },
        "id": "fDNoWFBsQgfU",
        "outputId": "f0af555f-8ef8-4fb7-9c15-3e3dc9fa0cbf"
      },
      "execution_count": null,
      "outputs": [
        {
          "output_type": "stream",
          "name": "stdout",
          "text": [
            "Informe o valor de a: 7\n",
            "Informe o valor de b: 4\n",
            "O valor da hipotenusa é 8.06225774829855\n"
          ]
        }
      ]
    },
    {
      "cell_type": "markdown",
      "source": [
        "Programa para converter variaveis numericas em variaveis do tipo string;\n",
        "\n"
      ],
      "metadata": {
        "id": "iqgdADl8RkQR"
      }
    },
    {
      "cell_type": "code",
      "source": [
        "idade = input(\"Informe a sua idade: \")\n",
        "print(\"A idade é \" + idade)\n",
        "idade_str = str(idade)\n",
        "print(\"Tipo de Dado\", type(idade_str))"
      ],
      "metadata": {
        "colab": {
          "base_uri": "https://localhost:8080/"
        },
        "id": "rLopm7pBRqTh",
        "outputId": "2e51af01-9752-4dc1-acc6-7f3a692e1c93"
      },
      "execution_count": null,
      "outputs": [
        {
          "output_type": "stream",
          "name": "stdout",
          "text": [
            "Informe a sua idade: 18\n",
            "A idade é 18\n",
            "Tipo de Dado <class 'str'>\n"
          ]
        }
      ]
    },
    {
      "cell_type": "markdown",
      "source": [
        "Programa para converter variaveis strings em variaveis do tipo inteiro:;\n"
      ],
      "metadata": {
        "id": "LFoh6_jxStee"
      }
    },
    {
      "cell_type": "code",
      "source": [
        "numero_str = input(\"Informe um numero: \")\n",
        "numero_int = int(numero_str)\n",
        "print(\"O seu numero e: \" + numero_str)\n",
        "print(\"Tipo de Dado\", type(numero_int))"
      ],
      "metadata": {
        "colab": {
          "base_uri": "https://localhost:8080/"
        },
        "id": "2LUm6dH1S2vZ",
        "outputId": "adfc5303-126a-40af-880e-718370a58f65"
      },
      "execution_count": null,
      "outputs": [
        {
          "output_type": "stream",
          "name": "stdout",
          "text": [
            "Informe um numero: 5\n",
            "O seu numero e: 5\n",
            "Tipo de Dado <class 'int'>\n"
          ]
        }
      ]
    },
    {
      "cell_type": "markdown",
      "source": [
        "Programa para converter variaveis strings em variaveis do tipo float;\n",
        "E no final ainda faz uma multiplicacao basica por um numero float tambem.\n"
      ],
      "metadata": {
        "id": "rRrFBhUETea5"
      }
    },
    {
      "cell_type": "code",
      "source": [
        "numero_str = input(\"Informe um numero: \")\n",
        "print(\"Tipo de Dado\", type(numero_str))\n",
        "numero_float = float(numero_str)\n",
        "print(\"O seu numero e: \" + numero_str)\n",
        "print(\"Tipo de Dado\", type(numero_float))\n",
        "print(numero_float*1.5)"
      ],
      "metadata": {
        "colab": {
          "base_uri": "https://localhost:8080/"
        },
        "id": "JM8KXOICTii6",
        "outputId": "2f46ab39-7c39-4398-bf09-d99614abdcc9"
      },
      "execution_count": null,
      "outputs": [
        {
          "output_type": "stream",
          "name": "stdout",
          "text": [
            "Informe um numero: 9.5\n",
            "Tipo de Dado <class 'str'>\n",
            "O seu numero e: 9.5\n",
            "Tipo de Dado <class 'float'>\n",
            "14.25\n"
          ]
        }
      ]
    },
    {
      "cell_type": "markdown",
      "source": [
        "É um programa básico testando algumas funções do Phyton, como a de identificar caracteres em strings, a de imprimir parte da string ou de mostrar alguns caracteres presentes na string. Tambem temos a de soma de strings, que é também chamda de concatenação."
      ],
      "metadata": {
        "id": "xKUYa9jcrwlf"
      }
    },
    {
      "cell_type": "code",
      "source": [
        "nome='joaquim'\n",
        "print(\"tem a letra 'm' no nome?\",(\"m\" in nome))\n",
        "print(\"tem a letra 't' no nome?\",(\"t\" in nome))\n",
        "print(nome*3)\n",
        "print(nome[0:4])\n",
        "print(nome+nome)"
      ],
      "metadata": {
        "colab": {
          "base_uri": "https://localhost:8080/"
        },
        "id": "TF3gv8PRjSyF",
        "outputId": "b866bd23-058b-40b5-caa3-859cda34246a"
      },
      "execution_count": 10,
      "outputs": [
        {
          "output_type": "stream",
          "name": "stdout",
          "text": [
            "tem a letra 'm' no nome? True\n",
            "tem a letra 't' no nome? False\n",
            "joaquimjoaquimjoaquim\n",
            "joaq\n",
            "joaquimjoaquim\n"
          ]
        }
      ]
    },
    {
      "cell_type": "markdown",
      "source": [
        "Aqui treinamento para fazer listas e printar suas posições..."
      ],
      "metadata": {
        "id": "iUxCZkzK7D4z"
      }
    },
    {
      "cell_type": "code",
      "source": [
        "lista=[1,2,3,\"credits\",3,\" \",\"combo\"]\n",
        "print(lista)\n",
        "[1,2,3,\"credits\",3,\" \",\"combo\"]\n",
        "print(lista[0])\n",
        "print(lista[1])\n",
        "print(lista[2])\n",
        "print(lista[3])\n",
        "print(lista[4])\n",
        "print(lista[5])\n",
        "print(lista[6])"
      ],
      "metadata": {
        "colab": {
          "base_uri": "https://localhost:8080/"
        },
        "id": "p8zApQdusUqw",
        "outputId": "bd788e6c-3655-458d-a08d-e6c6ac95dd47"
      },
      "execution_count": 22,
      "outputs": [
        {
          "output_type": "stream",
          "name": "stdout",
          "text": [
            "[1, 2, 3, 'credits', 3, ' ', 'combo']\n",
            "1\n",
            "2\n",
            "3\n",
            "credits\n",
            "3\n",
            " \n",
            "combo\n"
          ]
        }
      ]
    },
    {
      "cell_type": "markdown",
      "source": [
        "Agora o treinamento para adicionar elementos nas listas;\n",
        "TAMBEM para identificar posições de elementos nas listas;\n",
        "E POR FIM PARA contar quantos elementos de certo valor existem naquela lista; POR FIM DO FIM também para remover elementos específicos da lista;"
      ],
      "metadata": {
        "id": "WYSQ9mPK76ib"
      }
    },
    {
      "cell_type": "code",
      "source": [
        "lista=[1,2,3,\"credits\",3,\" \",3,3,3,3,3,3,3,3,\"combo\"]\n",
        "print(lista)\n",
        "lista.append(4)\n",
        "print(lista)\n",
        "lista.append(\"outro\")\n",
        "print(lista)\n",
        "print(lista.index(\"outro\"))\n",
        "print(lista.index(3))\n",
        "print(lista.count(3))\n",
        "lista.remove(\"credits\")\n",
        "print(lista)\n",
        "lista.reverse()\n",
        "print(lista)\n",
        "lista2=[1,2,3,4,5]\n",
        "lista2.reverse()\n",
        "print(lista2)\n",
        "lista2.sort()\n",
        "print(lista2)\n",
        "lista2.sort(reverse=True)\n",
        "print(lista2)\n",
        "lista.pop()\n",
        "print(lista)\n",
        "lista.pop()\n",
        "print(lista)"
      ],
      "metadata": {
        "colab": {
          "base_uri": "https://localhost:8080/"
        },
        "id": "cpr3iOpk7Ji-",
        "outputId": "de8a2a61-11d0-4a11-c1e1-d982030a845e"
      },
      "execution_count": 41,
      "outputs": [
        {
          "output_type": "stream",
          "name": "stdout",
          "text": [
            "[1, 2, 3, 'credits', 3, ' ', 3, 3, 3, 3, 3, 3, 3, 3, 'combo']\n",
            "[1, 2, 3, 'credits', 3, ' ', 3, 3, 3, 3, 3, 3, 3, 3, 'combo', 4]\n",
            "[1, 2, 3, 'credits', 3, ' ', 3, 3, 3, 3, 3, 3, 3, 3, 'combo', 4, 'outro']\n",
            "16\n",
            "2\n",
            "10\n",
            "[1, 2, 3, 3, ' ', 3, 3, 3, 3, 3, 3, 3, 3, 'combo', 4, 'outro']\n",
            "['outro', 4, 'combo', 3, 3, 3, 3, 3, 3, 3, 3, ' ', 3, 3, 2, 1]\n",
            "[5, 4, 3, 2, 1]\n",
            "[1, 2, 3, 4, 5]\n",
            "[5, 4, 3, 2, 1]\n",
            "['outro', 4, 'combo', 3, 3, 3, 3, 3, 3, 3, 3, ' ', 3, 3, 2]\n",
            "['outro', 4, 'combo', 3, 3, 3, 3, 3, 3, 3, 3, ' ', 3, 3]\n"
          ]
        }
      ]
    },
    {
      "cell_type": "markdown",
      "source": [
        "como trabalhar com dicionários no Phyton... aprender a inserir itens, considerando que os itens são o conjunto de chaves e valores... criar dicionários... excluir itens ... identificar chaves. .. identificar valores ... e identificar os próprios itens."
      ],
      "metadata": {
        "id": "v3VyVyCO9kNp"
      }
    },
    {
      "cell_type": "code",
      "source": [
        "#vamos supor que estamos buscando aqui adicionar numeros de telefones em uma lista de contatos de pessoas. Como se fosse adicionar numeros de telefones em uma agenda telefonica.\n",
        "agenda={\"mateus\":61996969696,\"rita\":62985848382,\"joao\":63974737271,\"cassio\":994234190,\"manuela\":995593419}\n",
        "print(agenda)\n",
        "print(agenda[\"mateus\"])\n",
        "print(agenda[\"rita\"])\n",
        "print(agenda[\"joao\"])\n",
        "print(agenda[\"cassio\"])\n",
        "print(agenda[\"manuela\"])\n",
        "agenda[\"mateus\"]=61999999999\n",
        "print(agenda)\n",
        "agenda[\"pablo\"]=984919329\n",
        "print(agenda)\n",
        "del agenda[\"rita\"]\n",
        "print(agenda)\n",
        "agenda.pop(\"joao\")\n",
        "print(agenda)\n",
        "print(agenda.keys())\n",
        "print(agenda.values())\n",
        "print(agenda.items())\n"
      ],
      "metadata": {
        "colab": {
          "base_uri": "https://localhost:8080/"
        },
        "id": "X_9cfFIK8BfI",
        "outputId": "9808326e-b192-43bc-8202-3de651ac956c"
      },
      "execution_count": 58,
      "outputs": [
        {
          "output_type": "stream",
          "name": "stdout",
          "text": [
            "{'mateus': 61996969696, 'rita': 62985848382, 'joao': 63974737271, 'cassio': 994234190, 'manuela': 995593419}\n",
            "61996969696\n",
            "62985848382\n",
            "63974737271\n",
            "994234190\n",
            "995593419\n",
            "{'mateus': 61999999999, 'rita': 62985848382, 'joao': 63974737271, 'cassio': 994234190, 'manuela': 995593419}\n",
            "{'mateus': 61999999999, 'rita': 62985848382, 'joao': 63974737271, 'cassio': 994234190, 'manuela': 995593419, 'pablo': 984919329}\n",
            "{'mateus': 61999999999, 'joao': 63974737271, 'cassio': 994234190, 'manuela': 995593419, 'pablo': 984919329}\n",
            "{'mateus': 61999999999, 'cassio': 994234190, 'manuela': 995593419, 'pablo': 984919329}\n",
            "dict_keys(['mateus', 'cassio', 'manuela', 'pablo'])\n",
            "dict_values([61999999999, 994234190, 995593419, 984919329])\n",
            "dict_items([('mateus', 61999999999), ('cassio', 994234190), ('manuela', 995593419), ('pablo', 984919329)])\n"
          ]
        }
      ]
    },
    {
      "cell_type": "markdown",
      "source": [
        "Tipples... vamos aprender a fazer tuples ... tuples são listas que não podem ter seus itens excluidos ou adicionados. É uma lista fixa, não mutável. O ideal seria trabalhar para dados que não podem ser modificados."
      ],
      "metadata": {
        "id": "sPY_fqlZA_k7"
      }
    },
    {
      "cell_type": "code",
      "source": [
        "tuplas=(\"mateus\",\"rita\",\"joao\",\"cassio\",\"manuela\")\n",
        "print(tuplas)\n",
        "print(tuplas[0])\n",
        "print(tuplas[1])\n",
        "print(tuplas[2])\n",
        "print(tuplas[3])\n",
        "print(tuplas[4])\n",
        "print(tuplas.index(\"mateus\"))\n",
        "print(tuplas.index(\"rita\"))\n",
        "print(tuplas.index(\"joao\"))\n",
        "print(tuplas.index(\"cassio\"))\n",
        "print(tuplas.index(\"manuela\"))\n",
        "print(len(tuplas))\n",
        "print(tuplas+tuplas)\n",
        "print(tuplas*3)\n",
        "print(\"joao\" in tuplas)\n",
        "print(\"pablo\" in tuplas)\n",
        "lista=[\"delfin\",\"baleia\",\"tubarao\"]\n",
        "print(lista)\n",
        "print(tuple(lista))\n",
        "among=tuple(lista)\n",
        "print(among)\n"
      ],
      "metadata": {
        "colab": {
          "base_uri": "https://localhost:8080/"
        },
        "id": "LYXQVEbSBDXR",
        "outputId": "624de10e-4cfb-47de-e5c1-82312659c5c9"
      },
      "execution_count": 72,
      "outputs": [
        {
          "output_type": "stream",
          "name": "stdout",
          "text": [
            "('mateus', 'rita', 'joao', 'cassio', 'manuela')\n",
            "mateus\n",
            "rita\n",
            "joao\n",
            "cassio\n",
            "manuela\n",
            "0\n",
            "1\n",
            "2\n",
            "3\n",
            "4\n",
            "5\n",
            "('mateus', 'rita', 'joao', 'cassio', 'manuela', 'mateus', 'rita', 'joao', 'cassio', 'manuela')\n",
            "('mateus', 'rita', 'joao', 'cassio', 'manuela', 'mateus', 'rita', 'joao', 'cassio', 'manuela', 'mateus', 'rita', 'joao', 'cassio', 'manuela')\n",
            "True\n",
            "False\n",
            "['delfin', 'baleia', 'tubarao']\n",
            "('delfin', 'baleia', 'tubarao')\n",
            "('delfin', 'baleia', 'tubarao')\n"
          ]
        }
      ]
    },
    {
      "cell_type": "markdown",
      "source": [
        "utilizando IF e ELSE ... ELIF"
      ],
      "metadata": {
        "id": "p-W6DRn7X4qo"
      }
    },
    {
      "cell_type": "code",
      "source": [
        "number=1\n",
        "if(number==1):\n",
        "  print(\"o numero e 1\")\n",
        "else:\n",
        "  print(\"o numero nao e 1\")\n",
        "  if(number==2):\n",
        "    print(\"o numero e 2\")\n",
        "  else:\n",
        "    print(\"o numero nao e 2\")\n",
        "    if(number==3):\n",
        "      print(\"o numero e 3\")\n",
        "nome=\"tiago\"\n",
        "if(\"t\" in nome):\n",
        "  print(\"o nome tem a letra t\")\n",
        "else:\n",
        "  print(\"o nome nao tem a letra t\")\n",
        "if(\"g\" not in nome):\n",
        "    print(\"o nome nao tem a letra g\")\n",
        "else:\n",
        "      pass\n",
        "if(\"i\" in nome):\n",
        "        print(\"o nome tem a letra i\")\n",
        "elif(\"i\" in nome):\n",
        "        print(\"o nome tem a letra i\")\n",
        "else:\n",
        "          pass"
      ],
      "metadata": {
        "colab": {
          "base_uri": "https://localhost:8080/"
        },
        "id": "ROxL_n_pYCX-",
        "outputId": "9e07bb8b-c6dd-4830-bd75-791b92e98cae"
      },
      "execution_count": 94,
      "outputs": [
        {
          "output_type": "stream",
          "name": "stdout",
          "text": [
            "o numero e 1\n",
            "o nome tem a letra t\n",
            "o nome tem a letra i\n"
          ]
        }
      ]
    },
    {
      "cell_type": "markdown",
      "source": [
        "\"FOR\" LOOP"
      ],
      "metadata": {
        "id": "ldwkKhrHb6PC"
      }
    },
    {
      "cell_type": "code",
      "source": [
        "for x in range (0,5):\n",
        "  print(\"O valor de x é\", x)\n",
        "\n",
        "nome=\"tiago\"\n",
        "for letra in nome:\n",
        "  print(\"A letra é\", letra)\n",
        "lista=[\"tiago\", 19, \"programador\"]\n",
        "for item in lista:\n",
        "  print(\"O item é\", item)"
      ],
      "metadata": {
        "colab": {
          "base_uri": "https://localhost:8080/"
        },
        "id": "XpmUR45zcAZl",
        "outputId": "3007d422-0b82-4999-8ca2-c9611f4805d1"
      },
      "execution_count": 99,
      "outputs": [
        {
          "output_type": "stream",
          "name": "stdout",
          "text": [
            "O valor de x é 0\n",
            "O valor de x é 1\n",
            "O valor de x é 2\n",
            "O valor de x é 3\n",
            "O valor de x é 4\n",
            "A letra é t\n",
            "A letra é i\n",
            "A letra é a\n",
            "A letra é g\n",
            "A letra é o\n",
            "O item é tiago\n",
            "O item é 19\n",
            "O item é programador\n"
          ]
        }
      ]
    },
    {
      "cell_type": "markdown",
      "source": [
        "\"WHILE\" LOOP"
      ],
      "metadata": {
        "id": "XKMCR8kicy-g"
      }
    },
    {
      "cell_type": "code",
      "source": [
        "numero=15\n",
        "while(numero>0):\n",
        "  print(\"O numero é\", numero)\n",
        "  numero=numero-1\n",
        "print(\"chegou ao fim\")\n",
        "jota=20\n",
        "while((jota>0)&(numero>-10)):\n",
        "  print(\"O numero é\", jota)\n",
        "  jota=jota-1\n",
        "  numero=numero-1\n",
        "print(\"chegou ao fim\")"
      ],
      "metadata": {
        "colab": {
          "base_uri": "https://localhost:8080/"
        },
        "id": "f9zKGppEc03d",
        "outputId": "b403da82-bbd1-4b3a-e1e7-d396e646b041"
      },
      "execution_count": 104,
      "outputs": [
        {
          "output_type": "stream",
          "name": "stdout",
          "text": [
            "O numero é 15\n",
            "O numero é 14\n",
            "O numero é 13\n",
            "O numero é 12\n",
            "O numero é 11\n",
            "O numero é 10\n",
            "O numero é 9\n",
            "O numero é 8\n",
            "O numero é 7\n",
            "O numero é 6\n",
            "O numero é 5\n",
            "O numero é 4\n",
            "O numero é 3\n",
            "O numero é 2\n",
            "O numero é 1\n",
            "chegou ao fim\n",
            "O numero é 20\n",
            "O numero é 19\n",
            "O numero é 18\n",
            "O numero é 17\n",
            "O numero é 16\n",
            "O numero é 15\n",
            "O numero é 14\n",
            "O numero é 13\n",
            "O numero é 12\n",
            "O numero é 11\n",
            "chegou ao fim\n"
          ]
        }
      ]
    },
    {
      "cell_type": "markdown",
      "source": [
        "PASS, BREAK e CONTINUE...\n",
        "O BREAK é utilizado tanto em IF ou WHILE, quando queremos sair de ciclos.\n"
      ],
      "metadata": {
        "id": "HI5Uv0ZyeoKD"
      }
    },
    {
      "cell_type": "code",
      "source": [
        "numero=20\n",
        "while True:\n",
        "  print(\"O numero é\", numero)\n",
        "  numero=numero-1\n",
        "  if(numero==2):\n",
        "    break\n",
        "print(\"chegou ao fim\")\n",
        "\n",
        "x=10\n",
        "while True:\n",
        "  x=x-1\n",
        "  if(x==5):\n",
        "    continue\n",
        "  print(\"O valor de x é\", x)\n",
        "  if(x==0):\n",
        "    break\n",
        "print(\"chegou ao fim\")\n",
        "y=10\n",
        "while True:\n",
        "  print(\"O valor de y é\", y)\n",
        "  y=y-1\n",
        "  if(y==7):\n",
        "    while((y>=2)&(y<=7)):\n",
        "      y=y-1\n",
        "  if(y==0):\n",
        "    break\n",
        "print(\"chegou ao fim\")\n",
        "for y in range (0,10):\n",
        "  continue\n",
        "  print(\"O valor de y é\", y)\n",
        "for x in range (0,5):\n",
        "  pass\n",
        "  print(\"O valor de x é\", x)"
      ],
      "metadata": {
        "colab": {
          "base_uri": "https://localhost:8080/"
        },
        "id": "CIXnGlK8e0Ma",
        "outputId": "43172bfd-68b3-45d8-8c19-18a6f2f34e20"
      },
      "execution_count": 131,
      "outputs": [
        {
          "output_type": "stream",
          "name": "stdout",
          "text": [
            "O numero é 20\n",
            "O numero é 19\n",
            "O numero é 18\n",
            "O numero é 17\n",
            "O numero é 16\n",
            "O numero é 15\n",
            "O numero é 14\n",
            "O numero é 13\n",
            "O numero é 12\n",
            "O numero é 11\n",
            "O numero é 10\n",
            "O numero é 9\n",
            "O numero é 8\n",
            "O numero é 7\n",
            "O numero é 6\n",
            "O numero é 5\n",
            "O numero é 4\n",
            "O numero é 3\n",
            "chegou ao fim\n",
            "O valor de x é 9\n",
            "O valor de x é 8\n",
            "O valor de x é 7\n",
            "O valor de x é 6\n",
            "O valor de x é 4\n",
            "O valor de x é 3\n",
            "O valor de x é 2\n",
            "O valor de x é 1\n",
            "O valor de x é 0\n",
            "chegou ao fim\n",
            "O valor de y é 10\n",
            "O valor de y é 9\n",
            "O valor de y é 8\n",
            "O valor de y é 1\n",
            "chegou ao fim\n",
            "O valor de x é 0\n",
            "O valor de x é 1\n",
            "O valor de x é 2\n",
            "O valor de x é 3\n",
            "O valor de x é 4\n"
          ]
        }
      ]
    }
  ]
}